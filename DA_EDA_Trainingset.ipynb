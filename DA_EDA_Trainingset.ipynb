{
  "nbformat": 4,
  "nbformat_minor": 0,
  "metadata": {
    "colab": {
      "name": "DA_EDA.ipynb",
      "provenance": [],
      "collapsed_sections": []
    },
    "kernelspec": {
      "name": "python3",
      "display_name": "Python 3"
    },
    "language_info": {
      "name": "python"
    }
  },
  "cells": [
    {
      "cell_type": "code",
      "source": [
        "# import all packages and set plots to be embedded inline\n",
        "import numpy as np\n",
        "import pandas as pd\n",
        "import matplotlib.pyplot as plt\n",
        "import seaborn as sb\n",
        "\n",
        "%matplotlib inline\n"
      ],
      "metadata": {
        "id": "XYfNHAAFSV1B"
      },
      "execution_count": null,
      "outputs": []
    },
    {
      "cell_type": "markdown",
      "source": [
        "#Exploratory Data Analysis"
      ],
      "metadata": {
        "id": "td1CdV8zC7tI"
      }
    },
    {
      "cell_type": "code",
      "execution_count": null,
      "metadata": {
        "id": "Gezr9oIaC7tg"
      },
      "outputs": [],
      "source": [
        "df = pd.read_csv('/content/drive/MyDrive/Training/all_training_data.csv')"
      ]
    },
    {
      "cell_type": "code",
      "source": [
        "df.head()"
      ],
      "metadata": {
        "colab": {
          "base_uri": "https://localhost:8080/",
          "height": 441
        },
        "outputId": "c8adb83d-5fa8-4d78-994f-4ef73abe9e3f",
        "id": "klowt7FyC7th"
      },
      "execution_count": null,
      "outputs": [
        {
          "output_type": "execute_result",
          "data": {
            "text/plain": [
              "   Unnamed: 0                                          Questions  \\\n",
              "0           0       what is (are) chronic lymphocytic leukemia ?   \n",
              "1           1  who is at risk for chronic lymphocytic leukemi...   \n",
              "2           2  what are the symptoms of chronic lymphocytic l...   \n",
              "3           3     how to diagnose chronic lymphocytic leukemia ?   \n",
              "4           4  what is the outlook for chronic lymphocytic le...   \n",
              "\n",
              "                                             Answers  \\\n",
              "0  Key Points\\n                    - Chronic lymp...   \n",
              "1  Older age can affect the risk of developing ch...   \n",
              "2  Signs and symptoms of chronic lymphocytic leuk...   \n",
              "3  Tests that examine the blood, bone marrow, and...   \n",
              "4  Certain factors affect treatment options and p...   \n",
              "\n",
              "                          Focus           Qtypes Synonym     source  \\\n",
              "0  Chronic Lymphocytic Leukemia      information     NaN  CancerGov   \n",
              "1  Chronic Lymphocytic Leukemia   susceptibility     NaN  CancerGov   \n",
              "2  Chronic Lymphocytic Leukemia         symptoms     NaN  CancerGov   \n",
              "3  Chronic Lymphocytic Leukemia  exams and tests     NaN  CancerGov   \n",
              "4  Chronic Lymphocytic Leukemia          outlook     NaN  CancerGov   \n",
              "\n",
              "                                                 url       cui SemanticType  \\\n",
              "0  https://www.cancer.gov/types/leukemia/patient/...  C0023434         T191   \n",
              "1  https://www.cancer.gov/types/leukemia/patient/...  C0023434         T191   \n",
              "2  https://www.cancer.gov/types/leukemia/patient/...  C0023434         T191   \n",
              "3  https://www.cancer.gov/types/leukemia/patient/...  C0023434         T191   \n",
              "4  https://www.cancer.gov/types/leukemia/patient/...  C0023434         T191   \n",
              "\n",
              "  SemanticGroup  \n",
              "0     Disorders  \n",
              "1     Disorders  \n",
              "2     Disorders  \n",
              "3     Disorders  \n",
              "4     Disorders  "
            ],
            "text/html": [
              "\n",
              "  <div id=\"df-a165d268-d4c8-442b-8809-e16ae169f85e\">\n",
              "    <div class=\"colab-df-container\">\n",
              "      <div>\n",
              "<style scoped>\n",
              "    .dataframe tbody tr th:only-of-type {\n",
              "        vertical-align: middle;\n",
              "    }\n",
              "\n",
              "    .dataframe tbody tr th {\n",
              "        vertical-align: top;\n",
              "    }\n",
              "\n",
              "    .dataframe thead th {\n",
              "        text-align: right;\n",
              "    }\n",
              "</style>\n",
              "<table border=\"1\" class=\"dataframe\">\n",
              "  <thead>\n",
              "    <tr style=\"text-align: right;\">\n",
              "      <th></th>\n",
              "      <th>Unnamed: 0</th>\n",
              "      <th>Questions</th>\n",
              "      <th>Answers</th>\n",
              "      <th>Focus</th>\n",
              "      <th>Qtypes</th>\n",
              "      <th>Synonym</th>\n",
              "      <th>source</th>\n",
              "      <th>url</th>\n",
              "      <th>cui</th>\n",
              "      <th>SemanticType</th>\n",
              "      <th>SemanticGroup</th>\n",
              "    </tr>\n",
              "  </thead>\n",
              "  <tbody>\n",
              "    <tr>\n",
              "      <th>0</th>\n",
              "      <td>0</td>\n",
              "      <td>what is (are) chronic lymphocytic leukemia ?</td>\n",
              "      <td>Key Points\\n                    - Chronic lymp...</td>\n",
              "      <td>Chronic Lymphocytic Leukemia</td>\n",
              "      <td>information</td>\n",
              "      <td>NaN</td>\n",
              "      <td>CancerGov</td>\n",
              "      <td>https://www.cancer.gov/types/leukemia/patient/...</td>\n",
              "      <td>C0023434</td>\n",
              "      <td>T191</td>\n",
              "      <td>Disorders</td>\n",
              "    </tr>\n",
              "    <tr>\n",
              "      <th>1</th>\n",
              "      <td>1</td>\n",
              "      <td>who is at risk for chronic lymphocytic leukemi...</td>\n",
              "      <td>Older age can affect the risk of developing ch...</td>\n",
              "      <td>Chronic Lymphocytic Leukemia</td>\n",
              "      <td>susceptibility</td>\n",
              "      <td>NaN</td>\n",
              "      <td>CancerGov</td>\n",
              "      <td>https://www.cancer.gov/types/leukemia/patient/...</td>\n",
              "      <td>C0023434</td>\n",
              "      <td>T191</td>\n",
              "      <td>Disorders</td>\n",
              "    </tr>\n",
              "    <tr>\n",
              "      <th>2</th>\n",
              "      <td>2</td>\n",
              "      <td>what are the symptoms of chronic lymphocytic l...</td>\n",
              "      <td>Signs and symptoms of chronic lymphocytic leuk...</td>\n",
              "      <td>Chronic Lymphocytic Leukemia</td>\n",
              "      <td>symptoms</td>\n",
              "      <td>NaN</td>\n",
              "      <td>CancerGov</td>\n",
              "      <td>https://www.cancer.gov/types/leukemia/patient/...</td>\n",
              "      <td>C0023434</td>\n",
              "      <td>T191</td>\n",
              "      <td>Disorders</td>\n",
              "    </tr>\n",
              "    <tr>\n",
              "      <th>3</th>\n",
              "      <td>3</td>\n",
              "      <td>how to diagnose chronic lymphocytic leukemia ?</td>\n",
              "      <td>Tests that examine the blood, bone marrow, and...</td>\n",
              "      <td>Chronic Lymphocytic Leukemia</td>\n",
              "      <td>exams and tests</td>\n",
              "      <td>NaN</td>\n",
              "      <td>CancerGov</td>\n",
              "      <td>https://www.cancer.gov/types/leukemia/patient/...</td>\n",
              "      <td>C0023434</td>\n",
              "      <td>T191</td>\n",
              "      <td>Disorders</td>\n",
              "    </tr>\n",
              "    <tr>\n",
              "      <th>4</th>\n",
              "      <td>4</td>\n",
              "      <td>what is the outlook for chronic lymphocytic le...</td>\n",
              "      <td>Certain factors affect treatment options and p...</td>\n",
              "      <td>Chronic Lymphocytic Leukemia</td>\n",
              "      <td>outlook</td>\n",
              "      <td>NaN</td>\n",
              "      <td>CancerGov</td>\n",
              "      <td>https://www.cancer.gov/types/leukemia/patient/...</td>\n",
              "      <td>C0023434</td>\n",
              "      <td>T191</td>\n",
              "      <td>Disorders</td>\n",
              "    </tr>\n",
              "  </tbody>\n",
              "</table>\n",
              "</div>\n",
              "      <button class=\"colab-df-convert\" onclick=\"convertToInteractive('df-a165d268-d4c8-442b-8809-e16ae169f85e')\"\n",
              "              title=\"Convert this dataframe to an interactive table.\"\n",
              "              style=\"display:none;\">\n",
              "        \n",
              "  <svg xmlns=\"http://www.w3.org/2000/svg\" height=\"24px\"viewBox=\"0 0 24 24\"\n",
              "       width=\"24px\">\n",
              "    <path d=\"M0 0h24v24H0V0z\" fill=\"none\"/>\n",
              "    <path d=\"M18.56 5.44l.94 2.06.94-2.06 2.06-.94-2.06-.94-.94-2.06-.94 2.06-2.06.94zm-11 1L8.5 8.5l.94-2.06 2.06-.94-2.06-.94L8.5 2.5l-.94 2.06-2.06.94zm10 10l.94 2.06.94-2.06 2.06-.94-2.06-.94-.94-2.06-.94 2.06-2.06.94z\"/><path d=\"M17.41 7.96l-1.37-1.37c-.4-.4-.92-.59-1.43-.59-.52 0-1.04.2-1.43.59L10.3 9.45l-7.72 7.72c-.78.78-.78 2.05 0 2.83L4 21.41c.39.39.9.59 1.41.59.51 0 1.02-.2 1.41-.59l7.78-7.78 2.81-2.81c.8-.78.8-2.07 0-2.86zM5.41 20L4 18.59l7.72-7.72 1.47 1.35L5.41 20z\"/>\n",
              "  </svg>\n",
              "      </button>\n",
              "      \n",
              "  <style>\n",
              "    .colab-df-container {\n",
              "      display:flex;\n",
              "      flex-wrap:wrap;\n",
              "      gap: 12px;\n",
              "    }\n",
              "\n",
              "    .colab-df-convert {\n",
              "      background-color: #E8F0FE;\n",
              "      border: none;\n",
              "      border-radius: 50%;\n",
              "      cursor: pointer;\n",
              "      display: none;\n",
              "      fill: #1967D2;\n",
              "      height: 32px;\n",
              "      padding: 0 0 0 0;\n",
              "      width: 32px;\n",
              "    }\n",
              "\n",
              "    .colab-df-convert:hover {\n",
              "      background-color: #E2EBFA;\n",
              "      box-shadow: 0px 1px 2px rgba(60, 64, 67, 0.3), 0px 1px 3px 1px rgba(60, 64, 67, 0.15);\n",
              "      fill: #174EA6;\n",
              "    }\n",
              "\n",
              "    [theme=dark] .colab-df-convert {\n",
              "      background-color: #3B4455;\n",
              "      fill: #D2E3FC;\n",
              "    }\n",
              "\n",
              "    [theme=dark] .colab-df-convert:hover {\n",
              "      background-color: #434B5C;\n",
              "      box-shadow: 0px 1px 3px 1px rgba(0, 0, 0, 0.15);\n",
              "      filter: drop-shadow(0px 1px 2px rgba(0, 0, 0, 0.3));\n",
              "      fill: #FFFFFF;\n",
              "    }\n",
              "  </style>\n",
              "\n",
              "      <script>\n",
              "        const buttonEl =\n",
              "          document.querySelector('#df-a165d268-d4c8-442b-8809-e16ae169f85e button.colab-df-convert');\n",
              "        buttonEl.style.display =\n",
              "          google.colab.kernel.accessAllowed ? 'block' : 'none';\n",
              "\n",
              "        async function convertToInteractive(key) {\n",
              "          const element = document.querySelector('#df-a165d268-d4c8-442b-8809-e16ae169f85e');\n",
              "          const dataTable =\n",
              "            await google.colab.kernel.invokeFunction('convertToInteractive',\n",
              "                                                     [key], {});\n",
              "          if (!dataTable) return;\n",
              "\n",
              "          const docLinkHtml = 'Like what you see? Visit the ' +\n",
              "            '<a target=\"_blank\" href=https://colab.research.google.com/notebooks/data_table.ipynb>data table notebook</a>'\n",
              "            + ' to learn more about interactive tables.';\n",
              "          element.innerHTML = '';\n",
              "          dataTable['output_type'] = 'display_data';\n",
              "          await google.colab.output.renderOutput(dataTable, element);\n",
              "          const docLink = document.createElement('div');\n",
              "          docLink.innerHTML = docLinkHtml;\n",
              "          element.appendChild(docLink);\n",
              "        }\n",
              "      </script>\n",
              "    </div>\n",
              "  </div>\n",
              "  "
            ]
          },
          "metadata": {},
          "execution_count": 3
        }
      ]
    },
    {
      "cell_type": "code",
      "source": [
        "df.info()"
      ],
      "metadata": {
        "colab": {
          "base_uri": "https://localhost:8080/"
        },
        "outputId": "7ea20ff1-dc52-466b-ca33-1407d5d71d5e",
        "id": "C9uNfdq5C7ti"
      },
      "execution_count": null,
      "outputs": [
        {
          "output_type": "stream",
          "name": "stdout",
          "text": [
            "<class 'pandas.core.frame.DataFrame'>\n",
            "RangeIndex: 47441 entries, 0 to 47440\n",
            "Data columns (total 11 columns):\n",
            " #   Column         Non-Null Count  Dtype \n",
            "---  ------         --------------  ----- \n",
            " 0   Unnamed: 0     47441 non-null  int64 \n",
            " 1   Questions      47441 non-null  object\n",
            " 2   Answers        16407 non-null  object\n",
            " 3   Focus          47427 non-null  object\n",
            " 4   Qtypes         47441 non-null  object\n",
            " 5   Synonym        24669 non-null  object\n",
            " 6   source         47436 non-null  object\n",
            " 7   url            47436 non-null  object\n",
            " 8   cui            31417 non-null  object\n",
            " 9   SemanticType   31375 non-null  object\n",
            " 10  SemanticGroup  31417 non-null  object\n",
            "dtypes: int64(1), object(10)\n",
            "memory usage: 4.0+ MB\n"
          ]
        }
      ]
    },
    {
      "cell_type": "code",
      "source": [
        "df.describe()"
      ],
      "metadata": {
        "colab": {
          "base_uri": "https://localhost:8080/",
          "height": 300
        },
        "outputId": "07bb38d2-bff9-4f60-a1d8-bf51f4537d07",
        "id": "HqSC9RB0C7ti"
      },
      "execution_count": null,
      "outputs": [
        {
          "output_type": "execute_result",
          "data": {
            "text/plain": [
              "         Unnamed: 0\n",
              "count  47441.000000\n",
              "mean   23720.000000\n",
              "std    13695.181397\n",
              "min        0.000000\n",
              "25%    11860.000000\n",
              "50%    23720.000000\n",
              "75%    35580.000000\n",
              "max    47440.000000"
            ],
            "text/html": [
              "\n",
              "  <div id=\"df-606b47fd-0d6d-498b-9c6e-6c26d7d0c48b\">\n",
              "    <div class=\"colab-df-container\">\n",
              "      <div>\n",
              "<style scoped>\n",
              "    .dataframe tbody tr th:only-of-type {\n",
              "        vertical-align: middle;\n",
              "    }\n",
              "\n",
              "    .dataframe tbody tr th {\n",
              "        vertical-align: top;\n",
              "    }\n",
              "\n",
              "    .dataframe thead th {\n",
              "        text-align: right;\n",
              "    }\n",
              "</style>\n",
              "<table border=\"1\" class=\"dataframe\">\n",
              "  <thead>\n",
              "    <tr style=\"text-align: right;\">\n",
              "      <th></th>\n",
              "      <th>Unnamed: 0</th>\n",
              "    </tr>\n",
              "  </thead>\n",
              "  <tbody>\n",
              "    <tr>\n",
              "      <th>count</th>\n",
              "      <td>47441.000000</td>\n",
              "    </tr>\n",
              "    <tr>\n",
              "      <th>mean</th>\n",
              "      <td>23720.000000</td>\n",
              "    </tr>\n",
              "    <tr>\n",
              "      <th>std</th>\n",
              "      <td>13695.181397</td>\n",
              "    </tr>\n",
              "    <tr>\n",
              "      <th>min</th>\n",
              "      <td>0.000000</td>\n",
              "    </tr>\n",
              "    <tr>\n",
              "      <th>25%</th>\n",
              "      <td>11860.000000</td>\n",
              "    </tr>\n",
              "    <tr>\n",
              "      <th>50%</th>\n",
              "      <td>23720.000000</td>\n",
              "    </tr>\n",
              "    <tr>\n",
              "      <th>75%</th>\n",
              "      <td>35580.000000</td>\n",
              "    </tr>\n",
              "    <tr>\n",
              "      <th>max</th>\n",
              "      <td>47440.000000</td>\n",
              "    </tr>\n",
              "  </tbody>\n",
              "</table>\n",
              "</div>\n",
              "      <button class=\"colab-df-convert\" onclick=\"convertToInteractive('df-606b47fd-0d6d-498b-9c6e-6c26d7d0c48b')\"\n",
              "              title=\"Convert this dataframe to an interactive table.\"\n",
              "              style=\"display:none;\">\n",
              "        \n",
              "  <svg xmlns=\"http://www.w3.org/2000/svg\" height=\"24px\"viewBox=\"0 0 24 24\"\n",
              "       width=\"24px\">\n",
              "    <path d=\"M0 0h24v24H0V0z\" fill=\"none\"/>\n",
              "    <path d=\"M18.56 5.44l.94 2.06.94-2.06 2.06-.94-2.06-.94-.94-2.06-.94 2.06-2.06.94zm-11 1L8.5 8.5l.94-2.06 2.06-.94-2.06-.94L8.5 2.5l-.94 2.06-2.06.94zm10 10l.94 2.06.94-2.06 2.06-.94-2.06-.94-.94-2.06-.94 2.06-2.06.94z\"/><path d=\"M17.41 7.96l-1.37-1.37c-.4-.4-.92-.59-1.43-.59-.52 0-1.04.2-1.43.59L10.3 9.45l-7.72 7.72c-.78.78-.78 2.05 0 2.83L4 21.41c.39.39.9.59 1.41.59.51 0 1.02-.2 1.41-.59l7.78-7.78 2.81-2.81c.8-.78.8-2.07 0-2.86zM5.41 20L4 18.59l7.72-7.72 1.47 1.35L5.41 20z\"/>\n",
              "  </svg>\n",
              "      </button>\n",
              "      \n",
              "  <style>\n",
              "    .colab-df-container {\n",
              "      display:flex;\n",
              "      flex-wrap:wrap;\n",
              "      gap: 12px;\n",
              "    }\n",
              "\n",
              "    .colab-df-convert {\n",
              "      background-color: #E8F0FE;\n",
              "      border: none;\n",
              "      border-radius: 50%;\n",
              "      cursor: pointer;\n",
              "      display: none;\n",
              "      fill: #1967D2;\n",
              "      height: 32px;\n",
              "      padding: 0 0 0 0;\n",
              "      width: 32px;\n",
              "    }\n",
              "\n",
              "    .colab-df-convert:hover {\n",
              "      background-color: #E2EBFA;\n",
              "      box-shadow: 0px 1px 2px rgba(60, 64, 67, 0.3), 0px 1px 3px 1px rgba(60, 64, 67, 0.15);\n",
              "      fill: #174EA6;\n",
              "    }\n",
              "\n",
              "    [theme=dark] .colab-df-convert {\n",
              "      background-color: #3B4455;\n",
              "      fill: #D2E3FC;\n",
              "    }\n",
              "\n",
              "    [theme=dark] .colab-df-convert:hover {\n",
              "      background-color: #434B5C;\n",
              "      box-shadow: 0px 1px 3px 1px rgba(0, 0, 0, 0.15);\n",
              "      filter: drop-shadow(0px 1px 2px rgba(0, 0, 0, 0.3));\n",
              "      fill: #FFFFFF;\n",
              "    }\n",
              "  </style>\n",
              "\n",
              "      <script>\n",
              "        const buttonEl =\n",
              "          document.querySelector('#df-606b47fd-0d6d-498b-9c6e-6c26d7d0c48b button.colab-df-convert');\n",
              "        buttonEl.style.display =\n",
              "          google.colab.kernel.accessAllowed ? 'block' : 'none';\n",
              "\n",
              "        async function convertToInteractive(key) {\n",
              "          const element = document.querySelector('#df-606b47fd-0d6d-498b-9c6e-6c26d7d0c48b');\n",
              "          const dataTable =\n",
              "            await google.colab.kernel.invokeFunction('convertToInteractive',\n",
              "                                                     [key], {});\n",
              "          if (!dataTable) return;\n",
              "\n",
              "          const docLinkHtml = 'Like what you see? Visit the ' +\n",
              "            '<a target=\"_blank\" href=https://colab.research.google.com/notebooks/data_table.ipynb>data table notebook</a>'\n",
              "            + ' to learn more about interactive tables.';\n",
              "          element.innerHTML = '';\n",
              "          dataTable['output_type'] = 'display_data';\n",
              "          await google.colab.output.renderOutput(dataTable, element);\n",
              "          const docLink = document.createElement('div');\n",
              "          docLink.innerHTML = docLinkHtml;\n",
              "          element.appendChild(docLink);\n",
              "        }\n",
              "      </script>\n",
              "    </div>\n",
              "  </div>\n",
              "  "
            ]
          },
          "metadata": {},
          "execution_count": 5
        }
      ]
    },
    {
      "cell_type": "code",
      "source": [
        "#We'll drop the index column as it is redundant\n",
        "df.drop(columns=['Unnamed: 0'],inplace=True)\n",
        "df.head()"
      ],
      "metadata": {
        "colab": {
          "base_uri": "https://localhost:8080/",
          "height": 337
        },
        "outputId": "1e369d3a-a4ee-4868-cfe5-5ed65bb2f56c",
        "id": "JGHDQ8s9C7tj"
      },
      "execution_count": null,
      "outputs": [
        {
          "output_type": "execute_result",
          "data": {
            "text/plain": [
              "                                           Questions  \\\n",
              "0       what is (are) chronic lymphocytic leukemia ?   \n",
              "1  who is at risk for chronic lymphocytic leukemi...   \n",
              "2  what are the symptoms of chronic lymphocytic l...   \n",
              "3     how to diagnose chronic lymphocytic leukemia ?   \n",
              "4  what is the outlook for chronic lymphocytic le...   \n",
              "\n",
              "                                             Answers  \\\n",
              "0  Key Points\\n                    - Chronic lymp...   \n",
              "1  Older age can affect the risk of developing ch...   \n",
              "2  Signs and symptoms of chronic lymphocytic leuk...   \n",
              "3  Tests that examine the blood, bone marrow, and...   \n",
              "4  Certain factors affect treatment options and p...   \n",
              "\n",
              "                          Focus           Qtypes Synonym     source  \\\n",
              "0  Chronic Lymphocytic Leukemia      information     NaN  CancerGov   \n",
              "1  Chronic Lymphocytic Leukemia   susceptibility     NaN  CancerGov   \n",
              "2  Chronic Lymphocytic Leukemia         symptoms     NaN  CancerGov   \n",
              "3  Chronic Lymphocytic Leukemia  exams and tests     NaN  CancerGov   \n",
              "4  Chronic Lymphocytic Leukemia          outlook     NaN  CancerGov   \n",
              "\n",
              "                                                 url       cui SemanticType  \\\n",
              "0  https://www.cancer.gov/types/leukemia/patient/...  C0023434         T191   \n",
              "1  https://www.cancer.gov/types/leukemia/patient/...  C0023434         T191   \n",
              "2  https://www.cancer.gov/types/leukemia/patient/...  C0023434         T191   \n",
              "3  https://www.cancer.gov/types/leukemia/patient/...  C0023434         T191   \n",
              "4  https://www.cancer.gov/types/leukemia/patient/...  C0023434         T191   \n",
              "\n",
              "  SemanticGroup  \n",
              "0     Disorders  \n",
              "1     Disorders  \n",
              "2     Disorders  \n",
              "3     Disorders  \n",
              "4     Disorders  "
            ],
            "text/html": [
              "\n",
              "  <div id=\"df-68f6d3b0-8157-40d4-a790-066009e47630\">\n",
              "    <div class=\"colab-df-container\">\n",
              "      <div>\n",
              "<style scoped>\n",
              "    .dataframe tbody tr th:only-of-type {\n",
              "        vertical-align: middle;\n",
              "    }\n",
              "\n",
              "    .dataframe tbody tr th {\n",
              "        vertical-align: top;\n",
              "    }\n",
              "\n",
              "    .dataframe thead th {\n",
              "        text-align: right;\n",
              "    }\n",
              "</style>\n",
              "<table border=\"1\" class=\"dataframe\">\n",
              "  <thead>\n",
              "    <tr style=\"text-align: right;\">\n",
              "      <th></th>\n",
              "      <th>Questions</th>\n",
              "      <th>Answers</th>\n",
              "      <th>Focus</th>\n",
              "      <th>Qtypes</th>\n",
              "      <th>Synonym</th>\n",
              "      <th>source</th>\n",
              "      <th>url</th>\n",
              "      <th>cui</th>\n",
              "      <th>SemanticType</th>\n",
              "      <th>SemanticGroup</th>\n",
              "    </tr>\n",
              "  </thead>\n",
              "  <tbody>\n",
              "    <tr>\n",
              "      <th>0</th>\n",
              "      <td>what is (are) chronic lymphocytic leukemia ?</td>\n",
              "      <td>Key Points\\n                    - Chronic lymp...</td>\n",
              "      <td>Chronic Lymphocytic Leukemia</td>\n",
              "      <td>information</td>\n",
              "      <td>NaN</td>\n",
              "      <td>CancerGov</td>\n",
              "      <td>https://www.cancer.gov/types/leukemia/patient/...</td>\n",
              "      <td>C0023434</td>\n",
              "      <td>T191</td>\n",
              "      <td>Disorders</td>\n",
              "    </tr>\n",
              "    <tr>\n",
              "      <th>1</th>\n",
              "      <td>who is at risk for chronic lymphocytic leukemi...</td>\n",
              "      <td>Older age can affect the risk of developing ch...</td>\n",
              "      <td>Chronic Lymphocytic Leukemia</td>\n",
              "      <td>susceptibility</td>\n",
              "      <td>NaN</td>\n",
              "      <td>CancerGov</td>\n",
              "      <td>https://www.cancer.gov/types/leukemia/patient/...</td>\n",
              "      <td>C0023434</td>\n",
              "      <td>T191</td>\n",
              "      <td>Disorders</td>\n",
              "    </tr>\n",
              "    <tr>\n",
              "      <th>2</th>\n",
              "      <td>what are the symptoms of chronic lymphocytic l...</td>\n",
              "      <td>Signs and symptoms of chronic lymphocytic leuk...</td>\n",
              "      <td>Chronic Lymphocytic Leukemia</td>\n",
              "      <td>symptoms</td>\n",
              "      <td>NaN</td>\n",
              "      <td>CancerGov</td>\n",
              "      <td>https://www.cancer.gov/types/leukemia/patient/...</td>\n",
              "      <td>C0023434</td>\n",
              "      <td>T191</td>\n",
              "      <td>Disorders</td>\n",
              "    </tr>\n",
              "    <tr>\n",
              "      <th>3</th>\n",
              "      <td>how to diagnose chronic lymphocytic leukemia ?</td>\n",
              "      <td>Tests that examine the blood, bone marrow, and...</td>\n",
              "      <td>Chronic Lymphocytic Leukemia</td>\n",
              "      <td>exams and tests</td>\n",
              "      <td>NaN</td>\n",
              "      <td>CancerGov</td>\n",
              "      <td>https://www.cancer.gov/types/leukemia/patient/...</td>\n",
              "      <td>C0023434</td>\n",
              "      <td>T191</td>\n",
              "      <td>Disorders</td>\n",
              "    </tr>\n",
              "    <tr>\n",
              "      <th>4</th>\n",
              "      <td>what is the outlook for chronic lymphocytic le...</td>\n",
              "      <td>Certain factors affect treatment options and p...</td>\n",
              "      <td>Chronic Lymphocytic Leukemia</td>\n",
              "      <td>outlook</td>\n",
              "      <td>NaN</td>\n",
              "      <td>CancerGov</td>\n",
              "      <td>https://www.cancer.gov/types/leukemia/patient/...</td>\n",
              "      <td>C0023434</td>\n",
              "      <td>T191</td>\n",
              "      <td>Disorders</td>\n",
              "    </tr>\n",
              "  </tbody>\n",
              "</table>\n",
              "</div>\n",
              "      <button class=\"colab-df-convert\" onclick=\"convertToInteractive('df-68f6d3b0-8157-40d4-a790-066009e47630')\"\n",
              "              title=\"Convert this dataframe to an interactive table.\"\n",
              "              style=\"display:none;\">\n",
              "        \n",
              "  <svg xmlns=\"http://www.w3.org/2000/svg\" height=\"24px\"viewBox=\"0 0 24 24\"\n",
              "       width=\"24px\">\n",
              "    <path d=\"M0 0h24v24H0V0z\" fill=\"none\"/>\n",
              "    <path d=\"M18.56 5.44l.94 2.06.94-2.06 2.06-.94-2.06-.94-.94-2.06-.94 2.06-2.06.94zm-11 1L8.5 8.5l.94-2.06 2.06-.94-2.06-.94L8.5 2.5l-.94 2.06-2.06.94zm10 10l.94 2.06.94-2.06 2.06-.94-2.06-.94-.94-2.06-.94 2.06-2.06.94z\"/><path d=\"M17.41 7.96l-1.37-1.37c-.4-.4-.92-.59-1.43-.59-.52 0-1.04.2-1.43.59L10.3 9.45l-7.72 7.72c-.78.78-.78 2.05 0 2.83L4 21.41c.39.39.9.59 1.41.59.51 0 1.02-.2 1.41-.59l7.78-7.78 2.81-2.81c.8-.78.8-2.07 0-2.86zM5.41 20L4 18.59l7.72-7.72 1.47 1.35L5.41 20z\"/>\n",
              "  </svg>\n",
              "      </button>\n",
              "      \n",
              "  <style>\n",
              "    .colab-df-container {\n",
              "      display:flex;\n",
              "      flex-wrap:wrap;\n",
              "      gap: 12px;\n",
              "    }\n",
              "\n",
              "    .colab-df-convert {\n",
              "      background-color: #E8F0FE;\n",
              "      border: none;\n",
              "      border-radius: 50%;\n",
              "      cursor: pointer;\n",
              "      display: none;\n",
              "      fill: #1967D2;\n",
              "      height: 32px;\n",
              "      padding: 0 0 0 0;\n",
              "      width: 32px;\n",
              "    }\n",
              "\n",
              "    .colab-df-convert:hover {\n",
              "      background-color: #E2EBFA;\n",
              "      box-shadow: 0px 1px 2px rgba(60, 64, 67, 0.3), 0px 1px 3px 1px rgba(60, 64, 67, 0.15);\n",
              "      fill: #174EA6;\n",
              "    }\n",
              "\n",
              "    [theme=dark] .colab-df-convert {\n",
              "      background-color: #3B4455;\n",
              "      fill: #D2E3FC;\n",
              "    }\n",
              "\n",
              "    [theme=dark] .colab-df-convert:hover {\n",
              "      background-color: #434B5C;\n",
              "      box-shadow: 0px 1px 3px 1px rgba(0, 0, 0, 0.15);\n",
              "      filter: drop-shadow(0px 1px 2px rgba(0, 0, 0, 0.3));\n",
              "      fill: #FFFFFF;\n",
              "    }\n",
              "  </style>\n",
              "\n",
              "      <script>\n",
              "        const buttonEl =\n",
              "          document.querySelector('#df-68f6d3b0-8157-40d4-a790-066009e47630 button.colab-df-convert');\n",
              "        buttonEl.style.display =\n",
              "          google.colab.kernel.accessAllowed ? 'block' : 'none';\n",
              "\n",
              "        async function convertToInteractive(key) {\n",
              "          const element = document.querySelector('#df-68f6d3b0-8157-40d4-a790-066009e47630');\n",
              "          const dataTable =\n",
              "            await google.colab.kernel.invokeFunction('convertToInteractive',\n",
              "                                                     [key], {});\n",
              "          if (!dataTable) return;\n",
              "\n",
              "          const docLinkHtml = 'Like what you see? Visit the ' +\n",
              "            '<a target=\"_blank\" href=https://colab.research.google.com/notebooks/data_table.ipynb>data table notebook</a>'\n",
              "            + ' to learn more about interactive tables.';\n",
              "          element.innerHTML = '';\n",
              "          dataTable['output_type'] = 'display_data';\n",
              "          await google.colab.output.renderOutput(dataTable, element);\n",
              "          const docLink = document.createElement('div');\n",
              "          docLink.innerHTML = docLinkHtml;\n",
              "          element.appendChild(docLink);\n",
              "        }\n",
              "      </script>\n",
              "    </div>\n",
              "  </div>\n",
              "  "
            ]
          },
          "metadata": {},
          "execution_count": 6
        }
      ]
    },
    {
      "cell_type": "code",
      "source": [
        "#Dataframe size\n",
        "df.shape"
      ],
      "metadata": {
        "colab": {
          "base_uri": "https://localhost:8080/"
        },
        "outputId": "782a8b72-a146-4930-be4e-9cc69d52a03c",
        "id": "j8V2h021C7tk"
      },
      "execution_count": null,
      "outputs": [
        {
          "output_type": "execute_result",
          "data": {
            "text/plain": [
              "(47441, 10)"
            ]
          },
          "metadata": {},
          "execution_count": 55
        }
      ]
    },
    {
      "cell_type": "code",
      "source": [
        "df.columns"
      ],
      "metadata": {
        "colab": {
          "base_uri": "https://localhost:8080/"
        },
        "outputId": "1dacbaaa-38ee-4f2b-9bf8-5341774b8045",
        "id": "S9bplO92C7tk"
      },
      "execution_count": null,
      "outputs": [
        {
          "output_type": "execute_result",
          "data": {
            "text/plain": [
              "Index(['Questions', 'Answers', 'Focus', 'Qtypes', 'Synonym', 'source', 'url',\n",
              "       'cui', 'SemanticType', 'SemanticGroup'],\n",
              "      dtype='object')"
            ]
          },
          "metadata": {},
          "execution_count": 56
        }
      ]
    },
    {
      "cell_type": "markdown",
      "source": [
        "## Check null values"
      ],
      "metadata": {
        "id": "nGdoAgDKC7tl"
      }
    },
    {
      "cell_type": "code",
      "source": [
        "#Check the summation of missing values\n",
        "total_nulls=df.isnull().sum()\n",
        "total_nulls"
      ],
      "metadata": {
        "colab": {
          "base_uri": "https://localhost:8080/"
        },
        "outputId": "6e04aefb-886f-4739-cac4-05d4da3c0101",
        "id": "DCp713sYC7tl"
      },
      "execution_count": null,
      "outputs": [
        {
          "output_type": "execute_result",
          "data": {
            "text/plain": [
              "Questions            0\n",
              "Answers          31034\n",
              "Focus               14\n",
              "Qtypes               0\n",
              "Synonym          22772\n",
              "source               5\n",
              "url                  5\n",
              "cui              16024\n",
              "SemanticType     16066\n",
              "SemanticGroup    16024\n",
              "dtype: int64"
            ]
          },
          "metadata": {},
          "execution_count": 57
        }
      ]
    },
    {
      "cell_type": "code",
      "source": [
        "null_percent=(total_nulls/df.isnull().count()*100)\n",
        "\n",
        "#Let's sort the attributes in descending order according to their missing values\n",
        "missing_data=pd.DataFrame({'Total_Missing':total_nulls,'Missing_Percent': null_percent})\n",
        "missing_data=missing_data.sort_values(by='Total_Missing', ascending=False)\n",
        "missing_data"
      ],
      "metadata": {
        "colab": {
          "base_uri": "https://localhost:8080/",
          "height": 363
        },
        "outputId": "1b947bc1-4283-455a-a0a0-10d40199a595",
        "id": "8dmNooPgC7tm"
      },
      "execution_count": null,
      "outputs": [
        {
          "output_type": "execute_result",
          "data": {
            "text/plain": [
              "               Total_Missing  Missing_Percent\n",
              "Answers                31034        65.415990\n",
              "Synonym                22772        48.000675\n",
              "SemanticType           16066        33.865222\n",
              "cui                    16024        33.776691\n",
              "SemanticGroup          16024        33.776691\n",
              "Focus                     14         0.029510\n",
              "source                     5         0.010539\n",
              "url                        5         0.010539\n",
              "Questions                  0         0.000000\n",
              "Qtypes                     0         0.000000"
            ],
            "text/html": [
              "\n",
              "  <div id=\"df-09d54936-9d77-4218-9570-306f2a58bb3d\">\n",
              "    <div class=\"colab-df-container\">\n",
              "      <div>\n",
              "<style scoped>\n",
              "    .dataframe tbody tr th:only-of-type {\n",
              "        vertical-align: middle;\n",
              "    }\n",
              "\n",
              "    .dataframe tbody tr th {\n",
              "        vertical-align: top;\n",
              "    }\n",
              "\n",
              "    .dataframe thead th {\n",
              "        text-align: right;\n",
              "    }\n",
              "</style>\n",
              "<table border=\"1\" class=\"dataframe\">\n",
              "  <thead>\n",
              "    <tr style=\"text-align: right;\">\n",
              "      <th></th>\n",
              "      <th>Total_Missing</th>\n",
              "      <th>Missing_Percent</th>\n",
              "    </tr>\n",
              "  </thead>\n",
              "  <tbody>\n",
              "    <tr>\n",
              "      <th>Answers</th>\n",
              "      <td>31034</td>\n",
              "      <td>65.415990</td>\n",
              "    </tr>\n",
              "    <tr>\n",
              "      <th>Synonym</th>\n",
              "      <td>22772</td>\n",
              "      <td>48.000675</td>\n",
              "    </tr>\n",
              "    <tr>\n",
              "      <th>SemanticType</th>\n",
              "      <td>16066</td>\n",
              "      <td>33.865222</td>\n",
              "    </tr>\n",
              "    <tr>\n",
              "      <th>cui</th>\n",
              "      <td>16024</td>\n",
              "      <td>33.776691</td>\n",
              "    </tr>\n",
              "    <tr>\n",
              "      <th>SemanticGroup</th>\n",
              "      <td>16024</td>\n",
              "      <td>33.776691</td>\n",
              "    </tr>\n",
              "    <tr>\n",
              "      <th>Focus</th>\n",
              "      <td>14</td>\n",
              "      <td>0.029510</td>\n",
              "    </tr>\n",
              "    <tr>\n",
              "      <th>source</th>\n",
              "      <td>5</td>\n",
              "      <td>0.010539</td>\n",
              "    </tr>\n",
              "    <tr>\n",
              "      <th>url</th>\n",
              "      <td>5</td>\n",
              "      <td>0.010539</td>\n",
              "    </tr>\n",
              "    <tr>\n",
              "      <th>Questions</th>\n",
              "      <td>0</td>\n",
              "      <td>0.000000</td>\n",
              "    </tr>\n",
              "    <tr>\n",
              "      <th>Qtypes</th>\n",
              "      <td>0</td>\n",
              "      <td>0.000000</td>\n",
              "    </tr>\n",
              "  </tbody>\n",
              "</table>\n",
              "</div>\n",
              "      <button class=\"colab-df-convert\" onclick=\"convertToInteractive('df-09d54936-9d77-4218-9570-306f2a58bb3d')\"\n",
              "              title=\"Convert this dataframe to an interactive table.\"\n",
              "              style=\"display:none;\">\n",
              "        \n",
              "  <svg xmlns=\"http://www.w3.org/2000/svg\" height=\"24px\"viewBox=\"0 0 24 24\"\n",
              "       width=\"24px\">\n",
              "    <path d=\"M0 0h24v24H0V0z\" fill=\"none\"/>\n",
              "    <path d=\"M18.56 5.44l.94 2.06.94-2.06 2.06-.94-2.06-.94-.94-2.06-.94 2.06-2.06.94zm-11 1L8.5 8.5l.94-2.06 2.06-.94-2.06-.94L8.5 2.5l-.94 2.06-2.06.94zm10 10l.94 2.06.94-2.06 2.06-.94-2.06-.94-.94-2.06-.94 2.06-2.06.94z\"/><path d=\"M17.41 7.96l-1.37-1.37c-.4-.4-.92-.59-1.43-.59-.52 0-1.04.2-1.43.59L10.3 9.45l-7.72 7.72c-.78.78-.78 2.05 0 2.83L4 21.41c.39.39.9.59 1.41.59.51 0 1.02-.2 1.41-.59l7.78-7.78 2.81-2.81c.8-.78.8-2.07 0-2.86zM5.41 20L4 18.59l7.72-7.72 1.47 1.35L5.41 20z\"/>\n",
              "  </svg>\n",
              "      </button>\n",
              "      \n",
              "  <style>\n",
              "    .colab-df-container {\n",
              "      display:flex;\n",
              "      flex-wrap:wrap;\n",
              "      gap: 12px;\n",
              "    }\n",
              "\n",
              "    .colab-df-convert {\n",
              "      background-color: #E8F0FE;\n",
              "      border: none;\n",
              "      border-radius: 50%;\n",
              "      cursor: pointer;\n",
              "      display: none;\n",
              "      fill: #1967D2;\n",
              "      height: 32px;\n",
              "      padding: 0 0 0 0;\n",
              "      width: 32px;\n",
              "    }\n",
              "\n",
              "    .colab-df-convert:hover {\n",
              "      background-color: #E2EBFA;\n",
              "      box-shadow: 0px 1px 2px rgba(60, 64, 67, 0.3), 0px 1px 3px 1px rgba(60, 64, 67, 0.15);\n",
              "      fill: #174EA6;\n",
              "    }\n",
              "\n",
              "    [theme=dark] .colab-df-convert {\n",
              "      background-color: #3B4455;\n",
              "      fill: #D2E3FC;\n",
              "    }\n",
              "\n",
              "    [theme=dark] .colab-df-convert:hover {\n",
              "      background-color: #434B5C;\n",
              "      box-shadow: 0px 1px 3px 1px rgba(0, 0, 0, 0.15);\n",
              "      filter: drop-shadow(0px 1px 2px rgba(0, 0, 0, 0.3));\n",
              "      fill: #FFFFFF;\n",
              "    }\n",
              "  </style>\n",
              "\n",
              "      <script>\n",
              "        const buttonEl =\n",
              "          document.querySelector('#df-09d54936-9d77-4218-9570-306f2a58bb3d button.colab-df-convert');\n",
              "        buttonEl.style.display =\n",
              "          google.colab.kernel.accessAllowed ? 'block' : 'none';\n",
              "\n",
              "        async function convertToInteractive(key) {\n",
              "          const element = document.querySelector('#df-09d54936-9d77-4218-9570-306f2a58bb3d');\n",
              "          const dataTable =\n",
              "            await google.colab.kernel.invokeFunction('convertToInteractive',\n",
              "                                                     [key], {});\n",
              "          if (!dataTable) return;\n",
              "\n",
              "          const docLinkHtml = 'Like what you see? Visit the ' +\n",
              "            '<a target=\"_blank\" href=https://colab.research.google.com/notebooks/data_table.ipynb>data table notebook</a>'\n",
              "            + ' to learn more about interactive tables.';\n",
              "          element.innerHTML = '';\n",
              "          dataTable['output_type'] = 'display_data';\n",
              "          await google.colab.output.renderOutput(dataTable, element);\n",
              "          const docLink = document.createElement('div');\n",
              "          docLink.innerHTML = docLinkHtml;\n",
              "          element.appendChild(docLink);\n",
              "        }\n",
              "      </script>\n",
              "    </div>\n",
              "  </div>\n",
              "  "
            ]
          },
          "metadata": {},
          "execution_count": 85
        }
      ]
    },
    {
      "cell_type": "code",
      "source": [
        "columns=missing_data['Missing_Percent'].index.tolist()\n",
        "len(columns[:-2])"
      ],
      "metadata": {
        "colab": {
          "base_uri": "https://localhost:8080/"
        },
        "outputId": "3b518365-f32b-4bed-b82e-0271d3405e38",
        "id": "uKYo2Z0dC7tm"
      },
      "execution_count": null,
      "outputs": [
        {
          "output_type": "execute_result",
          "data": {
            "text/plain": [
              "8"
            ]
          },
          "metadata": {},
          "execution_count": 105
        }
      ]
    },
    {
      "cell_type": "code",
      "source": [
        "sorted_counts = missing_data['Missing_Percent'].tolist()\n",
        "len(sorted_counts[:-2])"
      ],
      "metadata": {
        "colab": {
          "base_uri": "https://localhost:8080/"
        },
        "outputId": "74044ea3-3e51-4742-c7be-0289f18b58df",
        "id": "GLQezLWtC7tn"
      },
      "execution_count": null,
      "outputs": [
        {
          "output_type": "execute_result",
          "data": {
            "text/plain": [
              "8"
            ]
          },
          "metadata": {},
          "execution_count": 104
        }
      ]
    },
    {
      "cell_type": "code",
      "source": [
        "plt.figure(figsize=[10,10])\n",
        "sorted_counts = missing_data['Missing_Percent'].tolist()\n",
        "plt.pie(sorted_counts[:-4], labels = columns[:-4],  autopct='%.3f%%', startangle = 90, counterclock = False,radius=0.8);\n",
        "plt.title('Percent of Missing Values in Dataframe features')\n",
        "plt.xlabel('Features')\n",
        "plt.show()\n"
      ],
      "metadata": {
        "colab": {
          "base_uri": "https://localhost:8080/",
          "height": 605
        },
        "outputId": "fa48a07a-b848-45b8-fbfc-a96a88e2e910",
        "id": "G4wyl2pmC7to"
      },
      "execution_count": null,
      "outputs": [
        {
          "output_type": "display_data",
          "data": {
            "text/plain": [
              "<Figure size 720x720 with 1 Axes>"
            ],
            "image/png": "[encoded data removed]"
          },
          "metadata": {}
        }
      ]
    },
    {
      "cell_type": "code",
      "source": [
        "#Correlation Analysis of missing values\n",
        "msno.heatmap(df);"
      ],
      "metadata": {
        "colab": {
          "base_uri": "https://localhost:8080/",
          "height": 793
        },
        "outputId": "92bab07c-96bc-42f1-f34e-ba6e00a15aa6",
        "id": "2Iko6usaC7to"
      },
      "execution_count": null,
      "outputs": [
        {
          "output_type": "display_data",
          "data": {
            "text/plain": [
              "<Figure size 1440x864 with 2 Axes>"
            ],
            "image/png": "[encoded data removed]"
          },
          "metadata": {
            "needs_background": "light"
          }
        }
      ]
    },
    {
      "cell_type": "markdown",
      "source": [
        "There are two columns contain null values: `'Answers'` and `'Focus'`\n",
        "\n",
        "Column `'Answers'` has 31034 missing records which means this record has no useful informartion for us so we will drop it."
      ],
      "metadata": {
        "id": "5uVf6mFcC7tp"
      }
    },
    {
      "cell_type": "markdown",
      "source": [
        "#Checking Duplicates\n",
        "We will focus only on question and answer"
      ],
      "metadata": {
        "id": "_uCFzxRuC7tp"
      }
    },
    {
      "cell_type": "code",
      "source": [
        "#Summtion of full duplicates\n",
        "df.duplicated().sum()"
      ],
      "metadata": {
        "colab": {
          "base_uri": "https://localhost:8080/"
        },
        "outputId": "f4a2016c-e2a7-44d5-db35-ae3b9ee7e899",
        "id": "JPyoaBQHC7tq"
      },
      "execution_count": null,
      "outputs": [
        {
          "output_type": "execute_result",
          "data": {
            "text/plain": [
              "561"
            ]
          },
          "metadata": {},
          "execution_count": 47
        }
      ]
    },
    {
      "cell_type": "code",
      "source": [
        "#Full duplicates\n",
        "df[df.duplicated()]"
      ],
      "metadata": {
        "colab": {
          "base_uri": "https://localhost:8080/",
          "height": 693
        },
        "outputId": "fcb5b80e-f6a4-4793-820f-1ba4d59a3abf",
        "id": "wHw4MiftC7tq"
      },
      "execution_count": null,
      "outputs": [
        {
          "output_type": "execute_result",
          "data": {
            "text/plain": [
              "                                               Questions  \\\n",
              "1567                           what is (are) proctitis ?   \n",
              "1569                             what causes proctitis ?   \n",
              "1610        how to diagnose kidney disease of diabetes ?   \n",
              "1612         how to prevent kidney disease of diabetes ?   \n",
              "1614         what to do for kidney disease of diabetes ?   \n",
              "...                                                  ...   \n",
              "47274                  what to do for scrotal swelling ?   \n",
              "47319  what are the treatments for chiropractic care ...   \n",
              "47357                          what to do for bleeding ?   \n",
              "47358                          what to do for bleeding ?   \n",
              "47396                        what to do for hoarseness ?   \n",
              "\n",
              "                                                 Answers  \\\n",
              "1567   Proctitis is inflammation of the lining of the...   \n",
              "1569   Proctitis has many causes, including acute, or...   \n",
              "1610   People with diabetes should be screened regula...   \n",
              "1612   Blood Pressure Medicines\\n                \\nSc...   \n",
              "1614   - Diabetes is the leading cause of chronic kid...   \n",
              "...                                                  ...   \n",
              "47274                                                NaN   \n",
              "47319                                                NaN   \n",
              "47357                                                NaN   \n",
              "47358                                                NaN   \n",
              "47396                                                NaN   \n",
              "\n",
              "                                 Focus           Qtypes  \\\n",
              "1567                         Proctitis      information   \n",
              "1569                         Proctitis           causes   \n",
              "1610        Kidney Disease of Diabetes  exams and tests   \n",
              "1612        Kidney Disease of Diabetes       prevention   \n",
              "1614        Kidney Disease of Diabetes   considerations   \n",
              "...                                ...              ...   \n",
              "47274                 Scrotal swelling   considerations   \n",
              "47319  Chiropractic care for back pain        treatment   \n",
              "47357                         Bleeding   considerations   \n",
              "47358                         Bleeding   considerations   \n",
              "47396                       Hoarseness   considerations   \n",
              "\n",
              "                                          Synonym source  \\\n",
              "1567                                          NaN  NIDDK   \n",
              "1569                                          NaN  NIDDK   \n",
              "1610                                          NaN  NIDDK   \n",
              "1612                                          NaN  NIDDK   \n",
              "1614                                          NaN  NIDDK   \n",
              "...                                           ...    ...   \n",
              "47274  <Synonym>Swelling of the scrotum</Synonym>   ADAM   \n",
              "47319                                         NaN   ADAM   \n",
              "47357               <Synonym>Blood loss</Synonym>   ADAM   \n",
              "47358               <Synonym>Blood loss</Synonym>   ADAM   \n",
              "47396             <Synonym>Voice strain</Synonym>   ADAM   \n",
              "\n",
              "                                                     url       cui  \\\n",
              "1567   http://www.niddk.nih.gov/health-information/he...  C0033246   \n",
              "1569   http://www.niddk.nih.gov/health-information/he...  C0033246   \n",
              "1610   http://www.niddk.nih.gov/health-information/he...  C0011860   \n",
              "1612   http://www.niddk.nih.gov/health-information/he...  C0011860   \n",
              "1614   http://www.niddk.nih.gov/health-information/he...  C0011860   \n",
              "...                                                  ...       ...   \n",
              "47274  https://www.nlm.nih.gov/medlineplus/ency/artic...  C0282005   \n",
              "47319  https://www.nlm.nih.gov/medlineplus/ency/patie...  C0580931   \n",
              "47357  https://www.nlm.nih.gov/medlineplus/ency/artic...  C0019080   \n",
              "47358  https://www.nlm.nih.gov/medlineplus/ency/artic...  C0019080   \n",
              "47396  https://www.nlm.nih.gov/medlineplus/ency/artic...  C0019825   \n",
              "\n",
              "      SemanticType SemanticGroup  \n",
              "1567          T047     Disorders  \n",
              "1569          T047     Disorders  \n",
              "1610          T047     Disorders  \n",
              "1612          T047     Disorders  \n",
              "1614          T047     Disorders  \n",
              "...            ...           ...  \n",
              "47274         T184     Disorders  \n",
              "47319         T033     Disorders  \n",
              "47357         T046     Disorders  \n",
              "47358         T046     Disorders  \n",
              "47396         T184     Disorders  \n",
              "\n",
              "[561 rows x 10 columns]"
            ],
            "text/html": [
              "\n",
              "  <div id=\"df-cd03cb8b-42c9-4e13-a43b-2025e3155765\">\n",
              "    <div class=\"colab-df-container\">\n",
              "      <div>\n",
              "<style scoped>\n",
              "    .dataframe tbody tr th:only-of-type {\n",
              "        vertical-align: middle;\n",
              "    }\n",
              "\n",
              "    .dataframe tbody tr th {\n",
              "        vertical-align: top;\n",
              "    }\n",
              "\n",
              "    .dataframe thead th {\n",
              "        text-align: right;\n",
              "    }\n",
              "</style>\n",
              "<table border=\"1\" class=\"dataframe\">\n",
              "  <thead>\n",
              "    <tr style=\"text-align: right;\">\n",
              "      <th></th>\n",
              "      <th>Questions</th>\n",
              "      <th>Answers</th>\n",
              "      <th>Focus</th>\n",
              "      <th>Qtypes</th>\n",
              "      <th>Synonym</th>\n",
              "      <th>source</th>\n",
              "      <th>url</th>\n",
              "      <th>cui</th>\n",
              "      <th>SemanticType</th>\n",
              "      <th>SemanticGroup</th>\n",
              "    </tr>\n",
              "  </thead>\n",
              "  <tbody>\n",
              "    <tr>\n",
              "      <th>1567</th>\n",
              "      <td>what is (are) proctitis ?</td>\n",
              "      <td>Proctitis is inflammation of the lining of the...</td>\n",
              "      <td>Proctitis</td>\n",
              "      <td>information</td>\n",
              "      <td>NaN</td>\n",
              "      <td>NIDDK</td>\n",
              "      <td>http://www.niddk.nih.gov/health-information/he...</td>\n",
              "      <td>C0033246</td>\n",
              "      <td>T047</td>\n",
              "      <td>Disorders</td>\n",
              "    </tr>\n",
              "    <tr>\n",
              "      <th>1569</th>\n",
              "      <td>what causes proctitis ?</td>\n",
              "      <td>Proctitis has many causes, including acute, or...</td>\n",
              "      <td>Proctitis</td>\n",
              "      <td>causes</td>\n",
              "      <td>NaN</td>\n",
              "      <td>NIDDK</td>\n",
              "      <td>http://www.niddk.nih.gov/health-information/he...</td>\n",
              "      <td>C0033246</td>\n",
              "      <td>T047</td>\n",
              "      <td>Disorders</td>\n",
              "    </tr>\n",
              "    <tr>\n",
              "      <th>1610</th>\n",
              "      <td>how to diagnose kidney disease of diabetes ?</td>\n",
              "      <td>People with diabetes should be screened regula...</td>\n",
              "      <td>Kidney Disease of Diabetes</td>\n",
              "      <td>exams and tests</td>\n",
              "      <td>NaN</td>\n",
              "      <td>NIDDK</td>\n",
              "      <td>http://www.niddk.nih.gov/health-information/he...</td>\n",
              "      <td>C0011860</td>\n",
              "      <td>T047</td>\n",
              "      <td>Disorders</td>\n",
              "    </tr>\n",
              "    <tr>\n",
              "      <th>1612</th>\n",
              "      <td>how to prevent kidney disease of diabetes ?</td>\n",
              "      <td>Blood Pressure Medicines\\n                \\nSc...</td>\n",
              "      <td>Kidney Disease of Diabetes</td>\n",
              "      <td>prevention</td>\n",
              "      <td>NaN</td>\n",
              "      <td>NIDDK</td>\n",
              "      <td>http://www.niddk.nih.gov/health-information/he...</td>\n",
              "      <td>C0011860</td>\n",
              "      <td>T047</td>\n",
              "      <td>Disorders</td>\n",
              "    </tr>\n",
              "    <tr>\n",
              "      <th>1614</th>\n",
              "      <td>what to do for kidney disease of diabetes ?</td>\n",
              "      <td>- Diabetes is the leading cause of chronic kid...</td>\n",
              "      <td>Kidney Disease of Diabetes</td>\n",
              "      <td>considerations</td>\n",
              "      <td>NaN</td>\n",
              "      <td>NIDDK</td>\n",
              "      <td>http://www.niddk.nih.gov/health-information/he...</td>\n",
              "      <td>C0011860</td>\n",
              "      <td>T047</td>\n",
              "      <td>Disorders</td>\n",
              "    </tr>\n",
              "    <tr>\n",
              "      <th>...</th>\n",
              "      <td>...</td>\n",
              "      <td>...</td>\n",
              "      <td>...</td>\n",
              "      <td>...</td>\n",
              "      <td>...</td>\n",
              "      <td>...</td>\n",
              "      <td>...</td>\n",
              "      <td>...</td>\n",
              "      <td>...</td>\n",
              "      <td>...</td>\n",
              "    </tr>\n",
              "    <tr>\n",
              "      <th>47274</th>\n",
              "      <td>what to do for scrotal swelling ?</td>\n",
              "      <td>NaN</td>\n",
              "      <td>Scrotal swelling</td>\n",
              "      <td>considerations</td>\n",
              "      <td>&lt;Synonym&gt;Swelling of the scrotum&lt;/Synonym&gt;</td>\n",
              "      <td>ADAM</td>\n",
              "      <td>https://www.nlm.nih.gov/medlineplus/ency/artic...</td>\n",
              "      <td>C0282005</td>\n",
              "      <td>T184</td>\n",
              "      <td>Disorders</td>\n",
              "    </tr>\n",
              "    <tr>\n",
              "      <th>47319</th>\n",
              "      <td>what are the treatments for chiropractic care ...</td>\n",
              "      <td>NaN</td>\n",
              "      <td>Chiropractic care for back pain</td>\n",
              "      <td>treatment</td>\n",
              "      <td>NaN</td>\n",
              "      <td>ADAM</td>\n",
              "      <td>https://www.nlm.nih.gov/medlineplus/ency/patie...</td>\n",
              "      <td>C0580931</td>\n",
              "      <td>T033</td>\n",
              "      <td>Disorders</td>\n",
              "    </tr>\n",
              "    <tr>\n",
              "      <th>47357</th>\n",
              "      <td>what to do for bleeding ?</td>\n",
              "      <td>NaN</td>\n",
              "      <td>Bleeding</td>\n",
              "      <td>considerations</td>\n",
              "      <td>&lt;Synonym&gt;Blood loss&lt;/Synonym&gt;</td>\n",
              "      <td>ADAM</td>\n",
              "      <td>https://www.nlm.nih.gov/medlineplus/ency/artic...</td>\n",
              "      <td>C0019080</td>\n",
              "      <td>T046</td>\n",
              "      <td>Disorders</td>\n",
              "    </tr>\n",
              "    <tr>\n",
              "      <th>47358</th>\n",
              "      <td>what to do for bleeding ?</td>\n",
              "      <td>NaN</td>\n",
              "      <td>Bleeding</td>\n",
              "      <td>considerations</td>\n",
              "      <td>&lt;Synonym&gt;Blood loss&lt;/Synonym&gt;</td>\n",
              "      <td>ADAM</td>\n",
              "      <td>https://www.nlm.nih.gov/medlineplus/ency/artic...</td>\n",
              "      <td>C0019080</td>\n",
              "      <td>T046</td>\n",
              "      <td>Disorders</td>\n",
              "    </tr>\n",
              "    <tr>\n",
              "      <th>47396</th>\n",
              "      <td>what to do for hoarseness ?</td>\n",
              "      <td>NaN</td>\n",
              "      <td>Hoarseness</td>\n",
              "      <td>considerations</td>\n",
              "      <td>&lt;Synonym&gt;Voice strain&lt;/Synonym&gt;</td>\n",
              "      <td>ADAM</td>\n",
              "      <td>https://www.nlm.nih.gov/medlineplus/ency/artic...</td>\n",
              "      <td>C0019825</td>\n",
              "      <td>T184</td>\n",
              "      <td>Disorders</td>\n",
              "    </tr>\n",
              "  </tbody>\n",
              "</table>\n",
              "<p>561 rows × 10 columns</p>\n",
              "</div>\n",
              "      <button class=\"colab-df-convert\" onclick=\"convertToInteractive('df-cd03cb8b-42c9-4e13-a43b-2025e3155765')\"\n",
              "              title=\"Convert this dataframe to an interactive table.\"\n",
              "              style=\"display:none;\">\n",
              "        \n",
              "  <svg xmlns=\"http://www.w3.org/2000/svg\" height=\"24px\"viewBox=\"0 0 24 24\"\n",
              "       width=\"24px\">\n",
              "    <path d=\"M0 0h24v24H0V0z\" fill=\"none\"/>\n",
              "    <path d=\"M18.56 5.44l.94 2.06.94-2.06 2.06-.94-2.06-.94-.94-2.06-.94 2.06-2.06.94zm-11 1L8.5 8.5l.94-2.06 2.06-.94-2.06-.94L8.5 2.5l-.94 2.06-2.06.94zm10 10l.94 2.06.94-2.06 2.06-.94-2.06-.94-.94-2.06-.94 2.06-2.06.94z\"/><path d=\"M17.41 7.96l-1.37-1.37c-.4-.4-.92-.59-1.43-.59-.52 0-1.04.2-1.43.59L10.3 9.45l-7.72 7.72c-.78.78-.78 2.05 0 2.83L4 21.41c.39.39.9.59 1.41.59.51 0 1.02-.2 1.41-.59l7.78-7.78 2.81-2.81c.8-.78.8-2.07 0-2.86zM5.41 20L4 18.59l7.72-7.72 1.47 1.35L5.41 20z\"/>\n",
              "  </svg>\n",
              "      </button>\n",
              "      \n",
              "  <style>\n",
              "    .colab-df-container {\n",
              "      display:flex;\n",
              "      flex-wrap:wrap;\n",
              "      gap: 12px;\n",
              "    }\n",
              "\n",
              "    .colab-df-convert {\n",
              "      background-color: #E8F0FE;\n",
              "      border: none;\n",
              "      border-radius: 50%;\n",
              "      cursor: pointer;\n",
              "      display: none;\n",
              "      fill: #1967D2;\n",
              "      height: 32px;\n",
              "      padding: 0 0 0 0;\n",
              "      width: 32px;\n",
              "    }\n",
              "\n",
              "    .colab-df-convert:hover {\n",
              "      background-color: #E2EBFA;\n",
              "      box-shadow: 0px 1px 2px rgba(60, 64, 67, 0.3), 0px 1px 3px 1px rgba(60, 64, 67, 0.15);\n",
              "      fill: #174EA6;\n",
              "    }\n",
              "\n",
              "    [theme=dark] .colab-df-convert {\n",
              "      background-color: #3B4455;\n",
              "      fill: #D2E3FC;\n",
              "    }\n",
              "\n",
              "    [theme=dark] .colab-df-convert:hover {\n",
              "      background-color: #434B5C;\n",
              "      box-shadow: 0px 1px 3px 1px rgba(0, 0, 0, 0.15);\n",
              "      filter: drop-shadow(0px 1px 2px rgba(0, 0, 0, 0.3));\n",
              "      fill: #FFFFFF;\n",
              "    }\n",
              "  </style>\n",
              "\n",
              "      <script>\n",
              "        const buttonEl =\n",
              "          document.querySelector('#df-cd03cb8b-42c9-4e13-a43b-2025e3155765 button.colab-df-convert');\n",
              "        buttonEl.style.display =\n",
              "          google.colab.kernel.accessAllowed ? 'block' : 'none';\n",
              "\n",
              "        async function convertToInteractive(key) {\n",
              "          const element = document.querySelector('#df-cd03cb8b-42c9-4e13-a43b-2025e3155765');\n",
              "          const dataTable =\n",
              "            await google.colab.kernel.invokeFunction('convertToInteractive',\n",
              "                                                     [key], {});\n",
              "          if (!dataTable) return;\n",
              "\n",
              "          const docLinkHtml = 'Like what you see? Visit the ' +\n",
              "            '<a target=\"_blank\" href=https://colab.research.google.com/notebooks/data_table.ipynb>data table notebook</a>'\n",
              "            + ' to learn more about interactive tables.';\n",
              "          element.innerHTML = '';\n",
              "          dataTable['output_type'] = 'display_data';\n",
              "          await google.colab.output.renderOutput(dataTable, element);\n",
              "          const docLink = document.createElement('div');\n",
              "          docLink.innerHTML = docLinkHtml;\n",
              "          element.appendChild(docLink);\n",
              "        }\n",
              "      </script>\n",
              "    </div>\n",
              "  </div>\n",
              "  "
            ]
          },
          "metadata": {},
          "execution_count": 48
        }
      ]
    },
    {
      "cell_type": "code",
      "source": [
        "QA_df=df[['Questions','Answers']].copy()\n",
        "QA_df[QA_df.duplicated()]"
      ],
      "metadata": {
        "colab": {
          "base_uri": "https://localhost:8080/",
          "height": 424
        },
        "outputId": "f17337ee-2271-4b2f-91db-dfb967077859",
        "id": "G42MuNwwC7tr"
      },
      "execution_count": null,
      "outputs": [
        {
          "output_type": "execute_result",
          "data": {
            "text/plain": [
              "                                               Questions  \\\n",
              "1567                           what is (are) proctitis ?   \n",
              "1569                             what causes proctitis ?   \n",
              "1610        how to diagnose kidney disease of diabetes ?   \n",
              "1612         how to prevent kidney disease of diabetes ?   \n",
              "1614         what to do for kidney disease of diabetes ?   \n",
              "...                                                  ...   \n",
              "47274                  what to do for scrotal swelling ?   \n",
              "47319  what are the treatments for chiropractic care ...   \n",
              "47357                          what to do for bleeding ?   \n",
              "47358                          what to do for bleeding ?   \n",
              "47396                        what to do for hoarseness ?   \n",
              "\n",
              "                                                 Answers  \n",
              "1567   Proctitis is inflammation of the lining of the...  \n",
              "1569   Proctitis has many causes, including acute, or...  \n",
              "1610   People with diabetes should be screened regula...  \n",
              "1612   Blood Pressure Medicines\\n                \\nSc...  \n",
              "1614   - Diabetes is the leading cause of chronic kid...  \n",
              "...                                                  ...  \n",
              "47274                                                NaN  \n",
              "47319                                                NaN  \n",
              "47357                                                NaN  \n",
              "47358                                                NaN  \n",
              "47396                                                NaN  \n",
              "\n",
              "[586 rows x 2 columns]"
            ],
            "text/html": [
              "\n",
              "  <div id=\"df-e62e19f5-8371-496c-a39d-4283290d43c9\">\n",
              "    <div class=\"colab-df-container\">\n",
              "      <div>\n",
              "<style scoped>\n",
              "    .dataframe tbody tr th:only-of-type {\n",
              "        vertical-align: middle;\n",
              "    }\n",
              "\n",
              "    .dataframe tbody tr th {\n",
              "        vertical-align: top;\n",
              "    }\n",
              "\n",
              "    .dataframe thead th {\n",
              "        text-align: right;\n",
              "    }\n",
              "</style>\n",
              "<table border=\"1\" class=\"dataframe\">\n",
              "  <thead>\n",
              "    <tr style=\"text-align: right;\">\n",
              "      <th></th>\n",
              "      <th>Questions</th>\n",
              "      <th>Answers</th>\n",
              "    </tr>\n",
              "  </thead>\n",
              "  <tbody>\n",
              "    <tr>\n",
              "      <th>1567</th>\n",
              "      <td>what is (are) proctitis ?</td>\n",
              "      <td>Proctitis is inflammation of the lining of the...</td>\n",
              "    </tr>\n",
              "    <tr>\n",
              "      <th>1569</th>\n",
              "      <td>what causes proctitis ?</td>\n",
              "      <td>Proctitis has many causes, including acute, or...</td>\n",
              "    </tr>\n",
              "    <tr>\n",
              "      <th>1610</th>\n",
              "      <td>how to diagnose kidney disease of diabetes ?</td>\n",
              "      <td>People with diabetes should be screened regula...</td>\n",
              "    </tr>\n",
              "    <tr>\n",
              "      <th>1612</th>\n",
              "      <td>how to prevent kidney disease of diabetes ?</td>\n",
              "      <td>Blood Pressure Medicines\\n                \\nSc...</td>\n",
              "    </tr>\n",
              "    <tr>\n",
              "      <th>1614</th>\n",
              "      <td>what to do for kidney disease of diabetes ?</td>\n",
              "      <td>- Diabetes is the leading cause of chronic kid...</td>\n",
              "    </tr>\n",
              "    <tr>\n",
              "      <th>...</th>\n",
              "      <td>...</td>\n",
              "      <td>...</td>\n",
              "    </tr>\n",
              "    <tr>\n",
              "      <th>47274</th>\n",
              "      <td>what to do for scrotal swelling ?</td>\n",
              "      <td>NaN</td>\n",
              "    </tr>\n",
              "    <tr>\n",
              "      <th>47319</th>\n",
              "      <td>what are the treatments for chiropractic care ...</td>\n",
              "      <td>NaN</td>\n",
              "    </tr>\n",
              "    <tr>\n",
              "      <th>47357</th>\n",
              "      <td>what to do for bleeding ?</td>\n",
              "      <td>NaN</td>\n",
              "    </tr>\n",
              "    <tr>\n",
              "      <th>47358</th>\n",
              "      <td>what to do for bleeding ?</td>\n",
              "      <td>NaN</td>\n",
              "    </tr>\n",
              "    <tr>\n",
              "      <th>47396</th>\n",
              "      <td>what to do for hoarseness ?</td>\n",
              "      <td>NaN</td>\n",
              "    </tr>\n",
              "  </tbody>\n",
              "</table>\n",
              "<p>586 rows × 2 columns</p>\n",
              "</div>\n",
              "      <button class=\"colab-df-convert\" onclick=\"convertToInteractive('df-e62e19f5-8371-496c-a39d-4283290d43c9')\"\n",
              "              title=\"Convert this dataframe to an interactive table.\"\n",
              "              style=\"display:none;\">\n",
              "        \n",
              "  <svg xmlns=\"http://www.w3.org/2000/svg\" height=\"24px\"viewBox=\"0 0 24 24\"\n",
              "       width=\"24px\">\n",
              "    <path d=\"M0 0h24v24H0V0z\" fill=\"none\"/>\n",
              "    <path d=\"M18.56 5.44l.94 2.06.94-2.06 2.06-.94-2.06-.94-.94-2.06-.94 2.06-2.06.94zm-11 1L8.5 8.5l.94-2.06 2.06-.94-2.06-.94L8.5 2.5l-.94 2.06-2.06.94zm10 10l.94 2.06.94-2.06 2.06-.94-2.06-.94-.94-2.06-.94 2.06-2.06.94z\"/><path d=\"M17.41 7.96l-1.37-1.37c-.4-.4-.92-.59-1.43-.59-.52 0-1.04.2-1.43.59L10.3 9.45l-7.72 7.72c-.78.78-.78 2.05 0 2.83L4 21.41c.39.39.9.59 1.41.59.51 0 1.02-.2 1.41-.59l7.78-7.78 2.81-2.81c.8-.78.8-2.07 0-2.86zM5.41 20L4 18.59l7.72-7.72 1.47 1.35L5.41 20z\"/>\n",
              "  </svg>\n",
              "      </button>\n",
              "      \n",
              "  <style>\n",
              "    .colab-df-container {\n",
              "      display:flex;\n",
              "      flex-wrap:wrap;\n",
              "      gap: 12px;\n",
              "    }\n",
              "\n",
              "    .colab-df-convert {\n",
              "      background-color: #E8F0FE;\n",
              "      border: none;\n",
              "      border-radius: 50%;\n",
              "      cursor: pointer;\n",
              "      display: none;\n",
              "      fill: #1967D2;\n",
              "      height: 32px;\n",
              "      padding: 0 0 0 0;\n",
              "      width: 32px;\n",
              "    }\n",
              "\n",
              "    .colab-df-convert:hover {\n",
              "      background-color: #E2EBFA;\n",
              "      box-shadow: 0px 1px 2px rgba(60, 64, 67, 0.3), 0px 1px 3px 1px rgba(60, 64, 67, 0.15);\n",
              "      fill: #174EA6;\n",
              "    }\n",
              "\n",
              "    [theme=dark] .colab-df-convert {\n",
              "      background-color: #3B4455;\n",
              "      fill: #D2E3FC;\n",
              "    }\n",
              "\n",
              "    [theme=dark] .colab-df-convert:hover {\n",
              "      background-color: #434B5C;\n",
              "      box-shadow: 0px 1px 3px 1px rgba(0, 0, 0, 0.15);\n",
              "      filter: drop-shadow(0px 1px 2px rgba(0, 0, 0, 0.3));\n",
              "      fill: #FFFFFF;\n",
              "    }\n",
              "  </style>\n",
              "\n",
              "      <script>\n",
              "        const buttonEl =\n",
              "          document.querySelector('#df-e62e19f5-8371-496c-a39d-4283290d43c9 button.colab-df-convert');\n",
              "        buttonEl.style.display =\n",
              "          google.colab.kernel.accessAllowed ? 'block' : 'none';\n",
              "\n",
              "        async function convertToInteractive(key) {\n",
              "          const element = document.querySelector('#df-e62e19f5-8371-496c-a39d-4283290d43c9');\n",
              "          const dataTable =\n",
              "            await google.colab.kernel.invokeFunction('convertToInteractive',\n",
              "                                                     [key], {});\n",
              "          if (!dataTable) return;\n",
              "\n",
              "          const docLinkHtml = 'Like what you see? Visit the ' +\n",
              "            '<a target=\"_blank\" href=https://colab.research.google.com/notebooks/data_table.ipynb>data table notebook</a>'\n",
              "            + ' to learn more about interactive tables.';\n",
              "          element.innerHTML = '';\n",
              "          dataTable['output_type'] = 'display_data';\n",
              "          await google.colab.output.renderOutput(dataTable, element);\n",
              "          const docLink = document.createElement('div');\n",
              "          docLink.innerHTML = docLinkHtml;\n",
              "          element.appendChild(docLink);\n",
              "        }\n",
              "      </script>\n",
              "    </div>\n",
              "  </div>\n",
              "  "
            ]
          },
          "metadata": {},
          "execution_count": 49
        }
      ]
    },
    {
      "cell_type": "markdown",
      "source": [
        "There are 586 duplicates of both questions and answers"
      ],
      "metadata": {
        "id": "KsCXAQiqC7ts"
      }
    },
    {
      "cell_type": "code",
      "source": [
        "QA_df[QA_df.duplicated()]"
      ],
      "metadata": {
        "id": "K0pX_EXHC7ts"
      },
      "execution_count": null,
      "outputs": []
    },
    {
      "cell_type": "markdown",
      "source": [
        "### Question type column"
      ],
      "metadata": {
        "id": "FfZU4KIMC7tt"
      }
    },
    {
      "cell_type": "code",
      "source": [
        "df['Qtypes'].value_counts()"
      ],
      "metadata": {
        "colab": {
          "base_uri": "https://localhost:8080/"
        },
        "outputId": "e723eeae-2e6c-4c52-cb3f-d71f9eda9f77",
        "id": "0A9iCdGbC7tt"
      },
      "execution_count": null,
      "outputs": [
        {
          "output_type": "execute_result",
          "data": {
            "text/plain": [
              "information                                9214\n",
              "symptoms                                   4338\n",
              "treatment                                  3906\n",
              "causes                                     2436\n",
              "outlook                                    2232\n",
              "exams and tests                            2058\n",
              "when to contact a medical professional     1738\n",
              "inheritance                                1446\n",
              "precautions                                1413\n",
              "side effects                               1301\n",
              "other information                          1280\n",
              "indication                                 1258\n",
              "usage                                      1244\n",
              "prevention                                 1239\n",
              "brand names                                1238\n",
              "emergency or overdose                      1140\n",
              "complications                              1120\n",
              "frequency                                  1120\n",
              "storage and disposal                       1117\n",
              "forget a dose                              1098\n",
              "dietary                                    1092\n",
              "genetic changes                            1087\n",
              "considerations                              772\n",
              "susceptibility                              475\n",
              "important warning                           468\n",
              "research                                    399\n",
              "brand names of combination products         230\n",
              "support groups                              221\n",
              "dose                                        101\n",
              "interactions with foods                      99\n",
              "interactions with herbs and supplements      99\n",
              "interactions with medications                99\n",
              "how does it work                             99\n",
              "how effective is it                          99\n",
              "stages                                       80\n",
              "how can i learn more                         25\n",
              "severe reaction                              24\n",
              "contraindication                             20\n",
              "why get vaccinated                           16\n",
              "Name: Qtypes, dtype: int64"
            ]
          },
          "metadata": {},
          "execution_count": 9
        }
      ]
    },
    {
      "cell_type": "code",
      "source": [
        "df['Qtypes'].nunique()"
      ],
      "metadata": {
        "colab": {
          "base_uri": "https://localhost:8080/"
        },
        "outputId": "7707618a-dca2-4cf5-dd1f-f0afc7af9937",
        "id": "myCjf0RHC7tu"
      },
      "execution_count": null,
      "outputs": [
        {
          "output_type": "execute_result",
          "data": {
            "text/plain": [
              "39"
            ]
          },
          "metadata": {},
          "execution_count": 22
        }
      ]
    },
    {
      "cell_type": "markdown",
      "source": [
        "#Distribution of Question types."
      ],
      "metadata": {
        "id": "gLZJrdCEC7tu"
      }
    },
    {
      "cell_type": "code",
      "source": [
        "plt.figure(figsize=[10,10]);\n",
        "df['Qtypes'].hist();\n",
        "plt.xticks(rotation = 90);"
      ],
      "metadata": {
        "colab": {
          "base_uri": "https://localhost:8080/",
          "height": 786
        },
        "outputId": "ca829004-0ad9-4ca3-e346-55af9474c184",
        "id": "qJQ7grZJC7tv"
      },
      "execution_count": null,
      "outputs": [
        {
          "output_type": "display_data",
          "data": {
            "text/plain": [
              "<Figure size 720x720 with 1 Axes>"
            ],
            "image/png": "[encoded data removed]"
          },
          "metadata": {
            "needs_background": "light"
          }
        }
      ]
    },
    {
      "cell_type": "markdown",
      "source": [
        "### What are the top 10 frequent question type asked?"
      ],
      "metadata": {
        "id": "N-Y346XKC7tv"
      }
    },
    {
      "cell_type": "code",
      "source": [
        "plt.figure(figsize=[10,10])\n",
        "sorted_counts = df['Qtypes'].value_counts().head()\n",
        "plt.pie(sorted_counts, labels = sorted_counts.index, startangle = 90, counterclock = False,radius=0.8);\n",
        "#top_Qtype=df['Qtypes'].value_counts().head(10).plot(kind='bar',alpha=0.5,color='blue')\n",
        "plt.title('Distribution of Question types')\n",
        "plt.xlabel('Question types')\n",
        "plt.show()\n"
      ],
      "metadata": {
        "colab": {
          "base_uri": "https://localhost:8080/",
          "height": 605
        },
        "outputId": "1aeca69d-a5fd-4f0b-82e0-4c4f8cc959de",
        "id": "0PLWBQxbC7tw"
      },
      "execution_count": null,
      "outputs": [
        {
          "output_type": "display_data",
          "data": {
            "text/plain": [
              "<Figure size 720x720 with 1 Axes>"
            ],
            "image/png": "[encoded data removed]"
          },
          "metadata": {}
        }
      ]
    },
    {
      "cell_type": "code",
      "source": [
        "list(df['Qtypes'].value_counts()[:10].keys())"
      ],
      "metadata": {
        "colab": {
          "base_uri": "https://localhost:8080/"
        },
        "outputId": "8ed49e16-3a14-46f9-e6ff-83cfd4621ae2",
        "id": "0ADciLaCC7tw"
      },
      "execution_count": null,
      "outputs": [
        {
          "output_type": "execute_result",
          "data": {
            "text/plain": [
              "['information',\n",
              " 'symptoms',\n",
              " 'treatment',\n",
              " 'causes',\n",
              " 'outlook',\n",
              " 'exams and tests',\n",
              " 'when to contact a medical professional',\n",
              " 'inheritance',\n",
              " 'precautions',\n",
              " 'side effects']"
            ]
          },
          "metadata": {},
          "execution_count": 11
        }
      ]
    },
    {
      "cell_type": "markdown",
      "source": [
        "Top 10 question types are: `['information',\n",
        " 'symptoms',\n",
        " 'treatment',\n",
        " 'causes',\n",
        " 'outlook',\n",
        " 'exams and tests',\n",
        " 'when to contact a medical professional',\n",
        " 'inheritance',\n",
        " 'precautions',\n",
        " 'side effects']`\n",
        "\n"
      ],
      "metadata": {
        "id": "C0O-hMMJC7tx"
      }
    },
    {
      "cell_type": "code",
      "source": [
        "df['Focus'].nunique()"
      ],
      "metadata": {
        "colab": {
          "base_uri": "https://localhost:8080/"
        },
        "outputId": "44c0878e-03fc-45ec-93e3-931a026d5e41",
        "id": "6I8Kj3YzC7tx"
      },
      "execution_count": null,
      "outputs": [
        {
          "output_type": "execute_result",
          "data": {
            "text/plain": [
              "10537"
            ]
          },
          "metadata": {},
          "execution_count": 29
        }
      ]
    },
    {
      "cell_type": "markdown",
      "source": [
        "###What are the top 10 frequent question focus?"
      ],
      "metadata": {
        "id": "GwGYcVmwC7ty"
      }
    },
    {
      "cell_type": "code",
      "source": [
        "plt.figure(figsize=[10,10])\n",
        "top_Qtype=df['Focus'].value_counts().head(10).plot(kind='bar',alpha=0.5,color='blue')\n",
        "plt.title('Distribution of Question Focus')\n",
        "plt.xlabel('Focus')\n",
        "plt.ylabel('Frequency')\n",
        "plt.show()"
      ],
      "metadata": {
        "colab": {
          "base_uri": "https://localhost:8080/",
          "height": 712
        },
        "outputId": "41653fe4-28c9-4378-c785-0a02e5c39157",
        "id": "3cMB26HaC7ty"
      },
      "execution_count": null,
      "outputs": [
        {
          "output_type": "display_data",
          "data": {
            "text/plain": [
              "<Figure size 720x720 with 1 Axes>"
            ],
            "image/png": "[encoded data removed]"
          },
          "metadata": {
            "needs_background": "light"
          }
        }
      ]
    },
    {
      "cell_type": "code",
      "source": [
        "list(df['Focus'].value_counts()[:3].keys())"
      ],
      "metadata": {
        "colab": {
          "base_uri": "https://localhost:8080/"
        },
        "outputId": "0edfc3ab-823d-4a0b-d7e3-a5f2f8d170d8",
        "id": "zGllnp7UC7tz"
      },
      "execution_count": null,
      "outputs": [
        {
          "output_type": "execute_result",
          "data": {
            "text/plain": [
              "['Breast Cancer', 'Stroke', 'Prostate Cancer']"
            ]
          },
          "metadata": {},
          "execution_count": 14
        }
      ]
    },
    {
      "cell_type": "markdown",
      "source": [
        "Top 10 question focus are: `['Breast Cancer',\n",
        " 'Stroke',\n",
        " 'Prostate Cancer',\n",
        " 'Skin Cancer',\n",
        " \"Alzheimer's Disease\",\n",
        " 'Shingles',\n",
        " 'Diabetes',\n",
        " 'Lung Cancer',\n",
        " 'Colorectal Cancer',\n",
        " 'Hemochromatosis']`\n",
        " "
      ],
      "metadata": {
        "id": "coMf4WnSC7tz"
      }
    },
    {
      "cell_type": "markdown",
      "source": [
        "### What are the question types regarding the top 3 focus?"
      ],
      "metadata": {
        "id": "GnFgQj5SC7t0"
      }
    },
    {
      "cell_type": "code",
      "source": [
        "df_qf=df[(df['Focus']=='Breast Cancer') | (df['Focus']=='Stroke') | (df['Focus']=='Prostate Cancer')]\n",
        "df_qf\n",
        "#df_qf=df[(df['Focus']=='Breast Cancer') | (df['Focus']=='Stroke') | (df['Focus']=='Prostate Cancer') | (df['Qtypes']=='information') | (df['Qtypes']=='symptoms') | (df['Qtypes']=='treatment')]"
      ],
      "metadata": {
        "colab": {
          "base_uri": "https://localhost:8080/",
          "height": 693
        },
        "outputId": "277354b3-ecb1-4133-9176-77982ae604f8",
        "id": "mwtXHHnlC7t0"
      },
      "execution_count": null,
      "outputs": [
        {
          "output_type": "execute_result",
          "data": {
            "text/plain": [
              "                                               Questions  \\\n",
              "133                        what is (are) breast cancer ?   \n",
              "134                       how to prevent breast cancer ?   \n",
              "135                  who is at risk for breast cancer? ?   \n",
              "136    what research (or clinical trials) is being do...   \n",
              "137                        what is (are) breast cancer ?   \n",
              "...                                                  ...   \n",
              "45259               what are the treatments for stroke ?   \n",
              "45260     where to find support for people with stroke ?   \n",
              "45261                   what is the outlook for stroke ?   \n",
              "45262             do i need to see a doctor for stroke ?   \n",
              "45263                            how to prevent stroke ?   \n",
              "\n",
              "                                                 Answers          Focus  \\\n",
              "133    Key Points\\n                    - Breast cance...  Breast Cancer   \n",
              "134    Key Points\\n                    - Avoiding ris...  Breast Cancer   \n",
              "135    Key Points\\n                    - Avoiding ris...  Breast Cancer   \n",
              "136    Cancer prevention clinical trials are used to ...  Breast Cancer   \n",
              "137    Key Points\\n                    - Breast cance...  Breast Cancer   \n",
              "...                                                  ...            ...   \n",
              "45259                                                NaN         Stroke   \n",
              "45260                                                NaN         Stroke   \n",
              "45261                                                NaN         Stroke   \n",
              "45262                                                NaN         Stroke   \n",
              "45263                                                NaN         Stroke   \n",
              "\n",
              "                                       Qtypes  \\\n",
              "133                               information   \n",
              "134                                prevention   \n",
              "135                            susceptibility   \n",
              "136                                  research   \n",
              "137                               information   \n",
              "...                                       ...   \n",
              "45259                               treatment   \n",
              "45260                          support groups   \n",
              "45261                                 outlook   \n",
              "45262  when to contact a medical professional   \n",
              "45263                              prevention   \n",
              "\n",
              "                                          Synonym     source  \\\n",
              "133                                           NaN  CancerGov   \n",
              "134                                           NaN  CancerGov   \n",
              "135                                           NaN  CancerGov   \n",
              "136                                           NaN  CancerGov   \n",
              "137                                           NaN  CancerGov   \n",
              "...                                           ...        ...   \n",
              "45259  <Synonym>Cerebrovascular disease</Synonym>       ADAM   \n",
              "45260  <Synonym>Cerebrovascular disease</Synonym>       ADAM   \n",
              "45261  <Synonym>Cerebrovascular disease</Synonym>       ADAM   \n",
              "45262  <Synonym>Cerebrovascular disease</Synonym>       ADAM   \n",
              "45263  <Synonym>Cerebrovascular disease</Synonym>       ADAM   \n",
              "\n",
              "                                                     url       cui  \\\n",
              "133    https://www.cancer.gov/types/breast/patient/br...  C0006142   \n",
              "134    https://www.cancer.gov/types/breast/patient/br...  C0006142   \n",
              "135    https://www.cancer.gov/types/breast/patient/br...  C0006142   \n",
              "136    https://www.cancer.gov/types/breast/patient/br...  C0006142   \n",
              "137    https://www.cancer.gov/types/breast/patient/pr...  C0006142   \n",
              "...                                                  ...       ...   \n",
              "45259  https://www.nlm.nih.gov/medlineplus/ency/artic...  C0038454   \n",
              "45260  https://www.nlm.nih.gov/medlineplus/ency/artic...  C0038454   \n",
              "45261  https://www.nlm.nih.gov/medlineplus/ency/artic...  C0038454   \n",
              "45262  https://www.nlm.nih.gov/medlineplus/ency/artic...  C0038454   \n",
              "45263  https://www.nlm.nih.gov/medlineplus/ency/artic...  C0038454   \n",
              "\n",
              "      SemanticType SemanticGroup  \n",
              "133           T191     Disorders  \n",
              "134           T191     Disorders  \n",
              "135           T191     Disorders  \n",
              "136           T191     Disorders  \n",
              "137           T191     Disorders  \n",
              "...            ...           ...  \n",
              "45259         T047     Disorders  \n",
              "45260         T047     Disorders  \n",
              "45261         T047     Disorders  \n",
              "45262         T047     Disorders  \n",
              "45263         T047     Disorders  \n",
              "\n",
              "[140 rows x 10 columns]"
            ],
            "text/html": [
              "\n",
              "  <div id=\"df-06f02271-67d1-46fe-96f0-a13f175f8a2b\">\n",
              "    <div class=\"colab-df-container\">\n",
              "      <div>\n",
              "<style scoped>\n",
              "    .dataframe tbody tr th:only-of-type {\n",
              "        vertical-align: middle;\n",
              "    }\n",
              "\n",
              "    .dataframe tbody tr th {\n",
              "        vertical-align: top;\n",
              "    }\n",
              "\n",
              "    .dataframe thead th {\n",
              "        text-align: right;\n",
              "    }\n",
              "</style>\n",
              "<table border=\"1\" class=\"dataframe\">\n",
              "  <thead>\n",
              "    <tr style=\"text-align: right;\">\n",
              "      <th></th>\n",
              "      <th>Questions</th>\n",
              "      <th>Answers</th>\n",
              "      <th>Focus</th>\n",
              "      <th>Qtypes</th>\n",
              "      <th>Synonym</th>\n",
              "      <th>source</th>\n",
              "      <th>url</th>\n",
              "      <th>cui</th>\n",
              "      <th>SemanticType</th>\n",
              "      <th>SemanticGroup</th>\n",
              "    </tr>\n",
              "  </thead>\n",
              "  <tbody>\n",
              "    <tr>\n",
              "      <th>133</th>\n",
              "      <td>what is (are) breast cancer ?</td>\n",
              "      <td>Key Points\\n                    - Breast cance...</td>\n",
              "      <td>Breast Cancer</td>\n",
              "      <td>information</td>\n",
              "      <td>NaN</td>\n",
              "      <td>CancerGov</td>\n",
              "      <td>https://www.cancer.gov/types/breast/patient/br...</td>\n",
              "      <td>C0006142</td>\n",
              "      <td>T191</td>\n",
              "      <td>Disorders</td>\n",
              "    </tr>\n",
              "    <tr>\n",
              "      <th>134</th>\n",
              "      <td>how to prevent breast cancer ?</td>\n",
              "      <td>Key Points\\n                    - Avoiding ris...</td>\n",
              "      <td>Breast Cancer</td>\n",
              "      <td>prevention</td>\n",
              "      <td>NaN</td>\n",
              "      <td>CancerGov</td>\n",
              "      <td>https://www.cancer.gov/types/breast/patient/br...</td>\n",
              "      <td>C0006142</td>\n",
              "      <td>T191</td>\n",
              "      <td>Disorders</td>\n",
              "    </tr>\n",
              "    <tr>\n",
              "      <th>135</th>\n",
              "      <td>who is at risk for breast cancer? ?</td>\n",
              "      <td>Key Points\\n                    - Avoiding ris...</td>\n",
              "      <td>Breast Cancer</td>\n",
              "      <td>susceptibility</td>\n",
              "      <td>NaN</td>\n",
              "      <td>CancerGov</td>\n",
              "      <td>https://www.cancer.gov/types/breast/patient/br...</td>\n",
              "      <td>C0006142</td>\n",
              "      <td>T191</td>\n",
              "      <td>Disorders</td>\n",
              "    </tr>\n",
              "    <tr>\n",
              "      <th>136</th>\n",
              "      <td>what research (or clinical trials) is being do...</td>\n",
              "      <td>Cancer prevention clinical trials are used to ...</td>\n",
              "      <td>Breast Cancer</td>\n",
              "      <td>research</td>\n",
              "      <td>NaN</td>\n",
              "      <td>CancerGov</td>\n",
              "      <td>https://www.cancer.gov/types/breast/patient/br...</td>\n",
              "      <td>C0006142</td>\n",
              "      <td>T191</td>\n",
              "      <td>Disorders</td>\n",
              "    </tr>\n",
              "    <tr>\n",
              "      <th>137</th>\n",
              "      <td>what is (are) breast cancer ?</td>\n",
              "      <td>Key Points\\n                    - Breast cance...</td>\n",
              "      <td>Breast Cancer</td>\n",
              "      <td>information</td>\n",
              "      <td>NaN</td>\n",
              "      <td>CancerGov</td>\n",
              "      <td>https://www.cancer.gov/types/breast/patient/pr...</td>\n",
              "      <td>C0006142</td>\n",
              "      <td>T191</td>\n",
              "      <td>Disorders</td>\n",
              "    </tr>\n",
              "    <tr>\n",
              "      <th>...</th>\n",
              "      <td>...</td>\n",
              "      <td>...</td>\n",
              "      <td>...</td>\n",
              "      <td>...</td>\n",
              "      <td>...</td>\n",
              "      <td>...</td>\n",
              "      <td>...</td>\n",
              "      <td>...</td>\n",
              "      <td>...</td>\n",
              "      <td>...</td>\n",
              "    </tr>\n",
              "    <tr>\n",
              "      <th>45259</th>\n",
              "      <td>what are the treatments for stroke ?</td>\n",
              "      <td>NaN</td>\n",
              "      <td>Stroke</td>\n",
              "      <td>treatment</td>\n",
              "      <td>&lt;Synonym&gt;Cerebrovascular disease&lt;/Synonym&gt;</td>\n",
              "      <td>ADAM</td>\n",
              "      <td>https://www.nlm.nih.gov/medlineplus/ency/artic...</td>\n",
              "      <td>C0038454</td>\n",
              "      <td>T047</td>\n",
              "      <td>Disorders</td>\n",
              "    </tr>\n",
              "    <tr>\n",
              "      <th>45260</th>\n",
              "      <td>where to find support for people with stroke ?</td>\n",
              "      <td>NaN</td>\n",
              "      <td>Stroke</td>\n",
              "      <td>support groups</td>\n",
              "      <td>&lt;Synonym&gt;Cerebrovascular disease&lt;/Synonym&gt;</td>\n",
              "      <td>ADAM</td>\n",
              "      <td>https://www.nlm.nih.gov/medlineplus/ency/artic...</td>\n",
              "      <td>C0038454</td>\n",
              "      <td>T047</td>\n",
              "      <td>Disorders</td>\n",
              "    </tr>\n",
              "    <tr>\n",
              "      <th>45261</th>\n",
              "      <td>what is the outlook for stroke ?</td>\n",
              "      <td>NaN</td>\n",
              "      <td>Stroke</td>\n",
              "      <td>outlook</td>\n",
              "      <td>&lt;Synonym&gt;Cerebrovascular disease&lt;/Synonym&gt;</td>\n",
              "      <td>ADAM</td>\n",
              "      <td>https://www.nlm.nih.gov/medlineplus/ency/artic...</td>\n",
              "      <td>C0038454</td>\n",
              "      <td>T047</td>\n",
              "      <td>Disorders</td>\n",
              "    </tr>\n",
              "    <tr>\n",
              "      <th>45262</th>\n",
              "      <td>do i need to see a doctor for stroke ?</td>\n",
              "      <td>NaN</td>\n",
              "      <td>Stroke</td>\n",
              "      <td>when to contact a medical professional</td>\n",
              "      <td>&lt;Synonym&gt;Cerebrovascular disease&lt;/Synonym&gt;</td>\n",
              "      <td>ADAM</td>\n",
              "      <td>https://www.nlm.nih.gov/medlineplus/ency/artic...</td>\n",
              "      <td>C0038454</td>\n",
              "      <td>T047</td>\n",
              "      <td>Disorders</td>\n",
              "    </tr>\n",
              "    <tr>\n",
              "      <th>45263</th>\n",
              "      <td>how to prevent stroke ?</td>\n",
              "      <td>NaN</td>\n",
              "      <td>Stroke</td>\n",
              "      <td>prevention</td>\n",
              "      <td>&lt;Synonym&gt;Cerebrovascular disease&lt;/Synonym&gt;</td>\n",
              "      <td>ADAM</td>\n",
              "      <td>https://www.nlm.nih.gov/medlineplus/ency/artic...</td>\n",
              "      <td>C0038454</td>\n",
              "      <td>T047</td>\n",
              "      <td>Disorders</td>\n",
              "    </tr>\n",
              "  </tbody>\n",
              "</table>\n",
              "<p>140 rows × 10 columns</p>\n",
              "</div>\n",
              "      <button class=\"colab-df-convert\" onclick=\"convertToInteractive('df-06f02271-67d1-46fe-96f0-a13f175f8a2b')\"\n",
              "              title=\"Convert this dataframe to an interactive table.\"\n",
              "              style=\"display:none;\">\n",
              "        \n",
              "  <svg xmlns=\"http://www.w3.org/2000/svg\" height=\"24px\"viewBox=\"0 0 24 24\"\n",
              "       width=\"24px\">\n",
              "    <path d=\"M0 0h24v24H0V0z\" fill=\"none\"/>\n",
              "    <path d=\"M18.56 5.44l.94 2.06.94-2.06 2.06-.94-2.06-.94-.94-2.06-.94 2.06-2.06.94zm-11 1L8.5 8.5l.94-2.06 2.06-.94-2.06-.94L8.5 2.5l-.94 2.06-2.06.94zm10 10l.94 2.06.94-2.06 2.06-.94-2.06-.94-.94-2.06-.94 2.06-2.06.94z\"/><path d=\"M17.41 7.96l-1.37-1.37c-.4-.4-.92-.59-1.43-.59-.52 0-1.04.2-1.43.59L10.3 9.45l-7.72 7.72c-.78.78-.78 2.05 0 2.83L4 21.41c.39.39.9.59 1.41.59.51 0 1.02-.2 1.41-.59l7.78-7.78 2.81-2.81c.8-.78.8-2.07 0-2.86zM5.41 20L4 18.59l7.72-7.72 1.47 1.35L5.41 20z\"/>\n",
              "  </svg>\n",
              "      </button>\n",
              "      \n",
              "  <style>\n",
              "    .colab-df-container {\n",
              "      display:flex;\n",
              "      flex-wrap:wrap;\n",
              "      gap: 12px;\n",
              "    }\n",
              "\n",
              "    .colab-df-convert {\n",
              "      background-color: #E8F0FE;\n",
              "      border: none;\n",
              "      border-radius: 50%;\n",
              "      cursor: pointer;\n",
              "      display: none;\n",
              "      fill: #1967D2;\n",
              "      height: 32px;\n",
              "      padding: 0 0 0 0;\n",
              "      width: 32px;\n",
              "    }\n",
              "\n",
              "    .colab-df-convert:hover {\n",
              "      background-color: #E2EBFA;\n",
              "      box-shadow: 0px 1px 2px rgba(60, 64, 67, 0.3), 0px 1px 3px 1px rgba(60, 64, 67, 0.15);\n",
              "      fill: #174EA6;\n",
              "    }\n",
              "\n",
              "    [theme=dark] .colab-df-convert {\n",
              "      background-color: #3B4455;\n",
              "      fill: #D2E3FC;\n",
              "    }\n",
              "\n",
              "    [theme=dark] .colab-df-convert:hover {\n",
              "      background-color: #434B5C;\n",
              "      box-shadow: 0px 1px 3px 1px rgba(0, 0, 0, 0.15);\n",
              "      filter: drop-shadow(0px 1px 2px rgba(0, 0, 0, 0.3));\n",
              "      fill: #FFFFFF;\n",
              "    }\n",
              "  </style>\n",
              "\n",
              "      <script>\n",
              "        const buttonEl =\n",
              "          document.querySelector('#df-06f02271-67d1-46fe-96f0-a13f175f8a2b button.colab-df-convert');\n",
              "        buttonEl.style.display =\n",
              "          google.colab.kernel.accessAllowed ? 'block' : 'none';\n",
              "\n",
              "        async function convertToInteractive(key) {\n",
              "          const element = document.querySelector('#df-06f02271-67d1-46fe-96f0-a13f175f8a2b');\n",
              "          const dataTable =\n",
              "            await google.colab.kernel.invokeFunction('convertToInteractive',\n",
              "                                                     [key], {});\n",
              "          if (!dataTable) return;\n",
              "\n",
              "          const docLinkHtml = 'Like what you see? Visit the ' +\n",
              "            '<a target=\"_blank\" href=https://colab.research.google.com/notebooks/data_table.ipynb>data table notebook</a>'\n",
              "            + ' to learn more about interactive tables.';\n",
              "          element.innerHTML = '';\n",
              "          dataTable['output_type'] = 'display_data';\n",
              "          await google.colab.output.renderOutput(dataTable, element);\n",
              "          const docLink = document.createElement('div');\n",
              "          docLink.innerHTML = docLinkHtml;\n",
              "          element.appendChild(docLink);\n",
              "        }\n",
              "      </script>\n",
              "    </div>\n",
              "  </div>\n",
              "  "
            ]
          },
          "metadata": {},
          "execution_count": 24
        }
      ]
    },
    {
      "cell_type": "code",
      "source": [
        "plt.figure(figsize=[10,10])\n",
        "sb.countplot(data = df_qf, x = 'Focus', hue = 'Qtypes') \n",
        "plt.title('Distribution of Question Type in the top 3 Focus');\n",
        "plt.xlabel('Focus');\n",
        "plt.ylabel ('Number of Questions');\n"
      ],
      "metadata": {
        "colab": {
          "base_uri": "https://localhost:8080/",
          "height": 621
        },
        "outputId": "948bbbd1-e81e-4e51-fdbc-b27d1f527965",
        "id": "vLjNpTlkC7t1"
      },
      "execution_count": null,
      "outputs": [
        {
          "output_type": "display_data",
          "data": {
            "text/plain": [
              "<Figure size 720x720 with 1 Axes>"
            ],
            "image/png": "[encoded data removed]"
          },
          "metadata": {
            "needs_background": "light"
          }
        }
      ]
    },
    {
      "cell_type": "markdown",
      "source": [
        "The highest concern for people regarding the top asked focus is information and treatment."
      ],
      "metadata": {
        "id": "FfPM2pGyC7t2"
      }
    },
    {
      "cell_type": "markdown",
      "source": [
        "### What are the top 3 question types and the least one asked regarding the top focus 'Breast Cancer' ?\n",
        "\n",
        "\n"
      ],
      "metadata": {
        "id": "96bSHqJZC7t2"
      }
    },
    {
      "cell_type": "code",
      "source": [
        "df[df['Focus']=='Breast Cancer']['Qtypes'].value_counts().plot(kind='bar',alpha=0.5,color='blue');"
      ],
      "metadata": {
        "colab": {
          "base_uri": "https://localhost:8080/",
          "height": 338
        },
        "outputId": "fee88f4b-0196-43a2-dd11-a78046ed3d21",
        "id": "9x73oQpjC7t3"
      },
      "execution_count": null,
      "outputs": [
        {
          "output_type": "display_data",
          "data": {
            "text/plain": [
              "<Figure size 432x288 with 1 Axes>"
            ],
            "image/png": "[encoded data removed]"
          },
          "metadata": {
            "needs_background": "light"
          }
        }
      ]
    },
    {
      "cell_type": "markdown",
      "source": [
        "The most asked question types regarding `Breast Cancer `is **information, treatment and susceptibility** while the least asked type of question is **inheritance**"
      ],
      "metadata": {
        "id": "g9QSNVfQC7t3"
      }
    },
    {
      "cell_type": "markdown",
      "source": [
        "### What are the relationship between missing values in 'Answers' and question types?"
      ],
      "metadata": {
        "id": "mlAFzJOFC7t4"
      }
    },
    {
      "cell_type": "code",
      "source": [
        "df_null=df[df['Answers'].isna()]"
      ],
      "metadata": {
        "id": "96pU-4aLC7t4"
      },
      "execution_count": null,
      "outputs": []
    },
    {
      "cell_type": "code",
      "source": [
        "plt.figure(figsize=[7,7])\n",
        "top_Qtype_null=df_null['Qtypes'].value_counts().plot(kind='bar',alpha=0.5,color='blue')"
      ],
      "metadata": {
        "colab": {
          "base_uri": "https://localhost:8080/",
          "height": 623
        },
        "outputId": "407b43d2-e654-4980-91e5-ca9d5506ac15",
        "id": "iL1aqosWC7t4"
      },
      "execution_count": null,
      "outputs": [
        {
          "output_type": "display_data",
          "data": {
            "text/plain": [
              "<Figure size 504x504 with 1 Axes>"
            ],
            "image/png": "[encoded data removed]"
          },
          "metadata": {
            "needs_background": "light"
          }
        }
      ]
    },
    {
      "cell_type": "markdown",
      "source": [
        "The most question type with missing answers are in `'information'` question type and rest do not have that much difference.\n",
        "\n",
        "The question type with the least missing answers is `'stages'`."
      ],
      "metadata": {
        "id": "QAe1EPsSC7t4"
      }
    },
    {
      "cell_type": "code",
      "source": [
        "plt.figure(figsize=[10,10])\n",
        "top_Qfocus_null=df_null['Focus'].value_counts().head(10).plot(kind='bar',alpha=0.5,color='blue')"
      ],
      "metadata": {
        "colab": {
          "base_uri": "https://localhost:8080/",
          "height": 671
        },
        "outputId": "e97dc9fd-99cf-4990-8806-f6958eb49300",
        "id": "JjKfx1z2C7t5"
      },
      "execution_count": null,
      "outputs": [
        {
          "output_type": "display_data",
          "data": {
            "text/plain": [
              "<Figure size 720x720 with 1 Axes>"
            ],
            "image/png": "[encoded data removed]"
          },
          "metadata": {
            "needs_background": "light"
          }
        }
      ]
    },
    {
      "cell_type": "markdown",
      "source": [
        "In the top 10 missing values in records, the question focus with most missing values is `'Senna'`"
      ],
      "metadata": {
        "id": "ByCtCkFHC7t5"
      }
    },
    {
      "cell_type": "code",
      "source": [
        "# import all packages and set plots to be embedded inline\n",
        "import numpy as np\n",
        "import pandas as pd\n",
        "import matplotlib.pyplot as plt\n",
        "import seaborn as sb\n",
        "import missingno as msno\n",
        "%matplotlib inline"
      ],
      "metadata": {
        "id": "jAh4K1sU479O"
      },
      "execution_count": null,
      "outputs": []
    },
    {
      "cell_type": "markdown",
      "source": [
        "#Exploratory Data Analysis (Testset)"
      ],
      "metadata": {
        "id": "bqpWQlRS41w_"
      }
    },
    {
      "cell_type": "code",
      "execution_count": null,
      "metadata": {
        "id": "5n62gyfW4Uly"
      },
      "outputs": [],
      "source": [
        "df = pd.read_csv('/content/drive/MyDrive/Training/final_test.csv')"
      ]
    },
    {
      "cell_type": "code",
      "source": [
        "df.head()"
      ],
      "metadata": {
        "colab": {
          "base_uri": "https://localhost:8080/",
          "height": 441
        },
        "id": "NRpo2rsk6nu_",
        "outputId": "c8adb83d-5fa8-4d78-994f-4ef73abe9e3f"
      },
      "execution_count": null,
      "outputs": [
        {
          "output_type": "execute_result",
          "data": {
            "text/plain": [
              "   Unnamed: 0                                          Questions  \\\n",
              "0           0       what is (are) chronic lymphocytic leukemia ?   \n",
              "1           1  who is at risk for chronic lymphocytic leukemi...   \n",
              "2           2  what are the symptoms of chronic lymphocytic l...   \n",
              "3           3     how to diagnose chronic lymphocytic leukemia ?   \n",
              "4           4  what is the outlook for chronic lymphocytic le...   \n",
              "\n",
              "                                             Answers  \\\n",
              "0  Key Points\\n                    - Chronic lymp...   \n",
              "1  Older age can affect the risk of developing ch...   \n",
              "2  Signs and symptoms of chronic lymphocytic leuk...   \n",
              "3  Tests that examine the blood, bone marrow, and...   \n",
              "4  Certain factors affect treatment options and p...   \n",
              "\n",
              "                          Focus           Qtypes Synonym     source  \\\n",
              "0  Chronic Lymphocytic Leukemia      information     NaN  CancerGov   \n",
              "1  Chronic Lymphocytic Leukemia   susceptibility     NaN  CancerGov   \n",
              "2  Chronic Lymphocytic Leukemia         symptoms     NaN  CancerGov   \n",
              "3  Chronic Lymphocytic Leukemia  exams and tests     NaN  CancerGov   \n",
              "4  Chronic Lymphocytic Leukemia          outlook     NaN  CancerGov   \n",
              "\n",
              "                                                 url       cui SemanticType  \\\n",
              "0  https://www.cancer.gov/types/leukemia/patient/...  C0023434         T191   \n",
              "1  https://www.cancer.gov/types/leukemia/patient/...  C0023434         T191   \n",
              "2  https://www.cancer.gov/types/leukemia/patient/...  C0023434         T191   \n",
              "3  https://www.cancer.gov/types/leukemia/patient/...  C0023434         T191   \n",
              "4  https://www.cancer.gov/types/leukemia/patient/...  C0023434         T191   \n",
              "\n",
              "  SemanticGroup  \n",
              "0     Disorders  \n",
              "1     Disorders  \n",
              "2     Disorders  \n",
              "3     Disorders  \n",
              "4     Disorders  "
            ],
            "text/html": [
              "\n",
              "  <div id=\"df-a165d268-d4c8-442b-8809-e16ae169f85e\">\n",
              "    <div class=\"colab-df-container\">\n",
              "      <div>\n",
              "<style scoped>\n",
              "    .dataframe tbody tr th:only-of-type {\n",
              "        vertical-align: middle;\n",
              "    }\n",
              "\n",
              "    .dataframe tbody tr th {\n",
              "        vertical-align: top;\n",
              "    }\n",
              "\n",
              "    .dataframe thead th {\n",
              "        text-align: right;\n",
              "    }\n",
              "</style>\n",
              "<table border=\"1\" class=\"dataframe\">\n",
              "  <thead>\n",
              "    <tr style=\"text-align: right;\">\n",
              "      <th></th>\n",
              "      <th>Unnamed: 0</th>\n",
              "      <th>Questions</th>\n",
              "      <th>Answers</th>\n",
              "      <th>Focus</th>\n",
              "      <th>Qtypes</th>\n",
              "      <th>Synonym</th>\n",
              "      <th>source</th>\n",
              "      <th>url</th>\n",
              "      <th>cui</th>\n",
              "      <th>SemanticType</th>\n",
              "      <th>SemanticGroup</th>\n",
              "    </tr>\n",
              "  </thead>\n",
              "  <tbody>\n",
              "    <tr>\n",
              "      <th>0</th>\n",
              "      <td>0</td>\n",
              "      <td>what is (are) chronic lymphocytic leukemia ?</td>\n",
              "      <td>Key Points\\n                    - Chronic lymp...</td>\n",
              "      <td>Chronic Lymphocytic Leukemia</td>\n",
              "      <td>information</td>\n",
              "      <td>NaN</td>\n",
              "      <td>CancerGov</td>\n",
              "      <td>https://www.cancer.gov/types/leukemia/patient/...</td>\n",
              "      <td>C0023434</td>\n",
              "      <td>T191</td>\n",
              "      <td>Disorders</td>\n",
              "    </tr>\n",
              "    <tr>\n",
              "      <th>1</th>\n",
              "      <td>1</td>\n",
              "      <td>who is at risk for chronic lymphocytic leukemi...</td>\n",
              "      <td>Older age can affect the risk of developing ch...</td>\n",
              "      <td>Chronic Lymphocytic Leukemia</td>\n",
              "      <td>susceptibility</td>\n",
              "      <td>NaN</td>\n",
              "      <td>CancerGov</td>\n",
              "      <td>https://www.cancer.gov/types/leukemia/patient/...</td>\n",
              "      <td>C0023434</td>\n",
              "      <td>T191</td>\n",
              "      <td>Disorders</td>\n",
              "    </tr>\n",
              "    <tr>\n",
              "      <th>2</th>\n",
              "      <td>2</td>\n",
              "      <td>what are the symptoms of chronic lymphocytic l...</td>\n",
              "      <td>Signs and symptoms of chronic lymphocytic leuk...</td>\n",
              "      <td>Chronic Lymphocytic Leukemia</td>\n",
              "      <td>symptoms</td>\n",
              "      <td>NaN</td>\n",
              "      <td>CancerGov</td>\n",
              "      <td>https://www.cancer.gov/types/leukemia/patient/...</td>\n",
              "      <td>C0023434</td>\n",
              "      <td>T191</td>\n",
              "      <td>Disorders</td>\n",
              "    </tr>\n",
              "    <tr>\n",
              "      <th>3</th>\n",
              "      <td>3</td>\n",
              "      <td>how to diagnose chronic lymphocytic leukemia ?</td>\n",
              "      <td>Tests that examine the blood, bone marrow, and...</td>\n",
              "      <td>Chronic Lymphocytic Leukemia</td>\n",
              "      <td>exams and tests</td>\n",
              "      <td>NaN</td>\n",
              "      <td>CancerGov</td>\n",
              "      <td>https://www.cancer.gov/types/leukemia/patient/...</td>\n",
              "      <td>C0023434</td>\n",
              "      <td>T191</td>\n",
              "      <td>Disorders</td>\n",
              "    </tr>\n",
              "    <tr>\n",
              "      <th>4</th>\n",
              "      <td>4</td>\n",
              "      <td>what is the outlook for chronic lymphocytic le...</td>\n",
              "      <td>Certain factors affect treatment options and p...</td>\n",
              "      <td>Chronic Lymphocytic Leukemia</td>\n",
              "      <td>outlook</td>\n",
              "      <td>NaN</td>\n",
              "      <td>CancerGov</td>\n",
              "      <td>https://www.cancer.gov/types/leukemia/patient/...</td>\n",
              "      <td>C0023434</td>\n",
              "      <td>T191</td>\n",
              "      <td>Disorders</td>\n",
              "    </tr>\n",
              "  </tbody>\n",
              "</table>\n",
              "</div>\n",
              "      <button class=\"colab-df-convert\" onclick=\"convertToInteractive('df-a165d268-d4c8-442b-8809-e16ae169f85e')\"\n",
              "              title=\"Convert this dataframe to an interactive table.\"\n",
              "              style=\"display:none;\">\n",
              "        \n",
              "  <svg xmlns=\"http://www.w3.org/2000/svg\" height=\"24px\"viewBox=\"0 0 24 24\"\n",
              "       width=\"24px\">\n",
              "    <path d=\"M0 0h24v24H0V0z\" fill=\"none\"/>\n",
              "    <path d=\"M18.56 5.44l.94 2.06.94-2.06 2.06-.94-2.06-.94-.94-2.06-.94 2.06-2.06.94zm-11 1L8.5 8.5l.94-2.06 2.06-.94-2.06-.94L8.5 2.5l-.94 2.06-2.06.94zm10 10l.94 2.06.94-2.06 2.06-.94-2.06-.94-.94-2.06-.94 2.06-2.06.94z\"/><path d=\"M17.41 7.96l-1.37-1.37c-.4-.4-.92-.59-1.43-.59-.52 0-1.04.2-1.43.59L10.3 9.45l-7.72 7.72c-.78.78-.78 2.05 0 2.83L4 21.41c.39.39.9.59 1.41.59.51 0 1.02-.2 1.41-.59l7.78-7.78 2.81-2.81c.8-.78.8-2.07 0-2.86zM5.41 20L4 18.59l7.72-7.72 1.47 1.35L5.41 20z\"/>\n",
              "  </svg>\n",
              "      </button>\n",
              "      \n",
              "  <style>\n",
              "    .colab-df-container {\n",
              "      display:flex;\n",
              "      flex-wrap:wrap;\n",
              "      gap: 12px;\n",
              "    }\n",
              "\n",
              "    .colab-df-convert {\n",
              "      background-color: #E8F0FE;\n",
              "      border: none;\n",
              "      border-radius: 50%;\n",
              "      cursor: pointer;\n",
              "      display: none;\n",
              "      fill: #1967D2;\n",
              "      height: 32px;\n",
              "      padding: 0 0 0 0;\n",
              "      width: 32px;\n",
              "    }\n",
              "\n",
              "    .colab-df-convert:hover {\n",
              "      background-color: #E2EBFA;\n",
              "      box-shadow: 0px 1px 2px rgba(60, 64, 67, 0.3), 0px 1px 3px 1px rgba(60, 64, 67, 0.15);\n",
              "      fill: #174EA6;\n",
              "    }\n",
              "\n",
              "    [theme=dark] .colab-df-convert {\n",
              "      background-color: #3B4455;\n",
              "      fill: #D2E3FC;\n",
              "    }\n",
              "\n",
              "    [theme=dark] .colab-df-convert:hover {\n",
              "      background-color: #434B5C;\n",
              "      box-shadow: 0px 1px 3px 1px rgba(0, 0, 0, 0.15);\n",
              "      filter: drop-shadow(0px 1px 2px rgba(0, 0, 0, 0.3));\n",
              "      fill: #FFFFFF;\n",
              "    }\n",
              "  </style>\n",
              "\n",
              "      <script>\n",
              "        const buttonEl =\n",
              "          document.querySelector('#df-a165d268-d4c8-442b-8809-e16ae169f85e button.colab-df-convert');\n",
              "        buttonEl.style.display =\n",
              "          google.colab.kernel.accessAllowed ? 'block' : 'none';\n",
              "\n",
              "        async function convertToInteractive(key) {\n",
              "          const element = document.querySelector('#df-a165d268-d4c8-442b-8809-e16ae169f85e');\n",
              "          const dataTable =\n",
              "            await google.colab.kernel.invokeFunction('convertToInteractive',\n",
              "                                                     [key], {});\n",
              "          if (!dataTable) return;\n",
              "\n",
              "          const docLinkHtml = 'Like what you see? Visit the ' +\n",
              "            '<a target=\"_blank\" href=https://colab.research.google.com/notebooks/data_table.ipynb>data table notebook</a>'\n",
              "            + ' to learn more about interactive tables.';\n",
              "          element.innerHTML = '';\n",
              "          dataTable['output_type'] = 'display_data';\n",
              "          await google.colab.output.renderOutput(dataTable, element);\n",
              "          const docLink = document.createElement('div');\n",
              "          docLink.innerHTML = docLinkHtml;\n",
              "          element.appendChild(docLink);\n",
              "        }\n",
              "      </script>\n",
              "    </div>\n",
              "  </div>\n",
              "  "
            ]
          },
          "metadata": {},
          "execution_count": 3
        }
      ]
    },
    {
      "cell_type": "code",
      "source": [
        "df.info()"
      ],
      "metadata": {
        "colab": {
          "base_uri": "https://localhost:8080/"
        },
        "id": "ue5wMQtE5pou",
        "outputId": "7ea20ff1-dc52-466b-ca33-1407d5d71d5e"
      },
      "execution_count": null,
      "outputs": [
        {
          "output_type": "stream",
          "name": "stdout",
          "text": [
            "<class 'pandas.core.frame.DataFrame'>\n",
            "RangeIndex: 47441 entries, 0 to 47440\n",
            "Data columns (total 11 columns):\n",
            " #   Column         Non-Null Count  Dtype \n",
            "---  ------         --------------  ----- \n",
            " 0   Unnamed: 0     47441 non-null  int64 \n",
            " 1   Questions      47441 non-null  object\n",
            " 2   Answers        16407 non-null  object\n",
            " 3   Focus          47427 non-null  object\n",
            " 4   Qtypes         47441 non-null  object\n",
            " 5   Synonym        24669 non-null  object\n",
            " 6   source         47436 non-null  object\n",
            " 7   url            47436 non-null  object\n",
            " 8   cui            31417 non-null  object\n",
            " 9   SemanticType   31375 non-null  object\n",
            " 10  SemanticGroup  31417 non-null  object\n",
            "dtypes: int64(1), object(10)\n",
            "memory usage: 4.0+ MB\n"
          ]
        }
      ]
    },
    {
      "cell_type": "code",
      "source": [
        "df.describe()"
      ],
      "metadata": {
        "colab": {
          "base_uri": "https://localhost:8080/",
          "height": 300
        },
        "id": "IKDUSul06cr2",
        "outputId": "07bb38d2-bff9-4f60-a1d8-bf51f4537d07"
      },
      "execution_count": null,
      "outputs": [
        {
          "output_type": "execute_result",
          "data": {
            "text/plain": [
              "         Unnamed: 0\n",
              "count  47441.000000\n",
              "mean   23720.000000\n",
              "std    13695.181397\n",
              "min        0.000000\n",
              "25%    11860.000000\n",
              "50%    23720.000000\n",
              "75%    35580.000000\n",
              "max    47440.000000"
            ],
            "text/html": [
              "\n",
              "  <div id=\"df-606b47fd-0d6d-498b-9c6e-6c26d7d0c48b\">\n",
              "    <div class=\"colab-df-container\">\n",
              "      <div>\n",
              "<style scoped>\n",
              "    .dataframe tbody tr th:only-of-type {\n",
              "        vertical-align: middle;\n",
              "    }\n",
              "\n",
              "    .dataframe tbody tr th {\n",
              "        vertical-align: top;\n",
              "    }\n",
              "\n",
              "    .dataframe thead th {\n",
              "        text-align: right;\n",
              "    }\n",
              "</style>\n",
              "<table border=\"1\" class=\"dataframe\">\n",
              "  <thead>\n",
              "    <tr style=\"text-align: right;\">\n",
              "      <th></th>\n",
              "      <th>Unnamed: 0</th>\n",
              "    </tr>\n",
              "  </thead>\n",
              "  <tbody>\n",
              "    <tr>\n",
              "      <th>count</th>\n",
              "      <td>47441.000000</td>\n",
              "    </tr>\n",
              "    <tr>\n",
              "      <th>mean</th>\n",
              "      <td>23720.000000</td>\n",
              "    </tr>\n",
              "    <tr>\n",
              "      <th>std</th>\n",
              "      <td>13695.181397</td>\n",
              "    </tr>\n",
              "    <tr>\n",
              "      <th>min</th>\n",
              "      <td>0.000000</td>\n",
              "    </tr>\n",
              "    <tr>\n",
              "      <th>25%</th>\n",
              "      <td>11860.000000</td>\n",
              "    </tr>\n",
              "    <tr>\n",
              "      <th>50%</th>\n",
              "      <td>23720.000000</td>\n",
              "    </tr>\n",
              "    <tr>\n",
              "      <th>75%</th>\n",
              "      <td>35580.000000</td>\n",
              "    </tr>\n",
              "    <tr>\n",
              "      <th>max</th>\n",
              "      <td>47440.000000</td>\n",
              "    </tr>\n",
              "  </tbody>\n",
              "</table>\n",
              "</div>\n",
              "      <button class=\"colab-df-convert\" onclick=\"convertToInteractive('df-606b47fd-0d6d-498b-9c6e-6c26d7d0c48b')\"\n",
              "              title=\"Convert this dataframe to an interactive table.\"\n",
              "              style=\"display:none;\">\n",
              "        \n",
              "  <svg xmlns=\"http://www.w3.org/2000/svg\" height=\"24px\"viewBox=\"0 0 24 24\"\n",
              "       width=\"24px\">\n",
              "    <path d=\"M0 0h24v24H0V0z\" fill=\"none\"/>\n",
              "    <path d=\"M18.56 5.44l.94 2.06.94-2.06 2.06-.94-2.06-.94-.94-2.06-.94 2.06-2.06.94zm-11 1L8.5 8.5l.94-2.06 2.06-.94-2.06-.94L8.5 2.5l-.94 2.06-2.06.94zm10 10l.94 2.06.94-2.06 2.06-.94-2.06-.94-.94-2.06-.94 2.06-2.06.94z\"/><path d=\"M17.41 7.96l-1.37-1.37c-.4-.4-.92-.59-1.43-.59-.52 0-1.04.2-1.43.59L10.3 9.45l-7.72 7.72c-.78.78-.78 2.05 0 2.83L4 21.41c.39.39.9.59 1.41.59.51 0 1.02-.2 1.41-.59l7.78-7.78 2.81-2.81c.8-.78.8-2.07 0-2.86zM5.41 20L4 18.59l7.72-7.72 1.47 1.35L5.41 20z\"/>\n",
              "  </svg>\n",
              "      </button>\n",
              "      \n",
              "  <style>\n",
              "    .colab-df-container {\n",
              "      display:flex;\n",
              "      flex-wrap:wrap;\n",
              "      gap: 12px;\n",
              "    }\n",
              "\n",
              "    .colab-df-convert {\n",
              "      background-color: #E8F0FE;\n",
              "      border: none;\n",
              "      border-radius: 50%;\n",
              "      cursor: pointer;\n",
              "      display: none;\n",
              "      fill: #1967D2;\n",
              "      height: 32px;\n",
              "      padding: 0 0 0 0;\n",
              "      width: 32px;\n",
              "    }\n",
              "\n",
              "    .colab-df-convert:hover {\n",
              "      background-color: #E2EBFA;\n",
              "      box-shadow: 0px 1px 2px rgba(60, 64, 67, 0.3), 0px 1px 3px 1px rgba(60, 64, 67, 0.15);\n",
              "      fill: #174EA6;\n",
              "    }\n",
              "\n",
              "    [theme=dark] .colab-df-convert {\n",
              "      background-color: #3B4455;\n",
              "      fill: #D2E3FC;\n",
              "    }\n",
              "\n",
              "    [theme=dark] .colab-df-convert:hover {\n",
              "      background-color: #434B5C;\n",
              "      box-shadow: 0px 1px 3px 1px rgba(0, 0, 0, 0.15);\n",
              "      filter: drop-shadow(0px 1px 2px rgba(0, 0, 0, 0.3));\n",
              "      fill: #FFFFFF;\n",
              "    }\n",
              "  </style>\n",
              "\n",
              "      <script>\n",
              "        const buttonEl =\n",
              "          document.querySelector('#df-606b47fd-0d6d-498b-9c6e-6c26d7d0c48b button.colab-df-convert');\n",
              "        buttonEl.style.display =\n",
              "          google.colab.kernel.accessAllowed ? 'block' : 'none';\n",
              "\n",
              "        async function convertToInteractive(key) {\n",
              "          const element = document.querySelector('#df-606b47fd-0d6d-498b-9c6e-6c26d7d0c48b');\n",
              "          const dataTable =\n",
              "            await google.colab.kernel.invokeFunction('convertToInteractive',\n",
              "                                                     [key], {});\n",
              "          if (!dataTable) return;\n",
              "\n",
              "          const docLinkHtml = 'Like what you see? Visit the ' +\n",
              "            '<a target=\"_blank\" href=https://colab.research.google.com/notebooks/data_table.ipynb>data table notebook</a>'\n",
              "            + ' to learn more about interactive tables.';\n",
              "          element.innerHTML = '';\n",
              "          dataTable['output_type'] = 'display_data';\n",
              "          await google.colab.output.renderOutput(dataTable, element);\n",
              "          const docLink = document.createElement('div');\n",
              "          docLink.innerHTML = docLinkHtml;\n",
              "          element.appendChild(docLink);\n",
              "        }\n",
              "      </script>\n",
              "    </div>\n",
              "  </div>\n",
              "  "
            ]
          },
          "metadata": {},
          "execution_count": 5
        }
      ]
    },
    {
      "cell_type": "code",
      "source": [
        "#We'll drop the index column as it is redundant\n",
        "df.drop(columns=['Unnamed: 0'],inplace=True)\n",
        "df.head()"
      ],
      "metadata": {
        "colab": {
          "base_uri": "https://localhost:8080/",
          "height": 337
        },
        "id": "2h2RXTbV6lAW",
        "outputId": "1e369d3a-a4ee-4868-cfe5-5ed65bb2f56c"
      },
      "execution_count": null,
      "outputs": [
        {
          "output_type": "execute_result",
          "data": {
            "text/plain": [
              "                                           Questions  \\\n",
              "0       what is (are) chronic lymphocytic leukemia ?   \n",
              "1  who is at risk for chronic lymphocytic leukemi...   \n",
              "2  what are the symptoms of chronic lymphocytic l...   \n",
              "3     how to diagnose chronic lymphocytic leukemia ?   \n",
              "4  what is the outlook for chronic lymphocytic le...   \n",
              "\n",
              "                                             Answers  \\\n",
              "0  Key Points\\n                    - Chronic lymp...   \n",
              "1  Older age can affect the risk of developing ch...   \n",
              "2  Signs and symptoms of chronic lymphocytic leuk...   \n",
              "3  Tests that examine the blood, bone marrow, and...   \n",
              "4  Certain factors affect treatment options and p...   \n",
              "\n",
              "                          Focus           Qtypes Synonym     source  \\\n",
              "0  Chronic Lymphocytic Leukemia      information     NaN  CancerGov   \n",
              "1  Chronic Lymphocytic Leukemia   susceptibility     NaN  CancerGov   \n",
              "2  Chronic Lymphocytic Leukemia         symptoms     NaN  CancerGov   \n",
              "3  Chronic Lymphocytic Leukemia  exams and tests     NaN  CancerGov   \n",
              "4  Chronic Lymphocytic Leukemia          outlook     NaN  CancerGov   \n",
              "\n",
              "                                                 url       cui SemanticType  \\\n",
              "0  https://www.cancer.gov/types/leukemia/patient/...  C0023434         T191   \n",
              "1  https://www.cancer.gov/types/leukemia/patient/...  C0023434         T191   \n",
              "2  https://www.cancer.gov/types/leukemia/patient/...  C0023434         T191   \n",
              "3  https://www.cancer.gov/types/leukemia/patient/...  C0023434         T191   \n",
              "4  https://www.cancer.gov/types/leukemia/patient/...  C0023434         T191   \n",
              "\n",
              "  SemanticGroup  \n",
              "0     Disorders  \n",
              "1     Disorders  \n",
              "2     Disorders  \n",
              "3     Disorders  \n",
              "4     Disorders  "
            ],
            "text/html": [
              "\n",
              "  <div id=\"df-68f6d3b0-8157-40d4-a790-066009e47630\">\n",
              "    <div class=\"colab-df-container\">\n",
              "      <div>\n",
              "<style scoped>\n",
              "    .dataframe tbody tr th:only-of-type {\n",
              "        vertical-align: middle;\n",
              "    }\n",
              "\n",
              "    .dataframe tbody tr th {\n",
              "        vertical-align: top;\n",
              "    }\n",
              "\n",
              "    .dataframe thead th {\n",
              "        text-align: right;\n",
              "    }\n",
              "</style>\n",
              "<table border=\"1\" class=\"dataframe\">\n",
              "  <thead>\n",
              "    <tr style=\"text-align: right;\">\n",
              "      <th></th>\n",
              "      <th>Questions</th>\n",
              "      <th>Answers</th>\n",
              "      <th>Focus</th>\n",
              "      <th>Qtypes</th>\n",
              "      <th>Synonym</th>\n",
              "      <th>source</th>\n",
              "      <th>url</th>\n",
              "      <th>cui</th>\n",
              "      <th>SemanticType</th>\n",
              "      <th>SemanticGroup</th>\n",
              "    </tr>\n",
              "  </thead>\n",
              "  <tbody>\n",
              "    <tr>\n",
              "      <th>0</th>\n",
              "      <td>what is (are) chronic lymphocytic leukemia ?</td>\n",
              "      <td>Key Points\\n                    - Chronic lymp...</td>\n",
              "      <td>Chronic Lymphocytic Leukemia</td>\n",
              "      <td>information</td>\n",
              "      <td>NaN</td>\n",
              "      <td>CancerGov</td>\n",
              "      <td>https://www.cancer.gov/types/leukemia/patient/...</td>\n",
              "      <td>C0023434</td>\n",
              "      <td>T191</td>\n",
              "      <td>Disorders</td>\n",
              "    </tr>\n",
              "    <tr>\n",
              "      <th>1</th>\n",
              "      <td>who is at risk for chronic lymphocytic leukemi...</td>\n",
              "      <td>Older age can affect the risk of developing ch...</td>\n",
              "      <td>Chronic Lymphocytic Leukemia</td>\n",
              "      <td>susceptibility</td>\n",
              "      <td>NaN</td>\n",
              "      <td>CancerGov</td>\n",
              "      <td>https://www.cancer.gov/types/leukemia/patient/...</td>\n",
              "      <td>C0023434</td>\n",
              "      <td>T191</td>\n",
              "      <td>Disorders</td>\n",
              "    </tr>\n",
              "    <tr>\n",
              "      <th>2</th>\n",
              "      <td>what are the symptoms of chronic lymphocytic l...</td>\n",
              "      <td>Signs and symptoms of chronic lymphocytic leuk...</td>\n",
              "      <td>Chronic Lymphocytic Leukemia</td>\n",
              "      <td>symptoms</td>\n",
              "      <td>NaN</td>\n",
              "      <td>CancerGov</td>\n",
              "      <td>https://www.cancer.gov/types/leukemia/patient/...</td>\n",
              "      <td>C0023434</td>\n",
              "      <td>T191</td>\n",
              "      <td>Disorders</td>\n",
              "    </tr>\n",
              "    <tr>\n",
              "      <th>3</th>\n",
              "      <td>how to diagnose chronic lymphocytic leukemia ?</td>\n",
              "      <td>Tests that examine the blood, bone marrow, and...</td>\n",
              "      <td>Chronic Lymphocytic Leukemia</td>\n",
              "      <td>exams and tests</td>\n",
              "      <td>NaN</td>\n",
              "      <td>CancerGov</td>\n",
              "      <td>https://www.cancer.gov/types/leukemia/patient/...</td>\n",
              "      <td>C0023434</td>\n",
              "      <td>T191</td>\n",
              "      <td>Disorders</td>\n",
              "    </tr>\n",
              "    <tr>\n",
              "      <th>4</th>\n",
              "      <td>what is the outlook for chronic lymphocytic le...</td>\n",
              "      <td>Certain factors affect treatment options and p...</td>\n",
              "      <td>Chronic Lymphocytic Leukemia</td>\n",
              "      <td>outlook</td>\n",
              "      <td>NaN</td>\n",
              "      <td>CancerGov</td>\n",
              "      <td>https://www.cancer.gov/types/leukemia/patient/...</td>\n",
              "      <td>C0023434</td>\n",
              "      <td>T191</td>\n",
              "      <td>Disorders</td>\n",
              "    </tr>\n",
              "  </tbody>\n",
              "</table>\n",
              "</div>\n",
              "      <button class=\"colab-df-convert\" onclick=\"convertToInteractive('df-68f6d3b0-8157-40d4-a790-066009e47630')\"\n",
              "              title=\"Convert this dataframe to an interactive table.\"\n",
              "              style=\"display:none;\">\n",
              "        \n",
              "  <svg xmlns=\"http://www.w3.org/2000/svg\" height=\"24px\"viewBox=\"0 0 24 24\"\n",
              "       width=\"24px\">\n",
              "    <path d=\"M0 0h24v24H0V0z\" fill=\"none\"/>\n",
              "    <path d=\"M18.56 5.44l.94 2.06.94-2.06 2.06-.94-2.06-.94-.94-2.06-.94 2.06-2.06.94zm-11 1L8.5 8.5l.94-2.06 2.06-.94-2.06-.94L8.5 2.5l-.94 2.06-2.06.94zm10 10l.94 2.06.94-2.06 2.06-.94-2.06-.94-.94-2.06-.94 2.06-2.06.94z\"/><path d=\"M17.41 7.96l-1.37-1.37c-.4-.4-.92-.59-1.43-.59-.52 0-1.04.2-1.43.59L10.3 9.45l-7.72 7.72c-.78.78-.78 2.05 0 2.83L4 21.41c.39.39.9.59 1.41.59.51 0 1.02-.2 1.41-.59l7.78-7.78 2.81-2.81c.8-.78.8-2.07 0-2.86zM5.41 20L4 18.59l7.72-7.72 1.47 1.35L5.41 20z\"/>\n",
              "  </svg>\n",
              "      </button>\n",
              "      \n",
              "  <style>\n",
              "    .colab-df-container {\n",
              "      display:flex;\n",
              "      flex-wrap:wrap;\n",
              "      gap: 12px;\n",
              "    }\n",
              "\n",
              "    .colab-df-convert {\n",
              "      background-color: #E8F0FE;\n",
              "      border: none;\n",
              "      border-radius: 50%;\n",
              "      cursor: pointer;\n",
              "      display: none;\n",
              "      fill: #1967D2;\n",
              "      height: 32px;\n",
              "      padding: 0 0 0 0;\n",
              "      width: 32px;\n",
              "    }\n",
              "\n",
              "    .colab-df-convert:hover {\n",
              "      background-color: #E2EBFA;\n",
              "      box-shadow: 0px 1px 2px rgba(60, 64, 67, 0.3), 0px 1px 3px 1px rgba(60, 64, 67, 0.15);\n",
              "      fill: #174EA6;\n",
              "    }\n",
              "\n",
              "    [theme=dark] .colab-df-convert {\n",
              "      background-color: #3B4455;\n",
              "      fill: #D2E3FC;\n",
              "    }\n",
              "\n",
              "    [theme=dark] .colab-df-convert:hover {\n",
              "      background-color: #434B5C;\n",
              "      box-shadow: 0px 1px 3px 1px rgba(0, 0, 0, 0.15);\n",
              "      filter: drop-shadow(0px 1px 2px rgba(0, 0, 0, 0.3));\n",
              "      fill: #FFFFFF;\n",
              "    }\n",
              "  </style>\n",
              "\n",
              "      <script>\n",
              "        const buttonEl =\n",
              "          document.querySelector('#df-68f6d3b0-8157-40d4-a790-066009e47630 button.colab-df-convert');\n",
              "        buttonEl.style.display =\n",
              "          google.colab.kernel.accessAllowed ? 'block' : 'none';\n",
              "\n",
              "        async function convertToInteractive(key) {\n",
              "          const element = document.querySelector('#df-68f6d3b0-8157-40d4-a790-066009e47630');\n",
              "          const dataTable =\n",
              "            await google.colab.kernel.invokeFunction('convertToInteractive',\n",
              "                                                     [key], {});\n",
              "          if (!dataTable) return;\n",
              "\n",
              "          const docLinkHtml = 'Like what you see? Visit the ' +\n",
              "            '<a target=\"_blank\" href=https://colab.research.google.com/notebooks/data_table.ipynb>data table notebook</a>'\n",
              "            + ' to learn more about interactive tables.';\n",
              "          element.innerHTML = '';\n",
              "          dataTable['output_type'] = 'display_data';\n",
              "          await google.colab.output.renderOutput(dataTable, element);\n",
              "          const docLink = document.createElement('div');\n",
              "          docLink.innerHTML = docLinkHtml;\n",
              "          element.appendChild(docLink);\n",
              "        }\n",
              "      </script>\n",
              "    </div>\n",
              "  </div>\n",
              "  "
            ]
          },
          "metadata": {},
          "execution_count": 6
        }
      ]
    },
    {
      "cell_type": "code",
      "source": [
        "#Dataframe size\n",
        "df.shape"
      ],
      "metadata": {
        "colab": {
          "base_uri": "https://localhost:8080/"
        },
        "id": "W1S8Ms1jVyUk",
        "outputId": "782a8b72-a146-4930-be4e-9cc69d52a03c"
      },
      "execution_count": null,
      "outputs": [
        {
          "output_type": "execute_result",
          "data": {
            "text/plain": [
              "(47441, 10)"
            ]
          },
          "metadata": {},
          "execution_count": 55
        }
      ]
    },
    {
      "cell_type": "code",
      "source": [
        "df.columns"
      ],
      "metadata": {
        "colab": {
          "base_uri": "https://localhost:8080/"
        },
        "id": "JtLLkeQPV9Mx",
        "outputId": "1dacbaaa-38ee-4f2b-9bf8-5341774b8045"
      },
      "execution_count": null,
      "outputs": [
        {
          "output_type": "execute_result",
          "data": {
            "text/plain": [
              "Index(['Questions', 'Answers', 'Focus', 'Qtypes', 'Synonym', 'source', 'url',\n",
              "       'cui', 'SemanticType', 'SemanticGroup'],\n",
              "      dtype='object')"
            ]
          },
          "metadata": {},
          "execution_count": 56
        }
      ]
    },
    {
      "cell_type": "markdown",
      "source": [
        "## Check null values"
      ],
      "metadata": {
        "id": "qPZSc6Rf8ld-"
      }
    },
    {
      "cell_type": "code",
      "source": [
        "#Check the summation of missing values\n",
        "total_nulls=df.isnull().sum()\n",
        "total_nulls"
      ],
      "metadata": {
        "colab": {
          "base_uri": "https://localhost:8080/"
        },
        "id": "aVek0x-k8qne",
        "outputId": "6e04aefb-886f-4739-cac4-05d4da3c0101"
      },
      "execution_count": null,
      "outputs": [
        {
          "output_type": "execute_result",
          "data": {
            "text/plain": [
              "Questions            0\n",
              "Answers          31034\n",
              "Focus               14\n",
              "Qtypes               0\n",
              "Synonym          22772\n",
              "source               5\n",
              "url                  5\n",
              "cui              16024\n",
              "SemanticType     16066\n",
              "SemanticGroup    16024\n",
              "dtype: int64"
            ]
          },
          "metadata": {},
          "execution_count": 57
        }
      ]
    },
    {
      "cell_type": "code",
      "source": [
        "null_percent=(total_nulls/df.isnull().count()*100)\n",
        "\n",
        "#Let's sort the attributes in descending order according to their missing values\n",
        "missing_data=pd.DataFrame({'Total_Missing':total_nulls,'Missing_Percent': null_percent})\n",
        "missing_data=missing_data.sort_values(by='Total_Missing', ascending=False)\n",
        "missing_data"
      ],
      "metadata": {
        "colab": {
          "base_uri": "https://localhost:8080/",
          "height": 363
        },
        "id": "Fw9nKtzDYn9b",
        "outputId": "1b947bc1-4283-455a-a0a0-10d40199a595"
      },
      "execution_count": null,
      "outputs": [
        {
          "output_type": "execute_result",
          "data": {
            "text/plain": [
              "               Total_Missing  Missing_Percent\n",
              "Answers                31034        65.415990\n",
              "Synonym                22772        48.000675\n",
              "SemanticType           16066        33.865222\n",
              "cui                    16024        33.776691\n",
              "SemanticGroup          16024        33.776691\n",
              "Focus                     14         0.029510\n",
              "source                     5         0.010539\n",
              "url                        5         0.010539\n",
              "Questions                  0         0.000000\n",
              "Qtypes                     0         0.000000"
            ],
            "text/html": [
              "\n",
              "  <div id=\"df-09d54936-9d77-4218-9570-306f2a58bb3d\">\n",
              "    <div class=\"colab-df-container\">\n",
              "      <div>\n",
              "<style scoped>\n",
              "    .dataframe tbody tr th:only-of-type {\n",
              "        vertical-align: middle;\n",
              "    }\n",
              "\n",
              "    .dataframe tbody tr th {\n",
              "        vertical-align: top;\n",
              "    }\n",
              "\n",
              "    .dataframe thead th {\n",
              "        text-align: right;\n",
              "    }\n",
              "</style>\n",
              "<table border=\"1\" class=\"dataframe\">\n",
              "  <thead>\n",
              "    <tr style=\"text-align: right;\">\n",
              "      <th></th>\n",
              "      <th>Total_Missing</th>\n",
              "      <th>Missing_Percent</th>\n",
              "    </tr>\n",
              "  </thead>\n",
              "  <tbody>\n",
              "    <tr>\n",
              "      <th>Answers</th>\n",
              "      <td>31034</td>\n",
              "      <td>65.415990</td>\n",
              "    </tr>\n",
              "    <tr>\n",
              "      <th>Synonym</th>\n",
              "      <td>22772</td>\n",
              "      <td>48.000675</td>\n",
              "    </tr>\n",
              "    <tr>\n",
              "      <th>SemanticType</th>\n",
              "      <td>16066</td>\n",
              "      <td>33.865222</td>\n",
              "    </tr>\n",
              "    <tr>\n",
              "      <th>cui</th>\n",
              "      <td>16024</td>\n",
              "      <td>33.776691</td>\n",
              "    </tr>\n",
              "    <tr>\n",
              "      <th>SemanticGroup</th>\n",
              "      <td>16024</td>\n",
              "      <td>33.776691</td>\n",
              "    </tr>\n",
              "    <tr>\n",
              "      <th>Focus</th>\n",
              "      <td>14</td>\n",
              "      <td>0.029510</td>\n",
              "    </tr>\n",
              "    <tr>\n",
              "      <th>source</th>\n",
              "      <td>5</td>\n",
              "      <td>0.010539</td>\n",
              "    </tr>\n",
              "    <tr>\n",
              "      <th>url</th>\n",
              "      <td>5</td>\n",
              "      <td>0.010539</td>\n",
              "    </tr>\n",
              "    <tr>\n",
              "      <th>Questions</th>\n",
              "      <td>0</td>\n",
              "      <td>0.000000</td>\n",
              "    </tr>\n",
              "    <tr>\n",
              "      <th>Qtypes</th>\n",
              "      <td>0</td>\n",
              "      <td>0.000000</td>\n",
              "    </tr>\n",
              "  </tbody>\n",
              "</table>\n",
              "</div>\n",
              "      <button class=\"colab-df-convert\" onclick=\"convertToInteractive('df-09d54936-9d77-4218-9570-306f2a58bb3d')\"\n",
              "              title=\"Convert this dataframe to an interactive table.\"\n",
              "              style=\"display:none;\">\n",
              "        \n",
              "  <svg xmlns=\"http://www.w3.org/2000/svg\" height=\"24px\"viewBox=\"0 0 24 24\"\n",
              "       width=\"24px\">\n",
              "    <path d=\"M0 0h24v24H0V0z\" fill=\"none\"/>\n",
              "    <path d=\"M18.56 5.44l.94 2.06.94-2.06 2.06-.94-2.06-.94-.94-2.06-.94 2.06-2.06.94zm-11 1L8.5 8.5l.94-2.06 2.06-.94-2.06-.94L8.5 2.5l-.94 2.06-2.06.94zm10 10l.94 2.06.94-2.06 2.06-.94-2.06-.94-.94-2.06-.94 2.06-2.06.94z\"/><path d=\"M17.41 7.96l-1.37-1.37c-.4-.4-.92-.59-1.43-.59-.52 0-1.04.2-1.43.59L10.3 9.45l-7.72 7.72c-.78.78-.78 2.05 0 2.83L4 21.41c.39.39.9.59 1.41.59.51 0 1.02-.2 1.41-.59l7.78-7.78 2.81-2.81c.8-.78.8-2.07 0-2.86zM5.41 20L4 18.59l7.72-7.72 1.47 1.35L5.41 20z\"/>\n",
              "  </svg>\n",
              "      </button>\n",
              "      \n",
              "  <style>\n",
              "    .colab-df-container {\n",
              "      display:flex;\n",
              "      flex-wrap:wrap;\n",
              "      gap: 12px;\n",
              "    }\n",
              "\n",
              "    .colab-df-convert {\n",
              "      background-color: #E8F0FE;\n",
              "      border: none;\n",
              "      border-radius: 50%;\n",
              "      cursor: pointer;\n",
              "      display: none;\n",
              "      fill: #1967D2;\n",
              "      height: 32px;\n",
              "      padding: 0 0 0 0;\n",
              "      width: 32px;\n",
              "    }\n",
              "\n",
              "    .colab-df-convert:hover {\n",
              "      background-color: #E2EBFA;\n",
              "      box-shadow: 0px 1px 2px rgba(60, 64, 67, 0.3), 0px 1px 3px 1px rgba(60, 64, 67, 0.15);\n",
              "      fill: #174EA6;\n",
              "    }\n",
              "\n",
              "    [theme=dark] .colab-df-convert {\n",
              "      background-color: #3B4455;\n",
              "      fill: #D2E3FC;\n",
              "    }\n",
              "\n",
              "    [theme=dark] .colab-df-convert:hover {\n",
              "      background-color: #434B5C;\n",
              "      box-shadow: 0px 1px 3px 1px rgba(0, 0, 0, 0.15);\n",
              "      filter: drop-shadow(0px 1px 2px rgba(0, 0, 0, 0.3));\n",
              "      fill: #FFFFFF;\n",
              "    }\n",
              "  </style>\n",
              "\n",
              "      <script>\n",
              "        const buttonEl =\n",
              "          document.querySelector('#df-09d54936-9d77-4218-9570-306f2a58bb3d button.colab-df-convert');\n",
              "        buttonEl.style.display =\n",
              "          google.colab.kernel.accessAllowed ? 'block' : 'none';\n",
              "\n",
              "        async function convertToInteractive(key) {\n",
              "          const element = document.querySelector('#df-09d54936-9d77-4218-9570-306f2a58bb3d');\n",
              "          const dataTable =\n",
              "            await google.colab.kernel.invokeFunction('convertToInteractive',\n",
              "                                                     [key], {});\n",
              "          if (!dataTable) return;\n",
              "\n",
              "          const docLinkHtml = 'Like what you see? Visit the ' +\n",
              "            '<a target=\"_blank\" href=https://colab.research.google.com/notebooks/data_table.ipynb>data table notebook</a>'\n",
              "            + ' to learn more about interactive tables.';\n",
              "          element.innerHTML = '';\n",
              "          dataTable['output_type'] = 'display_data';\n",
              "          await google.colab.output.renderOutput(dataTable, element);\n",
              "          const docLink = document.createElement('div');\n",
              "          docLink.innerHTML = docLinkHtml;\n",
              "          element.appendChild(docLink);\n",
              "        }\n",
              "      </script>\n",
              "    </div>\n",
              "  </div>\n",
              "  "
            ]
          },
          "metadata": {},
          "execution_count": 85
        }
      ]
    },
    {
      "cell_type": "code",
      "source": [
        "columns=missing_data['Missing_Percent'].index.tolist()\n",
        "len(columns[:-2])"
      ],
      "metadata": {
        "colab": {
          "base_uri": "https://localhost:8080/"
        },
        "id": "xi9GYIIJiGi-",
        "outputId": "3b518365-f32b-4bed-b82e-0271d3405e38"
      },
      "execution_count": null,
      "outputs": [
        {
          "output_type": "execute_result",
          "data": {
            "text/plain": [
              "8"
            ]
          },
          "metadata": {},
          "execution_count": 105
        }
      ]
    },
    {
      "cell_type": "code",
      "source": [
        "sorted_counts = missing_data['Missing_Percent'].tolist()\n",
        "len(sorted_counts[:-2])"
      ],
      "metadata": {
        "colab": {
          "base_uri": "https://localhost:8080/"
        },
        "id": "GdASppaMkn75",
        "outputId": "74044ea3-3e51-4742-c7be-0289f18b58df"
      },
      "execution_count": null,
      "outputs": [
        {
          "output_type": "execute_result",
          "data": {
            "text/plain": [
              "8"
            ]
          },
          "metadata": {},
          "execution_count": 104
        }
      ]
    },
    {
      "cell_type": "code",
      "source": [
        "plt.figure(figsize=[10,10])\n",
        "sorted_counts = missing_data['Missing_Percent'].tolist()\n",
        "plt.pie(sorted_counts[:-4], labels = columns[:-4],  autopct='%.3f%%', startangle = 90, counterclock = False,radius=0.8);\n",
        "plt.title('Percent of Missing Values in Dataframe features')\n",
        "plt.xlabel('Features')\n",
        "plt.show()\n"
      ],
      "metadata": {
        "colab": {
          "base_uri": "https://localhost:8080/",
          "height": 605
        },
        "id": "SbcXLvFih12H",
        "outputId": "fa48a07a-b848-45b8-fbfc-a96a88e2e910"
      },
      "execution_count": null,
      "outputs": [
        {
          "output_type": "display_data",
          "data": {
            "text/plain": [
              "<Figure size 720x720 with 1 Axes>"
            ],
            "image/png": "[encoded data removed]"
          },
          "metadata": {}
        }
      ]
    },
    {
      "cell_type": "code",
      "source": [
        "#Correlation Analysis of missing values\n",
        "msno.heatmap(df);"
      ],
      "metadata": {
        "colab": {
          "base_uri": "https://localhost:8080/",
          "height": 793
        },
        "id": "d_9rYTuZZCLr",
        "outputId": "92bab07c-96bc-42f1-f34e-ba6e00a15aa6"
      },
      "execution_count": null,
      "outputs": [
        {
          "output_type": "display_data",
          "data": {
            "text/plain": [
              "<Figure size 1440x864 with 2 Axes>"
            ],
            "image/png": "[encoded data removed]"
          },
          "metadata": {
            "needs_background": "light"
          }
        }
      ]
    },
    {
      "cell_type": "markdown",
      "source": [
        "There are two columns contain null values: `'Answers'` and `'Focus'`\n",
        "\n",
        "Column `'Answers'` has 31034 missing records which means this record has no useful informartion for us so we will drop it."
      ],
      "metadata": {
        "id": "POCWIwpL7v3N"
      }
    },
    {
      "cell_type": "markdown",
      "source": [
        "#Checking Duplicates\n",
        "We will focus only on question and answer"
      ],
      "metadata": {
        "id": "iphghlTCJm1t"
      }
    },
    {
      "cell_type": "code",
      "source": [
        "#Summtion of full duplicates\n",
        "df.duplicated().sum()"
      ],
      "metadata": {
        "colab": {
          "base_uri": "https://localhost:8080/"
        },
        "id": "7SBCdH-LJNID",
        "outputId": "f4a2016c-e2a7-44d5-db35-ae3b9ee7e899"
      },
      "execution_count": null,
      "outputs": [
        {
          "output_type": "execute_result",
          "data": {
            "text/plain": [
              "561"
            ]
          },
          "metadata": {},
          "execution_count": 47
        }
      ]
    },
    {
      "cell_type": "code",
      "source": [
        "#Full duplicates\n",
        "df[df.duplicated()]"
      ],
      "metadata": {
        "colab": {
          "base_uri": "https://localhost:8080/",
          "height": 693
        },
        "id": "qf9wYxvgJ2Ti",
        "outputId": "fcb5b80e-f6a4-4793-820f-1ba4d59a3abf"
      },
      "execution_count": null,
      "outputs": [
        {
          "output_type": "execute_result",
          "data": {
            "text/plain": [
              "                                               Questions  \\\n",
              "1567                           what is (are) proctitis ?   \n",
              "1569                             what causes proctitis ?   \n",
              "1610        how to diagnose kidney disease of diabetes ?   \n",
              "1612         how to prevent kidney disease of diabetes ?   \n",
              "1614         what to do for kidney disease of diabetes ?   \n",
              "...                                                  ...   \n",
              "47274                  what to do for scrotal swelling ?   \n",
              "47319  what are the treatments for chiropractic care ...   \n",
              "47357                          what to do for bleeding ?   \n",
              "47358                          what to do for bleeding ?   \n",
              "47396                        what to do for hoarseness ?   \n",
              "\n",
              "                                                 Answers  \\\n",
              "1567   Proctitis is inflammation of the lining of the...   \n",
              "1569   Proctitis has many causes, including acute, or...   \n",
              "1610   People with diabetes should be screened regula...   \n",
              "1612   Blood Pressure Medicines\\n                \\nSc...   \n",
              "1614   - Diabetes is the leading cause of chronic kid...   \n",
              "...                                                  ...   \n",
              "47274                                                NaN   \n",
              "47319                                                NaN   \n",
              "47357                                                NaN   \n",
              "47358                                                NaN   \n",
              "47396                                                NaN   \n",
              "\n",
              "                                 Focus           Qtypes  \\\n",
              "1567                         Proctitis      information   \n",
              "1569                         Proctitis           causes   \n",
              "1610        Kidney Disease of Diabetes  exams and tests   \n",
              "1612        Kidney Disease of Diabetes       prevention   \n",
              "1614        Kidney Disease of Diabetes   considerations   \n",
              "...                                ...              ...   \n",
              "47274                 Scrotal swelling   considerations   \n",
              "47319  Chiropractic care for back pain        treatment   \n",
              "47357                         Bleeding   considerations   \n",
              "47358                         Bleeding   considerations   \n",
              "47396                       Hoarseness   considerations   \n",
              "\n",
              "                                          Synonym source  \\\n",
              "1567                                          NaN  NIDDK   \n",
              "1569                                          NaN  NIDDK   \n",
              "1610                                          NaN  NIDDK   \n",
              "1612                                          NaN  NIDDK   \n",
              "1614                                          NaN  NIDDK   \n",
              "...                                           ...    ...   \n",
              "47274  <Synonym>Swelling of the scrotum</Synonym>   ADAM   \n",
              "47319                                         NaN   ADAM   \n",
              "47357               <Synonym>Blood loss</Synonym>   ADAM   \n",
              "47358               <Synonym>Blood loss</Synonym>   ADAM   \n",
              "47396             <Synonym>Voice strain</Synonym>   ADAM   \n",
              "\n",
              "                                                     url       cui  \\\n",
              "1567   http://www.niddk.nih.gov/health-information/he...  C0033246   \n",
              "1569   http://www.niddk.nih.gov/health-information/he...  C0033246   \n",
              "1610   http://www.niddk.nih.gov/health-information/he...  C0011860   \n",
              "1612   http://www.niddk.nih.gov/health-information/he...  C0011860   \n",
              "1614   http://www.niddk.nih.gov/health-information/he...  C0011860   \n",
              "...                                                  ...       ...   \n",
              "47274  https://www.nlm.nih.gov/medlineplus/ency/artic...  C0282005   \n",
              "47319  https://www.nlm.nih.gov/medlineplus/ency/patie...  C0580931   \n",
              "47357  https://www.nlm.nih.gov/medlineplus/ency/artic...  C0019080   \n",
              "47358  https://www.nlm.nih.gov/medlineplus/ency/artic...  C0019080   \n",
              "47396  https://www.nlm.nih.gov/medlineplus/ency/artic...  C0019825   \n",
              "\n",
              "      SemanticType SemanticGroup  \n",
              "1567          T047     Disorders  \n",
              "1569          T047     Disorders  \n",
              "1610          T047     Disorders  \n",
              "1612          T047     Disorders  \n",
              "1614          T047     Disorders  \n",
              "...            ...           ...  \n",
              "47274         T184     Disorders  \n",
              "47319         T033     Disorders  \n",
              "47357         T046     Disorders  \n",
              "47358         T046     Disorders  \n",
              "47396         T184     Disorders  \n",
              "\n",
              "[561 rows x 10 columns]"
            ],
            "text/html": [
              "\n",
              "  <div id=\"df-cd03cb8b-42c9-4e13-a43b-2025e3155765\">\n",
              "    <div class=\"colab-df-container\">\n",
              "      <div>\n",
              "<style scoped>\n",
              "    .dataframe tbody tr th:only-of-type {\n",
              "        vertical-align: middle;\n",
              "    }\n",
              "\n",
              "    .dataframe tbody tr th {\n",
              "        vertical-align: top;\n",
              "    }\n",
              "\n",
              "    .dataframe thead th {\n",
              "        text-align: right;\n",
              "    }\n",
              "</style>\n",
              "<table border=\"1\" class=\"dataframe\">\n",
              "  <thead>\n",
              "    <tr style=\"text-align: right;\">\n",
              "      <th></th>\n",
              "      <th>Questions</th>\n",
              "      <th>Answers</th>\n",
              "      <th>Focus</th>\n",
              "      <th>Qtypes</th>\n",
              "      <th>Synonym</th>\n",
              "      <th>source</th>\n",
              "      <th>url</th>\n",
              "      <th>cui</th>\n",
              "      <th>SemanticType</th>\n",
              "      <th>SemanticGroup</th>\n",
              "    </tr>\n",
              "  </thead>\n",
              "  <tbody>\n",
              "    <tr>\n",
              "      <th>1567</th>\n",
              "      <td>what is (are) proctitis ?</td>\n",
              "      <td>Proctitis is inflammation of the lining of the...</td>\n",
              "      <td>Proctitis</td>\n",
              "      <td>information</td>\n",
              "      <td>NaN</td>\n",
              "      <td>NIDDK</td>\n",
              "      <td>http://www.niddk.nih.gov/health-information/he...</td>\n",
              "      <td>C0033246</td>\n",
              "      <td>T047</td>\n",
              "      <td>Disorders</td>\n",
              "    </tr>\n",
              "    <tr>\n",
              "      <th>1569</th>\n",
              "      <td>what causes proctitis ?</td>\n",
              "      <td>Proctitis has many causes, including acute, or...</td>\n",
              "      <td>Proctitis</td>\n",
              "      <td>causes</td>\n",
              "      <td>NaN</td>\n",
              "      <td>NIDDK</td>\n",
              "      <td>http://www.niddk.nih.gov/health-information/he...</td>\n",
              "      <td>C0033246</td>\n",
              "      <td>T047</td>\n",
              "      <td>Disorders</td>\n",
              "    </tr>\n",
              "    <tr>\n",
              "      <th>1610</th>\n",
              "      <td>how to diagnose kidney disease of diabetes ?</td>\n",
              "      <td>People with diabetes should be screened regula...</td>\n",
              "      <td>Kidney Disease of Diabetes</td>\n",
              "      <td>exams and tests</td>\n",
              "      <td>NaN</td>\n",
              "      <td>NIDDK</td>\n",
              "      <td>http://www.niddk.nih.gov/health-information/he...</td>\n",
              "      <td>C0011860</td>\n",
              "      <td>T047</td>\n",
              "      <td>Disorders</td>\n",
              "    </tr>\n",
              "    <tr>\n",
              "      <th>1612</th>\n",
              "      <td>how to prevent kidney disease of diabetes ?</td>\n",
              "      <td>Blood Pressure Medicines\\n                \\nSc...</td>\n",
              "      <td>Kidney Disease of Diabetes</td>\n",
              "      <td>prevention</td>\n",
              "      <td>NaN</td>\n",
              "      <td>NIDDK</td>\n",
              "      <td>http://www.niddk.nih.gov/health-information/he...</td>\n",
              "      <td>C0011860</td>\n",
              "      <td>T047</td>\n",
              "      <td>Disorders</td>\n",
              "    </tr>\n",
              "    <tr>\n",
              "      <th>1614</th>\n",
              "      <td>what to do for kidney disease of diabetes ?</td>\n",
              "      <td>- Diabetes is the leading cause of chronic kid...</td>\n",
              "      <td>Kidney Disease of Diabetes</td>\n",
              "      <td>considerations</td>\n",
              "      <td>NaN</td>\n",
              "      <td>NIDDK</td>\n",
              "      <td>http://www.niddk.nih.gov/health-information/he...</td>\n",
              "      <td>C0011860</td>\n",
              "      <td>T047</td>\n",
              "      <td>Disorders</td>\n",
              "    </tr>\n",
              "    <tr>\n",
              "      <th>...</th>\n",
              "      <td>...</td>\n",
              "      <td>...</td>\n",
              "      <td>...</td>\n",
              "      <td>...</td>\n",
              "      <td>...</td>\n",
              "      <td>...</td>\n",
              "      <td>...</td>\n",
              "      <td>...</td>\n",
              "      <td>...</td>\n",
              "      <td>...</td>\n",
              "    </tr>\n",
              "    <tr>\n",
              "      <th>47274</th>\n",
              "      <td>what to do for scrotal swelling ?</td>\n",
              "      <td>NaN</td>\n",
              "      <td>Scrotal swelling</td>\n",
              "      <td>considerations</td>\n",
              "      <td>&lt;Synonym&gt;Swelling of the scrotum&lt;/Synonym&gt;</td>\n",
              "      <td>ADAM</td>\n",
              "      <td>https://www.nlm.nih.gov/medlineplus/ency/artic...</td>\n",
              "      <td>C0282005</td>\n",
              "      <td>T184</td>\n",
              "      <td>Disorders</td>\n",
              "    </tr>\n",
              "    <tr>\n",
              "      <th>47319</th>\n",
              "      <td>what are the treatments for chiropractic care ...</td>\n",
              "      <td>NaN</td>\n",
              "      <td>Chiropractic care for back pain</td>\n",
              "      <td>treatment</td>\n",
              "      <td>NaN</td>\n",
              "      <td>ADAM</td>\n",
              "      <td>https://www.nlm.nih.gov/medlineplus/ency/patie...</td>\n",
              "      <td>C0580931</td>\n",
              "      <td>T033</td>\n",
              "      <td>Disorders</td>\n",
              "    </tr>\n",
              "    <tr>\n",
              "      <th>47357</th>\n",
              "      <td>what to do for bleeding ?</td>\n",
              "      <td>NaN</td>\n",
              "      <td>Bleeding</td>\n",
              "      <td>considerations</td>\n",
              "      <td>&lt;Synonym&gt;Blood loss&lt;/Synonym&gt;</td>\n",
              "      <td>ADAM</td>\n",
              "      <td>https://www.nlm.nih.gov/medlineplus/ency/artic...</td>\n",
              "      <td>C0019080</td>\n",
              "      <td>T046</td>\n",
              "      <td>Disorders</td>\n",
              "    </tr>\n",
              "    <tr>\n",
              "      <th>47358</th>\n",
              "      <td>what to do for bleeding ?</td>\n",
              "      <td>NaN</td>\n",
              "      <td>Bleeding</td>\n",
              "      <td>considerations</td>\n",
              "      <td>&lt;Synonym&gt;Blood loss&lt;/Synonym&gt;</td>\n",
              "      <td>ADAM</td>\n",
              "      <td>https://www.nlm.nih.gov/medlineplus/ency/artic...</td>\n",
              "      <td>C0019080</td>\n",
              "      <td>T046</td>\n",
              "      <td>Disorders</td>\n",
              "    </tr>\n",
              "    <tr>\n",
              "      <th>47396</th>\n",
              "      <td>what to do for hoarseness ?</td>\n",
              "      <td>NaN</td>\n",
              "      <td>Hoarseness</td>\n",
              "      <td>considerations</td>\n",
              "      <td>&lt;Synonym&gt;Voice strain&lt;/Synonym&gt;</td>\n",
              "      <td>ADAM</td>\n",
              "      <td>https://www.nlm.nih.gov/medlineplus/ency/artic...</td>\n",
              "      <td>C0019825</td>\n",
              "      <td>T184</td>\n",
              "      <td>Disorders</td>\n",
              "    </tr>\n",
              "  </tbody>\n",
              "</table>\n",
              "<p>561 rows × 10 columns</p>\n",
              "</div>\n",
              "      <button class=\"colab-df-convert\" onclick=\"convertToInteractive('df-cd03cb8b-42c9-4e13-a43b-2025e3155765')\"\n",
              "              title=\"Convert this dataframe to an interactive table.\"\n",
              "              style=\"display:none;\">\n",
              "        \n",
              "  <svg xmlns=\"http://www.w3.org/2000/svg\" height=\"24px\"viewBox=\"0 0 24 24\"\n",
              "       width=\"24px\">\n",
              "    <path d=\"M0 0h24v24H0V0z\" fill=\"none\"/>\n",
              "    <path d=\"M18.56 5.44l.94 2.06.94-2.06 2.06-.94-2.06-.94-.94-2.06-.94 2.06-2.06.94zm-11 1L8.5 8.5l.94-2.06 2.06-.94-2.06-.94L8.5 2.5l-.94 2.06-2.06.94zm10 10l.94 2.06.94-2.06 2.06-.94-2.06-.94-.94-2.06-.94 2.06-2.06.94z\"/><path d=\"M17.41 7.96l-1.37-1.37c-.4-.4-.92-.59-1.43-.59-.52 0-1.04.2-1.43.59L10.3 9.45l-7.72 7.72c-.78.78-.78 2.05 0 2.83L4 21.41c.39.39.9.59 1.41.59.51 0 1.02-.2 1.41-.59l7.78-7.78 2.81-2.81c.8-.78.8-2.07 0-2.86zM5.41 20L4 18.59l7.72-7.72 1.47 1.35L5.41 20z\"/>\n",
              "  </svg>\n",
              "      </button>\n",
              "      \n",
              "  <style>\n",
              "    .colab-df-container {\n",
              "      display:flex;\n",
              "      flex-wrap:wrap;\n",
              "      gap: 12px;\n",
              "    }\n",
              "\n",
              "    .colab-df-convert {\n",
              "      background-color: #E8F0FE;\n",
              "      border: none;\n",
              "      border-radius: 50%;\n",
              "      cursor: pointer;\n",
              "      display: none;\n",
              "      fill: #1967D2;\n",
              "      height: 32px;\n",
              "      padding: 0 0 0 0;\n",
              "      width: 32px;\n",
              "    }\n",
              "\n",
              "    .colab-df-convert:hover {\n",
              "      background-color: #E2EBFA;\n",
              "      box-shadow: 0px 1px 2px rgba(60, 64, 67, 0.3), 0px 1px 3px 1px rgba(60, 64, 67, 0.15);\n",
              "      fill: #174EA6;\n",
              "    }\n",
              "\n",
              "    [theme=dark] .colab-df-convert {\n",
              "      background-color: #3B4455;\n",
              "      fill: #D2E3FC;\n",
              "    }\n",
              "\n",
              "    [theme=dark] .colab-df-convert:hover {\n",
              "      background-color: #434B5C;\n",
              "      box-shadow: 0px 1px 3px 1px rgba(0, 0, 0, 0.15);\n",
              "      filter: drop-shadow(0px 1px 2px rgba(0, 0, 0, 0.3));\n",
              "      fill: #FFFFFF;\n",
              "    }\n",
              "  </style>\n",
              "\n",
              "      <script>\n",
              "        const buttonEl =\n",
              "          document.querySelector('#df-cd03cb8b-42c9-4e13-a43b-2025e3155765 button.colab-df-convert');\n",
              "        buttonEl.style.display =\n",
              "          google.colab.kernel.accessAllowed ? 'block' : 'none';\n",
              "\n",
              "        async function convertToInteractive(key) {\n",
              "          const element = document.querySelector('#df-cd03cb8b-42c9-4e13-a43b-2025e3155765');\n",
              "          const dataTable =\n",
              "            await google.colab.kernel.invokeFunction('convertToInteractive',\n",
              "                                                     [key], {});\n",
              "          if (!dataTable) return;\n",
              "\n",
              "          const docLinkHtml = 'Like what you see? Visit the ' +\n",
              "            '<a target=\"_blank\" href=https://colab.research.google.com/notebooks/data_table.ipynb>data table notebook</a>'\n",
              "            + ' to learn more about interactive tables.';\n",
              "          element.innerHTML = '';\n",
              "          dataTable['output_type'] = 'display_data';\n",
              "          await google.colab.output.renderOutput(dataTable, element);\n",
              "          const docLink = document.createElement('div');\n",
              "          docLink.innerHTML = docLinkHtml;\n",
              "          element.appendChild(docLink);\n",
              "        }\n",
              "      </script>\n",
              "    </div>\n",
              "  </div>\n",
              "  "
            ]
          },
          "metadata": {},
          "execution_count": 48
        }
      ]
    },
    {
      "cell_type": "code",
      "source": [
        "QA_df=df[['Questions','Answers']].copy()\n",
        "QA_df[QA_df.duplicated()]"
      ],
      "metadata": {
        "colab": {
          "base_uri": "https://localhost:8080/",
          "height": 424
        },
        "id": "-jIeC5lAKWqN",
        "outputId": "f17337ee-2271-4b2f-91db-dfb967077859"
      },
      "execution_count": null,
      "outputs": [
        {
          "output_type": "execute_result",
          "data": {
            "text/plain": [
              "                                               Questions  \\\n",
              "1567                           what is (are) proctitis ?   \n",
              "1569                             what causes proctitis ?   \n",
              "1610        how to diagnose kidney disease of diabetes ?   \n",
              "1612         how to prevent kidney disease of diabetes ?   \n",
              "1614         what to do for kidney disease of diabetes ?   \n",
              "...                                                  ...   \n",
              "47274                  what to do for scrotal swelling ?   \n",
              "47319  what are the treatments for chiropractic care ...   \n",
              "47357                          what to do for bleeding ?   \n",
              "47358                          what to do for bleeding ?   \n",
              "47396                        what to do for hoarseness ?   \n",
              "\n",
              "                                                 Answers  \n",
              "1567   Proctitis is inflammation of the lining of the...  \n",
              "1569   Proctitis has many causes, including acute, or...  \n",
              "1610   People with diabetes should be screened regula...  \n",
              "1612   Blood Pressure Medicines\\n                \\nSc...  \n",
              "1614   - Diabetes is the leading cause of chronic kid...  \n",
              "...                                                  ...  \n",
              "47274                                                NaN  \n",
              "47319                                                NaN  \n",
              "47357                                                NaN  \n",
              "47358                                                NaN  \n",
              "47396                                                NaN  \n",
              "\n",
              "[586 rows x 2 columns]"
            ],
            "text/html": [
              "\n",
              "  <div id=\"df-e62e19f5-8371-496c-a39d-4283290d43c9\">\n",
              "    <div class=\"colab-df-container\">\n",
              "      <div>\n",
              "<style scoped>\n",
              "    .dataframe tbody tr th:only-of-type {\n",
              "        vertical-align: middle;\n",
              "    }\n",
              "\n",
              "    .dataframe tbody tr th {\n",
              "        vertical-align: top;\n",
              "    }\n",
              "\n",
              "    .dataframe thead th {\n",
              "        text-align: right;\n",
              "    }\n",
              "</style>\n",
              "<table border=\"1\" class=\"dataframe\">\n",
              "  <thead>\n",
              "    <tr style=\"text-align: right;\">\n",
              "      <th></th>\n",
              "      <th>Questions</th>\n",
              "      <th>Answers</th>\n",
              "    </tr>\n",
              "  </thead>\n",
              "  <tbody>\n",
              "    <tr>\n",
              "      <th>1567</th>\n",
              "      <td>what is (are) proctitis ?</td>\n",
              "      <td>Proctitis is inflammation of the lining of the...</td>\n",
              "    </tr>\n",
              "    <tr>\n",
              "      <th>1569</th>\n",
              "      <td>what causes proctitis ?</td>\n",
              "      <td>Proctitis has many causes, including acute, or...</td>\n",
              "    </tr>\n",
              "    <tr>\n",
              "      <th>1610</th>\n",
              "      <td>how to diagnose kidney disease of diabetes ?</td>\n",
              "      <td>People with diabetes should be screened regula...</td>\n",
              "    </tr>\n",
              "    <tr>\n",
              "      <th>1612</th>\n",
              "      <td>how to prevent kidney disease of diabetes ?</td>\n",
              "      <td>Blood Pressure Medicines\\n                \\nSc...</td>\n",
              "    </tr>\n",
              "    <tr>\n",
              "      <th>1614</th>\n",
              "      <td>what to do for kidney disease of diabetes ?</td>\n",
              "      <td>- Diabetes is the leading cause of chronic kid...</td>\n",
              "    </tr>\n",
              "    <tr>\n",
              "      <th>...</th>\n",
              "      <td>...</td>\n",
              "      <td>...</td>\n",
              "    </tr>\n",
              "    <tr>\n",
              "      <th>47274</th>\n",
              "      <td>what to do for scrotal swelling ?</td>\n",
              "      <td>NaN</td>\n",
              "    </tr>\n",
              "    <tr>\n",
              "      <th>47319</th>\n",
              "      <td>what are the treatments for chiropractic care ...</td>\n",
              "      <td>NaN</td>\n",
              "    </tr>\n",
              "    <tr>\n",
              "      <th>47357</th>\n",
              "      <td>what to do for bleeding ?</td>\n",
              "      <td>NaN</td>\n",
              "    </tr>\n",
              "    <tr>\n",
              "      <th>47358</th>\n",
              "      <td>what to do for bleeding ?</td>\n",
              "      <td>NaN</td>\n",
              "    </tr>\n",
              "    <tr>\n",
              "      <th>47396</th>\n",
              "      <td>what to do for hoarseness ?</td>\n",
              "      <td>NaN</td>\n",
              "    </tr>\n",
              "  </tbody>\n",
              "</table>\n",
              "<p>586 rows × 2 columns</p>\n",
              "</div>\n",
              "      <button class=\"colab-df-convert\" onclick=\"convertToInteractive('df-e62e19f5-8371-496c-a39d-4283290d43c9')\"\n",
              "              title=\"Convert this dataframe to an interactive table.\"\n",
              "              style=\"display:none;\">\n",
              "        \n",
              "  <svg xmlns=\"http://www.w3.org/2000/svg\" height=\"24px\"viewBox=\"0 0 24 24\"\n",
              "       width=\"24px\">\n",
              "    <path d=\"M0 0h24v24H0V0z\" fill=\"none\"/>\n",
              "    <path d=\"M18.56 5.44l.94 2.06.94-2.06 2.06-.94-2.06-.94-.94-2.06-.94 2.06-2.06.94zm-11 1L8.5 8.5l.94-2.06 2.06-.94-2.06-.94L8.5 2.5l-.94 2.06-2.06.94zm10 10l.94 2.06.94-2.06 2.06-.94-2.06-.94-.94-2.06-.94 2.06-2.06.94z\"/><path d=\"M17.41 7.96l-1.37-1.37c-.4-.4-.92-.59-1.43-.59-.52 0-1.04.2-1.43.59L10.3 9.45l-7.72 7.72c-.78.78-.78 2.05 0 2.83L4 21.41c.39.39.9.59 1.41.59.51 0 1.02-.2 1.41-.59l7.78-7.78 2.81-2.81c.8-.78.8-2.07 0-2.86zM5.41 20L4 18.59l7.72-7.72 1.47 1.35L5.41 20z\"/>\n",
              "  </svg>\n",
              "      </button>\n",
              "      \n",
              "  <style>\n",
              "    .colab-df-container {\n",
              "      display:flex;\n",
              "      flex-wrap:wrap;\n",
              "      gap: 12px;\n",
              "    }\n",
              "\n",
              "    .colab-df-convert {\n",
              "      background-color: #E8F0FE;\n",
              "      border: none;\n",
              "      border-radius: 50%;\n",
              "      cursor: pointer;\n",
              "      display: none;\n",
              "      fill: #1967D2;\n",
              "      height: 32px;\n",
              "      padding: 0 0 0 0;\n",
              "      width: 32px;\n",
              "    }\n",
              "\n",
              "    .colab-df-convert:hover {\n",
              "      background-color: #E2EBFA;\n",
              "      box-shadow: 0px 1px 2px rgba(60, 64, 67, 0.3), 0px 1px 3px 1px rgba(60, 64, 67, 0.15);\n",
              "      fill: #174EA6;\n",
              "    }\n",
              "\n",
              "    [theme=dark] .colab-df-convert {\n",
              "      background-color: #3B4455;\n",
              "      fill: #D2E3FC;\n",
              "    }\n",
              "\n",
              "    [theme=dark] .colab-df-convert:hover {\n",
              "      background-color: #434B5C;\n",
              "      box-shadow: 0px 1px 3px 1px rgba(0, 0, 0, 0.15);\n",
              "      filter: drop-shadow(0px 1px 2px rgba(0, 0, 0, 0.3));\n",
              "      fill: #FFFFFF;\n",
              "    }\n",
              "  </style>\n",
              "\n",
              "      <script>\n",
              "        const buttonEl =\n",
              "          document.querySelector('#df-e62e19f5-8371-496c-a39d-4283290d43c9 button.colab-df-convert');\n",
              "        buttonEl.style.display =\n",
              "          google.colab.kernel.accessAllowed ? 'block' : 'none';\n",
              "\n",
              "        async function convertToInteractive(key) {\n",
              "          const element = document.querySelector('#df-e62e19f5-8371-496c-a39d-4283290d43c9');\n",
              "          const dataTable =\n",
              "            await google.colab.kernel.invokeFunction('convertToInteractive',\n",
              "                                                     [key], {});\n",
              "          if (!dataTable) return;\n",
              "\n",
              "          const docLinkHtml = 'Like what you see? Visit the ' +\n",
              "            '<a target=\"_blank\" href=https://colab.research.google.com/notebooks/data_table.ipynb>data table notebook</a>'\n",
              "            + ' to learn more about interactive tables.';\n",
              "          element.innerHTML = '';\n",
              "          dataTable['output_type'] = 'display_data';\n",
              "          await google.colab.output.renderOutput(dataTable, element);\n",
              "          const docLink = document.createElement('div');\n",
              "          docLink.innerHTML = docLinkHtml;\n",
              "          element.appendChild(docLink);\n",
              "        }\n",
              "      </script>\n",
              "    </div>\n",
              "  </div>\n",
              "  "
            ]
          },
          "metadata": {},
          "execution_count": 49
        }
      ]
    },
    {
      "cell_type": "markdown",
      "source": [
        "There are 586 duplicates of both questions and answers"
      ],
      "metadata": {
        "id": "mTDdVevJMPH9"
      }
    },
    {
      "cell_type": "code",
      "source": [
        "QA_df[QA_df.duplicated()]"
      ],
      "metadata": {
        "id": "9UArQzZfMZBF"
      },
      "execution_count": null,
      "outputs": []
    },
    {
      "cell_type": "markdown",
      "source": [
        "### Question type column"
      ],
      "metadata": {
        "id": "vPh9cnDuDri8"
      }
    },
    {
      "cell_type": "code",
      "source": [
        "df['Qtypes'].value_counts()"
      ],
      "metadata": {
        "colab": {
          "base_uri": "https://localhost:8080/"
        },
        "id": "rYvcWDky66oH",
        "outputId": "e723eeae-2e6c-4c52-cb3f-d71f9eda9f77"
      },
      "execution_count": null,
      "outputs": [
        {
          "output_type": "execute_result",
          "data": {
            "text/plain": [
              "information                                9214\n",
              "symptoms                                   4338\n",
              "treatment                                  3906\n",
              "causes                                     2436\n",
              "outlook                                    2232\n",
              "exams and tests                            2058\n",
              "when to contact a medical professional     1738\n",
              "inheritance                                1446\n",
              "precautions                                1413\n",
              "side effects                               1301\n",
              "other information                          1280\n",
              "indication                                 1258\n",
              "usage                                      1244\n",
              "prevention                                 1239\n",
              "brand names                                1238\n",
              "emergency or overdose                      1140\n",
              "complications                              1120\n",
              "frequency                                  1120\n",
              "storage and disposal                       1117\n",
              "forget a dose                              1098\n",
              "dietary                                    1092\n",
              "genetic changes                            1087\n",
              "considerations                              772\n",
              "susceptibility                              475\n",
              "important warning                           468\n",
              "research                                    399\n",
              "brand names of combination products         230\n",
              "support groups                              221\n",
              "dose                                        101\n",
              "interactions with foods                      99\n",
              "interactions with herbs and supplements      99\n",
              "interactions with medications                99\n",
              "how does it work                             99\n",
              "how effective is it                          99\n",
              "stages                                       80\n",
              "how can i learn more                         25\n",
              "severe reaction                              24\n",
              "contraindication                             20\n",
              "why get vaccinated                           16\n",
              "Name: Qtypes, dtype: int64"
            ]
          },
          "metadata": {},
          "execution_count": 9
        }
      ]
    },
    {
      "cell_type": "code",
      "source": [
        "df['Qtypes'].nunique()"
      ],
      "metadata": {
        "colab": {
          "base_uri": "https://localhost:8080/"
        },
        "id": "JicXv5HODypI",
        "outputId": "7707618a-dca2-4cf5-dd1f-f0afc7af9937"
      },
      "execution_count": null,
      "outputs": [
        {
          "output_type": "execute_result",
          "data": {
            "text/plain": [
              "39"
            ]
          },
          "metadata": {},
          "execution_count": 22
        }
      ]
    },
    {
      "cell_type": "markdown",
      "source": [
        "#Distribution of Question types."
      ],
      "metadata": {
        "id": "kP8cjPEWCJrZ"
      }
    },
    {
      "cell_type": "code",
      "source": [
        "plt.figure(figsize=[10,10]);\n",
        "df['Qtypes'].hist();\n",
        "plt.xticks(rotation = 90);"
      ],
      "metadata": {
        "colab": {
          "base_uri": "https://localhost:8080/",
          "height": 786
        },
        "id": "f6Q04jkD-fsn",
        "outputId": "ca829004-0ad9-4ca3-e346-55af9474c184"
      },
      "execution_count": null,
      "outputs": [
        {
          "output_type": "display_data",
          "data": {
            "text/plain": [
              "<Figure size 720x720 with 1 Axes>"
            ],
            "image/png": "[encoded data removed]"
          },
          "metadata": {
            "needs_background": "light"
          }
        }
      ]
    },
    {
      "cell_type": "markdown",
      "source": [
        "### What are the top 10 frequent question type asked?"
      ],
      "metadata": {
        "id": "PZtNx3VlLDWe"
      }
    },
    {
      "cell_type": "code",
      "source": [
        "plt.figure(figsize=[10,10])\n",
        "sorted_counts = df['Qtypes'].value_counts().head()\n",
        "plt.pie(sorted_counts, labels = sorted_counts.index, startangle = 90, counterclock = False,radius=0.8);\n",
        "#top_Qtype=df['Qtypes'].value_counts().head(10).plot(kind='bar',alpha=0.5,color='blue')\n",
        "plt.title('Distribution of Question types')\n",
        "plt.xlabel('Question types')\n",
        "plt.show()\n"
      ],
      "metadata": {
        "colab": {
          "base_uri": "https://localhost:8080/",
          "height": 605
        },
        "id": "iefP6qSj7RaX",
        "outputId": "1aeca69d-a5fd-4f0b-82e0-4c4f8cc959de"
      },
      "execution_count": null,
      "outputs": [
        {
          "output_type": "display_data",
          "data": {
            "text/plain": [
              "<Figure size 720x720 with 1 Axes>"
            ],
            "image/png": "[encoded data removed]"
          },
          "metadata": {}
        }
      ]
    },
    {
      "cell_type": "code",
      "source": [
        "list(df['Qtypes'].value_counts()[:10].keys())"
      ],
      "metadata": {
        "colab": {
          "base_uri": "https://localhost:8080/"
        },
        "id": "3MXiV5JLJxoH",
        "outputId": "8ed49e16-3a14-46f9-e6ff-83cfd4621ae2"
      },
      "execution_count": null,
      "outputs": [
        {
          "output_type": "execute_result",
          "data": {
            "text/plain": [
              "['information',\n",
              " 'symptoms',\n",
              " 'treatment',\n",
              " 'causes',\n",
              " 'outlook',\n",
              " 'exams and tests',\n",
              " 'when to contact a medical professional',\n",
              " 'inheritance',\n",
              " 'precautions',\n",
              " 'side effects']"
            ]
          },
          "metadata": {},
          "execution_count": 11
        }
      ]
    },
    {
      "cell_type": "markdown",
      "source": [
        "Top 10 question types are: `['information',\n",
        " 'symptoms',\n",
        " 'treatment',\n",
        " 'causes',\n",
        " 'outlook',\n",
        " 'exams and tests',\n",
        " 'when to contact a medical professional',\n",
        " 'inheritance',\n",
        " 'precautions',\n",
        " 'side effects']`\n",
        "\n"
      ],
      "metadata": {
        "id": "oTm4BNarcb-o"
      }
    },
    {
      "cell_type": "code",
      "source": [
        "df['Focus'].nunique()"
      ],
      "metadata": {
        "colab": {
          "base_uri": "https://localhost:8080/"
        },
        "id": "0icfUxlrH5QL",
        "outputId": "44c0878e-03fc-45ec-93e3-931a026d5e41"
      },
      "execution_count": null,
      "outputs": [
        {
          "output_type": "execute_result",
          "data": {
            "text/plain": [
              "10537"
            ]
          },
          "metadata": {},
          "execution_count": 29
        }
      ]
    },
    {
      "cell_type": "markdown",
      "source": [
        "###What are the top 10 frequent question focus?"
      ],
      "metadata": {
        "id": "nMqdWjLlc-Uv"
      }
    },
    {
      "cell_type": "code",
      "source": [
        "plt.figure(figsize=[10,10])\n",
        "top_Qtype=df['Focus'].value_counts().head(10).plot(kind='bar',alpha=0.5,color='blue')\n",
        "plt.title('Distribution of Question Focus')\n",
        "plt.xlabel('Focus')\n",
        "plt.ylabel('Frequency')\n",
        "plt.show()"
      ],
      "metadata": {
        "id": "b3I56JmRMHBm",
        "colab": {
          "base_uri": "https://localhost:8080/",
          "height": 712
        },
        "outputId": "41653fe4-28c9-4378-c785-0a02e5c39157"
      },
      "execution_count": null,
      "outputs": [
        {
          "output_type": "display_data",
          "data": {
            "text/plain": [
              "<Figure size 720x720 with 1 Axes>"
            ],
            "image/png": "[encoded data removed]"
          },
          "metadata": {
            "needs_background": "light"
          }
        }
      ]
    },
    {
      "cell_type": "code",
      "source": [
        "list(df['Focus'].value_counts()[:3].keys())"
      ],
      "metadata": {
        "colab": {
          "base_uri": "https://localhost:8080/"
        },
        "id": "ZPfvUApUcQDR",
        "outputId": "0edfc3ab-823d-4a0b-d7e3-a5f2f8d170d8"
      },
      "execution_count": null,
      "outputs": [
        {
          "output_type": "execute_result",
          "data": {
            "text/plain": [
              "['Breast Cancer', 'Stroke', 'Prostate Cancer']"
            ]
          },
          "metadata": {},
          "execution_count": 14
        }
      ]
    },
    {
      "cell_type": "markdown",
      "source": [
        "Top 10 question focus are: `['Breast Cancer',\n",
        " 'Stroke',\n",
        " 'Prostate Cancer',\n",
        " 'Skin Cancer',\n",
        " \"Alzheimer's Disease\",\n",
        " 'Shingles',\n",
        " 'Diabetes',\n",
        " 'Lung Cancer',\n",
        " 'Colorectal Cancer',\n",
        " 'Hemochromatosis']`\n",
        " "
      ],
      "metadata": {
        "id": "MU60o97-cqcY"
      }
    },
    {
      "cell_type": "markdown",
      "source": [
        "### What are the question types regarding the top 3 focus?"
      ],
      "metadata": {
        "id": "MwnFIbpodGFn"
      }
    },
    {
      "cell_type": "code",
      "source": [
        "df_qf=df[(df['Focus']=='Breast Cancer') | (df['Focus']=='Stroke') | (df['Focus']=='Prostate Cancer')]\n",
        "df_qf\n",
        "#df_qf=df[(df['Focus']=='Breast Cancer') | (df['Focus']=='Stroke') | (df['Focus']=='Prostate Cancer') | (df['Qtypes']=='information') | (df['Qtypes']=='symptoms') | (df['Qtypes']=='treatment')]"
      ],
      "metadata": {
        "colab": {
          "base_uri": "https://localhost:8080/",
          "height": 693
        },
        "id": "9ZQqtzeqwD4p",
        "outputId": "277354b3-ecb1-4133-9176-77982ae604f8"
      },
      "execution_count": null,
      "outputs": [
        {
          "output_type": "execute_result",
          "data": {
            "text/plain": [
              "                                               Questions  \\\n",
              "133                        what is (are) breast cancer ?   \n",
              "134                       how to prevent breast cancer ?   \n",
              "135                  who is at risk for breast cancer? ?   \n",
              "136    what research (or clinical trials) is being do...   \n",
              "137                        what is (are) breast cancer ?   \n",
              "...                                                  ...   \n",
              "45259               what are the treatments for stroke ?   \n",
              "45260     where to find support for people with stroke ?   \n",
              "45261                   what is the outlook for stroke ?   \n",
              "45262             do i need to see a doctor for stroke ?   \n",
              "45263                            how to prevent stroke ?   \n",
              "\n",
              "                                                 Answers          Focus  \\\n",
              "133    Key Points\\n                    - Breast cance...  Breast Cancer   \n",
              "134    Key Points\\n                    - Avoiding ris...  Breast Cancer   \n",
              "135    Key Points\\n                    - Avoiding ris...  Breast Cancer   \n",
              "136    Cancer prevention clinical trials are used to ...  Breast Cancer   \n",
              "137    Key Points\\n                    - Breast cance...  Breast Cancer   \n",
              "...                                                  ...            ...   \n",
              "45259                                                NaN         Stroke   \n",
              "45260                                                NaN         Stroke   \n",
              "45261                                                NaN         Stroke   \n",
              "45262                                                NaN         Stroke   \n",
              "45263                                                NaN         Stroke   \n",
              "\n",
              "                                       Qtypes  \\\n",
              "133                               information   \n",
              "134                                prevention   \n",
              "135                            susceptibility   \n",
              "136                                  research   \n",
              "137                               information   \n",
              "...                                       ...   \n",
              "45259                               treatment   \n",
              "45260                          support groups   \n",
              "45261                                 outlook   \n",
              "45262  when to contact a medical professional   \n",
              "45263                              prevention   \n",
              "\n",
              "                                          Synonym     source  \\\n",
              "133                                           NaN  CancerGov   \n",
              "134                                           NaN  CancerGov   \n",
              "135                                           NaN  CancerGov   \n",
              "136                                           NaN  CancerGov   \n",
              "137                                           NaN  CancerGov   \n",
              "...                                           ...        ...   \n",
              "45259  <Synonym>Cerebrovascular disease</Synonym>       ADAM   \n",
              "45260  <Synonym>Cerebrovascular disease</Synonym>       ADAM   \n",
              "45261  <Synonym>Cerebrovascular disease</Synonym>       ADAM   \n",
              "45262  <Synonym>Cerebrovascular disease</Synonym>       ADAM   \n",
              "45263  <Synonym>Cerebrovascular disease</Synonym>       ADAM   \n",
              "\n",
              "                                                     url       cui  \\\n",
              "133    https://www.cancer.gov/types/breast/patient/br...  C0006142   \n",
              "134    https://www.cancer.gov/types/breast/patient/br...  C0006142   \n",
              "135    https://www.cancer.gov/types/breast/patient/br...  C0006142   \n",
              "136    https://www.cancer.gov/types/breast/patient/br...  C0006142   \n",
              "137    https://www.cancer.gov/types/breast/patient/pr...  C0006142   \n",
              "...                                                  ...       ...   \n",
              "45259  https://www.nlm.nih.gov/medlineplus/ency/artic...  C0038454   \n",
              "45260  https://www.nlm.nih.gov/medlineplus/ency/artic...  C0038454   \n",
              "45261  https://www.nlm.nih.gov/medlineplus/ency/artic...  C0038454   \n",
              "45262  https://www.nlm.nih.gov/medlineplus/ency/artic...  C0038454   \n",
              "45263  https://www.nlm.nih.gov/medlineplus/ency/artic...  C0038454   \n",
              "\n",
              "      SemanticType SemanticGroup  \n",
              "133           T191     Disorders  \n",
              "134           T191     Disorders  \n",
              "135           T191     Disorders  \n",
              "136           T191     Disorders  \n",
              "137           T191     Disorders  \n",
              "...            ...           ...  \n",
              "45259         T047     Disorders  \n",
              "45260         T047     Disorders  \n",
              "45261         T047     Disorders  \n",
              "45262         T047     Disorders  \n",
              "45263         T047     Disorders  \n",
              "\n",
              "[140 rows x 10 columns]"
            ],
            "text/html": [
              "\n",
              "  <div id=\"df-06f02271-67d1-46fe-96f0-a13f175f8a2b\">\n",
              "    <div class=\"colab-df-container\">\n",
              "      <div>\n",
              "<style scoped>\n",
              "    .dataframe tbody tr th:only-of-type {\n",
              "        vertical-align: middle;\n",
              "    }\n",
              "\n",
              "    .dataframe tbody tr th {\n",
              "        vertical-align: top;\n",
              "    }\n",
              "\n",
              "    .dataframe thead th {\n",
              "        text-align: right;\n",
              "    }\n",
              "</style>\n",
              "<table border=\"1\" class=\"dataframe\">\n",
              "  <thead>\n",
              "    <tr style=\"text-align: right;\">\n",
              "      <th></th>\n",
              "      <th>Questions</th>\n",
              "      <th>Answers</th>\n",
              "      <th>Focus</th>\n",
              "      <th>Qtypes</th>\n",
              "      <th>Synonym</th>\n",
              "      <th>source</th>\n",
              "      <th>url</th>\n",
              "      <th>cui</th>\n",
              "      <th>SemanticType</th>\n",
              "      <th>SemanticGroup</th>\n",
              "    </tr>\n",
              "  </thead>\n",
              "  <tbody>\n",
              "    <tr>\n",
              "      <th>133</th>\n",
              "      <td>what is (are) breast cancer ?</td>\n",
              "      <td>Key Points\\n                    - Breast cance...</td>\n",
              "      <td>Breast Cancer</td>\n",
              "      <td>information</td>\n",
              "      <td>NaN</td>\n",
              "      <td>CancerGov</td>\n",
              "      <td>https://www.cancer.gov/types/breast/patient/br...</td>\n",
              "      <td>C0006142</td>\n",
              "      <td>T191</td>\n",
              "      <td>Disorders</td>\n",
              "    </tr>\n",
              "    <tr>\n",
              "      <th>134</th>\n",
              "      <td>how to prevent breast cancer ?</td>\n",
              "      <td>Key Points\\n                    - Avoiding ris...</td>\n",
              "      <td>Breast Cancer</td>\n",
              "      <td>prevention</td>\n",
              "      <td>NaN</td>\n",
              "      <td>CancerGov</td>\n",
              "      <td>https://www.cancer.gov/types/breast/patient/br...</td>\n",
              "      <td>C0006142</td>\n",
              "      <td>T191</td>\n",
              "      <td>Disorders</td>\n",
              "    </tr>\n",
              "    <tr>\n",
              "      <th>135</th>\n",
              "      <td>who is at risk for breast cancer? ?</td>\n",
              "      <td>Key Points\\n                    - Avoiding ris...</td>\n",
              "      <td>Breast Cancer</td>\n",
              "      <td>susceptibility</td>\n",
              "      <td>NaN</td>\n",
              "      <td>CancerGov</td>\n",
              "      <td>https://www.cancer.gov/types/breast/patient/br...</td>\n",
              "      <td>C0006142</td>\n",
              "      <td>T191</td>\n",
              "      <td>Disorders</td>\n",
              "    </tr>\n",
              "    <tr>\n",
              "      <th>136</th>\n",
              "      <td>what research (or clinical trials) is being do...</td>\n",
              "      <td>Cancer prevention clinical trials are used to ...</td>\n",
              "      <td>Breast Cancer</td>\n",
              "      <td>research</td>\n",
              "      <td>NaN</td>\n",
              "      <td>CancerGov</td>\n",
              "      <td>https://www.cancer.gov/types/breast/patient/br...</td>\n",
              "      <td>C0006142</td>\n",
              "      <td>T191</td>\n",
              "      <td>Disorders</td>\n",
              "    </tr>\n",
              "    <tr>\n",
              "      <th>137</th>\n",
              "      <td>what is (are) breast cancer ?</td>\n",
              "      <td>Key Points\\n                    - Breast cance...</td>\n",
              "      <td>Breast Cancer</td>\n",
              "      <td>information</td>\n",
              "      <td>NaN</td>\n",
              "      <td>CancerGov</td>\n",
              "      <td>https://www.cancer.gov/types/breast/patient/pr...</td>\n",
              "      <td>C0006142</td>\n",
              "      <td>T191</td>\n",
              "      <td>Disorders</td>\n",
              "    </tr>\n",
              "    <tr>\n",
              "      <th>...</th>\n",
              "      <td>...</td>\n",
              "      <td>...</td>\n",
              "      <td>...</td>\n",
              "      <td>...</td>\n",
              "      <td>...</td>\n",
              "      <td>...</td>\n",
              "      <td>...</td>\n",
              "      <td>...</td>\n",
              "      <td>...</td>\n",
              "      <td>...</td>\n",
              "    </tr>\n",
              "    <tr>\n",
              "      <th>45259</th>\n",
              "      <td>what are the treatments for stroke ?</td>\n",
              "      <td>NaN</td>\n",
              "      <td>Stroke</td>\n",
              "      <td>treatment</td>\n",
              "      <td>&lt;Synonym&gt;Cerebrovascular disease&lt;/Synonym&gt;</td>\n",
              "      <td>ADAM</td>\n",
              "      <td>https://www.nlm.nih.gov/medlineplus/ency/artic...</td>\n",
              "      <td>C0038454</td>\n",
              "      <td>T047</td>\n",
              "      <td>Disorders</td>\n",
              "    </tr>\n",
              "    <tr>\n",
              "      <th>45260</th>\n",
              "      <td>where to find support for people with stroke ?</td>\n",
              "      <td>NaN</td>\n",
              "      <td>Stroke</td>\n",
              "      <td>support groups</td>\n",
              "      <td>&lt;Synonym&gt;Cerebrovascular disease&lt;/Synonym&gt;</td>\n",
              "      <td>ADAM</td>\n",
              "      <td>https://www.nlm.nih.gov/medlineplus/ency/artic...</td>\n",
              "      <td>C0038454</td>\n",
              "      <td>T047</td>\n",
              "      <td>Disorders</td>\n",
              "    </tr>\n",
              "    <tr>\n",
              "      <th>45261</th>\n",
              "      <td>what is the outlook for stroke ?</td>\n",
              "      <td>NaN</td>\n",
              "      <td>Stroke</td>\n",
              "      <td>outlook</td>\n",
              "      <td>&lt;Synonym&gt;Cerebrovascular disease&lt;/Synonym&gt;</td>\n",
              "      <td>ADAM</td>\n",
              "      <td>https://www.nlm.nih.gov/medlineplus/ency/artic...</td>\n",
              "      <td>C0038454</td>\n",
              "      <td>T047</td>\n",
              "      <td>Disorders</td>\n",
              "    </tr>\n",
              "    <tr>\n",
              "      <th>45262</th>\n",
              "      <td>do i need to see a doctor for stroke ?</td>\n",
              "      <td>NaN</td>\n",
              "      <td>Stroke</td>\n",
              "      <td>when to contact a medical professional</td>\n",
              "      <td>&lt;Synonym&gt;Cerebrovascular disease&lt;/Synonym&gt;</td>\n",
              "      <td>ADAM</td>\n",
              "      <td>https://www.nlm.nih.gov/medlineplus/ency/artic...</td>\n",
              "      <td>C0038454</td>\n",
              "      <td>T047</td>\n",
              "      <td>Disorders</td>\n",
              "    </tr>\n",
              "    <tr>\n",
              "      <th>45263</th>\n",
              "      <td>how to prevent stroke ?</td>\n",
              "      <td>NaN</td>\n",
              "      <td>Stroke</td>\n",
              "      <td>prevention</td>\n",
              "      <td>&lt;Synonym&gt;Cerebrovascular disease&lt;/Synonym&gt;</td>\n",
              "      <td>ADAM</td>\n",
              "      <td>https://www.nlm.nih.gov/medlineplus/ency/artic...</td>\n",
              "      <td>C0038454</td>\n",
              "      <td>T047</td>\n",
              "      <td>Disorders</td>\n",
              "    </tr>\n",
              "  </tbody>\n",
              "</table>\n",
              "<p>140 rows × 10 columns</p>\n",
              "</div>\n",
              "      <button class=\"colab-df-convert\" onclick=\"convertToInteractive('df-06f02271-67d1-46fe-96f0-a13f175f8a2b')\"\n",
              "              title=\"Convert this dataframe to an interactive table.\"\n",
              "              style=\"display:none;\">\n",
              "        \n",
              "  <svg xmlns=\"http://www.w3.org/2000/svg\" height=\"24px\"viewBox=\"0 0 24 24\"\n",
              "       width=\"24px\">\n",
              "    <path d=\"M0 0h24v24H0V0z\" fill=\"none\"/>\n",
              "    <path d=\"M18.56 5.44l.94 2.06.94-2.06 2.06-.94-2.06-.94-.94-2.06-.94 2.06-2.06.94zm-11 1L8.5 8.5l.94-2.06 2.06-.94-2.06-.94L8.5 2.5l-.94 2.06-2.06.94zm10 10l.94 2.06.94-2.06 2.06-.94-2.06-.94-.94-2.06-.94 2.06-2.06.94z\"/><path d=\"M17.41 7.96l-1.37-1.37c-.4-.4-.92-.59-1.43-.59-.52 0-1.04.2-1.43.59L10.3 9.45l-7.72 7.72c-.78.78-.78 2.05 0 2.83L4 21.41c.39.39.9.59 1.41.59.51 0 1.02-.2 1.41-.59l7.78-7.78 2.81-2.81c.8-.78.8-2.07 0-2.86zM5.41 20L4 18.59l7.72-7.72 1.47 1.35L5.41 20z\"/>\n",
              "  </svg>\n",
              "      </button>\n",
              "      \n",
              "  <style>\n",
              "    .colab-df-container {\n",
              "      display:flex;\n",
              "      flex-wrap:wrap;\n",
              "      gap: 12px;\n",
              "    }\n",
              "\n",
              "    .colab-df-convert {\n",
              "      background-color: #E8F0FE;\n",
              "      border: none;\n",
              "      border-radius: 50%;\n",
              "      cursor: pointer;\n",
              "      display: none;\n",
              "      fill: #1967D2;\n",
              "      height: 32px;\n",
              "      padding: 0 0 0 0;\n",
              "      width: 32px;\n",
              "    }\n",
              "\n",
              "    .colab-df-convert:hover {\n",
              "      background-color: #E2EBFA;\n",
              "      box-shadow: 0px 1px 2px rgba(60, 64, 67, 0.3), 0px 1px 3px 1px rgba(60, 64, 67, 0.15);\n",
              "      fill: #174EA6;\n",
              "    }\n",
              "\n",
              "    [theme=dark] .colab-df-convert {\n",
              "      background-color: #3B4455;\n",
              "      fill: #D2E3FC;\n",
              "    }\n",
              "\n",
              "    [theme=dark] .colab-df-convert:hover {\n",
              "      background-color: #434B5C;\n",
              "      box-shadow: 0px 1px 3px 1px rgba(0, 0, 0, 0.15);\n",
              "      filter: drop-shadow(0px 1px 2px rgba(0, 0, 0, 0.3));\n",
              "      fill: #FFFFFF;\n",
              "    }\n",
              "  </style>\n",
              "\n",
              "      <script>\n",
              "        const buttonEl =\n",
              "          document.querySelector('#df-06f02271-67d1-46fe-96f0-a13f175f8a2b button.colab-df-convert');\n",
              "        buttonEl.style.display =\n",
              "          google.colab.kernel.accessAllowed ? 'block' : 'none';\n",
              "\n",
              "        async function convertToInteractive(key) {\n",
              "          const element = document.querySelector('#df-06f02271-67d1-46fe-96f0-a13f175f8a2b');\n",
              "          const dataTable =\n",
              "            await google.colab.kernel.invokeFunction('convertToInteractive',\n",
              "                                                     [key], {});\n",
              "          if (!dataTable) return;\n",
              "\n",
              "          const docLinkHtml = 'Like what you see? Visit the ' +\n",
              "            '<a target=\"_blank\" href=https://colab.research.google.com/notebooks/data_table.ipynb>data table notebook</a>'\n",
              "            + ' to learn more about interactive tables.';\n",
              "          element.innerHTML = '';\n",
              "          dataTable['output_type'] = 'display_data';\n",
              "          await google.colab.output.renderOutput(dataTable, element);\n",
              "          const docLink = document.createElement('div');\n",
              "          docLink.innerHTML = docLinkHtml;\n",
              "          element.appendChild(docLink);\n",
              "        }\n",
              "      </script>\n",
              "    </div>\n",
              "  </div>\n",
              "  "
            ]
          },
          "metadata": {},
          "execution_count": 24
        }
      ]
    },
    {
      "cell_type": "code",
      "source": [
        "plt.figure(figsize=[10,10])\n",
        "sb.countplot(data = df_qf, x = 'Focus', hue = 'Qtypes') \n",
        "plt.title('Distribution of Question Type in the top 3 Focus');\n",
        "plt.xlabel('Focus');\n",
        "plt.ylabel ('Number of Questions');\n"
      ],
      "metadata": {
        "colab": {
          "base_uri": "https://localhost:8080/",
          "height": 621
        },
        "id": "gJ-Ex0J1dRY8",
        "outputId": "948bbbd1-e81e-4e51-fdbc-b27d1f527965"
      },
      "execution_count": null,
      "outputs": [
        {
          "output_type": "display_data",
          "data": {
            "text/plain": [
              "<Figure size 720x720 with 1 Axes>"
            ],
            "image/png": "[encoded data removed]"
          },
          "metadata": {
            "needs_background": "light"
          }
        }
      ]
    },
    {
      "cell_type": "markdown",
      "source": [
        "The highest concern for people regarding the top asked focus is information and treatment."
      ],
      "metadata": {
        "id": "bhhq5I9I3U-J"
      }
    },
    {
      "cell_type": "markdown",
      "source": [
        "### What are the top 3 question types and the least one asked regarding the top focus 'Breast Cancer' ?\n",
        "\n",
        "\n"
      ],
      "metadata": {
        "id": "UtWJuFycn80Y"
      }
    },
    {
      "cell_type": "code",
      "source": [
        "df[df['Focus']=='Breast Cancer']['Qtypes'].value_counts().plot(kind='bar',alpha=0.5,color='blue');"
      ],
      "metadata": {
        "colab": {
          "base_uri": "https://localhost:8080/",
          "height": 338
        },
        "id": "0Tl11oecn4TC",
        "outputId": "fee88f4b-0196-43a2-dd11-a78046ed3d21"
      },
      "execution_count": null,
      "outputs": [
        {
          "output_type": "display_data",
          "data": {
            "text/plain": [
              "<Figure size 432x288 with 1 Axes>"
            ],
            "image/png": "[encoded data removed]"
          },
          "metadata": {
            "needs_background": "light"
          }
        }
      ]
    },
    {
      "cell_type": "markdown",
      "source": [
        "The most asked question types regarding `Breast Cancer `is **information, treatment and susceptibility** while the least asked type of question is **inheritance**"
      ],
      "metadata": {
        "id": "D53LQAKqqumQ"
      }
    },
    {
      "cell_type": "markdown",
      "source": [
        "### What are the relationship between missing values in 'Answers' and question types?"
      ],
      "metadata": {
        "id": "AIeRz5LJ7DZi"
      }
    },
    {
      "cell_type": "code",
      "source": [
        "df_null=df[df['Answers'].isna()]"
      ],
      "metadata": {
        "id": "p24fSWX98L4S"
      },
      "execution_count": null,
      "outputs": []
    },
    {
      "cell_type": "code",
      "source": [
        "plt.figure(figsize=[7,7])\n",
        "top_Qtype_null=df_null['Qtypes'].value_counts().plot(kind='bar',alpha=0.5,color='blue')"
      ],
      "metadata": {
        "colab": {
          "base_uri": "https://localhost:8080/",
          "height": 623
        },
        "id": "oJVf0450qovT",
        "outputId": "407b43d2-e654-4980-91e5-ca9d5506ac15"
      },
      "execution_count": null,
      "outputs": [
        {
          "output_type": "display_data",
          "data": {
            "text/plain": [
              "<Figure size 504x504 with 1 Axes>"
            ],
            "image/png": "[encoded data removed]"
          },
          "metadata": {
            "needs_background": "light"
          }
        }
      ]
    },
    {
      "cell_type": "markdown",
      "source": [
        "The most question type with missing answers are in `'information'` question type and rest do not have that much difference.\n",
        "\n",
        "The question type with the least missing answers is `'stages'`."
      ],
      "metadata": {
        "id": "5kP37RfH_A7K"
      }
    },
    {
      "cell_type": "code",
      "source": [
        "plt.figure(figsize=[10,10])\n",
        "top_Qfocus_null=df_null['Focus'].value_counts().head(10).plot(kind='bar',alpha=0.5,color='blue')"
      ],
      "metadata": {
        "colab": {
          "base_uri": "https://localhost:8080/",
          "height": 671
        },
        "id": "Gh3Y3YZI8XTy",
        "outputId": "e97dc9fd-99cf-4990-8806-f6958eb49300"
      },
      "execution_count": null,
      "outputs": [
        {
          "output_type": "display_data",
          "data": {
            "text/plain": [
              "<Figure size 720x720 with 1 Axes>"
            ],
            "image/png": "[encoded data removed]"
          },
          "metadata": {
            "needs_background": "light"
          }
        }
      ]
    },
    {
      "cell_type": "markdown",
      "source": [
        "In the top 10 missing values in records, the question focus with most missing values is `'Senna'`"
      ],
      "metadata": {
        "id": "hM6rhhOZBv0i"
      }
    }
  ]
}