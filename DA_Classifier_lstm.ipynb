{
  "cells": [
    {
      "cell_type": "code",
      "execution_count": 1,
      "metadata": {
        "id": "HbAAFXSnq_eO"
      },
      "outputs": [],
      "source": [
        "import numpy as np\n",
        "import pandas as pd\n",
        "import tensorflow as tf\n",
        "from tensorflow import keras\n",
        "from sklearn.model_selection import train_test_split\n",
        "from pprint import pprint\n",
        "tf.random.set_seed(1234)\n",
        "from tensorflow.keras.preprocessing.text import Tokenizer\n",
        "from tensorflow.keras.preprocessing.sequence import pad_sequences\n",
        "from tensorflow.keras.layers import Dense,Dropout\n",
        "from tensorflow.keras.optimizers import Adam,Nadam\n",
        "import matplotlib.pyplot as plt\n",
        "from keras.utils.vis_utils import plot_model\n",
        "from sklearn.metrics import roc_auc_score,roc_curve"
      ]
    },
    {
      "cell_type": "markdown",
      "metadata": {
        "id": "RiQxRHizvE_m"
      },
      "source": [
        "#Read the data"
      ]
    },
    {
      "cell_type": "code",
      "source": [
        "from google.colab import drive\n",
        "drive.mount('/content/drive')"
      ],
      "metadata": {
        "colab": {
          "base_uri": "https://localhost:8080/"
        },
        "id": "wky8Tty3LkF3",
        "outputId": "e5fd23b8-20d1-4fbe-9e22-703020ca3584"
      },
      "execution_count": 2,
      "outputs": [
        {
          "output_type": "stream",
          "name": "stdout",
          "text": [
            "Mounted at /content/drive\n"
          ]
        }
      ]
    },
    {
      "cell_type": "code",
      "execution_count": 3,
      "metadata": {
        "id": "Y_Jb2ie2uByw"
      },
      "outputs": [],
      "source": [
        "df=pd.read_csv('/content/drive/MyDrive/Training/extracted_df.csv')"
      ]
    },
    {
      "cell_type": "markdown",
      "metadata": {
        "id": "X8C-LwKlw2Fy"
      },
      "source": [
        "First, we will drop the index column \"Unnamed: 0\", \"Q_num\" and \"URL\".\n",
        "\n",
        "Second, we will encode the \"Rank\" column.\n"
      ]
    },
    {
      "cell_type": "markdown",
      "metadata": {
        "id": "4NphjXWavCvs"
      },
      "source": [
        "#Data Investigation"
      ]
    },
    {
      "cell_type": "code",
      "execution_count": 4,
      "metadata": {
        "colab": {
          "base_uri": "https://localhost:8080/"
        },
        "id": "jnLQUHsJvZFg",
        "outputId": "f9a1432f-995a-45c9-c214-8a1267d5dbc3"
      },
      "outputs": [
        {
          "output_type": "execute_result",
          "data": {
            "text/plain": [
              "(2479, 6)"
            ]
          },
          "metadata": {},
          "execution_count": 4
        }
      ],
      "source": [
        "df.shape"
      ]
    },
    {
      "cell_type": "code",
      "execution_count": 5,
      "metadata": {
        "colab": {
          "base_uri": "https://localhost:8080/"
        },
        "id": "b4sHY1mQuq3e",
        "outputId": "1b36f763-5102-41b2-be98-f262f5ca4192"
      },
      "outputs": [
        {
          "output_type": "execute_result",
          "data": {
            "text/plain": [
              "Unnamed: 0    2479\n",
              "Q_num          103\n",
              "Rank             4\n",
              "Answer        1896\n",
              "Question      1805\n",
              "URL            919\n",
              "dtype: int64"
            ]
          },
          "metadata": {},
          "execution_count": 5
        }
      ],
      "source": [
        "df.nunique()"
      ]
    },
    {
      "cell_type": "code",
      "execution_count": 6,
      "metadata": {
        "colab": {
          "base_uri": "https://localhost:8080/"
        },
        "id": "PEBwZzWwKynu",
        "outputId": "c5223c65-d601-4332-e5ca-ebd8aef46f6d"
      },
      "outputs": [
        {
          "output_type": "execute_result",
          "data": {
            "text/plain": [
              "4"
            ]
          },
          "metadata": {},
          "execution_count": 6
        }
      ],
      "source": [
        "len_rank=df['Rank'].nunique()\n",
        "len_rank"
      ]
    },
    {
      "cell_type": "code",
      "execution_count": 7,
      "metadata": {
        "colab": {
          "base_uri": "https://localhost:8080/"
        },
        "id": "up4cW47b2X_k",
        "outputId": "99f201f1-35e0-4866-b267-b9056f1acfb4"
      },
      "outputs": [
        {
          "output_type": "execute_result",
          "data": {
            "text/plain": [
              "1-Incorrect     1436\n",
              "2-Related        678\n",
              "3-Incomplete     223\n",
              "4-Excellent      142\n",
              "Name: Rank, dtype: int64"
            ]
          },
          "metadata": {},
          "execution_count": 7
        }
      ],
      "source": [
        "count_rank=df['Rank'].value_counts()\n",
        "count_rank"
      ]
    },
    {
      "cell_type": "code",
      "execution_count": 8,
      "metadata": {
        "colab": {
          "base_uri": "https://localhost:8080/",
          "height": 300
        },
        "id": "eaugT-2Lu1b8",
        "outputId": "248a7128-194b-4588-ba4a-c3061993698a"
      },
      "outputs": [
        {
          "output_type": "execute_result",
          "data": {
            "text/plain": [
              "        Unnamed: 0        Q_num\n",
              "count  2479.000000  2479.000000\n",
              "mean   1239.000000    51.393304\n",
              "std     715.769982    29.858339\n",
              "min       0.000000     1.000000\n",
              "25%     619.500000    26.000000\n",
              "50%    1239.000000    50.000000\n",
              "75%    1858.500000    77.000000\n",
              "max    2478.000000   104.000000"
            ],
            "text/html": [
              "\n",
              "  <div id=\"df-8d542878-eab8-478b-bc6b-bb8a90ed06b9\">\n",
              "    <div class=\"colab-df-container\">\n",
              "      <div>\n",
              "<style scoped>\n",
              "    .dataframe tbody tr th:only-of-type {\n",
              "        vertical-align: middle;\n",
              "    }\n",
              "\n",
              "    .dataframe tbody tr th {\n",
              "        vertical-align: top;\n",
              "    }\n",
              "\n",
              "    .dataframe thead th {\n",
              "        text-align: right;\n",
              "    }\n",
              "</style>\n",
              "<table border=\"1\" class=\"dataframe\">\n",
              "  <thead>\n",
              "    <tr style=\"text-align: right;\">\n",
              "      <th></th>\n",
              "      <th>Unnamed: 0</th>\n",
              "      <th>Q_num</th>\n",
              "    </tr>\n",
              "  </thead>\n",
              "  <tbody>\n",
              "    <tr>\n",
              "      <th>count</th>\n",
              "      <td>2479.000000</td>\n",
              "      <td>2479.000000</td>\n",
              "    </tr>\n",
              "    <tr>\n",
              "      <th>mean</th>\n",
              "      <td>1239.000000</td>\n",
              "      <td>51.393304</td>\n",
              "    </tr>\n",
              "    <tr>\n",
              "      <th>std</th>\n",
              "      <td>715.769982</td>\n",
              "      <td>29.858339</td>\n",
              "    </tr>\n",
              "    <tr>\n",
              "      <th>min</th>\n",
              "      <td>0.000000</td>\n",
              "      <td>1.000000</td>\n",
              "    </tr>\n",
              "    <tr>\n",
              "      <th>25%</th>\n",
              "      <td>619.500000</td>\n",
              "      <td>26.000000</td>\n",
              "    </tr>\n",
              "    <tr>\n",
              "      <th>50%</th>\n",
              "      <td>1239.000000</td>\n",
              "      <td>50.000000</td>\n",
              "    </tr>\n",
              "    <tr>\n",
              "      <th>75%</th>\n",
              "      <td>1858.500000</td>\n",
              "      <td>77.000000</td>\n",
              "    </tr>\n",
              "    <tr>\n",
              "      <th>max</th>\n",
              "      <td>2478.000000</td>\n",
              "      <td>104.000000</td>\n",
              "    </tr>\n",
              "  </tbody>\n",
              "</table>\n",
              "</div>\n",
              "      <button class=\"colab-df-convert\" onclick=\"convertToInteractive('df-8d542878-eab8-478b-bc6b-bb8a90ed06b9')\"\n",
              "              title=\"Convert this dataframe to an interactive table.\"\n",
              "              style=\"display:none;\">\n",
              "        \n",
              "  <svg xmlns=\"http://www.w3.org/2000/svg\" height=\"24px\"viewBox=\"0 0 24 24\"\n",
              "       width=\"24px\">\n",
              "    <path d=\"M0 0h24v24H0V0z\" fill=\"none\"/>\n",
              "    <path d=\"M18.56 5.44l.94 2.06.94-2.06 2.06-.94-2.06-.94-.94-2.06-.94 2.06-2.06.94zm-11 1L8.5 8.5l.94-2.06 2.06-.94-2.06-.94L8.5 2.5l-.94 2.06-2.06.94zm10 10l.94 2.06.94-2.06 2.06-.94-2.06-.94-.94-2.06-.94 2.06-2.06.94z\"/><path d=\"M17.41 7.96l-1.37-1.37c-.4-.4-.92-.59-1.43-.59-.52 0-1.04.2-1.43.59L10.3 9.45l-7.72 7.72c-.78.78-.78 2.05 0 2.83L4 21.41c.39.39.9.59 1.41.59.51 0 1.02-.2 1.41-.59l7.78-7.78 2.81-2.81c.8-.78.8-2.07 0-2.86zM5.41 20L4 18.59l7.72-7.72 1.47 1.35L5.41 20z\"/>\n",
              "  </svg>\n",
              "      </button>\n",
              "      \n",
              "  <style>\n",
              "    .colab-df-container {\n",
              "      display:flex;\n",
              "      flex-wrap:wrap;\n",
              "      gap: 12px;\n",
              "    }\n",
              "\n",
              "    .colab-df-convert {\n",
              "      background-color: #E8F0FE;\n",
              "      border: none;\n",
              "      border-radius: 50%;\n",
              "      cursor: pointer;\n",
              "      display: none;\n",
              "      fill: #1967D2;\n",
              "      height: 32px;\n",
              "      padding: 0 0 0 0;\n",
              "      width: 32px;\n",
              "    }\n",
              "\n",
              "    .colab-df-convert:hover {\n",
              "      background-color: #E2EBFA;\n",
              "      box-shadow: 0px 1px 2px rgba(60, 64, 67, 0.3), 0px 1px 3px 1px rgba(60, 64, 67, 0.15);\n",
              "      fill: #174EA6;\n",
              "    }\n",
              "\n",
              "    [theme=dark] .colab-df-convert {\n",
              "      background-color: #3B4455;\n",
              "      fill: #D2E3FC;\n",
              "    }\n",
              "\n",
              "    [theme=dark] .colab-df-convert:hover {\n",
              "      background-color: #434B5C;\n",
              "      box-shadow: 0px 1px 3px 1px rgba(0, 0, 0, 0.15);\n",
              "      filter: drop-shadow(0px 1px 2px rgba(0, 0, 0, 0.3));\n",
              "      fill: #FFFFFF;\n",
              "    }\n",
              "  </style>\n",
              "\n",
              "      <script>\n",
              "        const buttonEl =\n",
              "          document.querySelector('#df-8d542878-eab8-478b-bc6b-bb8a90ed06b9 button.colab-df-convert');\n",
              "        buttonEl.style.display =\n",
              "          google.colab.kernel.accessAllowed ? 'block' : 'none';\n",
              "\n",
              "        async function convertToInteractive(key) {\n",
              "          const element = document.querySelector('#df-8d542878-eab8-478b-bc6b-bb8a90ed06b9');\n",
              "          const dataTable =\n",
              "            await google.colab.kernel.invokeFunction('convertToInteractive',\n",
              "                                                     [key], {});\n",
              "          if (!dataTable) return;\n",
              "\n",
              "          const docLinkHtml = 'Like what you see? Visit the ' +\n",
              "            '<a target=\"_blank\" href=https://colab.research.google.com/notebooks/data_table.ipynb>data table notebook</a>'\n",
              "            + ' to learn more about interactive tables.';\n",
              "          element.innerHTML = '';\n",
              "          dataTable['output_type'] = 'display_data';\n",
              "          await google.colab.output.renderOutput(dataTable, element);\n",
              "          const docLink = document.createElement('div');\n",
              "          docLink.innerHTML = docLinkHtml;\n",
              "          element.appendChild(docLink);\n",
              "        }\n",
              "      </script>\n",
              "    </div>\n",
              "  </div>\n",
              "  "
            ]
          },
          "metadata": {},
          "execution_count": 8
        }
      ],
      "source": [
        "df.describe()"
      ]
    },
    {
      "cell_type": "code",
      "execution_count": 9,
      "metadata": {
        "colab": {
          "base_uri": "https://localhost:8080/"
        },
        "id": "WdUfgMAtvgsA",
        "outputId": "ee4bd79e-3cd9-4be9-bf23-070c895f9ea2"
      },
      "outputs": [
        {
          "output_type": "stream",
          "name": "stdout",
          "text": [
            "<class 'pandas.core.frame.DataFrame'>\n",
            "RangeIndex: 2479 entries, 0 to 2478\n",
            "Data columns (total 6 columns):\n",
            " #   Column      Non-Null Count  Dtype \n",
            "---  ------      --------------  ----- \n",
            " 0   Unnamed: 0  2479 non-null   int64 \n",
            " 1   Q_num       2479 non-null   int64 \n",
            " 2   Rank        2479 non-null   object\n",
            " 3   Answer      2479 non-null   object\n",
            " 4   Question    2479 non-null   object\n",
            " 5   URL         2479 non-null   object\n",
            "dtypes: int64(2), object(4)\n",
            "memory usage: 116.3+ KB\n"
          ]
        }
      ],
      "source": [
        "df.info()"
      ]
    },
    {
      "cell_type": "code",
      "execution_count": 10,
      "metadata": {
        "colab": {
          "base_uri": "https://localhost:8080/"
        },
        "id": "jTrWJtFavu6r",
        "outputId": "cd4f06dc-ef93-4eee-f6f3-e68b6db42de6"
      },
      "outputs": [
        {
          "output_type": "execute_result",
          "data": {
            "text/plain": [
              "0"
            ]
          },
          "metadata": {},
          "execution_count": 10
        }
      ],
      "source": [
        "df.isnull().any().sum()"
      ]
    },
    {
      "cell_type": "code",
      "execution_count": 11,
      "metadata": {
        "colab": {
          "base_uri": "https://localhost:8080/"
        },
        "id": "zHexTSEuv0X0",
        "outputId": "1158aa8c-7f5f-4426-a4c8-ffaaef18f8b1"
      },
      "outputs": [
        {
          "output_type": "execute_result",
          "data": {
            "text/plain": [
              "0"
            ]
          },
          "metadata": {},
          "execution_count": 11
        }
      ],
      "source": [
        "df.duplicated().sum()"
      ]
    },
    {
      "cell_type": "markdown",
      "metadata": {
        "id": "dwgysfSSwMmF"
      },
      "source": [
        "# Data Preprocessing"
      ]
    },
    {
      "cell_type": "markdown",
      "metadata": {
        "id": "BoEhDKygwWTz"
      },
      "source": [
        "## Data Cleaning"
      ]
    },
    {
      "cell_type": "code",
      "execution_count": 12,
      "metadata": {
        "id": "CD06y40Uwc96"
      },
      "outputs": [],
      "source": [
        "#Dropping columns\n",
        "df.drop(columns=[\"Unnamed: 0\", \"Q_num\", \"URL\"], inplace=True)\n",
        "\n",
        "#Encoding \"Rank\" column\n",
        "for i in range (len(df)):\n",
        "  df['Rank'].values[i]=df['Rank'].values[i][0]\n",
        "\n",
        "df['Rank']=df['Rank'].astype(int)\n",
        "df['Rank']=df['Rank']-1"
      ]
    },
    {
      "cell_type": "markdown",
      "metadata": {
        "id": "NZDOGKwo9kVr"
      },
      "source": [
        "## Train-Test Split\n",
        "We'll split by ratio 8:2 \n",
        "**Note that:** By doing some math, we will put the test size as 36% as we will up sample the training set later on. After all, the real split would be 8:2 "
      ]
    },
    {
      "cell_type": "code",
      "execution_count": 13,
      "metadata": {
        "id": "l5ahqhU6u_A3"
      },
      "outputs": [],
      "source": [
        "train, test = train_test_split(\n",
        "    df, test_size=0.35, random_state=42)\n"
      ]
    },
    {
      "cell_type": "code",
      "execution_count": 14,
      "metadata": {
        "colab": {
          "base_uri": "https://localhost:8080/"
        },
        "id": "WTRBjxgFvc6i",
        "outputId": "573d614e-9591-425a-868f-fba9e1d72bee"
      },
      "outputs": [
        {
          "output_type": "execute_result",
          "data": {
            "text/plain": [
              "0    929\n",
              "1    447\n",
              "2    140\n",
              "3     95\n",
              "Name: Rank, dtype: int64"
            ]
          },
          "metadata": {},
          "execution_count": 14
        }
      ],
      "source": [
        "train['Rank'].value_counts()"
      ]
    },
    {
      "cell_type": "code",
      "execution_count": 15,
      "metadata": {
        "id": "vl7gHYB5vUj9"
      },
      "outputs": [],
      "source": [
        "#Assign samples of each class to a new variable then convert it to numpy array\n",
        "class_0=train[train['Rank']==0]\n",
        "class_1=train[train['Rank']==1]\n",
        "class_2=train[train['Rank']==2]\n",
        "class_3=train[train['Rank']==3]"
      ]
    },
    {
      "cell_type": "code",
      "execution_count": 16,
      "metadata": {
        "colab": {
          "base_uri": "https://localhost:8080/",
          "height": 424
        },
        "id": "3CGxV_By1oOn",
        "outputId": "3efe3683-0f86-48c5-9c66-d670794dd999"
      },
      "outputs": [
        {
          "output_type": "execute_result",
          "data": {
            "text/plain": [
              "      Rank                                             Answer  \\\n",
              "1430     3  The \"First\"Outbreak\\n  \\nIn May 1993, an outbr...   \n",
              "221      3  Strep is short for Streptococcus, a type of ba...   \n",
              "2372     3  The health care provider will do a physical ex...   \n",
              "1978     3  Prediabetes means your blood glucose levels ar...   \n",
              "447      3  Swimmer's ear is inflammation, irritation, or ...   \n",
              "...    ...                                                ...   \n",
              "1570     3  More than 90% of children with trisomy 13 die ...   \n",
              "502      3  There is no known prevention for Beckwith-Wied...   \n",
              "2278     3  Summary : An upper GI and small bowel series i...   \n",
              "995      3  Keep all appointments with your doctor and the...   \n",
              "1129     3  In most cases, isolated sleep paralysis occurs...   \n",
              "\n",
              "                                               Question  \n",
              "1430        what is the history of hps for Hantavirus ?  \n",
              "221   What is (are) Streptococcal Infections ? (Also...  \n",
              "2372             How to diagnose Autoimmune disorders ?  \n",
              "1978                           What is (are) Diabetes ?  \n",
              "447   What is (are) Swimmer's ear ? (Also called: Ea...  \n",
              "...                                                 ...  \n",
              "1570  What is the outlook for Trisomy 13 ? (Also cal...  \n",
              "502        How to prevent Beckwith-Wiedemann syndrome ?  \n",
              "2278  Do you have information about Upper GI and sma...  \n",
              "995   What other information should I know about Met...  \n",
              "1129  What are the treatments for Isolated sleep par...  \n",
              "\n",
              "[95 rows x 3 columns]"
            ],
            "text/html": [
              "\n",
              "  <div id=\"df-594903b3-43f2-4221-8424-62e0be9c7f93\">\n",
              "    <div class=\"colab-df-container\">\n",
              "      <div>\n",
              "<style scoped>\n",
              "    .dataframe tbody tr th:only-of-type {\n",
              "        vertical-align: middle;\n",
              "    }\n",
              "\n",
              "    .dataframe tbody tr th {\n",
              "        vertical-align: top;\n",
              "    }\n",
              "\n",
              "    .dataframe thead th {\n",
              "        text-align: right;\n",
              "    }\n",
              "</style>\n",
              "<table border=\"1\" class=\"dataframe\">\n",
              "  <thead>\n",
              "    <tr style=\"text-align: right;\">\n",
              "      <th></th>\n",
              "      <th>Rank</th>\n",
              "      <th>Answer</th>\n",
              "      <th>Question</th>\n",
              "    </tr>\n",
              "  </thead>\n",
              "  <tbody>\n",
              "    <tr>\n",
              "      <th>1430</th>\n",
              "      <td>3</td>\n",
              "      <td>The \"First\"Outbreak\\n  \\nIn May 1993, an outbr...</td>\n",
              "      <td>what is the history of hps for Hantavirus ?</td>\n",
              "    </tr>\n",
              "    <tr>\n",
              "      <th>221</th>\n",
              "      <td>3</td>\n",
              "      <td>Strep is short for Streptococcus, a type of ba...</td>\n",
              "      <td>What is (are) Streptococcal Infections ? (Also...</td>\n",
              "    </tr>\n",
              "    <tr>\n",
              "      <th>2372</th>\n",
              "      <td>3</td>\n",
              "      <td>The health care provider will do a physical ex...</td>\n",
              "      <td>How to diagnose Autoimmune disorders ?</td>\n",
              "    </tr>\n",
              "    <tr>\n",
              "      <th>1978</th>\n",
              "      <td>3</td>\n",
              "      <td>Prediabetes means your blood glucose levels ar...</td>\n",
              "      <td>What is (are) Diabetes ?</td>\n",
              "    </tr>\n",
              "    <tr>\n",
              "      <th>447</th>\n",
              "      <td>3</td>\n",
              "      <td>Swimmer's ear is inflammation, irritation, or ...</td>\n",
              "      <td>What is (are) Swimmer's ear ? (Also called: Ea...</td>\n",
              "    </tr>\n",
              "    <tr>\n",
              "      <th>...</th>\n",
              "      <td>...</td>\n",
              "      <td>...</td>\n",
              "      <td>...</td>\n",
              "    </tr>\n",
              "    <tr>\n",
              "      <th>1570</th>\n",
              "      <td>3</td>\n",
              "      <td>More than 90% of children with trisomy 13 die ...</td>\n",
              "      <td>What is the outlook for Trisomy 13 ? (Also cal...</td>\n",
              "    </tr>\n",
              "    <tr>\n",
              "      <th>502</th>\n",
              "      <td>3</td>\n",
              "      <td>There is no known prevention for Beckwith-Wied...</td>\n",
              "      <td>How to prevent Beckwith-Wiedemann syndrome ?</td>\n",
              "    </tr>\n",
              "    <tr>\n",
              "      <th>2278</th>\n",
              "      <td>3</td>\n",
              "      <td>Summary : An upper GI and small bowel series i...</td>\n",
              "      <td>Do you have information about Upper GI and sma...</td>\n",
              "    </tr>\n",
              "    <tr>\n",
              "      <th>995</th>\n",
              "      <td>3</td>\n",
              "      <td>Keep all appointments with your doctor and the...</td>\n",
              "      <td>What other information should I know about Met...</td>\n",
              "    </tr>\n",
              "    <tr>\n",
              "      <th>1129</th>\n",
              "      <td>3</td>\n",
              "      <td>In most cases, isolated sleep paralysis occurs...</td>\n",
              "      <td>What are the treatments for Isolated sleep par...</td>\n",
              "    </tr>\n",
              "  </tbody>\n",
              "</table>\n",
              "<p>95 rows × 3 columns</p>\n",
              "</div>\n",
              "      <button class=\"colab-df-convert\" onclick=\"convertToInteractive('df-594903b3-43f2-4221-8424-62e0be9c7f93')\"\n",
              "              title=\"Convert this dataframe to an interactive table.\"\n",
              "              style=\"display:none;\">\n",
              "        \n",
              "  <svg xmlns=\"http://www.w3.org/2000/svg\" height=\"24px\"viewBox=\"0 0 24 24\"\n",
              "       width=\"24px\">\n",
              "    <path d=\"M0 0h24v24H0V0z\" fill=\"none\"/>\n",
              "    <path d=\"M18.56 5.44l.94 2.06.94-2.06 2.06-.94-2.06-.94-.94-2.06-.94 2.06-2.06.94zm-11 1L8.5 8.5l.94-2.06 2.06-.94-2.06-.94L8.5 2.5l-.94 2.06-2.06.94zm10 10l.94 2.06.94-2.06 2.06-.94-2.06-.94-.94-2.06-.94 2.06-2.06.94z\"/><path d=\"M17.41 7.96l-1.37-1.37c-.4-.4-.92-.59-1.43-.59-.52 0-1.04.2-1.43.59L10.3 9.45l-7.72 7.72c-.78.78-.78 2.05 0 2.83L4 21.41c.39.39.9.59 1.41.59.51 0 1.02-.2 1.41-.59l7.78-7.78 2.81-2.81c.8-.78.8-2.07 0-2.86zM5.41 20L4 18.59l7.72-7.72 1.47 1.35L5.41 20z\"/>\n",
              "  </svg>\n",
              "      </button>\n",
              "      \n",
              "  <style>\n",
              "    .colab-df-container {\n",
              "      display:flex;\n",
              "      flex-wrap:wrap;\n",
              "      gap: 12px;\n",
              "    }\n",
              "\n",
              "    .colab-df-convert {\n",
              "      background-color: #E8F0FE;\n",
              "      border: none;\n",
              "      border-radius: 50%;\n",
              "      cursor: pointer;\n",
              "      display: none;\n",
              "      fill: #1967D2;\n",
              "      height: 32px;\n",
              "      padding: 0 0 0 0;\n",
              "      width: 32px;\n",
              "    }\n",
              "\n",
              "    .colab-df-convert:hover {\n",
              "      background-color: #E2EBFA;\n",
              "      box-shadow: 0px 1px 2px rgba(60, 64, 67, 0.3), 0px 1px 3px 1px rgba(60, 64, 67, 0.15);\n",
              "      fill: #174EA6;\n",
              "    }\n",
              "\n",
              "    [theme=dark] .colab-df-convert {\n",
              "      background-color: #3B4455;\n",
              "      fill: #D2E3FC;\n",
              "    }\n",
              "\n",
              "    [theme=dark] .colab-df-convert:hover {\n",
              "      background-color: #434B5C;\n",
              "      box-shadow: 0px 1px 3px 1px rgba(0, 0, 0, 0.15);\n",
              "      filter: drop-shadow(0px 1px 2px rgba(0, 0, 0, 0.3));\n",
              "      fill: #FFFFFF;\n",
              "    }\n",
              "  </style>\n",
              "\n",
              "      <script>\n",
              "        const buttonEl =\n",
              "          document.querySelector('#df-594903b3-43f2-4221-8424-62e0be9c7f93 button.colab-df-convert');\n",
              "        buttonEl.style.display =\n",
              "          google.colab.kernel.accessAllowed ? 'block' : 'none';\n",
              "\n",
              "        async function convertToInteractive(key) {\n",
              "          const element = document.querySelector('#df-594903b3-43f2-4221-8424-62e0be9c7f93');\n",
              "          const dataTable =\n",
              "            await google.colab.kernel.invokeFunction('convertToInteractive',\n",
              "                                                     [key], {});\n",
              "          if (!dataTable) return;\n",
              "\n",
              "          const docLinkHtml = 'Like what you see? Visit the ' +\n",
              "            '<a target=\"_blank\" href=https://colab.research.google.com/notebooks/data_table.ipynb>data table notebook</a>'\n",
              "            + ' to learn more about interactive tables.';\n",
              "          element.innerHTML = '';\n",
              "          dataTable['output_type'] = 'display_data';\n",
              "          await google.colab.output.renderOutput(dataTable, element);\n",
              "          const docLink = document.createElement('div');\n",
              "          docLink.innerHTML = docLinkHtml;\n",
              "          element.appendChild(docLink);\n",
              "        }\n",
              "      </script>\n",
              "    </div>\n",
              "  </div>\n",
              "  "
            ]
          },
          "metadata": {},
          "execution_count": 16
        }
      ],
      "source": [
        "class_3=train[train['Rank']==3]\n",
        "class_3"
      ]
    },
    {
      "cell_type": "code",
      "execution_count": 17,
      "metadata": {
        "colab": {
          "base_uri": "https://localhost:8080/"
        },
        "id": "l3yomnm6vUj_",
        "outputId": "017a3ab7-d947-4191-c14c-2db2fded751e"
      },
      "outputs": [
        {
          "output_type": "stream",
          "name": "stdout",
          "text": [
            "(929, 3) (929, 3) (929, 3)\n",
            "(929, 3)\n"
          ]
        }
      ],
      "source": [
        "#Upsampling the minority class\n",
        "from sklearn.utils import resample\n",
        "min_cls1_upsampled = resample(class_1,\n",
        "             replace=True,\n",
        "             n_samples=len(class_0),\n",
        "             random_state=42)\n",
        "\n",
        "min_cls2_upsampled = resample(class_2,\n",
        "             replace=True,\n",
        "             n_samples=len(class_0),\n",
        "             random_state=42)\n",
        "\n",
        "min_cls3_upsampled = resample(class_3,\n",
        "             replace=True,\n",
        "             n_samples=len(class_0),\n",
        "             random_state=42)\n",
        "\n",
        "print(min_cls1_upsampled.shape,min_cls2_upsampled.shape,min_cls3_upsampled.shape)\n",
        "print(class_0.shape)"
      ]
    },
    {
      "cell_type": "code",
      "execution_count": 18,
      "metadata": {
        "colab": {
          "base_uri": "https://localhost:8080/"
        },
        "id": "KFXYbXfryPWf",
        "outputId": "2abe5764-089b-4631-a802-7a2c4a999ded"
      },
      "outputs": [
        {
          "output_type": "execute_result",
          "data": {
            "text/plain": [
              "(3716, 3)"
            ]
          },
          "metadata": {},
          "execution_count": 18
        }
      ],
      "source": [
        "train= pd.concat([min_cls1_upsampled,min_cls2_upsampled,min_cls3_upsampled, class_0])\n",
        "train.shape"
      ]
    },
    {
      "cell_type": "markdown",
      "metadata": {
        "id": "S7f5yGIL8BWA"
      },
      "source": [
        "##Assign Train and Test Data"
      ]
    },
    {
      "cell_type": "code",
      "execution_count": 19,
      "metadata": {
        "id": "7u-cMY1V3HAe"
      },
      "outputs": [],
      "source": [
        "xtr=train.loc[:, train.columns != 'Rank']\n",
        "ytr=train.loc[:, train.columns == 'Rank']\n",
        "\n",
        "xts=df.loc[:, test.columns != 'Rank']\n",
        "yts=df.loc[:, test.columns == 'Rank']"
      ]
    },
    {
      "cell_type": "markdown",
      "metadata": {
        "id": "MmQl_MC8_tOx"
      },
      "source": [
        "##Data Preprocessing for NLP model\n",
        "vocab size:\tthe maximum number of words to keep, based on word frequency 40k \n"
      ]
    },
    {
      "cell_type": "code",
      "execution_count": 20,
      "metadata": {
        "colab": {
          "base_uri": "https://localhost:8080/"
        },
        "id": "xRG2k-8K94up",
        "outputId": "49d3ffec-7f9f-43b9-e289-0effc13cc57b"
      },
      "outputs": [
        {
          "output_type": "stream",
          "name": "stdout",
          "text": [
            "(3716, 100)\n",
            "(3716, 250)\n"
          ]
        }
      ],
      "source": [
        "# preprocess text data\n",
        "\n",
        "vocab_sizeQ = 100000\n",
        "vocab_sizeA=150000\n",
        "max_lenQ = 100\n",
        "max_lenA = 250\n",
        "\n",
        "\n",
        "# build vocabulary from training set\n",
        "tokenizerQ = Tokenizer(num_words=vocab_sizeQ)\n",
        "tokenizerQ.fit_on_texts(xtr['Question'])\n",
        "\n",
        "tokenizerA = Tokenizer(num_words=vocab_sizeA)\n",
        "tokenizerA.fit_on_texts(xtr['Answer'])\n",
        "\n",
        "\n",
        "def Q_preprocess(list_of_text):\n",
        "    return pad_sequences(\n",
        "        tokenizerQ.texts_to_sequences(list_of_text),\n",
        "        maxlen=max_lenQ,\n",
        "        padding='post',\n",
        "    )\n",
        "\n",
        "def A_preprocess(list_of_text):\n",
        "    return pad_sequences(\n",
        "        tokenizerA.texts_to_sequences(list_of_text),\n",
        "        maxlen=max_lenA,\n",
        "        padding='post',\n",
        "    )   \n",
        "\n",
        "# padding is done inside: \n",
        "pre_Q = Q_preprocess(xtr['Question'])\n",
        "pre_A = A_preprocess(xtr['Answer'])\n",
        "print(pre_Q.shape)\n",
        "print(pre_A.shape)"
      ]
    },
    {
      "cell_type": "code",
      "execution_count": 21,
      "metadata": {
        "colab": {
          "base_uri": "https://localhost:8080/"
        },
        "id": "Xto-PjkrDYI5",
        "outputId": "32a8f75d-2929-497d-e21d-b24b9c930f20"
      },
      "outputs": [
        {
          "output_type": "stream",
          "name": "stdout",
          "text": [
            "['what causes fibromyalgia also called fibromyositis fibrositis',\n",
            " 'what is are autoimmune hepatitis',\n",
            " 'what to do in case of emergency or overdose of calcitonin salmon nasal spray',\n",
            " 'how can i learn more about shingles zoster vaccine',\n",
            " 'what causes joint swelling also called swelling of a joint']\n",
            "===================================\n",
            "['the cause is unknown possible causes or triggers of fibromyalgia include '\n",
            " 'physical or emotional trauma abnormal pain response areas in the brain that '\n",
            " 'control pain may react differently in people with fibromyalgia sleep '\n",
            " 'disturbances infection such as a virus although none has been identified '\n",
            " 'fibromyalgia is most common among women age 20 to 50 the following '\n",
            " 'conditions may be seen with fibromyalgia or have similar symptoms chronic '\n",
            " 'neck or back pain chronic fatigue syndrome depression hypothyroidism '\n",
            " 'underactive thyroid lyme disease sleep disorders',\n",
            " 'at any age however it most often starts in adolescence or young adulthood '\n",
            " 'about 70 percent of people with type 1 autoimmune hepatitis are female 1 '\n",
            " 'people with type 1 autoimmune hepatitis commonly have other autoimmune '\n",
            " 'disorders such as celiac disease an autoimmune disease in which people '\n",
            " 'cannot tolerate gluten because it damages the lining of their small '\n",
            " \"intestine and prevents absorption of nutrients crohn's disease which causes \"\n",
            " \"inflammation and irritation of any part of the digestive tract graves' \"\n",
            " 'disease the most common cause of hyperthyroidism in the united states '\n",
            " \"hashimoto's disease also called chronic lymphocytic thyroiditis or \"\n",
            " 'autoimmune thyroiditis a form of chronic inflammation of the thyroid gland '\n",
            " 'proliferative glomerulonephritis or inflammation of the glomeruli which are '\n",
            " 'tiny clusters of looping blood vessels in the kidneys primary sclerosing '\n",
            " 'cholangitis which causes irritation scarring and narrowing of the bile ducts '\n",
            " 'inside and outside the liver rheumatoid arthritis which causes pain swelling '\n",
            " \"stiffness and loss of function in the joints sjgren's syndrome which causes \"\n",
            " 'dryness in the mouth and eyes systemic lupus erythematosus which causes '\n",
            " 'kidney inflammation called lupus nephritis type 1 diabetes a condition '\n",
            " 'characterized by high blood glucose also called blood sugar levels caused by '\n",
            " 'a total lack of insulin ulcerative colitis a chronic disease that causes '\n",
            " 'inflammation and sores called ulcers in the inner lining of the large '\n",
            " 'intestine type 2 autoimmune hepatitis is less common and occurs more often '\n",
            " 'in children than adults 1 people with type 2 can also have any of the above '\n",
            " 'autoimmune disorders',\n",
            " 'in case of overdose call your local poison control center at 1 800 222 1222 '\n",
            " 'if the victim has collapsed or is not breathing call local emergency '\n",
            " 'services at 911',\n",
            " 'ask your doctor or other health care provider they can give you the vaccine '\n",
            " 'package insert or suggest other sources of information contact the centers '\n",
            " 'for disease control and prevention cdc call 1 800 232 4636 1 800 cdc info or '\n",
            " \"visit the cdc's website at http www cdc gov vaccines shingles zoster vaccine \"\n",
            " 'information statement u s department of health and human services centers '\n",
            " 'for disease control and prevention 10 6 09',\n",
            " 'joint swelling may be causedby different conditions including ankylosing '\n",
            " 'spondylitis gout osteoarthritis pseudogout psoriatic arthritis reactive '\n",
            " 'arthritis rheumatoid arthritis septic arthritis systemic lupus erythematosus']\n"
          ]
        }
      ],
      "source": [
        "# we can use the tokenizer to convert IDs to words.\n",
        "pprint(tokenizerQ.sequences_to_texts(pre_Q[:5]))\n",
        "print(\"===================================\")\n",
        "pprint(tokenizerA.sequences_to_texts(pre_A[:5]))"
      ]
    },
    {
      "cell_type": "code",
      "execution_count": 22,
      "metadata": {
        "colab": {
          "base_uri": "https://localhost:8080/"
        },
        "id": "uJi5kyJzELU-",
        "outputId": "c0ff39ba-67dd-40ec-ccc8-802a5f94b6c8"
      },
      "outputs": [
        {
          "output_type": "stream",
          "name": "stdout",
          "text": [
            "total words in the questions dictionary: 100000\n",
            "total words in the answers dictionary: 150000\n"
          ]
        }
      ],
      "source": [
        "print('total words in the questions dictionary:', tokenizerQ.num_words)\n",
        "print('total words in the answers dictionary:', tokenizerA.num_words)"
      ]
    },
    {
      "cell_type": "code",
      "execution_count": 23,
      "metadata": {
        "id": "zuotJKvKFy8a"
      },
      "outputs": [],
      "source": [
        "#Preprocess test data\n",
        "pre_Qt = Q_preprocess(xts['Question'])\n",
        "pre_At = A_preprocess(xts['Answer'])"
      ]
    },
    {
      "cell_type": "markdown",
      "metadata": {
        "id": "NUgl9_W9JfPy"
      },
      "source": [
        "# Building The NLP Model"
      ]
    },
    {
      "cell_type": "code",
      "execution_count": 24,
      "metadata": {
        "colab": {
          "base_uri": "https://localhost:8080/"
        },
        "id": "q8Or08o6Ja6O",
        "outputId": "ccd83829-3fc0-46af-ee01-5512d25aef37"
      },
      "outputs": [
        {
          "output_type": "stream",
          "name": "stdout",
          "text": [
            "KerasTensor(type_spec=TensorSpec(shape=(None, 100), dtype=tf.float32, name=None), name='dense/Relu:0', description=\"created by layer 'dense'\")\n",
            "Model: \"model\"\n",
            "__________________________________________________________________________________________________\n",
            " Layer (type)                   Output Shape         Param #     Connected to                     \n",
            "==================================================================================================\n",
            " input_1 (InputLayer)           [(None, 100)]        0           []                               \n",
            "                                                                                                  \n",
            " input_2 (InputLayer)           [(None, 250)]        0           []                               \n",
            "                                                                                                  \n",
            " embedding (Embedding)          (None, 100, 100)     10000000    ['input_1[0][0]']                \n",
            "                                                                                                  \n",
            " embedding_1 (Embedding)        (None, 250, 100)     15000000    ['input_2[0][0]']                \n",
            "                                                                                                  \n",
            " lstm (LSTM)                    (None, 100, 32)      17024       ['embedding[0][0]']              \n",
            "                                                                                                  \n",
            " lstm_2 (LSTM)                  (None, 250, 32)      17024       ['embedding_1[0][0]']            \n",
            "                                                                                                  \n",
            " lstm_1 (LSTM)                  (None, 64)           24832       ['lstm[0][0]']                   \n",
            "                                                                                                  \n",
            " lstm_3 (LSTM)                  (None, 64)           24832       ['lstm_2[0][0]']                 \n",
            "                                                                                                  \n",
            " dense (Dense)                  (None, 100)          6500        ['lstm_1[0][0]']                 \n",
            "                                                                                                  \n",
            " dense_1 (Dense)                (None, 100)          6500        ['lstm_3[0][0]']                 \n",
            "                                                                                                  \n",
            " concatenate_1 (Concatenate)    (None, 200)          0           ['dense[0][0]',                  \n",
            "                                                                  'dense_1[0][0]']                \n",
            "                                                                                                  \n",
            " type (Dense)                   (None, 4)            804         ['concatenate_1[0][0]']          \n",
            "                                                                                                  \n",
            "==================================================================================================\n",
            "Total params: 25,097,516\n",
            "Trainable params: 25,097,516\n",
            "Non-trainable params: 0\n",
            "__________________________________________________________________________________________________\n"
          ]
        }
      ],
      "source": [
        "in_Q = keras.Input(batch_shape=(None, max_lenQ))\n",
        "in_A = keras.Input(batch_shape=(None, max_lenA))\n",
        "# Bidirectional LSTMs are an extension of traditional LSTMs that can improve model\n",
        "# performance on sequence classification problems.\n",
        "embedded1 = keras.layers.Embedding(tokenizerQ.num_words, 100)(in_Q)\n",
        "lstm = keras.layers.LSTM(32, return_sequences=True)(embedded1)\n",
        "lstm1 = keras.layers.LSTM(64, return_sequences=False) (lstm)\n",
        "#bidirectional2 = keras.layers.Bidirectional(keras.layers.LSTM(256, return_sequences=False))(embedded1)#(bidirectional1)\n",
        "fc1 = Dense(100, activation='relu')(lstm1)\n",
        "print(fc1)\n",
        "embedded2 = keras.layers.Embedding(tokenizerA.num_words, 100)(in_A)\n",
        "merged = keras.layers.Concatenate(axis=1)([embedded1, embedded2])\n",
        "lstm2 = keras.layers.LSTM(32, return_sequences=True)(embedded2)\n",
        "lstm3 = keras.layers.LSTM(64, return_sequences=False)(lstm2)\n",
        "#bidirectional5 = keras.layers.Bidirectional(keras.layers.LSTM(256, return_sequences=False))(embedded2)#(bidirectional4)\n",
        "fc2 = Dense(100, activation='relu')(lstm3)\n",
        "\n",
        "\n",
        "fused = keras.layers.Concatenate(axis=1)([fc1, fc2])\n",
        "\n",
        "rank = Dense(len_rank, activation='softmax', name='type')(fused)\n",
        "\n",
        "model = keras.Model(\n",
        "    inputs={\n",
        "        'Question':in_Q,\n",
        "        'Answer':in_A\n",
        "    },\n",
        "    outputs=rank\n",
        ")\n",
        "\n",
        "model.compile(\n",
        "    optimizer=Adam(),\n",
        "    loss='sparse_categorical_crossentropy', \n",
        "    metrics='SparseCategoricalAccuracy' \n",
        "\n",
        ")\n",
        "\n",
        "model.summary()"
      ]
    },
    {
      "cell_type": "code",
      "source": [
        "tf.keras.utils.plot_model(\n",
        "model, to_file='model.png', show_shapes=False, show_dtype=False,\n",
        "show_layer_names=True, rankdir='TB', expand_nested=False, dpi=96\n",
        ")"
      ],
      "metadata": {
        "colab": {
          "base_uri": "https://localhost:8080/",
          "height": 661
        },
        "id": "XyhWPVK2MUGX",
        "outputId": "1bc76780-2e39-40c6-819e-f6bdecc42150"
      },
      "execution_count": 25,
      "outputs": [
        {
          "output_type": "execute_result",
          "data": {
            "text/plain": [
              "<IPython.core.display.Image object>"
            ],
            "image/png": "[encoded data removed]"
          },
          "metadata": {},
          "execution_count": 25
        }
      ]
    },
    {
      "cell_type": "markdown",
      "metadata": {
        "id": "HgkjUELst7mU"
      },
      "source": [
        "## Bidirectional Model Training"
      ]
    },
    {
      "cell_type": "code",
      "execution_count": 26,
      "metadata": {
        "colab": {
          "base_uri": "https://localhost:8080/"
        },
        "id": "Fel17zr6t7mf",
        "outputId": "a381230a-0342-4883-88ee-3204ca76f48b"
      },
      "outputs": [
        {
          "output_type": "stream",
          "name": "stdout",
          "text": [
            "Epoch 1/50\n",
            "93/93 [==============================] - 48s 430ms/step - loss: 1.2305 - sparse_categorical_accuracy: 0.3668 - val_loss: 2.6464 - val_sparse_categorical_accuracy: 0.0000e+00\n",
            "Epoch 2/50\n",
            "93/93 [==============================] - 38s 409ms/step - loss: 1.1507 - sparse_categorical_accuracy: 0.4226 - val_loss: 2.9767 - val_sparse_categorical_accuracy: 0.0000e+00\n",
            "Epoch 3/50\n",
            "93/93 [==============================] - 38s 409ms/step - loss: 1.1046 - sparse_categorical_accuracy: 0.4512 - val_loss: 2.6638 - val_sparse_categorical_accuracy: 0.0000e+00\n",
            "Epoch 4/50\n",
            "93/93 [==============================] - 40s 431ms/step - loss: 1.0813 - sparse_categorical_accuracy: 0.4670 - val_loss: 2.7075 - val_sparse_categorical_accuracy: 0.0000e+00\n",
            "Epoch 5/50\n",
            "93/93 [==============================] - 40s 429ms/step - loss: 1.0484 - sparse_categorical_accuracy: 0.4690 - val_loss: 2.9508 - val_sparse_categorical_accuracy: 0.0242\n",
            "Epoch 6/50\n",
            "93/93 [==============================] - 40s 435ms/step - loss: 1.0284 - sparse_categorical_accuracy: 0.4768 - val_loss: 2.1898 - val_sparse_categorical_accuracy: 0.1384\n",
            "Epoch 7/50\n",
            "93/93 [==============================] - 38s 405ms/step - loss: 1.0230 - sparse_categorical_accuracy: 0.4879 - val_loss: 2.2524 - val_sparse_categorical_accuracy: 0.2030\n",
            "Epoch 8/50\n",
            "93/93 [==============================] - 38s 409ms/step - loss: 1.0052 - sparse_categorical_accuracy: 0.4748 - val_loss: 2.3813 - val_sparse_categorical_accuracy: 0.1855\n",
            "Epoch 9/50\n",
            "93/93 [==============================] - 38s 412ms/step - loss: 0.9996 - sparse_categorical_accuracy: 0.4872 - val_loss: 2.2615 - val_sparse_categorical_accuracy: 0.2258\n",
            "Epoch 10/50\n",
            "93/93 [==============================] - 38s 405ms/step - loss: 1.0016 - sparse_categorical_accuracy: 0.4768 - val_loss: 2.3527 - val_sparse_categorical_accuracy: 0.1653\n",
            "Epoch 11/50\n",
            "93/93 [==============================] - 38s 409ms/step - loss: 0.9904 - sparse_categorical_accuracy: 0.4859 - val_loss: 2.4151 - val_sparse_categorical_accuracy: 0.1949\n",
            "Epoch 12/50\n",
            "93/93 [==============================] - 38s 404ms/step - loss: 0.9878 - sparse_categorical_accuracy: 0.4764 - val_loss: 2.3460 - val_sparse_categorical_accuracy: 0.2003\n"
          ]
        }
      ],
      "source": [
        "history = model.fit(\n",
        "    x={\n",
        "        'Question': pre_Q,\n",
        "        'Answer': pre_A\n",
        "    },\n",
        "    y=ytr,\n",
        "    epochs=50,\n",
        "    batch_size=32,\n",
        "    validation_split=0.2,\n",
        "    callbacks=[\n",
        "        tf.keras.callbacks.EarlyStopping(monitor='val_loss', patience=6,restore_best_weights=True )\n",
        "    ],\n",
        "    verbose=1\n",
        ")"
      ]
    },
    {
      "cell_type": "code",
      "execution_count": 27,
      "metadata": {
        "id": "nuIxXhFU-Hqr"
      },
      "outputs": [],
      "source": [
        "y_predict = model.predict(\n",
        "    {\n",
        "        'Question': pre_Qt,\n",
        "        'Answer': pre_At\n",
        "    }\n",
        ")"
      ]
    },
    {
      "cell_type": "code",
      "execution_count": 28,
      "metadata": {
        "colab": {
          "base_uri": "https://localhost:8080/"
        },
        "id": "cNUu6RY8GXjp",
        "outputId": "801bab1f-2e46-481b-89f0-63678adcd8ac"
      },
      "outputs": [
        {
          "output_type": "stream",
          "name": "stdout",
          "text": [
            "78/78 [==============================] - 5s 61ms/step - loss: 1.6987 - sparse_categorical_accuracy: 0.3707\n"
          ]
        },
        {
          "output_type": "execute_result",
          "data": {
            "text/plain": [
              "[1.698747992515564, 0.370714008808136]"
            ]
          },
          "metadata": {},
          "execution_count": 28
        }
      ],
      "source": [
        "model.evaluate(\n",
        "        x={\n",
        "        'Question': pre_Qt,\n",
        "        'Answer': pre_At\n",
        "        }, \n",
        "        y=yts)"
      ]
    },
    {
      "cell_type": "code",
      "source": [
        "y_predict=np.argmax(y_predict, axis=1)"
      ],
      "metadata": {
        "id": "UwJ63Co3RHyE"
      },
      "execution_count": 29,
      "outputs": []
    },
    {
      "cell_type": "code",
      "source": [
        "from sklearn.metrics import confusion_matrix, classification_report\n",
        "conf_matrix = confusion_matrix(yts, y_predict) ## confusion matrix\n",
        "class_report = classification_report(yts,y_predict,zero_division=1) ## classification report\n",
        "print(\"Confusion matrix\\n\\n\" ,conf_matrix , \"\\n\")\n",
        "print(class_report)"
      ],
      "metadata": {
        "colab": {
          "base_uri": "https://localhost:8080/"
        },
        "id": "DhbcH-LPQ3F5",
        "outputId": "4553f3d6-8d6c-4957-d79b-c56bf429d488"
      },
      "execution_count": 30,
      "outputs": [
        {
          "output_type": "stream",
          "name": "stdout",
          "text": [
            "Confusion matrix\n",
            "\n",
            " [[ 223 1173   33    7]\n",
            " [  23  635   15    5]\n",
            " [   6  178   33    6]\n",
            " [   8  104    2   28]] \n",
            "\n",
            "              precision    recall  f1-score   support\n",
            "\n",
            "           0       0.86      0.16      0.26      1436\n",
            "           1       0.30      0.94      0.46       678\n",
            "           2       0.40      0.15      0.22       223\n",
            "           3       0.61      0.20      0.30       142\n",
            "\n",
            "    accuracy                           0.37      2479\n",
            "   macro avg       0.54      0.36      0.31      2479\n",
            "weighted avg       0.65      0.37      0.31      2479\n",
            "\n"
          ]
        }
      ]
    },
    {
      "cell_type": "code",
      "execution_count": 31,
      "metadata": {
        "colab": {
          "base_uri": "https://localhost:8080/",
          "height": 513
        },
        "id": "uzG37dOX30Jn",
        "outputId": "6c7b64cb-da20-4316-b8a6-1474e9270a93"
      },
      "outputs": [
        {
          "output_type": "display_data",
          "data": {
            "text/plain": [
              "<Figure size 720x576 with 2 Axes>"
            ],
            "image/png": "[encoded data removed]"
          },
          "metadata": {
            "needs_background": "light"
          }
        }
      ],
      "source": [
        "# Plotting  model training accuracy and validation accuracy curves with epochs \n",
        "plt.figure(figsize=(10, 8), )\n",
        "plt.subplot(1, 2, 1)\n",
        "plt.xlabel('Epochs')\n",
        "plt.ylabel('Accuracy')\n",
        "plt.plot(history.history['sparse_categorical_accuracy'], label='Training Accuracy')\n",
        "plt.plot(history.history['val_sparse_categorical_accuracy'], label='Validation Accuracy')\n",
        "plt.legend(loc='lower right')\n",
        "plt.title('                         ')\n",
        "\n",
        "# Plotting  model training loss and validation loss curves with epoch\n",
        "plt.subplot(1, 2, 2)\n",
        "plt.xlabel('Epochs')\n",
        "plt.ylabel('Loss')\n",
        "plt.plot(history.history['loss'], label='Training Loss')\n",
        "plt.plot(history.history['val_loss'], label='Validation Loss')\n",
        "plt.legend(loc='upper right')\n",
        "plt.show()"
      ]
    }
  ],
  "metadata": {
    "accelerator": "GPU",
    "colab": {
      "collapsed_sections": [],
      "name": "DA_Classifier_lstm.ipynb",
      "provenance": [],
      "machine_shape": "hm"
    },
    "kernelspec": {
      "display_name": "Python 3",
      "name": "python3"
    },
    "language_info": {
      "name": "python"
    }
  },
  "nbformat": 4,
  "nbformat_minor": 0
}