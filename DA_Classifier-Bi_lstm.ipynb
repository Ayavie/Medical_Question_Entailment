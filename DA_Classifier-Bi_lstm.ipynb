{
  "cells": [
    {
      "cell_type": "code",
      "execution_count": 1,
      "metadata": {
        "id": "HbAAFXSnq_eO"
      },
      "outputs": [],
      "source": [
        "import numpy as np\n",
        "import pandas as pd\n",
        "import tensorflow as tf\n",
        "from tensorflow import keras\n",
        "from sklearn.model_selection import train_test_split\n",
        "from pprint import pprint\n",
        "tf.random.set_seed(1234)\n",
        "from tensorflow.keras.preprocessing.text import Tokenizer\n",
        "from tensorflow.keras.preprocessing.sequence import pad_sequences\n",
        "from tensorflow.keras.layers import Dense,Dropout\n",
        "from tensorflow.keras.optimizers import Adam,Nadam\n",
        "import matplotlib.pyplot as plt\n",
        "from keras.utils.vis_utils import plot_model"
      ]
    },
    {
      "cell_type": "markdown",
      "metadata": {
        "id": "RiQxRHizvE_m"
      },
      "source": [
        "#Read the data"
      ]
    },
    {
      "cell_type": "code",
      "source": [
        "from google.colab import drive\n",
        "drive.mount('/content/drive')"
      ],
      "metadata": {
        "colab": {
          "base_uri": "https://localhost:8080/"
        },
        "id": "wky8Tty3LkF3",
        "outputId": "bd27cf6d-50f6-477e-ae4c-a2096bdb9c97"
      },
      "execution_count": 2,
      "outputs": [
        {
          "output_type": "stream",
          "name": "stdout",
          "text": [
            "Drive already mounted at /content/drive; to attempt to forcibly remount, call drive.mount(\"/content/drive\", force_remount=True).\n"
          ]
        }
      ]
    },
    {
      "cell_type": "code",
      "execution_count": 3,
      "metadata": {
        "id": "Y_Jb2ie2uByw"
      },
      "outputs": [],
      "source": [
        "df=pd.read_csv('/content/drive/MyDrive/Training/extracted_df.csv')"
      ]
    },
    {
      "cell_type": "markdown",
      "metadata": {
        "id": "X8C-LwKlw2Fy"
      },
      "source": [
        "First, we will drop the index column \"Unnamed: 0\", \"Q_num\" and \"URL\".\n",
        "\n",
        "Second, we will encode the \"Rank\" column.\n"
      ]
    },
    {
      "cell_type": "markdown",
      "metadata": {
        "id": "4NphjXWavCvs"
      },
      "source": [
        "#Data Investigation"
      ]
    },
    {
      "cell_type": "code",
      "execution_count": 4,
      "metadata": {
        "colab": {
          "base_uri": "https://localhost:8080/"
        },
        "id": "jnLQUHsJvZFg",
        "outputId": "ace9f5f3-c51b-4b6f-a099-dbe447961fdd"
      },
      "outputs": [
        {
          "output_type": "execute_result",
          "data": {
            "text/plain": [
              "(2479, 6)"
            ]
          },
          "metadata": {},
          "execution_count": 4
        }
      ],
      "source": [
        "df.shape"
      ]
    },
    {
      "cell_type": "code",
      "execution_count": 5,
      "metadata": {
        "colab": {
          "base_uri": "https://localhost:8080/"
        },
        "id": "b4sHY1mQuq3e",
        "outputId": "a9503ba6-1abf-4c96-fd29-33ec2de3edca"
      },
      "outputs": [
        {
          "output_type": "execute_result",
          "data": {
            "text/plain": [
              "Unnamed: 0    2479\n",
              "Q_num          103\n",
              "Rank             4\n",
              "Answer        1896\n",
              "Question      1805\n",
              "URL            919\n",
              "dtype: int64"
            ]
          },
          "metadata": {},
          "execution_count": 5
        }
      ],
      "source": [
        "df.nunique()"
      ]
    },
    {
      "cell_type": "code",
      "execution_count": 6,
      "metadata": {
        "colab": {
          "base_uri": "https://localhost:8080/"
        },
        "id": "PEBwZzWwKynu",
        "outputId": "89c1dca8-356f-4103-c0d1-f6e4bf24556e"
      },
      "outputs": [
        {
          "output_type": "execute_result",
          "data": {
            "text/plain": [
              "4"
            ]
          },
          "metadata": {},
          "execution_count": 6
        }
      ],
      "source": [
        "len_rank=df['Rank'].nunique()\n",
        "len_rank"
      ]
    },
    {
      "cell_type": "code",
      "execution_count": 7,
      "metadata": {
        "colab": {
          "base_uri": "https://localhost:8080/"
        },
        "id": "up4cW47b2X_k",
        "outputId": "a1782529-aebd-4733-9e4c-d797428451b0"
      },
      "outputs": [
        {
          "output_type": "execute_result",
          "data": {
            "text/plain": [
              "1-Incorrect     1436\n",
              "2-Related        678\n",
              "3-Incomplete     223\n",
              "4-Excellent      142\n",
              "Name: Rank, dtype: int64"
            ]
          },
          "metadata": {},
          "execution_count": 7
        }
      ],
      "source": [
        "count_rank=df['Rank'].value_counts()\n",
        "count_rank"
      ]
    },
    {
      "cell_type": "code",
      "execution_count": 8,
      "metadata": {
        "colab": {
          "base_uri": "https://localhost:8080/",
          "height": 300
        },
        "id": "eaugT-2Lu1b8",
        "outputId": "357e6fe4-ccee-4467-94ba-17cc171163f7"
      },
      "outputs": [
        {
          "output_type": "execute_result",
          "data": {
            "text/plain": [
              "        Unnamed: 0        Q_num\n",
              "count  2479.000000  2479.000000\n",
              "mean   1239.000000    51.393304\n",
              "std     715.769982    29.858339\n",
              "min       0.000000     1.000000\n",
              "25%     619.500000    26.000000\n",
              "50%    1239.000000    50.000000\n",
              "75%    1858.500000    77.000000\n",
              "max    2478.000000   104.000000"
            ],
            "text/html": [
              "\n",
              "  <div id=\"df-c6ed14e5-2fea-48ca-bac2-6887bf0d19e1\">\n",
              "    <div class=\"colab-df-container\">\n",
              "      <div>\n",
              "<style scoped>\n",
              "    .dataframe tbody tr th:only-of-type {\n",
              "        vertical-align: middle;\n",
              "    }\n",
              "\n",
              "    .dataframe tbody tr th {\n",
              "        vertical-align: top;\n",
              "    }\n",
              "\n",
              "    .dataframe thead th {\n",
              "        text-align: right;\n",
              "    }\n",
              "</style>\n",
              "<table border=\"1\" class=\"dataframe\">\n",
              "  <thead>\n",
              "    <tr style=\"text-align: right;\">\n",
              "      <th></th>\n",
              "      <th>Unnamed: 0</th>\n",
              "      <th>Q_num</th>\n",
              "    </tr>\n",
              "  </thead>\n",
              "  <tbody>\n",
              "    <tr>\n",
              "      <th>count</th>\n",
              "      <td>2479.000000</td>\n",
              "      <td>2479.000000</td>\n",
              "    </tr>\n",
              "    <tr>\n",
              "      <th>mean</th>\n",
              "      <td>1239.000000</td>\n",
              "      <td>51.393304</td>\n",
              "    </tr>\n",
              "    <tr>\n",
              "      <th>std</th>\n",
              "      <td>715.769982</td>\n",
              "      <td>29.858339</td>\n",
              "    </tr>\n",
              "    <tr>\n",
              "      <th>min</th>\n",
              "      <td>0.000000</td>\n",
              "      <td>1.000000</td>\n",
              "    </tr>\n",
              "    <tr>\n",
              "      <th>25%</th>\n",
              "      <td>619.500000</td>\n",
              "      <td>26.000000</td>\n",
              "    </tr>\n",
              "    <tr>\n",
              "      <th>50%</th>\n",
              "      <td>1239.000000</td>\n",
              "      <td>50.000000</td>\n",
              "    </tr>\n",
              "    <tr>\n",
              "      <th>75%</th>\n",
              "      <td>1858.500000</td>\n",
              "      <td>77.000000</td>\n",
              "    </tr>\n",
              "    <tr>\n",
              "      <th>max</th>\n",
              "      <td>2478.000000</td>\n",
              "      <td>104.000000</td>\n",
              "    </tr>\n",
              "  </tbody>\n",
              "</table>\n",
              "</div>\n",
              "      <button class=\"colab-df-convert\" onclick=\"convertToInteractive('df-c6ed14e5-2fea-48ca-bac2-6887bf0d19e1')\"\n",
              "              title=\"Convert this dataframe to an interactive table.\"\n",
              "              style=\"display:none;\">\n",
              "        \n",
              "  <svg xmlns=\"http://www.w3.org/2000/svg\" height=\"24px\"viewBox=\"0 0 24 24\"\n",
              "       width=\"24px\">\n",
              "    <path d=\"M0 0h24v24H0V0z\" fill=\"none\"/>\n",
              "    <path d=\"M18.56 5.44l.94 2.06.94-2.06 2.06-.94-2.06-.94-.94-2.06-.94 2.06-2.06.94zm-11 1L8.5 8.5l.94-2.06 2.06-.94-2.06-.94L8.5 2.5l-.94 2.06-2.06.94zm10 10l.94 2.06.94-2.06 2.06-.94-2.06-.94-.94-2.06-.94 2.06-2.06.94z\"/><path d=\"M17.41 7.96l-1.37-1.37c-.4-.4-.92-.59-1.43-.59-.52 0-1.04.2-1.43.59L10.3 9.45l-7.72 7.72c-.78.78-.78 2.05 0 2.83L4 21.41c.39.39.9.59 1.41.59.51 0 1.02-.2 1.41-.59l7.78-7.78 2.81-2.81c.8-.78.8-2.07 0-2.86zM5.41 20L4 18.59l7.72-7.72 1.47 1.35L5.41 20z\"/>\n",
              "  </svg>\n",
              "      </button>\n",
              "      \n",
              "  <style>\n",
              "    .colab-df-container {\n",
              "      display:flex;\n",
              "      flex-wrap:wrap;\n",
              "      gap: 12px;\n",
              "    }\n",
              "\n",
              "    .colab-df-convert {\n",
              "      background-color: #E8F0FE;\n",
              "      border: none;\n",
              "      border-radius: 50%;\n",
              "      cursor: pointer;\n",
              "      display: none;\n",
              "      fill: #1967D2;\n",
              "      height: 32px;\n",
              "      padding: 0 0 0 0;\n",
              "      width: 32px;\n",
              "    }\n",
              "\n",
              "    .colab-df-convert:hover {\n",
              "      background-color: #E2EBFA;\n",
              "      box-shadow: 0px 1px 2px rgba(60, 64, 67, 0.3), 0px 1px 3px 1px rgba(60, 64, 67, 0.15);\n",
              "      fill: #174EA6;\n",
              "    }\n",
              "\n",
              "    [theme=dark] .colab-df-convert {\n",
              "      background-color: #3B4455;\n",
              "      fill: #D2E3FC;\n",
              "    }\n",
              "\n",
              "    [theme=dark] .colab-df-convert:hover {\n",
              "      background-color: #434B5C;\n",
              "      box-shadow: 0px 1px 3px 1px rgba(0, 0, 0, 0.15);\n",
              "      filter: drop-shadow(0px 1px 2px rgba(0, 0, 0, 0.3));\n",
              "      fill: #FFFFFF;\n",
              "    }\n",
              "  </style>\n",
              "\n",
              "      <script>\n",
              "        const buttonEl =\n",
              "          document.querySelector('#df-c6ed14e5-2fea-48ca-bac2-6887bf0d19e1 button.colab-df-convert');\n",
              "        buttonEl.style.display =\n",
              "          google.colab.kernel.accessAllowed ? 'block' : 'none';\n",
              "\n",
              "        async function convertToInteractive(key) {\n",
              "          const element = document.querySelector('#df-c6ed14e5-2fea-48ca-bac2-6887bf0d19e1');\n",
              "          const dataTable =\n",
              "            await google.colab.kernel.invokeFunction('convertToInteractive',\n",
              "                                                     [key], {});\n",
              "          if (!dataTable) return;\n",
              "\n",
              "          const docLinkHtml = 'Like what you see? Visit the ' +\n",
              "            '<a target=\"_blank\" href=https://colab.research.google.com/notebooks/data_table.ipynb>data table notebook</a>'\n",
              "            + ' to learn more about interactive tables.';\n",
              "          element.innerHTML = '';\n",
              "          dataTable['output_type'] = 'display_data';\n",
              "          await google.colab.output.renderOutput(dataTable, element);\n",
              "          const docLink = document.createElement('div');\n",
              "          docLink.innerHTML = docLinkHtml;\n",
              "          element.appendChild(docLink);\n",
              "        }\n",
              "      </script>\n",
              "    </div>\n",
              "  </div>\n",
              "  "
            ]
          },
          "metadata": {},
          "execution_count": 8
        }
      ],
      "source": [
        "df.describe()"
      ]
    },
    {
      "cell_type": "code",
      "execution_count": 9,
      "metadata": {
        "colab": {
          "base_uri": "https://localhost:8080/"
        },
        "id": "WdUfgMAtvgsA",
        "outputId": "679887c3-0e5c-4d6f-afdc-fe477d1d5365"
      },
      "outputs": [
        {
          "output_type": "stream",
          "name": "stdout",
          "text": [
            "<class 'pandas.core.frame.DataFrame'>\n",
            "RangeIndex: 2479 entries, 0 to 2478\n",
            "Data columns (total 6 columns):\n",
            " #   Column      Non-Null Count  Dtype \n",
            "---  ------      --------------  ----- \n",
            " 0   Unnamed: 0  2479 non-null   int64 \n",
            " 1   Q_num       2479 non-null   int64 \n",
            " 2   Rank        2479 non-null   object\n",
            " 3   Answer      2479 non-null   object\n",
            " 4   Question    2479 non-null   object\n",
            " 5   URL         2479 non-null   object\n",
            "dtypes: int64(2), object(4)\n",
            "memory usage: 116.3+ KB\n"
          ]
        }
      ],
      "source": [
        "df.info()"
      ]
    },
    {
      "cell_type": "code",
      "execution_count": 10,
      "metadata": {
        "colab": {
          "base_uri": "https://localhost:8080/"
        },
        "id": "jTrWJtFavu6r",
        "outputId": "4e3a75e5-ce6d-4fa8-d8f7-4c503dc69e93"
      },
      "outputs": [
        {
          "output_type": "execute_result",
          "data": {
            "text/plain": [
              "0"
            ]
          },
          "metadata": {},
          "execution_count": 10
        }
      ],
      "source": [
        "df.isnull().any().sum()"
      ]
    },
    {
      "cell_type": "code",
      "execution_count": 11,
      "metadata": {
        "colab": {
          "base_uri": "https://localhost:8080/"
        },
        "id": "zHexTSEuv0X0",
        "outputId": "48a9f2c5-82b0-4420-c446-847401091254"
      },
      "outputs": [
        {
          "output_type": "execute_result",
          "data": {
            "text/plain": [
              "0"
            ]
          },
          "metadata": {},
          "execution_count": 11
        }
      ],
      "source": [
        "df.duplicated().sum()"
      ]
    },
    {
      "cell_type": "markdown",
      "metadata": {
        "id": "dwgysfSSwMmF"
      },
      "source": [
        "# Data Preprocessing"
      ]
    },
    {
      "cell_type": "markdown",
      "metadata": {
        "id": "BoEhDKygwWTz"
      },
      "source": [
        "## Data Cleaning"
      ]
    },
    {
      "cell_type": "code",
      "execution_count": 12,
      "metadata": {
        "id": "CD06y40Uwc96"
      },
      "outputs": [],
      "source": [
        "#Dropping columns\n",
        "df.drop(columns=[\"Unnamed: 0\", \"Q_num\",\"URL\"], inplace=True)\n",
        "\n",
        "#Encoding \"Rank\" column\n",
        "for i in range (len(df)):\n",
        "  df['Rank'].values[i]=df['Rank'].values[i][0]\n",
        "\n",
        "df['Rank']=df['Rank'].astype(int)\n",
        "df['Rank']=df['Rank']-1"
      ]
    },
    {
      "cell_type": "markdown",
      "metadata": {
        "id": "NZDOGKwo9kVr"
      },
      "source": [
        "## Train-Test Split\n",
        "We'll split by ratio 8:2 \n",
        "**Note that:** By doing some math, we will put the test size as 36% as we will up sample the training set later on. After all, the real split would be 8:2 "
      ]
    },
    {
      "cell_type": "code",
      "execution_count": 13,
      "metadata": {
        "id": "l5ahqhU6u_A3"
      },
      "outputs": [],
      "source": [
        "train, test = train_test_split(\n",
        "    df, test_size=0.36, random_state=42)\n"
      ]
    },
    {
      "cell_type": "code",
      "execution_count": 14,
      "metadata": {
        "colab": {
          "base_uri": "https://localhost:8080/"
        },
        "id": "WTRBjxgFvc6i",
        "outputId": "37672627-a1f4-4795-83f0-a767c77216bd"
      },
      "outputs": [
        {
          "output_type": "execute_result",
          "data": {
            "text/plain": [
              "0    915\n",
              "1    439\n",
              "2    140\n",
              "3     92\n",
              "Name: Rank, dtype: int64"
            ]
          },
          "metadata": {},
          "execution_count": 14
        }
      ],
      "source": [
        "train['Rank'].value_counts()"
      ]
    },
    {
      "cell_type": "code",
      "execution_count": 15,
      "metadata": {
        "id": "vl7gHYB5vUj9"
      },
      "outputs": [],
      "source": [
        "#Assign samples of each class to a new variable then convert it to numpy array\n",
        "class_0=train[train['Rank']==0]\n",
        "class_1=train[train['Rank']==1]\n",
        "class_2=train[train['Rank']==2]\n",
        "class_3=train[train['Rank']==3]"
      ]
    },
    {
      "cell_type": "code",
      "execution_count": 16,
      "metadata": {
        "colab": {
          "base_uri": "https://localhost:8080/",
          "height": 424
        },
        "id": "3CGxV_By1oOn",
        "outputId": "1fa680e2-5515-472f-896b-60917992ee21"
      },
      "outputs": [
        {
          "output_type": "execute_result",
          "data": {
            "text/plain": [
              "      Rank                                             Answer  \\\n",
              "1978     3  Prediabetes means your blood glucose levels ar...   \n",
              "447      3  Swimmer's ear is inflammation, irritation, or ...   \n",
              "2302     3  Espaol\\n                \\nA heart attack happe...   \n",
              "2204     3  Your provider will take a medical history and ...   \n",
              "942      3  Antiphospholipid (AN-te-fos-fo-LIP-id) antibod...   \n",
              "...    ...                                                ...   \n",
              "1570     3  More than 90% of children with trisomy 13 die ...   \n",
              "502      3  There is no known prevention for Beckwith-Wied...   \n",
              "2278     3  Summary : An upper GI and small bowel series i...   \n",
              "995      3  Keep all appointments with your doctor and the...   \n",
              "1129     3  In most cases, isolated sleep paralysis occurs...   \n",
              "\n",
              "                                               Question  \n",
              "1978                           What is (are) Diabetes ?  \n",
              "447   What is (are) Swimmer's ear ? (Also called: Ea...  \n",
              "2302                       What is (are) Heart Attack ?  \n",
              "2204  What is the outlook for Foot, leg, and ankle s...  \n",
              "942   What is (are) Antiphospholipid Antibody Syndro...  \n",
              "...                                                 ...  \n",
              "1570  What is the outlook for Trisomy 13 ? (Also cal...  \n",
              "502        How to prevent Beckwith-Wiedemann syndrome ?  \n",
              "2278  Do you have information about Upper GI and sma...  \n",
              "995   What other information should I know about Met...  \n",
              "1129  What are the treatments for Isolated sleep par...  \n",
              "\n",
              "[92 rows x 3 columns]"
            ],
            "text/html": [
              "\n",
              "  <div id=\"df-aa243532-87d1-4928-9abb-91da757803f8\">\n",
              "    <div class=\"colab-df-container\">\n",
              "      <div>\n",
              "<style scoped>\n",
              "    .dataframe tbody tr th:only-of-type {\n",
              "        vertical-align: middle;\n",
              "    }\n",
              "\n",
              "    .dataframe tbody tr th {\n",
              "        vertical-align: top;\n",
              "    }\n",
              "\n",
              "    .dataframe thead th {\n",
              "        text-align: right;\n",
              "    }\n",
              "</style>\n",
              "<table border=\"1\" class=\"dataframe\">\n",
              "  <thead>\n",
              "    <tr style=\"text-align: right;\">\n",
              "      <th></th>\n",
              "      <th>Rank</th>\n",
              "      <th>Answer</th>\n",
              "      <th>Question</th>\n",
              "    </tr>\n",
              "  </thead>\n",
              "  <tbody>\n",
              "    <tr>\n",
              "      <th>1978</th>\n",
              "      <td>3</td>\n",
              "      <td>Prediabetes means your blood glucose levels ar...</td>\n",
              "      <td>What is (are) Diabetes ?</td>\n",
              "    </tr>\n",
              "    <tr>\n",
              "      <th>447</th>\n",
              "      <td>3</td>\n",
              "      <td>Swimmer's ear is inflammation, irritation, or ...</td>\n",
              "      <td>What is (are) Swimmer's ear ? (Also called: Ea...</td>\n",
              "    </tr>\n",
              "    <tr>\n",
              "      <th>2302</th>\n",
              "      <td>3</td>\n",
              "      <td>Espaol\\n                \\nA heart attack happe...</td>\n",
              "      <td>What is (are) Heart Attack ?</td>\n",
              "    </tr>\n",
              "    <tr>\n",
              "      <th>2204</th>\n",
              "      <td>3</td>\n",
              "      <td>Your provider will take a medical history and ...</td>\n",
              "      <td>What is the outlook for Foot, leg, and ankle s...</td>\n",
              "    </tr>\n",
              "    <tr>\n",
              "      <th>942</th>\n",
              "      <td>3</td>\n",
              "      <td>Antiphospholipid (AN-te-fos-fo-LIP-id) antibod...</td>\n",
              "      <td>What is (are) Antiphospholipid Antibody Syndro...</td>\n",
              "    </tr>\n",
              "    <tr>\n",
              "      <th>...</th>\n",
              "      <td>...</td>\n",
              "      <td>...</td>\n",
              "      <td>...</td>\n",
              "    </tr>\n",
              "    <tr>\n",
              "      <th>1570</th>\n",
              "      <td>3</td>\n",
              "      <td>More than 90% of children with trisomy 13 die ...</td>\n",
              "      <td>What is the outlook for Trisomy 13 ? (Also cal...</td>\n",
              "    </tr>\n",
              "    <tr>\n",
              "      <th>502</th>\n",
              "      <td>3</td>\n",
              "      <td>There is no known prevention for Beckwith-Wied...</td>\n",
              "      <td>How to prevent Beckwith-Wiedemann syndrome ?</td>\n",
              "    </tr>\n",
              "    <tr>\n",
              "      <th>2278</th>\n",
              "      <td>3</td>\n",
              "      <td>Summary : An upper GI and small bowel series i...</td>\n",
              "      <td>Do you have information about Upper GI and sma...</td>\n",
              "    </tr>\n",
              "    <tr>\n",
              "      <th>995</th>\n",
              "      <td>3</td>\n",
              "      <td>Keep all appointments with your doctor and the...</td>\n",
              "      <td>What other information should I know about Met...</td>\n",
              "    </tr>\n",
              "    <tr>\n",
              "      <th>1129</th>\n",
              "      <td>3</td>\n",
              "      <td>In most cases, isolated sleep paralysis occurs...</td>\n",
              "      <td>What are the treatments for Isolated sleep par...</td>\n",
              "    </tr>\n",
              "  </tbody>\n",
              "</table>\n",
              "<p>92 rows × 3 columns</p>\n",
              "</div>\n",
              "      <button class=\"colab-df-convert\" onclick=\"convertToInteractive('df-aa243532-87d1-4928-9abb-91da757803f8')\"\n",
              "              title=\"Convert this dataframe to an interactive table.\"\n",
              "              style=\"display:none;\">\n",
              "        \n",
              "  <svg xmlns=\"http://www.w3.org/2000/svg\" height=\"24px\"viewBox=\"0 0 24 24\"\n",
              "       width=\"24px\">\n",
              "    <path d=\"M0 0h24v24H0V0z\" fill=\"none\"/>\n",
              "    <path d=\"M18.56 5.44l.94 2.06.94-2.06 2.06-.94-2.06-.94-.94-2.06-.94 2.06-2.06.94zm-11 1L8.5 8.5l.94-2.06 2.06-.94-2.06-.94L8.5 2.5l-.94 2.06-2.06.94zm10 10l.94 2.06.94-2.06 2.06-.94-2.06-.94-.94-2.06-.94 2.06-2.06.94z\"/><path d=\"M17.41 7.96l-1.37-1.37c-.4-.4-.92-.59-1.43-.59-.52 0-1.04.2-1.43.59L10.3 9.45l-7.72 7.72c-.78.78-.78 2.05 0 2.83L4 21.41c.39.39.9.59 1.41.59.51 0 1.02-.2 1.41-.59l7.78-7.78 2.81-2.81c.8-.78.8-2.07 0-2.86zM5.41 20L4 18.59l7.72-7.72 1.47 1.35L5.41 20z\"/>\n",
              "  </svg>\n",
              "      </button>\n",
              "      \n",
              "  <style>\n",
              "    .colab-df-container {\n",
              "      display:flex;\n",
              "      flex-wrap:wrap;\n",
              "      gap: 12px;\n",
              "    }\n",
              "\n",
              "    .colab-df-convert {\n",
              "      background-color: #E8F0FE;\n",
              "      border: none;\n",
              "      border-radius: 50%;\n",
              "      cursor: pointer;\n",
              "      display: none;\n",
              "      fill: #1967D2;\n",
              "      height: 32px;\n",
              "      padding: 0 0 0 0;\n",
              "      width: 32px;\n",
              "    }\n",
              "\n",
              "    .colab-df-convert:hover {\n",
              "      background-color: #E2EBFA;\n",
              "      box-shadow: 0px 1px 2px rgba(60, 64, 67, 0.3), 0px 1px 3px 1px rgba(60, 64, 67, 0.15);\n",
              "      fill: #174EA6;\n",
              "    }\n",
              "\n",
              "    [theme=dark] .colab-df-convert {\n",
              "      background-color: #3B4455;\n",
              "      fill: #D2E3FC;\n",
              "    }\n",
              "\n",
              "    [theme=dark] .colab-df-convert:hover {\n",
              "      background-color: #434B5C;\n",
              "      box-shadow: 0px 1px 3px 1px rgba(0, 0, 0, 0.15);\n",
              "      filter: drop-shadow(0px 1px 2px rgba(0, 0, 0, 0.3));\n",
              "      fill: #FFFFFF;\n",
              "    }\n",
              "  </style>\n",
              "\n",
              "      <script>\n",
              "        const buttonEl =\n",
              "          document.querySelector('#df-aa243532-87d1-4928-9abb-91da757803f8 button.colab-df-convert');\n",
              "        buttonEl.style.display =\n",
              "          google.colab.kernel.accessAllowed ? 'block' : 'none';\n",
              "\n",
              "        async function convertToInteractive(key) {\n",
              "          const element = document.querySelector('#df-aa243532-87d1-4928-9abb-91da757803f8');\n",
              "          const dataTable =\n",
              "            await google.colab.kernel.invokeFunction('convertToInteractive',\n",
              "                                                     [key], {});\n",
              "          if (!dataTable) return;\n",
              "\n",
              "          const docLinkHtml = 'Like what you see? Visit the ' +\n",
              "            '<a target=\"_blank\" href=https://colab.research.google.com/notebooks/data_table.ipynb>data table notebook</a>'\n",
              "            + ' to learn more about interactive tables.';\n",
              "          element.innerHTML = '';\n",
              "          dataTable['output_type'] = 'display_data';\n",
              "          await google.colab.output.renderOutput(dataTable, element);\n",
              "          const docLink = document.createElement('div');\n",
              "          docLink.innerHTML = docLinkHtml;\n",
              "          element.appendChild(docLink);\n",
              "        }\n",
              "      </script>\n",
              "    </div>\n",
              "  </div>\n",
              "  "
            ]
          },
          "metadata": {},
          "execution_count": 16
        }
      ],
      "source": [
        "class_3=train[train['Rank']==3]\n",
        "class_3"
      ]
    },
    {
      "cell_type": "code",
      "execution_count": 17,
      "metadata": {
        "colab": {
          "base_uri": "https://localhost:8080/"
        },
        "id": "l3yomnm6vUj_",
        "outputId": "288d584d-de77-4173-85ee-05ae36f11179"
      },
      "outputs": [
        {
          "output_type": "stream",
          "name": "stdout",
          "text": [
            "(915, 3) (915, 3) (915, 3)\n",
            "(915, 3)\n"
          ]
        }
      ],
      "source": [
        "#Upsampling the minority class\n",
        "from sklearn.utils import resample\n",
        "min_cls1_upsampled = resample(class_1,\n",
        "             replace=True,\n",
        "             n_samples=len(class_0),\n",
        "             random_state=42)\n",
        "\n",
        "min_cls2_upsampled = resample(class_2,\n",
        "             replace=True,\n",
        "             n_samples=len(class_0),\n",
        "             random_state=42)\n",
        "\n",
        "min_cls3_upsampled = resample(class_3,\n",
        "             replace=True,\n",
        "             n_samples=len(class_0),\n",
        "             random_state=42)\n",
        "\n",
        "print(min_cls1_upsampled.shape,min_cls2_upsampled.shape,min_cls3_upsampled.shape)\n",
        "print(class_0.shape)"
      ]
    },
    {
      "cell_type": "code",
      "execution_count": 18,
      "metadata": {
        "colab": {
          "base_uri": "https://localhost:8080/"
        },
        "id": "KFXYbXfryPWf",
        "outputId": "847f830b-4aea-4938-e06c-dc77a71dc344"
      },
      "outputs": [
        {
          "output_type": "execute_result",
          "data": {
            "text/plain": [
              "(3660, 3)"
            ]
          },
          "metadata": {},
          "execution_count": 18
        }
      ],
      "source": [
        "train= pd.concat([min_cls1_upsampled,min_cls2_upsampled,min_cls3_upsampled, class_0])\n",
        "train.shape"
      ]
    },
    {
      "cell_type": "markdown",
      "metadata": {
        "id": "S7f5yGIL8BWA"
      },
      "source": [
        "##Assign Train and Test Data"
      ]
    },
    {
      "cell_type": "code",
      "execution_count": 19,
      "metadata": {
        "id": "7u-cMY1V3HAe"
      },
      "outputs": [],
      "source": [
        "xtr=train.loc[:, train.columns != 'Rank']\n",
        "ytr=train.loc[:, train.columns == 'Rank']\n",
        "\n",
        "xts=df.loc[:, test.columns != 'Rank']\n",
        "yts=df.loc[:, test.columns == 'Rank']"
      ]
    },
    {
      "cell_type": "markdown",
      "metadata": {
        "id": "MmQl_MC8_tOx"
      },
      "source": [
        "##Data Preprocessing for NLP model\n",
        "vocab size:\tthe maximum number of words to keep, based on word frequency 40k \n"
      ]
    },
    {
      "cell_type": "code",
      "execution_count": 20,
      "metadata": {
        "colab": {
          "base_uri": "https://localhost:8080/"
        },
        "id": "xRG2k-8K94up",
        "outputId": "cf34d1eb-66f6-4d32-ea71-7e65bd7f4f81"
      },
      "outputs": [
        {
          "output_type": "stream",
          "name": "stdout",
          "text": [
            "(3660, 100)\n",
            "(3660, 250)\n"
          ]
        }
      ],
      "source": [
        "# preprocess text data\n",
        "\n",
        "vocab_sizeQ = 100000\n",
        "vocab_sizeA=150000\n",
        "max_lenQ = 100\n",
        "max_lenA = 250\n",
        "\n",
        "\n",
        "# build vocabulary from training set\n",
        "tokenizerQ = Tokenizer(num_words=vocab_sizeQ)\n",
        "tokenizerQ.fit_on_texts(xtr['Question'])\n",
        "\n",
        "tokenizerA = Tokenizer(num_words=vocab_sizeA)\n",
        "tokenizerA.fit_on_texts(xtr['Answer'])\n",
        "\n",
        "\n",
        "def Q_preprocess(list_of_text):\n",
        "    return pad_sequences(\n",
        "        tokenizerQ.texts_to_sequences(list_of_text),\n",
        "        maxlen=max_lenQ,\n",
        "        padding='post',\n",
        "    )\n",
        "\n",
        "def A_preprocess(list_of_text):\n",
        "    return pad_sequences(\n",
        "        tokenizerA.texts_to_sequences(list_of_text),\n",
        "        maxlen=max_lenA,\n",
        "        padding='post',\n",
        "    )   \n",
        "\n",
        "# padding is done inside: \n",
        "pre_Q = Q_preprocess(xtr['Question'])\n",
        "pre_A = A_preprocess(xtr['Answer'])\n",
        "print(pre_Q.shape)\n",
        "print(pre_A.shape)"
      ]
    },
    {
      "cell_type": "code",
      "execution_count": 21,
      "metadata": {
        "colab": {
          "base_uri": "https://localhost:8080/"
        },
        "id": "Xto-PjkrDYI5",
        "outputId": "c85a56de-f33a-475f-bdb0-5e421f2d631d"
      },
      "outputs": [
        {
          "output_type": "stream",
          "name": "stdout",
          "text": [
            "['what are the symptoms of rheumatoid arthritis',\n",
            " 'what other information should i know about oxybutynin',\n",
            " 'what are the complications of vascular dementia also called mid dementia '\n",
            " 'multi infarct dementia post stroke multi infarct dementia',\n",
            " 'what are the brand names of methadone',\n",
            " 'what is are infectious arthritis also called septic arthritis']\n",
            "===================================\n",
            "['rheumatoid arthritis is characterized by inflammation of the joint lining '\n",
            " 'this inflammation causes warmth redness swelling and pain around the joints '\n",
            " 'the pain of rheumatoid arthritis varies greatly from person to person for '\n",
            " 'reasons that doctors do not yet understand completely factors that '\n",
            " 'contribute to the pain include swelling within the joint the amount of heat '\n",
            " 'or redness present or damage that has occurred within the joint',\n",
            " 'keep all appointments with your doctor do not let anyone else take your '\n",
            " 'medication ask your pharmacist any questions you have about refilling your '\n",
            " 'prescription if you are taking the extended release tablet you may notice '\n",
            " 'something that looks like a tablet in your stool this is just the empty '\n",
            " 'tablet shell and does not mean that you did not get your complete dose of '\n",
            " 'medication it is important for you to keep a written list of all of the '\n",
            " 'prescription and nonprescription over the counter medicines you are taking '\n",
            " 'as well as any products such as vitamins minerals or other dietary '\n",
            " 'supplements you should bring this list with you each time you visit a doctor '\n",
            " 'or if you are admitted to a hospital it is also important information to '\n",
            " 'carry with you in case of emergencies',\n",
            " 'complications include the following future strokes heart disease loss of '\n",
            " 'ability to function or care for self loss of ability to interact pneumonia '\n",
            " 'urinary tract infections skin infections pressure sores',\n",
            " 'diskets dolophine methadose methadose oral concentrate westadone',\n",
            " 'most kinds of arthritis cause pain and swelling in your joints joints are '\n",
            " 'places where two bones meet such as your elbow or knee infectious arthritis '\n",
            " 'is an infection in the joint the infection comes from a bacterial viral or '\n",
            " 'fungal infection that spreads from another part of the body symptoms of '\n",
            " 'infectious arthritis include intense pain in the joint joint redness and '\n",
            " 'swelling chills and fever inability to move the area with the infected joint '\n",
            " 'one type of infectious arthritis is reactive arthritis the reaction is to an '\n",
            " 'infection somewhere else in your body the joint is usually the knee ankle or '\n",
            " 'toe sometimes reactive arthritis is set off by an infection in the bladder '\n",
            " 'or in the urethra which carries urine out of the body in women an infection '\n",
            " 'in the vagina can cause the reaction for both men and women it can start '\n",
            " 'with bacteria passed on during sex another form of reactive arthritis starts '\n",
            " 'with eating food or handling something that has bacteria on it to diagnose '\n",
            " 'infectious arthritis your health care provider may do tests of your blood '\n",
            " 'urine and joint fluid treatment includes medicines and sometimes surgery']\n"
          ]
        }
      ],
      "source": [
        "# we can use the tokenizer to convert IDs to words.\n",
        "pprint(tokenizerQ.sequences_to_texts(pre_Q[:5]))\n",
        "print(\"===================================\")\n",
        "pprint(tokenizerA.sequences_to_texts(pre_A[:5]))"
      ]
    },
    {
      "cell_type": "code",
      "execution_count": 22,
      "metadata": {
        "colab": {
          "base_uri": "https://localhost:8080/"
        },
        "id": "uJi5kyJzELU-",
        "outputId": "7cc159dd-cfc1-4620-b09c-60bcb7257691"
      },
      "outputs": [
        {
          "output_type": "stream",
          "name": "stdout",
          "text": [
            "total words in the questions dictionary: 100000\n",
            "total words in the answers dictionary: 150000\n"
          ]
        }
      ],
      "source": [
        "print('total words in the questions dictionary:', tokenizerQ.num_words)\n",
        "print('total words in the answers dictionary:', tokenizerA.num_words)"
      ]
    },
    {
      "cell_type": "code",
      "execution_count": 23,
      "metadata": {
        "id": "zuotJKvKFy8a"
      },
      "outputs": [],
      "source": [
        "#Preprocess test data\n",
        "pre_Qt = Q_preprocess(xts['Question'])\n",
        "pre_At = A_preprocess(xts['Answer'])"
      ]
    },
    {
      "cell_type": "markdown",
      "metadata": {
        "id": "NUgl9_W9JfPy"
      },
      "source": [
        "# Building The NLP Model"
      ]
    },
    {
      "cell_type": "code",
      "execution_count": 24,
      "metadata": {
        "colab": {
          "base_uri": "https://localhost:8080/"
        },
        "id": "q8Or08o6Ja6O",
        "outputId": "1231670b-c64d-4af8-cbf8-a6fa59d04e9b"
      },
      "outputs": [
        {
          "output_type": "stream",
          "name": "stdout",
          "text": [
            "KerasTensor(type_spec=TensorSpec(shape=(None, 100), dtype=tf.float32, name=None), name='dense/Relu:0', description=\"created by layer 'dense'\")\n",
            "Model: \"model\"\n",
            "__________________________________________________________________________________________________\n",
            " Layer (type)                   Output Shape         Param #     Connected to                     \n",
            "==================================================================================================\n",
            " input_1 (InputLayer)           [(None, 100)]        0           []                               \n",
            "                                                                                                  \n",
            " input_2 (InputLayer)           [(None, 250)]        0           []                               \n",
            "                                                                                                  \n",
            " embedding (Embedding)          (None, 100, 100)     10000000    ['input_1[0][0]']                \n",
            "                                                                                                  \n",
            " embedding_1 (Embedding)        (None, 250, 100)     15000000    ['input_2[0][0]']                \n",
            "                                                                                                  \n",
            " bidirectional (Bidirectional)  (None, 100, 64)      34048       ['embedding[0][0]']              \n",
            "                                                                                                  \n",
            " bidirectional_2 (Bidirectional  (None, 250, 64)     34048       ['embedding_1[0][0]']            \n",
            " )                                                                                                \n",
            "                                                                                                  \n",
            " bidirectional_1 (Bidirectional  (None, 128)         66048       ['bidirectional[0][0]']          \n",
            " )                                                                                                \n",
            "                                                                                                  \n",
            " bidirectional_3 (Bidirectional  (None, 128)         66048       ['bidirectional_2[0][0]']        \n",
            " )                                                                                                \n",
            "                                                                                                  \n",
            " dense (Dense)                  (None, 100)          12900       ['bidirectional_1[0][0]']        \n",
            "                                                                                                  \n",
            " dense_1 (Dense)                (None, 100)          12900       ['bidirectional_3[0][0]']        \n",
            "                                                                                                  \n",
            " concatenate_1 (Concatenate)    (None, 200)          0           ['dense[0][0]',                  \n",
            "                                                                  'dense_1[0][0]']                \n",
            "                                                                                                  \n",
            " type (Dense)                   (None, 4)            804         ['concatenate_1[0][0]']          \n",
            "                                                                                                  \n",
            "==================================================================================================\n",
            "Total params: 25,226,796\n",
            "Trainable params: 25,226,796\n",
            "Non-trainable params: 0\n",
            "__________________________________________________________________________________________________\n"
          ]
        }
      ],
      "source": [
        "in_Q = keras.Input(batch_shape=(None, max_lenQ))\n",
        "in_A = keras.Input(batch_shape=(None, max_lenA))\n",
        "# Bidirectional LSTMs are an extension of traditional LSTMs that can improve model\n",
        "# performance on sequence classification problems.\n",
        "embedded1 = keras.layers.Embedding(tokenizerQ.num_words, 100)(in_Q)\n",
        "bidirectional = keras.layers.Bidirectional(keras.layers.LSTM(32, return_sequences=True))(embedded1)\n",
        "bidirectional1 = keras.layers.Bidirectional(keras.layers.LSTM(64, return_sequences=False)) (bidirectional)\n",
        "#bidirectional2 = keras.layers.Bidirectional(keras.layers.LSTM(256, return_sequences=False))(embedded1)#(bidirectional1)\n",
        "fc1 = Dense(100, activation='relu')(bidirectional1)\n",
        "print(fc1)\n",
        "embedded2 = keras.layers.Embedding(tokenizerA.num_words, 100)(in_A)\n",
        "merged = keras.layers.Concatenate(axis=1)([embedded1, embedded2])\n",
        "bidirectional3 = keras.layers.Bidirectional(keras.layers.LSTM(32, return_sequences=True))(embedded2)\n",
        "bidirectional4 = keras.layers.Bidirectional(keras.layers.LSTM(64, return_sequences=False))(bidirectional3)\n",
        "#bidirectional5 = keras.layers.Bidirectional(keras.layers.LSTM(256, return_sequences=False))(embedded2)#(bidirectional4)\n",
        "fc2 = Dense(100, activation='relu')(bidirectional4)\n",
        "\n",
        "\n",
        "fused = keras.layers.Concatenate(axis=1)([fc1, fc2])\n",
        "\n",
        "rank = Dense(len_rank, activation='softmax', name='type')(fused)\n",
        "\n",
        "model = keras.Model(\n",
        "    inputs={\n",
        "        'Question':in_Q,\n",
        "        'Answer':in_A\n",
        "    },\n",
        "    outputs=rank\n",
        ")\n",
        "\n",
        "model.compile(\n",
        "    optimizer=Adam(),\n",
        "    loss='sparse_categorical_crossentropy', \n",
        "    metrics='SparseCategoricalAccuracy' \n",
        "\n",
        ")\n",
        "\n",
        "model.summary()"
      ]
    },
    {
      "cell_type": "code",
      "source": [
        "tf.keras.utils.plot_model(\n",
        "model, to_file='model.png', show_shapes=False, show_dtype=False,\n",
        "show_layer_names=True, rankdir='TB', expand_nested=False, dpi=96\n",
        ")"
      ],
      "metadata": {
        "colab": {
          "base_uri": "https://localhost:8080/",
          "height": 661
        },
        "id": "XyhWPVK2MUGX",
        "outputId": "0af03c40-8d03-4cf3-f1ff-6ffd96eea73e"
      },
      "execution_count": 25,
      "outputs": [
        {
          "output_type": "execute_result",
          "data": {
            "text/plain": [
              "<IPython.core.display.Image object>"
            ],
            "image/png": "[encoded data removed]"
          },
          "metadata": {},
          "execution_count": 25
        }
      ]
    },
    {
      "cell_type": "markdown",
      "metadata": {
        "id": "HgkjUELst7mU"
      },
      "source": [
        "## Bidirectional Model Training"
      ]
    },
    {
      "cell_type": "code",
      "execution_count": 26,
      "metadata": {
        "colab": {
          "base_uri": "https://localhost:8080/"
        },
        "id": "Fel17zr6t7mf",
        "outputId": "01a995e9-07ef-45b6-abd9-55929d0e8e3a"
      },
      "outputs": [
        {
          "output_type": "stream",
          "name": "stdout",
          "text": [
            "Epoch 1/20\n",
            "92/92 [==============================] - 70s 600ms/step - loss: 1.0150 - sparse_categorical_accuracy: 0.5601 - val_loss: 2.3121 - val_sparse_categorical_accuracy: 0.0000e+00\n",
            "Epoch 2/20\n",
            "92/92 [==============================] - 50s 547ms/step - loss: 0.3840 - sparse_categorical_accuracy: 0.8651 - val_loss: 1.4847 - val_sparse_categorical_accuracy: 0.4863\n",
            "Epoch 3/20\n",
            "92/92 [==============================] - 51s 555ms/step - loss: 0.2530 - sparse_categorical_accuracy: 0.8972 - val_loss: 0.9650 - val_sparse_categorical_accuracy: 0.6311\n",
            "Epoch 4/20\n",
            "92/92 [==============================] - 52s 561ms/step - loss: 0.2213 - sparse_categorical_accuracy: 0.9126 - val_loss: 1.0402 - val_sparse_categorical_accuracy: 0.6516\n",
            "Epoch 5/20\n",
            "92/92 [==============================] - 51s 558ms/step - loss: 0.1874 - sparse_categorical_accuracy: 0.9177 - val_loss: 1.1388 - val_sparse_categorical_accuracy: 0.6284\n",
            "Epoch 6/20\n",
            "92/92 [==============================] - 52s 560ms/step - loss: 0.1753 - sparse_categorical_accuracy: 0.9170 - val_loss: 0.9620 - val_sparse_categorical_accuracy: 0.6940\n",
            "Epoch 7/20\n",
            "92/92 [==============================] - 54s 590ms/step - loss: 0.1743 - sparse_categorical_accuracy: 0.9187 - val_loss: 1.3067 - val_sparse_categorical_accuracy: 0.5970\n",
            "Epoch 8/20\n",
            "92/92 [==============================] - 52s 565ms/step - loss: 0.1626 - sparse_categorical_accuracy: 0.9228 - val_loss: 1.9532 - val_sparse_categorical_accuracy: 0.4617\n",
            "Epoch 9/20\n",
            "92/92 [==============================] - 52s 563ms/step - loss: 0.1661 - sparse_categorical_accuracy: 0.9153 - val_loss: 1.5279 - val_sparse_categorical_accuracy: 0.5574\n",
            "Epoch 10/20\n",
            "92/92 [==============================] - 53s 574ms/step - loss: 0.1572 - sparse_categorical_accuracy: 0.9187 - val_loss: 1.6507 - val_sparse_categorical_accuracy: 0.5546\n",
            "Epoch 11/20\n",
            "92/92 [==============================] - 53s 574ms/step - loss: 0.1567 - sparse_categorical_accuracy: 0.9153 - val_loss: 1.1384 - val_sparse_categorical_accuracy: 0.6995\n",
            "Epoch 12/20\n",
            "92/92 [==============================] - 52s 569ms/step - loss: 0.1525 - sparse_categorical_accuracy: 0.9225 - val_loss: 1.3486 - val_sparse_categorical_accuracy: 0.6325\n",
            "Epoch 13/20\n",
            "92/92 [==============================] - 52s 564ms/step - loss: 0.1468 - sparse_categorical_accuracy: 0.9252 - val_loss: 1.6388 - val_sparse_categorical_accuracy: 0.5355\n",
            "Epoch 14/20\n",
            "92/92 [==============================] - 52s 561ms/step - loss: 0.1461 - sparse_categorical_accuracy: 0.9184 - val_loss: 1.2429 - val_sparse_categorical_accuracy: 0.7322\n",
            "Epoch 15/20\n",
            "92/92 [==============================] - 52s 562ms/step - loss: 0.1455 - sparse_categorical_accuracy: 0.9259 - val_loss: 1.7713 - val_sparse_categorical_accuracy: 0.5464\n",
            "Epoch 16/20\n",
            "92/92 [==============================] - 51s 552ms/step - loss: 0.1452 - sparse_categorical_accuracy: 0.9238 - val_loss: 2.4926 - val_sparse_categorical_accuracy: 0.4153\n"
          ]
        }
      ],
      "source": [
        "history = model.fit(\n",
        "    x={\n",
        "        'Question': pre_Q,\n",
        "        'Answer': pre_A\n",
        "    },\n",
        "    y=ytr,\n",
        "    epochs=20,\n",
        "    batch_size=32,\n",
        "    validation_split=0.2,\n",
        "    callbacks=[\n",
        "        tf.keras.callbacks.EarlyStopping(monitor='val_loss', patience=10,restore_best_weights=True )\n",
        "    ],\n",
        "    verbose=1\n",
        ")"
      ]
    },
    {
      "cell_type": "code",
      "execution_count": 27,
      "metadata": {
        "id": "nuIxXhFU-Hqr"
      },
      "outputs": [],
      "source": [
        "y_predict = model.predict(\n",
        "    {\n",
        "        'Question': pre_Qt,\n",
        "        'Answer': pre_At\n",
        "    }\n",
        ")"
      ]
    },
    {
      "cell_type": "code",
      "execution_count": 28,
      "metadata": {
        "colab": {
          "base_uri": "https://localhost:8080/"
        },
        "id": "cNUu6RY8GXjp",
        "outputId": "dbf08155-6aaf-44dd-b4b7-e52bf8670c4b"
      },
      "outputs": [
        {
          "output_type": "stream",
          "name": "stdout",
          "text": [
            "78/78 [==============================] - 6s 82ms/step - loss: 0.9182 - sparse_categorical_accuracy: 0.7293\n"
          ]
        },
        {
          "output_type": "execute_result",
          "data": {
            "text/plain": [
              "[0.9182463884353638, 0.7293263673782349]"
            ]
          },
          "metadata": {},
          "execution_count": 28
        }
      ],
      "source": [
        "model.evaluate(\n",
        "        x={\n",
        "        'Question': pre_Qt,\n",
        "        'Answer': pre_At\n",
        "        }, \n",
        "        y=yts)"
      ]
    },
    {
      "cell_type": "code",
      "source": [
        "y_predict=np.argmax(y_predict, axis=1)\n"
      ],
      "metadata": {
        "id": "UwJ63Co3RHyE"
      },
      "execution_count": 30,
      "outputs": []
    },
    {
      "cell_type": "code",
      "source": [
        "from sklearn.metrics import confusion_matrix, classification_report\n",
        "conf_matrix = confusion_matrix(yts, y_predict) ## confusion matrix\n",
        "class_report = classification_report(yts,y_predict,zero_division=1) ## classification report\n",
        "print(\"Confusion matrix\\n\\n\" ,conf_matrix , \"\\n\")\n",
        "print(class_report)"
      ],
      "metadata": {
        "colab": {
          "base_uri": "https://localhost:8080/"
        },
        "id": "DhbcH-LPQ3F5",
        "outputId": "8beac7e6-0cef-4599-b529-e5648433451d"
      },
      "execution_count": 31,
      "outputs": [
        {
          "output_type": "stream",
          "name": "stdout",
          "text": [
            "Confusion matrix\n",
            "\n",
            " [[1031  245   89   71]\n",
            " [  37  518   82   41]\n",
            " [   8   38  150   27]\n",
            " [   4   16   13  109]] \n",
            "\n",
            "              precision    recall  f1-score   support\n",
            "\n",
            "           0       0.95      0.72      0.82      1436\n",
            "           1       0.63      0.76      0.69       678\n",
            "           2       0.45      0.67      0.54       223\n",
            "           3       0.44      0.77      0.56       142\n",
            "\n",
            "    accuracy                           0.73      2479\n",
            "   macro avg       0.62      0.73      0.65      2479\n",
            "weighted avg       0.79      0.73      0.74      2479\n",
            "\n"
          ]
        }
      ]
    },
    {
      "cell_type": "code",
      "execution_count": 32,
      "metadata": {
        "colab": {
          "base_uri": "https://localhost:8080/",
          "height": 513
        },
        "id": "uzG37dOX30Jn",
        "outputId": "a3d83f72-b820-467a-e3e7-bdc0452fde87"
      },
      "outputs": [
        {
          "output_type": "display_data",
          "data": {
            "text/plain": [
              "<Figure size 720x576 with 2 Axes>"
            ],
            "image/png": "[encoded data removed]"
          },
          "metadata": {
            "needs_background": "light"
          }
        }
      ],
      "source": [
        "# Plotting  model training accuracy and validation accuracy curves with epochs \n",
        "plt.figure(figsize=(10, 8), )\n",
        "plt.subplot(1, 2, 1)\n",
        "plt.xlabel('Epochs')\n",
        "plt.ylabel('Accuracy')\n",
        "plt.plot(history.history['sparse_categorical_accuracy'], label='Training Accuracy')\n",
        "plt.plot(history.history['val_sparse_categorical_accuracy'], label='Validation Accuracy')\n",
        "plt.legend(loc='lower right')\n",
        "plt.title('                         ')\n",
        "\n",
        "# Plotting  model training loss and validation loss curves with epoch\n",
        "plt.subplot(1, 2, 2)\n",
        "plt.xlabel('Epochs')\n",
        "plt.ylabel('Loss')\n",
        "plt.plot(history.history['loss'], label='Training Loss')\n",
        "plt.plot(history.history['val_loss'], label='Validation Loss')\n",
        "plt.legend(loc='upper right')\n",
        "plt.show()"
      ]
    }
  ],
  "metadata": {
    "accelerator": "TPU",
    "colab": {
      "collapsed_sections": [],
      "name": "DA_Classifier.ipynb",
      "provenance": [],
      "machine_shape": "hm"
    },
    "kernelspec": {
      "display_name": "Python 3",
      "name": "python3"
    },
    "language_info": {
      "name": "python"
    }
  },
  "nbformat": 4,
  "nbformat_minor": 0
}