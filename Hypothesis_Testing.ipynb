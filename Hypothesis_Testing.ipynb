{
  "cells": [
    {
      "cell_type": "markdown",
      "source": [
        "## Preprocessing"
      ],
      "metadata": {
        "id": "TnnD2anrJCpI"
      }
    },
    {
      "cell_type": "code",
      "execution_count": null,
      "metadata": {
        "id": "HbAAFXSnq_eO"
      },
      "outputs": [],
      "source": [
        "import numpy as np\n",
        "import pandas as pd\n",
        "import tensorflow as tf\n",
        "from tensorflow import keras\n",
        "from sklearn.model_selection import train_test_split\n",
        "from pprint import pprint\n",
        "tf.random.set_seed(1234)\n",
        "from tensorflow.keras.preprocessing.text import Tokenizer\n",
        "from tensorflow.keras.preprocessing.sequence import pad_sequences\n",
        "from tensorflow.keras.layers import Dense,Dropout\n",
        "from tensorflow.keras.optimizers import Adam,Nadam\n",
        "import matplotlib.pyplot as plt"
      ]
    },
    {
      "cell_type": "code",
      "execution_count": null,
      "metadata": {
        "id": "Y_Jb2ie2uByw",
        "colab": {
          "base_uri": "https://localhost:8080/"
        },
        "outputId": "31d9c19b-645b-4779-9f31-b5b8e55da0ce"
      },
      "outputs": [
        {
          "output_type": "stream",
          "name": "stdout",
          "text": [
            "Drive already mounted at /content/gdrive; to attempt to forcibly remount, call drive.mount(\"/content/gdrive\", force_remount=True).\n"
          ]
        }
      ],
      "source": [
        "from google.colab import drive\n",
        "drive.mount('/content/gdrive')"
      ]
    },
    {
      "cell_type": "code",
      "source": [
        "df=pd.read_csv('/content/gdrive/MyDrive/final_test.csv')"
      ],
      "metadata": {
        "id": "5AKYkUmGU80n"
      },
      "execution_count": null,
      "outputs": []
    },
    {
      "cell_type": "markdown",
      "metadata": {
        "id": "X8C-LwKlw2Fy"
      },
      "source": [
        "First, we will drop the index column \"Unnamed: 0\", \"Q_num\" and \"URL\".\n",
        "\n",
        "Second, we will encode the \"Rank\" column.\n"
      ]
    },
    {
      "cell_type": "code",
      "execution_count": null,
      "metadata": {
        "colab": {
          "base_uri": "https://localhost:8080/"
        },
        "id": "jnLQUHsJvZFg",
        "outputId": "4c7c4ad6-5b4a-42d1-9e82-77cc779ec60b"
      },
      "outputs": [
        {
          "output_type": "execute_result",
          "data": {
            "text/plain": [
              "(860, 8)"
            ]
          },
          "metadata": {},
          "execution_count": 23
        }
      ],
      "source": [
        "df.shape"
      ]
    },
    {
      "cell_type": "code",
      "source": [
        "df.head()"
      ],
      "metadata": {
        "colab": {
          "base_uri": "https://localhost:8080/",
          "height": 206
        },
        "id": "sNB6alr-V4Aj",
        "outputId": "87f093ed-f618-4b9d-e9aa-92f3a80e0b0c"
      },
      "execution_count": null,
      "outputs": [
        {
          "output_type": "execute_result",
          "data": {
            "text/plain": [
              "   Unnamed: 0  Q_num                                         Question  \\\n",
              "0           0    1.0                    What causes Noonan syndrome ?   \n",
              "1           1    1.0  What are the complications of Noonan syndrome ?   \n",
              "2           2    1.0                 How to prevent Noonan syndrome ?   \n",
              "3           3    1.0                  What is (are) Noonan syndrome ?   \n",
              "4           4    1.0                    What causes Noonan syndrome ?   \n",
              "\n",
              "                                              Answer            Focus  \\\n",
              "0  Noonan syndrome is linked to defects in severa...  Noonan syndrome   \n",
              "1  - Buildup of fluid in tissues of body (lymphed...  Noonan syndrome   \n",
              "2  Couples with a family history of Noonan syndro...  Noonan syndrome   \n",
              "3  Noonan syndrome is a disease that can be passe...  Noonan syndrome   \n",
              "4  Noonan syndrome is linked to defects in severa...  Noonan syndrome   \n",
              "\n",
              "           Qtype          Rank  \\\n",
              "0         causes     2-Related   \n",
              "1  complications     2-Related   \n",
              "2     prevention     2-Related   \n",
              "3    information  3-Incomplete   \n",
              "4         causes  3-Incomplete   \n",
              "\n",
              "                                                 URL  \n",
              "0  https://www.nlm.nih.gov/medlineplus/ency/artic...  \n",
              "1  https://www.nlm.nih.gov/medlineplus/ency/artic...  \n",
              "2  https://www.nlm.nih.gov/medlineplus/ency/artic...  \n",
              "3  https://www.nlm.nih.gov/medlineplus/ency/artic...  \n",
              "4  https://www.nlm.nih.gov/medlineplus/ency/artic...  "
            ],
            "text/html": [
              "\n",
              "  <div id=\"df-20c51882-99ee-4478-9777-d785724fc158\">\n",
              "    <div class=\"colab-df-container\">\n",
              "      <div>\n",
              "<style scoped>\n",
              "    .dataframe tbody tr th:only-of-type {\n",
              "        vertical-align: middle;\n",
              "    }\n",
              "\n",
              "    .dataframe tbody tr th {\n",
              "        vertical-align: top;\n",
              "    }\n",
              "\n",
              "    .dataframe thead th {\n",
              "        text-align: right;\n",
              "    }\n",
              "</style>\n",
              "<table border=\"1\" class=\"dataframe\">\n",
              "  <thead>\n",
              "    <tr style=\"text-align: right;\">\n",
              "      <th></th>\n",
              "      <th>Unnamed: 0</th>\n",
              "      <th>Q_num</th>\n",
              "      <th>Question</th>\n",
              "      <th>Answer</th>\n",
              "      <th>Focus</th>\n",
              "      <th>Qtype</th>\n",
              "      <th>Rank</th>\n",
              "      <th>URL</th>\n",
              "    </tr>\n",
              "  </thead>\n",
              "  <tbody>\n",
              "    <tr>\n",
              "      <th>0</th>\n",
              "      <td>0</td>\n",
              "      <td>1.0</td>\n",
              "      <td>What causes Noonan syndrome ?</td>\n",
              "      <td>Noonan syndrome is linked to defects in severa...</td>\n",
              "      <td>Noonan syndrome</td>\n",
              "      <td>causes</td>\n",
              "      <td>2-Related</td>\n",
              "      <td>https://www.nlm.nih.gov/medlineplus/ency/artic...</td>\n",
              "    </tr>\n",
              "    <tr>\n",
              "      <th>1</th>\n",
              "      <td>1</td>\n",
              "      <td>1.0</td>\n",
              "      <td>What are the complications of Noonan syndrome ?</td>\n",
              "      <td>- Buildup of fluid in tissues of body (lymphed...</td>\n",
              "      <td>Noonan syndrome</td>\n",
              "      <td>complications</td>\n",
              "      <td>2-Related</td>\n",
              "      <td>https://www.nlm.nih.gov/medlineplus/ency/artic...</td>\n",
              "    </tr>\n",
              "    <tr>\n",
              "      <th>2</th>\n",
              "      <td>2</td>\n",
              "      <td>1.0</td>\n",
              "      <td>How to prevent Noonan syndrome ?</td>\n",
              "      <td>Couples with a family history of Noonan syndro...</td>\n",
              "      <td>Noonan syndrome</td>\n",
              "      <td>prevention</td>\n",
              "      <td>2-Related</td>\n",
              "      <td>https://www.nlm.nih.gov/medlineplus/ency/artic...</td>\n",
              "    </tr>\n",
              "    <tr>\n",
              "      <th>3</th>\n",
              "      <td>3</td>\n",
              "      <td>1.0</td>\n",
              "      <td>What is (are) Noonan syndrome ?</td>\n",
              "      <td>Noonan syndrome is a disease that can be passe...</td>\n",
              "      <td>Noonan syndrome</td>\n",
              "      <td>information</td>\n",
              "      <td>3-Incomplete</td>\n",
              "      <td>https://www.nlm.nih.gov/medlineplus/ency/artic...</td>\n",
              "    </tr>\n",
              "    <tr>\n",
              "      <th>4</th>\n",
              "      <td>4</td>\n",
              "      <td>1.0</td>\n",
              "      <td>What causes Noonan syndrome ?</td>\n",
              "      <td>Noonan syndrome is linked to defects in severa...</td>\n",
              "      <td>Noonan syndrome</td>\n",
              "      <td>causes</td>\n",
              "      <td>3-Incomplete</td>\n",
              "      <td>https://www.nlm.nih.gov/medlineplus/ency/artic...</td>\n",
              "    </tr>\n",
              "  </tbody>\n",
              "</table>\n",
              "</div>\n",
              "      <button class=\"colab-df-convert\" onclick=\"convertToInteractive('df-20c51882-99ee-4478-9777-d785724fc158')\"\n",
              "              title=\"Convert this dataframe to an interactive table.\"\n",
              "              style=\"display:none;\">\n",
              "        \n",
              "  <svg xmlns=\"http://www.w3.org/2000/svg\" height=\"24px\"viewBox=\"0 0 24 24\"\n",
              "       width=\"24px\">\n",
              "    <path d=\"M0 0h24v24H0V0z\" fill=\"none\"/>\n",
              "    <path d=\"M18.56 5.44l.94 2.06.94-2.06 2.06-.94-2.06-.94-.94-2.06-.94 2.06-2.06.94zm-11 1L8.5 8.5l.94-2.06 2.06-.94-2.06-.94L8.5 2.5l-.94 2.06-2.06.94zm10 10l.94 2.06.94-2.06 2.06-.94-2.06-.94-.94-2.06-.94 2.06-2.06.94z\"/><path d=\"M17.41 7.96l-1.37-1.37c-.4-.4-.92-.59-1.43-.59-.52 0-1.04.2-1.43.59L10.3 9.45l-7.72 7.72c-.78.78-.78 2.05 0 2.83L4 21.41c.39.39.9.59 1.41.59.51 0 1.02-.2 1.41-.59l7.78-7.78 2.81-2.81c.8-.78.8-2.07 0-2.86zM5.41 20L4 18.59l7.72-7.72 1.47 1.35L5.41 20z\"/>\n",
              "  </svg>\n",
              "      </button>\n",
              "      \n",
              "  <style>\n",
              "    .colab-df-container {\n",
              "      display:flex;\n",
              "      flex-wrap:wrap;\n",
              "      gap: 12px;\n",
              "    }\n",
              "\n",
              "    .colab-df-convert {\n",
              "      background-color: #E8F0FE;\n",
              "      border: none;\n",
              "      border-radius: 50%;\n",
              "      cursor: pointer;\n",
              "      display: none;\n",
              "      fill: #1967D2;\n",
              "      height: 32px;\n",
              "      padding: 0 0 0 0;\n",
              "      width: 32px;\n",
              "    }\n",
              "\n",
              "    .colab-df-convert:hover {\n",
              "      background-color: #E2EBFA;\n",
              "      box-shadow: 0px 1px 2px rgba(60, 64, 67, 0.3), 0px 1px 3px 1px rgba(60, 64, 67, 0.15);\n",
              "      fill: #174EA6;\n",
              "    }\n",
              "\n",
              "    [theme=dark] .colab-df-convert {\n",
              "      background-color: #3B4455;\n",
              "      fill: #D2E3FC;\n",
              "    }\n",
              "\n",
              "    [theme=dark] .colab-df-convert:hover {\n",
              "      background-color: #434B5C;\n",
              "      box-shadow: 0px 1px 3px 1px rgba(0, 0, 0, 0.15);\n",
              "      filter: drop-shadow(0px 1px 2px rgba(0, 0, 0, 0.3));\n",
              "      fill: #FFFFFF;\n",
              "    }\n",
              "  </style>\n",
              "\n",
              "      <script>\n",
              "        const buttonEl =\n",
              "          document.querySelector('#df-20c51882-99ee-4478-9777-d785724fc158 button.colab-df-convert');\n",
              "        buttonEl.style.display =\n",
              "          google.colab.kernel.accessAllowed ? 'block' : 'none';\n",
              "\n",
              "        async function convertToInteractive(key) {\n",
              "          const element = document.querySelector('#df-20c51882-99ee-4478-9777-d785724fc158');\n",
              "          const dataTable =\n",
              "            await google.colab.kernel.invokeFunction('convertToInteractive',\n",
              "                                                     [key], {});\n",
              "          if (!dataTable) return;\n",
              "\n",
              "          const docLinkHtml = 'Like what you see? Visit the ' +\n",
              "            '<a target=\"_blank\" href=https://colab.research.google.com/notebooks/data_table.ipynb>data table notebook</a>'\n",
              "            + ' to learn more about interactive tables.';\n",
              "          element.innerHTML = '';\n",
              "          dataTable['output_type'] = 'display_data';\n",
              "          await google.colab.output.renderOutput(dataTable, element);\n",
              "          const docLink = document.createElement('div');\n",
              "          docLink.innerHTML = docLinkHtml;\n",
              "          element.appendChild(docLink);\n",
              "        }\n",
              "      </script>\n",
              "    </div>\n",
              "  </div>\n",
              "  "
            ]
          },
          "metadata": {},
          "execution_count": 24
        }
      ]
    },
    {
      "cell_type": "code",
      "execution_count": null,
      "metadata": {
        "colab": {
          "base_uri": "https://localhost:8080/"
        },
        "id": "b4sHY1mQuq3e",
        "outputId": "ab2f9f48-d72e-4111-b707-a3c6d78b0efe"
      },
      "outputs": [
        {
          "output_type": "execute_result",
          "data": {
            "text/plain": [
              "Unnamed: 0    860\n",
              "Q_num          98\n",
              "Question      612\n",
              "Answer        663\n",
              "Focus         311\n",
              "Qtype          34\n",
              "Rank            4\n",
              "URL           326\n",
              "dtype: int64"
            ]
          },
          "metadata": {},
          "execution_count": 25
        }
      ],
      "source": [
        "df.nunique()"
      ]
    },
    {
      "cell_type": "code",
      "source": [
        "df['Qtype'].value_counts()"
      ],
      "metadata": {
        "colab": {
          "base_uri": "https://localhost:8080/"
        },
        "id": "Nvf9RSkOansN",
        "outputId": "f44989df-3505-4305-af46-b7a58cda0557"
      },
      "execution_count": null,
      "outputs": [
        {
          "output_type": "execute_result",
          "data": {
            "text/plain": [
              "information                                341\n",
              "causes                                      63\n",
              "usage                                       45\n",
              "other information                           43\n",
              "brand names                                 37\n",
              "side effects                                30\n",
              "forget a dose                               29\n",
              "treatment                                   26\n",
              "indication                                  26\n",
              "prevention                                  25\n",
              "symptoms                                    23\n",
              "emergency or overdose                       22\n",
              "how can i learn more                        19\n",
              "research                                    15\n",
              "when to contact a medical professional      14\n",
              "considerations                              14\n",
              "support groups                              13\n",
              "precautions                                 11\n",
              "storage and disposal                        10\n",
              "exams and tests                              9\n",
              "outlook                                      7\n",
              "brand names of combination products          6\n",
              "important warning                            6\n",
              "dietary                                      6\n",
              "how does it work                             5\n",
              "complications                                3\n",
              "dose                                         3\n",
              "severe reaction                              2\n",
              "how effective is it                          2\n",
              "interactions with medications                1\n",
              "interactions with herbs and supplements      1\n",
              "interactions with foods                      1\n",
              "why get vaccinated                           1\n",
              "contraindication                             1\n",
              "Name: Qtype, dtype: int64"
            ]
          },
          "metadata": {},
          "execution_count": 7
        }
      ]
    },
    {
      "cell_type": "code",
      "execution_count": null,
      "metadata": {
        "id": "CD06y40Uwc96"
      },
      "outputs": [],
      "source": [
        "#Dropping columns\n",
        "df.drop(columns=[\"Unnamed: 0\", \"Q_num\", \"URL\",\"Focus\"], inplace=True)\n",
        "\n",
        "#Encoding \"Rank\" column\n",
        "for i in range (len(df)):\n",
        "  df['Rank'].values[i]=df['Rank'].values[i][0]\n",
        "\n",
        "df['Rank']=df['Rank'].astype(int)\n",
        "df['Rank']=df['Rank']-1"
      ]
    },
    {
      "cell_type": "code",
      "source": [
        "df_info=df[df['Qtype']=='information']\n",
        "df_causes=df[df['Qtype']=='causes']\n",
        "df_usage=df[df['Qtype']=='usage']\n",
        "df_other=df[df['Qtype']=='other information']\n",
        "df_brands=df[df['Qtype']=='brand names']"
      ],
      "metadata": {
        "id": "ooCdhfXS0tnA"
      },
      "execution_count": null,
      "outputs": []
    },
    {
      "cell_type": "markdown",
      "metadata": {
        "id": "NZDOGKwo9kVr"
      },
      "source": [
        "## First Trial\n"
      ]
    },
    {
      "cell_type": "code",
      "source": [
        "df_info.drop(columns=[\"Qtype\"], inplace=True)"
      ],
      "metadata": {
        "colab": {
          "base_uri": "https://localhost:8080/"
        },
        "id": "sN9QqZNo2abO",
        "outputId": "7f4c8b4d-c9e3-4ef3-e0c8-bca24374363e"
      },
      "execution_count": null,
      "outputs": [
        {
          "output_type": "stream",
          "name": "stderr",
          "text": [
            "/usr/local/lib/python3.7/dist-packages/pandas/core/frame.py:4913: SettingWithCopyWarning: \n",
            "A value is trying to be set on a copy of a slice from a DataFrame\n",
            "\n",
            "See the caveats in the documentation: https://pandas.pydata.org/pandas-docs/stable/user_guide/indexing.html#returning-a-view-versus-a-copy\n",
            "  errors=errors,\n"
          ]
        }
      ]
    },
    {
      "cell_type": "code",
      "source": [
        "df_info.shape"
      ],
      "metadata": {
        "colab": {
          "base_uri": "https://localhost:8080/"
        },
        "id": "NQcLLmF92gPd",
        "outputId": "00abef29-3c25-48d1-e912-d60a9fc4a8ee"
      },
      "execution_count": null,
      "outputs": [
        {
          "output_type": "execute_result",
          "data": {
            "text/plain": [
              "(341, 3)"
            ]
          },
          "metadata": {},
          "execution_count": 7
        }
      ]
    },
    {
      "cell_type": "code",
      "execution_count": null,
      "metadata": {
        "id": "l5ahqhU6u_A3"
      },
      "outputs": [],
      "source": [
        "train, test = train_test_split(\n",
        "    df_info, test_size=0.2, random_state=42)"
      ]
    },
    {
      "cell_type": "code",
      "execution_count": null,
      "metadata": {
        "id": "7u-cMY1V3HAe"
      },
      "outputs": [],
      "source": [
        "xtr=train.loc[:, train.columns != 'Rank']\n",
        "ytr=train.loc[:, train.columns == 'Rank']\n",
        "\n",
        "xts=df_info.loc[:, test.columns != 'Rank']\n",
        "yts=df_info.loc[:, test.columns == 'Rank']"
      ]
    },
    {
      "cell_type": "code",
      "execution_count": null,
      "metadata": {
        "colab": {
          "base_uri": "https://localhost:8080/"
        },
        "id": "xRG2k-8K94up",
        "outputId": "1ace26ce-e990-41d8-8e96-8c2a637c4188"
      },
      "outputs": [
        {
          "output_type": "stream",
          "name": "stdout",
          "text": [
            "(272, 100)\n",
            "(272, 150)\n"
          ]
        }
      ],
      "source": [
        "# preprocess text data\n",
        "\n",
        "vocab_sizeQ = 100000\n",
        "vocab_sizeA=150000\n",
        "max_lenQ = 100\n",
        "max_lenA = 150\n",
        "\n",
        "\n",
        "# build vocabulary from training set\n",
        "tokenizerQ = Tokenizer(num_words=vocab_sizeQ)\n",
        "tokenizerQ.fit_on_texts(xtr['Question'])\n",
        "\n",
        "tokenizerA = Tokenizer(num_words=vocab_sizeA)\n",
        "tokenizerA.fit_on_texts(xtr['Answer'])\n",
        "\n",
        "\n",
        "def Q_preprocess(list_of_text):\n",
        "    return pad_sequences(\n",
        "        tokenizerQ.texts_to_sequences(list_of_text),\n",
        "        maxlen=max_lenQ,\n",
        "        padding='post',\n",
        "    )\n",
        "\n",
        "def A_preprocess(list_of_text):\n",
        "    return pad_sequences(\n",
        "        tokenizerA.texts_to_sequences(list_of_text),\n",
        "        maxlen=max_lenA,\n",
        "        padding='post',\n",
        "    )   \n",
        "\n",
        "# padding is done inside: \n",
        "pre_Q = Q_preprocess(xtr['Question'])\n",
        "pre_A = A_preprocess(xtr['Answer'])\n",
        "print(pre_Q.shape)\n",
        "print(pre_A.shape)"
      ]
    },
    {
      "cell_type": "code",
      "execution_count": null,
      "metadata": {
        "id": "zuotJKvKFy8a"
      },
      "outputs": [],
      "source": [
        "#Preprocess test data\n",
        "pre_Qt = Q_preprocess(xts['Question'])\n",
        "pre_At = A_preprocess(xts['Answer'])"
      ]
    },
    {
      "cell_type": "code",
      "execution_count": null,
      "metadata": {
        "colab": {
          "base_uri": "https://localhost:8080/"
        },
        "id": "q8Or08o6Ja6O",
        "outputId": "2b5b67ef-577c-4e57-eca0-4197904541dd"
      },
      "outputs": [
        {
          "output_type": "stream",
          "name": "stdout",
          "text": [
            "KerasTensor(type_spec=TensorSpec(shape=(None, 100), dtype=tf.float32, name=None), name='dense/Relu:0', description=\"created by layer 'dense'\")\n",
            "Model: \"model\"\n",
            "__________________________________________________________________________________________________\n",
            " Layer (type)                   Output Shape         Param #     Connected to                     \n",
            "==================================================================================================\n",
            " input_1 (InputLayer)           [(None, 100)]        0           []                               \n",
            "                                                                                                  \n",
            " input_2 (InputLayer)           [(None, 150)]        0           []                               \n",
            "                                                                                                  \n",
            " embedding (Embedding)          (None, 100, 100)     10000000    ['input_1[0][0]']                \n",
            "                                                                                                  \n",
            " embedding_1 (Embedding)        (None, 150, 100)     15000000    ['input_2[0][0]']                \n",
            "                                                                                                  \n",
            " bidirectional (Bidirectional)  (None, 100, 64)      34048       ['embedding[0][0]']              \n",
            "                                                                                                  \n",
            " bidirectional_2 (Bidirectional  (None, 150, 64)     34048       ['embedding_1[0][0]']            \n",
            " )                                                                                                \n",
            "                                                                                                  \n",
            " bidirectional_1 (Bidirectional  (None, 128)         66048       ['bidirectional[0][0]']          \n",
            " )                                                                                                \n",
            "                                                                                                  \n",
            " bidirectional_3 (Bidirectional  (None, 128)         66048       ['bidirectional_2[0][0]']        \n",
            " )                                                                                                \n",
            "                                                                                                  \n",
            " dense (Dense)                  (None, 100)          12900       ['bidirectional_1[0][0]']        \n",
            "                                                                                                  \n",
            " dense_1 (Dense)                (None, 100)          12900       ['bidirectional_3[0][0]']        \n",
            "                                                                                                  \n",
            " concatenate_1 (Concatenate)    (None, 200)          0           ['dense[0][0]',                  \n",
            "                                                                  'dense_1[0][0]']                \n",
            "                                                                                                  \n",
            " type (Dense)                   (None, 4)            804         ['concatenate_1[0][0]']          \n",
            "                                                                                                  \n",
            "==================================================================================================\n",
            "Total params: 25,226,796\n",
            "Trainable params: 25,226,796\n",
            "Non-trainable params: 0\n",
            "__________________________________________________________________________________________________\n"
          ]
        }
      ],
      "source": [
        "in_Q = keras.Input(batch_shape=(None, max_lenQ))\n",
        "in_A = keras.Input(batch_shape=(None, max_lenA))\n",
        "# Bidirectional LSTMs are an extension of traditional LSTMs that can improve model\n",
        "# performance on sequence classification problems.\n",
        "embedded1 = keras.layers.Embedding(tokenizerQ.num_words, 100)(in_Q)\n",
        "bidirectional = keras.layers.Bidirectional(keras.layers.LSTM(32, return_sequences=True))(embedded1)\n",
        "bidirectional1 = keras.layers.Bidirectional(keras.layers.LSTM(64, return_sequences=False)) (bidirectional)\n",
        "#bidirectional2 = keras.layers.Bidirectional(keras.layers.LSTM(256, return_sequences=False))(embedded1)#(bidirectional1)\n",
        "fc1 = Dense(100, activation='relu')(bidirectional1)\n",
        "print(fc1)\n",
        "embedded2 = keras.layers.Embedding(tokenizerA.num_words, 100)(in_A)\n",
        "merged = keras.layers.Concatenate(axis=1)([embedded1, embedded2])\n",
        "bidirectional3 = keras.layers.Bidirectional(keras.layers.LSTM(32, return_sequences=True))(embedded2)\n",
        "bidirectional4 = keras.layers.Bidirectional(keras.layers.LSTM(64, return_sequences=False))(bidirectional3)\n",
        "#bidirectional5 = keras.layers.Bidirectional(keras.layers.LSTM(256, return_sequences=False))(embedded2)#(bidirectional4)\n",
        "fc2 = Dense(100, activation='relu')(bidirectional4)\n",
        "\n",
        "\n",
        "fused = keras.layers.Concatenate(axis=1)([fc1, fc2])\n",
        "\n",
        "rank = Dense(4, activation='softmax', name='type')(fused)\n",
        "\n",
        "model = keras.Model(\n",
        "    inputs={\n",
        "        'Question':in_Q,\n",
        "        'Answer':in_A\n",
        "    },\n",
        "    outputs=rank\n",
        ")\n",
        "\n",
        "model.compile(\n",
        "    optimizer=Nadam(),\n",
        "    loss='sparse_categorical_crossentropy', \n",
        "    metrics='SparseCategoricalAccuracy' \n",
        "\n",
        ")\n",
        "\n",
        "model.summary()"
      ]
    },
    {
      "cell_type": "code",
      "execution_count": null,
      "metadata": {
        "colab": {
          "base_uri": "https://localhost:8080/"
        },
        "id": "Fel17zr6t7mf",
        "outputId": "0d3ce8c0-f2d5-4bae-b9d9-1f67b6ed1e30"
      },
      "outputs": [
        {
          "output_type": "stream",
          "name": "stdout",
          "text": [
            "Epoch 1/20\n",
            "7/7 [==============================] - 17s 723ms/step - loss: 1.2901 - sparse_categorical_accuracy: 0.5945 - val_loss: 1.0082 - val_sparse_categorical_accuracy: 0.6545\n",
            "Epoch 2/20\n",
            "7/7 [==============================] - 2s 259ms/step - loss: 0.9820 - sparse_categorical_accuracy: 0.6452 - val_loss: 0.9572 - val_sparse_categorical_accuracy: 0.6545\n",
            "Epoch 3/20\n",
            "7/7 [==============================] - 2s 244ms/step - loss: 0.8602 - sparse_categorical_accuracy: 0.6452 - val_loss: 0.9916 - val_sparse_categorical_accuracy: 0.6727\n",
            "Epoch 4/20\n",
            "7/7 [==============================] - 2s 246ms/step - loss: 0.7413 - sparse_categorical_accuracy: 0.7005 - val_loss: 1.1004 - val_sparse_categorical_accuracy: 0.6909\n",
            "Epoch 5/20\n",
            "7/7 [==============================] - 2s 251ms/step - loss: 0.5601 - sparse_categorical_accuracy: 0.7880 - val_loss: 1.1411 - val_sparse_categorical_accuracy: 0.6364\n",
            "Epoch 6/20\n",
            "7/7 [==============================] - 2s 251ms/step - loss: 0.4468 - sparse_categorical_accuracy: 0.8295 - val_loss: 1.1360 - val_sparse_categorical_accuracy: 0.5818\n",
            "Epoch 7/20\n",
            "7/7 [==============================] - 2s 255ms/step - loss: 0.3941 - sparse_categorical_accuracy: 0.8387 - val_loss: 1.4310 - val_sparse_categorical_accuracy: 0.6545\n"
          ]
        }
      ],
      "source": [
        "history = model.fit(\n",
        "    x={\n",
        "        'Question': pre_Q,\n",
        "        'Answer': pre_A\n",
        "    },\n",
        "    y=ytr,\n",
        "    epochs=20,\n",
        "    batch_size=32,\n",
        "    validation_split=0.2,\n",
        "    callbacks=[\n",
        "        tf.keras.callbacks.EarlyStopping(monitor='val_loss', patience=5,restore_best_weights=True )\n",
        "    ],\n",
        "    verbose=1\n",
        ")"
      ]
    },
    {
      "cell_type": "code",
      "execution_count": null,
      "metadata": {
        "id": "nuIxXhFU-Hqr"
      },
      "outputs": [],
      "source": [
        "y_predict = model.predict(\n",
        "    {\n",
        "        'Question': pre_Qt,\n",
        "        'Answer': pre_At\n",
        "    }\n",
        ")"
      ]
    },
    {
      "cell_type": "code",
      "source": [
        "info_scores=[]\n",
        "for i in range(len(y_predict)):\n",
        "  info_scores.append(y_predict[i][df_info.iloc[i,2]])"
      ],
      "metadata": {
        "id": "LgB2fcZ_47ru"
      },
      "execution_count": null,
      "outputs": []
    },
    {
      "cell_type": "code",
      "source": [
        "len(info_scores)"
      ],
      "metadata": {
        "colab": {
          "base_uri": "https://localhost:8080/"
        },
        "id": "2e3g1Wib-9uz",
        "outputId": "99fddb30-2a6e-4c1a-c084-2b78900f5660"
      },
      "execution_count": null,
      "outputs": [
        {
          "output_type": "execute_result",
          "data": {
            "text/plain": [
              "341"
            ]
          },
          "metadata": {},
          "execution_count": 16
        }
      ]
    },
    {
      "cell_type": "markdown",
      "source": [
        "## Second Trial"
      ],
      "metadata": {
        "id": "NEIUFdb08d88"
      }
    },
    {
      "cell_type": "code",
      "source": [
        "df_causes.drop(columns=[\"Qtype\"], inplace=True)"
      ],
      "metadata": {
        "colab": {
          "base_uri": "https://localhost:8080/"
        },
        "outputId": "112b0ed4-71c2-4fa1-ac65-937147b1eb54",
        "id": "DehpP2nB9BQZ"
      },
      "execution_count": null,
      "outputs": [
        {
          "output_type": "stream",
          "name": "stderr",
          "text": [
            "/usr/local/lib/python3.7/dist-packages/pandas/core/frame.py:4913: SettingWithCopyWarning: \n",
            "A value is trying to be set on a copy of a slice from a DataFrame\n",
            "\n",
            "See the caveats in the documentation: https://pandas.pydata.org/pandas-docs/stable/user_guide/indexing.html#returning-a-view-versus-a-copy\n",
            "  errors=errors,\n"
          ]
        }
      ]
    },
    {
      "cell_type": "code",
      "source": [
        "df_causes.shape"
      ],
      "metadata": {
        "colab": {
          "base_uri": "https://localhost:8080/"
        },
        "outputId": "ec7da114-1dd0-4654-e609-f38c57ff9dba",
        "id": "Na07U7Yz9BQa"
      },
      "execution_count": null,
      "outputs": [
        {
          "output_type": "execute_result",
          "data": {
            "text/plain": [
              "(63, 3)"
            ]
          },
          "metadata": {},
          "execution_count": 81
        }
      ]
    },
    {
      "cell_type": "code",
      "execution_count": null,
      "metadata": {
        "id": "6IyhoJOT9BQa"
      },
      "outputs": [],
      "source": [
        "train, test = train_test_split(\n",
        "    df_causes, test_size=0.2, random_state=42)"
      ]
    },
    {
      "cell_type": "code",
      "execution_count": null,
      "metadata": {
        "id": "1kLfaxhT9BQa"
      },
      "outputs": [],
      "source": [
        "xtr=train.loc[:, train.columns != 'Rank']\n",
        "ytr=train.loc[:, train.columns == 'Rank']\n",
        "\n",
        "xts=df_causes.loc[:, test.columns != 'Rank']\n",
        "yts=df_causes.loc[:, test.columns == 'Rank']"
      ]
    },
    {
      "cell_type": "code",
      "execution_count": null,
      "metadata": {
        "colab": {
          "base_uri": "https://localhost:8080/"
        },
        "outputId": "64a7ad11-2f12-468c-dda6-f9924d64affe",
        "id": "engA2h469BQb"
      },
      "outputs": [
        {
          "output_type": "stream",
          "name": "stdout",
          "text": [
            "(50, 100)\n",
            "(50, 150)\n"
          ]
        }
      ],
      "source": [
        "# preprocess text data\n",
        "\n",
        "vocab_sizeQ = 100000\n",
        "vocab_sizeA=150000\n",
        "max_lenQ = 100\n",
        "max_lenA = 150\n",
        "\n",
        "\n",
        "# build vocabulary from training set\n",
        "tokenizerQ = Tokenizer(num_words=vocab_sizeQ)\n",
        "tokenizerQ.fit_on_texts(xtr['Question'])\n",
        "\n",
        "tokenizerA = Tokenizer(num_words=vocab_sizeA)\n",
        "tokenizerA.fit_on_texts(xtr['Answer'])\n",
        "\n",
        "\n",
        "def Q_preprocess(list_of_text):\n",
        "    return pad_sequences(\n",
        "        tokenizerQ.texts_to_sequences(list_of_text),\n",
        "        maxlen=max_lenQ,\n",
        "        padding='post',\n",
        "    )\n",
        "\n",
        "def A_preprocess(list_of_text):\n",
        "    return pad_sequences(\n",
        "        tokenizerA.texts_to_sequences(list_of_text),\n",
        "        maxlen=max_lenA,\n",
        "        padding='post',\n",
        "    )   \n",
        "\n",
        "# padding is done inside: \n",
        "pre_Q = Q_preprocess(xtr['Question'])\n",
        "pre_A = A_preprocess(xtr['Answer'])\n",
        "print(pre_Q.shape)\n",
        "print(pre_A.shape)"
      ]
    },
    {
      "cell_type": "code",
      "execution_count": null,
      "metadata": {
        "id": "e7hoykLY9BQb"
      },
      "outputs": [],
      "source": [
        "#Preprocess test data\n",
        "pre_Qt = Q_preprocess(xts['Question'])\n",
        "pre_At = A_preprocess(xts['Answer'])"
      ]
    },
    {
      "cell_type": "code",
      "execution_count": null,
      "metadata": {
        "colab": {
          "base_uri": "https://localhost:8080/"
        },
        "outputId": "5de2cc44-edae-473d-9aee-9cc7d34edf59",
        "id": "YnUXhAdx9BQb"
      },
      "outputs": [
        {
          "output_type": "stream",
          "name": "stdout",
          "text": [
            "KerasTensor(type_spec=TensorSpec(shape=(None, 100), dtype=tf.float32, name=None), name='dense_6/Relu:0', description=\"created by layer 'dense_6'\")\n",
            "Model: \"model_3\"\n",
            "__________________________________________________________________________________________________\n",
            " Layer (type)                   Output Shape         Param #     Connected to                     \n",
            "==================================================================================================\n",
            " input_7 (InputLayer)           [(None, 100)]        0           []                               \n",
            "                                                                                                  \n",
            " input_8 (InputLayer)           [(None, 150)]        0           []                               \n",
            "                                                                                                  \n",
            " embedding_6 (Embedding)        (None, 100, 100)     10000000    ['input_7[0][0]']                \n",
            "                                                                                                  \n",
            " embedding_7 (Embedding)        (None, 150, 100)     15000000    ['input_8[0][0]']                \n",
            "                                                                                                  \n",
            " bidirectional_12 (Bidirectiona  (None, 100, 64)     34048       ['embedding_6[0][0]']            \n",
            " l)                                                                                               \n",
            "                                                                                                  \n",
            " bidirectional_14 (Bidirectiona  (None, 150, 64)     34048       ['embedding_7[0][0]']            \n",
            " l)                                                                                               \n",
            "                                                                                                  \n",
            " bidirectional_13 (Bidirectiona  (None, 128)         66048       ['bidirectional_12[0][0]']       \n",
            " l)                                                                                               \n",
            "                                                                                                  \n",
            " bidirectional_15 (Bidirectiona  (None, 128)         66048       ['bidirectional_14[0][0]']       \n",
            " l)                                                                                               \n",
            "                                                                                                  \n",
            " dense_6 (Dense)                (None, 100)          12900       ['bidirectional_13[0][0]']       \n",
            "                                                                                                  \n",
            " dense_7 (Dense)                (None, 100)          12900       ['bidirectional_15[0][0]']       \n",
            "                                                                                                  \n",
            " concatenate_7 (Concatenate)    (None, 200)          0           ['dense_6[0][0]',                \n",
            "                                                                  'dense_7[0][0]']                \n",
            "                                                                                                  \n",
            " type (Dense)                   (None, 4)            804         ['concatenate_7[0][0]']          \n",
            "                                                                                                  \n",
            "==================================================================================================\n",
            "Total params: 25,226,796\n",
            "Trainable params: 25,226,796\n",
            "Non-trainable params: 0\n",
            "__________________________________________________________________________________________________\n"
          ]
        }
      ],
      "source": [
        "in_Q = keras.Input(batch_shape=(None, max_lenQ))\n",
        "in_A = keras.Input(batch_shape=(None, max_lenA))\n",
        "# Bidirectional LSTMs are an extension of traditional LSTMs that can improve model\n",
        "# performance on sequence classification problems.\n",
        "embedded1 = keras.layers.Embedding(tokenizerQ.num_words, 100)(in_Q)\n",
        "bidirectional = keras.layers.Bidirectional(keras.layers.LSTM(32, return_sequences=True))(embedded1)\n",
        "bidirectional1 = keras.layers.Bidirectional(keras.layers.LSTM(64, return_sequences=False)) (bidirectional)\n",
        "#bidirectional2 = keras.layers.Bidirectional(keras.layers.LSTM(256, return_sequences=False))(embedded1)#(bidirectional1)\n",
        "fc1 = Dense(100, activation='relu')(bidirectional1)\n",
        "print(fc1)\n",
        "embedded2 = keras.layers.Embedding(tokenizerA.num_words, 100)(in_A)\n",
        "merged = keras.layers.Concatenate(axis=1)([embedded1, embedded2])\n",
        "bidirectional3 = keras.layers.Bidirectional(keras.layers.LSTM(32, return_sequences=True))(embedded2)\n",
        "bidirectional4 = keras.layers.Bidirectional(keras.layers.LSTM(64, return_sequences=False))(bidirectional3)\n",
        "#bidirectional5 = keras.layers.Bidirectional(keras.layers.LSTM(256, return_sequences=False))(embedded2)#(bidirectional4)\n",
        "fc2 = Dense(100, activation='relu')(bidirectional4)\n",
        "\n",
        "\n",
        "fused = keras.layers.Concatenate(axis=1)([fc1, fc2])\n",
        "\n",
        "rank = Dense(4, activation='softmax', name='type')(fused)\n",
        "\n",
        "model = keras.Model(\n",
        "    inputs={\n",
        "        'Question':in_Q,\n",
        "        'Answer':in_A\n",
        "    },\n",
        "    outputs=rank\n",
        ")\n",
        "\n",
        "model.compile(\n",
        "    optimizer=Nadam(),\n",
        "    loss='sparse_categorical_crossentropy', \n",
        "    metrics='SparseCategoricalAccuracy' \n",
        "\n",
        ")\n",
        "\n",
        "model.summary()"
      ]
    },
    {
      "cell_type": "code",
      "execution_count": null,
      "metadata": {
        "colab": {
          "base_uri": "https://localhost:8080/"
        },
        "outputId": "ac802ea0-bbed-43ec-c614-557819c45e9c",
        "id": "9Fmae2dW9BQc"
      },
      "outputs": [
        {
          "output_type": "stream",
          "name": "stdout",
          "text": [
            "Epoch 1/20\n",
            "2/2 [==============================] - 19s 4s/step - loss: 1.3806 - sparse_categorical_accuracy: 0.3500 - val_loss: 1.3927 - val_sparse_categorical_accuracy: 0.3000\n",
            "Epoch 2/20\n",
            "2/2 [==============================] - 1s 302ms/step - loss: 1.3457 - sparse_categorical_accuracy: 0.5250 - val_loss: 1.3963 - val_sparse_categorical_accuracy: 0.3000\n",
            "Epoch 3/20\n",
            "2/2 [==============================] - 1s 307ms/step - loss: 1.3002 - sparse_categorical_accuracy: 0.5250 - val_loss: 1.4483 - val_sparse_categorical_accuracy: 0.3000\n",
            "Epoch 4/20\n",
            "2/2 [==============================] - 1s 293ms/step - loss: 1.2168 - sparse_categorical_accuracy: 0.5250 - val_loss: 1.7069 - val_sparse_categorical_accuracy: 0.3000\n",
            "Epoch 5/20\n",
            "2/2 [==============================] - 1s 288ms/step - loss: 1.1872 - sparse_categorical_accuracy: 0.5250 - val_loss: 1.5172 - val_sparse_categorical_accuracy: 0.3000\n",
            "Epoch 6/20\n",
            "2/2 [==============================] - 1s 318ms/step - loss: 1.1500 - sparse_categorical_accuracy: 0.5250 - val_loss: 1.6471 - val_sparse_categorical_accuracy: 0.3000\n"
          ]
        }
      ],
      "source": [
        "history = model.fit(\n",
        "    x={\n",
        "        'Question': pre_Q,\n",
        "        'Answer': pre_A\n",
        "    },\n",
        "    y=ytr,\n",
        "    epochs=20,\n",
        "    batch_size=32,\n",
        "    validation_split=0.2,\n",
        "    callbacks=[\n",
        "        tf.keras.callbacks.EarlyStopping(monitor='val_loss', patience=5,restore_best_weights=True )\n",
        "    ],\n",
        "    verbose=1\n",
        ")"
      ]
    },
    {
      "cell_type": "code",
      "execution_count": null,
      "metadata": {
        "id": "F2Pakbdi9BQc"
      },
      "outputs": [],
      "source": [
        "y_predict = model.predict(\n",
        "    {\n",
        "        'Question': pre_Qt,\n",
        "        'Answer': pre_At\n",
        "    }\n",
        ")"
      ]
    },
    {
      "cell_type": "code",
      "execution_count": null,
      "metadata": {
        "colab": {
          "base_uri": "https://localhost:8080/"
        },
        "outputId": "25a1063c-f806-4e69-97ce-e7f754364fc3",
        "id": "lfsjbURn9BQc"
      },
      "outputs": [
        {
          "output_type": "stream",
          "name": "stdout",
          "text": [
            "78/78 [==============================] - 7s 88ms/step - loss: 0.8246 - sparse_categorical_accuracy: 0.7620\n"
          ]
        },
        {
          "output_type": "execute_result",
          "data": {
            "text/plain": [
              "[0.8245623707771301, 0.7620007991790771]"
            ]
          },
          "metadata": {},
          "execution_count": 109
        }
      ],
      "source": [
        "# model.evaluate(\n",
        "#         x={\n",
        "#         'Question': pre_Qt,\n",
        "#         'Answer': pre_At\n",
        "#         }, \n",
        "#         y=yts)"
      ]
    },
    {
      "cell_type": "code",
      "source": [
        "cause_scores=[]\n",
        "for i in range(len(y_predict)):\n",
        "  cause_scores.append(y_predict[i][df_causes.iloc[i,2]])"
      ],
      "metadata": {
        "id": "LUmF_0tc9BQd"
      },
      "execution_count": null,
      "outputs": []
    },
    {
      "cell_type": "code",
      "source": [
        "len(cause_scores)"
      ],
      "metadata": {
        "colab": {
          "base_uri": "https://localhost:8080/"
        },
        "id": "0Q0AvcUBFGBw",
        "outputId": "e3229229-4583-4e09-a498-b530e86a2651"
      },
      "execution_count": null,
      "outputs": [
        {
          "output_type": "execute_result",
          "data": {
            "text/plain": [
              "63"
            ]
          },
          "metadata": {},
          "execution_count": 99
        }
      ]
    },
    {
      "cell_type": "markdown",
      "source": [
        "## Third Trial"
      ],
      "metadata": {
        "id": "IlZa_nao9BQd"
      }
    },
    {
      "cell_type": "code",
      "source": [
        "df_usage.drop(columns=[\"Qtype\"], inplace=True)"
      ],
      "metadata": {
        "colab": {
          "base_uri": "https://localhost:8080/"
        },
        "outputId": "acdffd4f-3662-468c-e7a9-11c9a5837613",
        "id": "aQfKUYHUFS89"
      },
      "execution_count": null,
      "outputs": [
        {
          "output_type": "stream",
          "name": "stderr",
          "text": [
            "/usr/local/lib/python3.7/dist-packages/pandas/core/frame.py:4913: SettingWithCopyWarning: \n",
            "A value is trying to be set on a copy of a slice from a DataFrame\n",
            "\n",
            "See the caveats in the documentation: https://pandas.pydata.org/pandas-docs/stable/user_guide/indexing.html#returning-a-view-versus-a-copy\n",
            "  errors=errors,\n"
          ]
        }
      ]
    },
    {
      "cell_type": "code",
      "source": [
        "df_usage.shape"
      ],
      "metadata": {
        "colab": {
          "base_uri": "https://localhost:8080/"
        },
        "outputId": "956f9886-b75b-452c-a4bd-aec48c59ceac",
        "id": "7CIYMtniFS89"
      },
      "execution_count": null,
      "outputs": [
        {
          "output_type": "execute_result",
          "data": {
            "text/plain": [
              "(45, 3)"
            ]
          },
          "metadata": {},
          "execution_count": 101
        }
      ]
    },
    {
      "cell_type": "code",
      "execution_count": null,
      "metadata": {
        "id": "8FvknvoyFS89"
      },
      "outputs": [],
      "source": [
        "train, test = train_test_split(\n",
        "    df_usage, test_size=0.2, random_state=42)"
      ]
    },
    {
      "cell_type": "code",
      "execution_count": null,
      "metadata": {
        "id": "azovnIj-FS8-"
      },
      "outputs": [],
      "source": [
        "xtr=train.loc[:, train.columns != 'Rank']\n",
        "ytr=train.loc[:, train.columns == 'Rank']\n",
        "\n",
        "xts=df_usage.loc[:, test.columns != 'Rank']\n",
        "yts=df_usage.loc[:, test.columns == 'Rank']"
      ]
    },
    {
      "cell_type": "code",
      "execution_count": null,
      "metadata": {
        "colab": {
          "base_uri": "https://localhost:8080/"
        },
        "outputId": "141e0c30-4de1-43fd-cac3-7344a96419b3",
        "id": "KoRDCk1uFS8-"
      },
      "outputs": [
        {
          "output_type": "stream",
          "name": "stdout",
          "text": [
            "(36, 100)\n",
            "(36, 150)\n"
          ]
        }
      ],
      "source": [
        "# preprocess text data\n",
        "\n",
        "vocab_sizeQ = 100000\n",
        "vocab_sizeA=150000\n",
        "max_lenQ = 100\n",
        "max_lenA = 150\n",
        "\n",
        "\n",
        "# build vocabulary from training set\n",
        "tokenizerQ = Tokenizer(num_words=vocab_sizeQ)\n",
        "tokenizerQ.fit_on_texts(xtr['Question'])\n",
        "\n",
        "tokenizerA = Tokenizer(num_words=vocab_sizeA)\n",
        "tokenizerA.fit_on_texts(xtr['Answer'])\n",
        "\n",
        "\n",
        "def Q_preprocess(list_of_text):\n",
        "    return pad_sequences(\n",
        "        tokenizerQ.texts_to_sequences(list_of_text),\n",
        "        maxlen=max_lenQ,\n",
        "        padding='post',\n",
        "    )\n",
        "\n",
        "def A_preprocess(list_of_text):\n",
        "    return pad_sequences(\n",
        "        tokenizerA.texts_to_sequences(list_of_text),\n",
        "        maxlen=max_lenA,\n",
        "        padding='post',\n",
        "    )   \n",
        "\n",
        "# padding is done inside: \n",
        "pre_Q = Q_preprocess(xtr['Question'])\n",
        "pre_A = A_preprocess(xtr['Answer'])\n",
        "print(pre_Q.shape)\n",
        "print(pre_A.shape)"
      ]
    },
    {
      "cell_type": "code",
      "execution_count": null,
      "metadata": {
        "id": "TFDKJEx9FS8_"
      },
      "outputs": [],
      "source": [
        "#Preprocess test data\n",
        "pre_Qt = Q_preprocess(xts['Question'])\n",
        "pre_At = A_preprocess(xts['Answer'])"
      ]
    },
    {
      "cell_type": "code",
      "execution_count": null,
      "metadata": {
        "colab": {
          "base_uri": "https://localhost:8080/"
        },
        "outputId": "0c28628b-bc6f-48db-827d-7bb8ffc7bccb",
        "id": "W-MeskcrFS9B"
      },
      "outputs": [
        {
          "output_type": "stream",
          "name": "stdout",
          "text": [
            "KerasTensor(type_spec=TensorSpec(shape=(None, 100), dtype=tf.float32, name=None), name='dense_10/Relu:0', description=\"created by layer 'dense_10'\")\n",
            "Model: \"model_5\"\n",
            "__________________________________________________________________________________________________\n",
            " Layer (type)                   Output Shape         Param #     Connected to                     \n",
            "==================================================================================================\n",
            " input_11 (InputLayer)          [(None, 100)]        0           []                               \n",
            "                                                                                                  \n",
            " input_12 (InputLayer)          [(None, 150)]        0           []                               \n",
            "                                                                                                  \n",
            " embedding_10 (Embedding)       (None, 100, 100)     10000000    ['input_11[0][0]']               \n",
            "                                                                                                  \n",
            " embedding_11 (Embedding)       (None, 150, 100)     15000000    ['input_12[0][0]']               \n",
            "                                                                                                  \n",
            " bidirectional_20 (Bidirectiona  (None, 100, 64)     34048       ['embedding_10[0][0]']           \n",
            " l)                                                                                               \n",
            "                                                                                                  \n",
            " bidirectional_22 (Bidirectiona  (None, 150, 64)     34048       ['embedding_11[0][0]']           \n",
            " l)                                                                                               \n",
            "                                                                                                  \n",
            " bidirectional_21 (Bidirectiona  (None, 128)         66048       ['bidirectional_20[0][0]']       \n",
            " l)                                                                                               \n",
            "                                                                                                  \n",
            " bidirectional_23 (Bidirectiona  (None, 128)         66048       ['bidirectional_22[0][0]']       \n",
            " l)                                                                                               \n",
            "                                                                                                  \n",
            " dense_10 (Dense)               (None, 100)          12900       ['bidirectional_21[0][0]']       \n",
            "                                                                                                  \n",
            " dense_11 (Dense)               (None, 100)          12900       ['bidirectional_23[0][0]']       \n",
            "                                                                                                  \n",
            " concatenate_11 (Concatenate)   (None, 200)          0           ['dense_10[0][0]',               \n",
            "                                                                  'dense_11[0][0]']               \n",
            "                                                                                                  \n",
            " type (Dense)                   (None, 4)            804         ['concatenate_11[0][0]']         \n",
            "                                                                                                  \n",
            "==================================================================================================\n",
            "Total params: 25,226,796\n",
            "Trainable params: 25,226,796\n",
            "Non-trainable params: 0\n",
            "__________________________________________________________________________________________________\n"
          ]
        }
      ],
      "source": [
        "in_Q = keras.Input(batch_shape=(None, max_lenQ))\n",
        "in_A = keras.Input(batch_shape=(None, max_lenA))\n",
        "# Bidirectional LSTMs are an extension of traditional LSTMs that can improve model\n",
        "# performance on sequence classification problems.\n",
        "embedded1 = keras.layers.Embedding(tokenizerQ.num_words, 100)(in_Q)\n",
        "bidirectional = keras.layers.Bidirectional(keras.layers.LSTM(32, return_sequences=True))(embedded1)\n",
        "bidirectional1 = keras.layers.Bidirectional(keras.layers.LSTM(64, return_sequences=False)) (bidirectional)\n",
        "#bidirectional2 = keras.layers.Bidirectional(keras.layers.LSTM(256, return_sequences=False))(embedded1)#(bidirectional1)\n",
        "fc1 = Dense(100, activation='relu')(bidirectional1)\n",
        "print(fc1)\n",
        "embedded2 = keras.layers.Embedding(tokenizerA.num_words, 100)(in_A)\n",
        "merged = keras.layers.Concatenate(axis=1)([embedded1, embedded2])\n",
        "bidirectional3 = keras.layers.Bidirectional(keras.layers.LSTM(32, return_sequences=True))(embedded2)\n",
        "bidirectional4 = keras.layers.Bidirectional(keras.layers.LSTM(64, return_sequences=False))(bidirectional3)\n",
        "#bidirectional5 = keras.layers.Bidirectional(keras.layers.LSTM(256, return_sequences=False))(embedded2)#(bidirectional4)\n",
        "fc2 = Dense(100, activation='relu')(bidirectional4)\n",
        "\n",
        "\n",
        "fused = keras.layers.Concatenate(axis=1)([fc1, fc2])\n",
        "\n",
        "rank = Dense(4, activation='softmax', name='type')(fused)\n",
        "\n",
        "model = keras.Model(\n",
        "    inputs={\n",
        "        'Question':in_Q,\n",
        "        'Answer':in_A\n",
        "    },\n",
        "    outputs=rank\n",
        ")\n",
        "\n",
        "model.compile(\n",
        "    optimizer=Nadam(),\n",
        "    loss='sparse_categorical_crossentropy', \n",
        "    metrics='SparseCategoricalAccuracy' \n",
        "\n",
        ")\n",
        "\n",
        "model.summary()"
      ]
    },
    {
      "cell_type": "code",
      "execution_count": null,
      "metadata": {
        "colab": {
          "base_uri": "https://localhost:8080/"
        },
        "outputId": "f2e7183a-9a3b-4f59-d8e9-e01d8d9e4961",
        "id": "LJ1l7HPQFS9C"
      },
      "outputs": [
        {
          "output_type": "stream",
          "name": "stdout",
          "text": [
            "Epoch 1/20\n",
            "1/1 [==============================] - 19s 19s/step - loss: 1.3894 - sparse_categorical_accuracy: 0.0357 - val_loss: 1.3754 - val_sparse_categorical_accuracy: 0.1250\n",
            "Epoch 2/20\n",
            "1/1 [==============================] - 0s 451ms/step - loss: 1.3594 - sparse_categorical_accuracy: 0.5714 - val_loss: 1.3660 - val_sparse_categorical_accuracy: 0.2500\n",
            "Epoch 3/20\n",
            "1/1 [==============================] - 0s 438ms/step - loss: 1.3316 - sparse_categorical_accuracy: 0.5357 - val_loss: 1.3536 - val_sparse_categorical_accuracy: 0.2500\n",
            "Epoch 4/20\n",
            "1/1 [==============================] - 0s 423ms/step - loss: 1.2964 - sparse_categorical_accuracy: 0.5357 - val_loss: 1.3368 - val_sparse_categorical_accuracy: 0.2500\n",
            "Epoch 5/20\n",
            "1/1 [==============================] - 0s 450ms/step - loss: 1.2444 - sparse_categorical_accuracy: 0.5357 - val_loss: 1.3175 - val_sparse_categorical_accuracy: 0.2500\n",
            "Epoch 6/20\n",
            "1/1 [==============================] - 0s 453ms/step - loss: 1.1663 - sparse_categorical_accuracy: 0.5357 - val_loss: 1.3118 - val_sparse_categorical_accuracy: 0.2500\n",
            "Epoch 7/20\n",
            "1/1 [==============================] - 0s 423ms/step - loss: 1.0468 - sparse_categorical_accuracy: 0.5357 - val_loss: 1.4108 - val_sparse_categorical_accuracy: 0.2500\n",
            "Epoch 8/20\n",
            "1/1 [==============================] - 0s 434ms/step - loss: 0.9248 - sparse_categorical_accuracy: 0.5357 - val_loss: 1.4911 - val_sparse_categorical_accuracy: 0.2500\n",
            "Epoch 9/20\n",
            "1/1 [==============================] - 0s 432ms/step - loss: 0.8727 - sparse_categorical_accuracy: 0.5357 - val_loss: 1.5118 - val_sparse_categorical_accuracy: 0.2500\n",
            "Epoch 10/20\n",
            "1/1 [==============================] - 0s 432ms/step - loss: 0.8320 - sparse_categorical_accuracy: 0.7143 - val_loss: 1.9821 - val_sparse_categorical_accuracy: 0.2500\n",
            "Epoch 11/20\n",
            "1/1 [==============================] - 0s 470ms/step - loss: 0.8402 - sparse_categorical_accuracy: 0.6429 - val_loss: 1.3300 - val_sparse_categorical_accuracy: 0.5000\n"
          ]
        }
      ],
      "source": [
        "history = model.fit(\n",
        "    x={\n",
        "        'Question': pre_Q,\n",
        "        'Answer': pre_A\n",
        "    },\n",
        "    y=ytr,\n",
        "    epochs=20,\n",
        "    batch_size=32,\n",
        "    validation_split=0.2,\n",
        "    callbacks=[\n",
        "        tf.keras.callbacks.EarlyStopping(monitor='val_loss', patience=5,restore_best_weights=True )\n",
        "    ],\n",
        "    verbose=1\n",
        ")"
      ]
    },
    {
      "cell_type": "code",
      "execution_count": null,
      "metadata": {
        "id": "VchaJZizFS9C"
      },
      "outputs": [],
      "source": [
        "y_predict = model.predict(\n",
        "    {\n",
        "        'Question': pre_Qt,\n",
        "        'Answer': pre_At\n",
        "    }\n",
        ")"
      ]
    },
    {
      "cell_type": "code",
      "source": [
        "y_predict.shape"
      ],
      "metadata": {
        "colab": {
          "base_uri": "https://localhost:8080/"
        },
        "id": "wkfOtj6UGrJ6",
        "outputId": "2a971368-9904-435f-b8ed-f9cfd8d8a4cd"
      },
      "execution_count": null,
      "outputs": [
        {
          "output_type": "execute_result",
          "data": {
            "text/plain": [
              "(45, 4)"
            ]
          },
          "metadata": {},
          "execution_count": 118
        }
      ]
    },
    {
      "cell_type": "code",
      "source": [
        "usage_scores=[]\n",
        "for i in range(len(y_predict)):\n",
        "  usage_scores.append(y_predict[i][df_usage.iloc[i,2]])"
      ],
      "metadata": {
        "id": "HKX40_ceFS9C"
      },
      "execution_count": null,
      "outputs": []
    },
    {
      "cell_type": "code",
      "source": [
        "len(usage_scores)"
      ],
      "metadata": {
        "colab": {
          "base_uri": "https://localhost:8080/"
        },
        "id": "NQOsP96eGtFp",
        "outputId": "f52e3f12-945a-4e8b-db60-c7fc69f91b6e"
      },
      "execution_count": null,
      "outputs": [
        {
          "output_type": "execute_result",
          "data": {
            "text/plain": [
              "45"
            ]
          },
          "metadata": {},
          "execution_count": 120
        }
      ]
    },
    {
      "cell_type": "markdown",
      "source": [
        "## Fourth Trial"
      ],
      "metadata": {
        "id": "eIFh6wyVH8-Z"
      }
    },
    {
      "cell_type": "code",
      "source": [
        "df_other.drop(columns=[\"Qtype\"], inplace=True)"
      ],
      "metadata": {
        "colab": {
          "base_uri": "https://localhost:8080/"
        },
        "outputId": "45586a80-d8d0-4466-8b1c-3677582a95f5",
        "id": "D8w8PlvJH8-j"
      },
      "execution_count": null,
      "outputs": [
        {
          "output_type": "stream",
          "name": "stderr",
          "text": [
            "/usr/local/lib/python3.7/dist-packages/pandas/core/frame.py:4913: SettingWithCopyWarning: \n",
            "A value is trying to be set on a copy of a slice from a DataFrame\n",
            "\n",
            "See the caveats in the documentation: https://pandas.pydata.org/pandas-docs/stable/user_guide/indexing.html#returning-a-view-versus-a-copy\n",
            "  errors=errors,\n"
          ]
        }
      ]
    },
    {
      "cell_type": "code",
      "source": [
        "df_other.shape"
      ],
      "metadata": {
        "colab": {
          "base_uri": "https://localhost:8080/"
        },
        "outputId": "f64a03cf-9294-43c7-b4e5-1b47d6f41f15",
        "id": "a8gcmA-WH8-j"
      },
      "execution_count": null,
      "outputs": [
        {
          "output_type": "execute_result",
          "data": {
            "text/plain": [
              "(43, 3)"
            ]
          },
          "metadata": {},
          "execution_count": 122
        }
      ]
    },
    {
      "cell_type": "code",
      "execution_count": null,
      "metadata": {
        "id": "rhoxDBNWH8-k"
      },
      "outputs": [],
      "source": [
        "train, test = train_test_split(\n",
        "    df_other, test_size=0.2, random_state=42)"
      ]
    },
    {
      "cell_type": "code",
      "execution_count": null,
      "metadata": {
        "id": "VTkZT-ocH8-k"
      },
      "outputs": [],
      "source": [
        "xtr=train.loc[:, train.columns != 'Rank']\n",
        "ytr=train.loc[:, train.columns == 'Rank']\n",
        "\n",
        "xts=df_other.loc[:, test.columns != 'Rank']\n",
        "yts=df_other.loc[:, test.columns == 'Rank']"
      ]
    },
    {
      "cell_type": "code",
      "execution_count": null,
      "metadata": {
        "colab": {
          "base_uri": "https://localhost:8080/"
        },
        "outputId": "e85120e8-887a-4364-e3f5-843c186cd940",
        "id": "XA-_i0-bH8-k"
      },
      "outputs": [
        {
          "output_type": "stream",
          "name": "stdout",
          "text": [
            "(34, 100)\n",
            "(34, 150)\n"
          ]
        }
      ],
      "source": [
        "# preprocess text data\n",
        "\n",
        "vocab_sizeQ = 100000\n",
        "vocab_sizeA=150000\n",
        "max_lenQ = 100\n",
        "max_lenA = 150\n",
        "\n",
        "\n",
        "# build vocabulary from training set\n",
        "tokenizerQ = Tokenizer(num_words=vocab_sizeQ)\n",
        "tokenizerQ.fit_on_texts(xtr['Question'])\n",
        "\n",
        "tokenizerA = Tokenizer(num_words=vocab_sizeA)\n",
        "tokenizerA.fit_on_texts(xtr['Answer'])\n",
        "\n",
        "\n",
        "def Q_preprocess(list_of_text):\n",
        "    return pad_sequences(\n",
        "        tokenizerQ.texts_to_sequences(list_of_text),\n",
        "        maxlen=max_lenQ,\n",
        "        padding='post',\n",
        "    )\n",
        "\n",
        "def A_preprocess(list_of_text):\n",
        "    return pad_sequences(\n",
        "        tokenizerA.texts_to_sequences(list_of_text),\n",
        "        maxlen=max_lenA,\n",
        "        padding='post',\n",
        "    )   \n",
        "\n",
        "# padding is done inside: \n",
        "pre_Q = Q_preprocess(xtr['Question'])\n",
        "pre_A = A_preprocess(xtr['Answer'])\n",
        "print(pre_Q.shape)\n",
        "print(pre_A.shape)"
      ]
    },
    {
      "cell_type": "code",
      "execution_count": null,
      "metadata": {
        "id": "K1IDRJKSH8-k"
      },
      "outputs": [],
      "source": [
        "#Preprocess test data\n",
        "pre_Qt = Q_preprocess(xts['Question'])\n",
        "pre_At = A_preprocess(xts['Answer'])"
      ]
    },
    {
      "cell_type": "code",
      "execution_count": null,
      "metadata": {
        "colab": {
          "base_uri": "https://localhost:8080/"
        },
        "outputId": "052b9ee3-00da-4f1f-fc0e-7903908c40ee",
        "id": "wqxNEDf1H8-k"
      },
      "outputs": [
        {
          "output_type": "stream",
          "name": "stdout",
          "text": [
            "KerasTensor(type_spec=TensorSpec(shape=(None, 100), dtype=tf.float32, name=None), name='dense_12/Relu:0', description=\"created by layer 'dense_12'\")\n",
            "Model: \"model_6\"\n",
            "__________________________________________________________________________________________________\n",
            " Layer (type)                   Output Shape         Param #     Connected to                     \n",
            "==================================================================================================\n",
            " input_13 (InputLayer)          [(None, 100)]        0           []                               \n",
            "                                                                                                  \n",
            " input_14 (InputLayer)          [(None, 150)]        0           []                               \n",
            "                                                                                                  \n",
            " embedding_12 (Embedding)       (None, 100, 100)     10000000    ['input_13[0][0]']               \n",
            "                                                                                                  \n",
            " embedding_13 (Embedding)       (None, 150, 100)     15000000    ['input_14[0][0]']               \n",
            "                                                                                                  \n",
            " bidirectional_24 (Bidirectiona  (None, 100, 64)     34048       ['embedding_12[0][0]']           \n",
            " l)                                                                                               \n",
            "                                                                                                  \n",
            " bidirectional_26 (Bidirectiona  (None, 150, 64)     34048       ['embedding_13[0][0]']           \n",
            " l)                                                                                               \n",
            "                                                                                                  \n",
            " bidirectional_25 (Bidirectiona  (None, 128)         66048       ['bidirectional_24[0][0]']       \n",
            " l)                                                                                               \n",
            "                                                                                                  \n",
            " bidirectional_27 (Bidirectiona  (None, 128)         66048       ['bidirectional_26[0][0]']       \n",
            " l)                                                                                               \n",
            "                                                                                                  \n",
            " dense_12 (Dense)               (None, 100)          12900       ['bidirectional_25[0][0]']       \n",
            "                                                                                                  \n",
            " dense_13 (Dense)               (None, 100)          12900       ['bidirectional_27[0][0]']       \n",
            "                                                                                                  \n",
            " concatenate_13 (Concatenate)   (None, 200)          0           ['dense_12[0][0]',               \n",
            "                                                                  'dense_13[0][0]']               \n",
            "                                                                                                  \n",
            " type (Dense)                   (None, 4)            804         ['concatenate_13[0][0]']         \n",
            "                                                                                                  \n",
            "==================================================================================================\n",
            "Total params: 25,226,796\n",
            "Trainable params: 25,226,796\n",
            "Non-trainable params: 0\n",
            "__________________________________________________________________________________________________\n"
          ]
        }
      ],
      "source": [
        "in_Q = keras.Input(batch_shape=(None, max_lenQ))\n",
        "in_A = keras.Input(batch_shape=(None, max_lenA))\n",
        "# Bidirectional LSTMs are an extension of traditional LSTMs that can improve model\n",
        "# performance on sequence classification problems.\n",
        "embedded1 = keras.layers.Embedding(tokenizerQ.num_words, 100)(in_Q)\n",
        "bidirectional = keras.layers.Bidirectional(keras.layers.LSTM(32, return_sequences=True))(embedded1)\n",
        "bidirectional1 = keras.layers.Bidirectional(keras.layers.LSTM(64, return_sequences=False)) (bidirectional)\n",
        "#bidirectional2 = keras.layers.Bidirectional(keras.layers.LSTM(256, return_sequences=False))(embedded1)#(bidirectional1)\n",
        "fc1 = Dense(100, activation='relu')(bidirectional1)\n",
        "print(fc1)\n",
        "embedded2 = keras.layers.Embedding(tokenizerA.num_words, 100)(in_A)\n",
        "merged = keras.layers.Concatenate(axis=1)([embedded1, embedded2])\n",
        "bidirectional3 = keras.layers.Bidirectional(keras.layers.LSTM(32, return_sequences=True))(embedded2)\n",
        "bidirectional4 = keras.layers.Bidirectional(keras.layers.LSTM(64, return_sequences=False))(bidirectional3)\n",
        "#bidirectional5 = keras.layers.Bidirectional(keras.layers.LSTM(256, return_sequences=False))(embedded2)#(bidirectional4)\n",
        "fc2 = Dense(100, activation='relu')(bidirectional4)\n",
        "\n",
        "\n",
        "fused = keras.layers.Concatenate(axis=1)([fc1, fc2])\n",
        "\n",
        "rank = Dense(4, activation='softmax', name='type')(fused)\n",
        "\n",
        "model = keras.Model(\n",
        "    inputs={\n",
        "        'Question':in_Q,\n",
        "        'Answer':in_A\n",
        "    },\n",
        "    outputs=rank\n",
        ")\n",
        "\n",
        "model.compile(\n",
        "    optimizer=Nadam(),\n",
        "    loss='sparse_categorical_crossentropy', \n",
        "    metrics='SparseCategoricalAccuracy' \n",
        "\n",
        ")\n",
        "\n",
        "model.summary()"
      ]
    },
    {
      "cell_type": "code",
      "execution_count": null,
      "metadata": {
        "colab": {
          "base_uri": "https://localhost:8080/"
        },
        "outputId": "58e00e2d-d8ee-4a2e-cbc7-f8511b865d80",
        "id": "aNTDJZN9H8-l"
      },
      "outputs": [
        {
          "output_type": "stream",
          "name": "stdout",
          "text": [
            "Epoch 1/20\n",
            "1/1 [==============================] - 18s 18s/step - loss: 1.3880 - sparse_categorical_accuracy: 0.2222 - val_loss: 1.3492 - val_sparse_categorical_accuracy: 0.7143\n",
            "Epoch 2/20\n",
            "1/1 [==============================] - 0s 406ms/step - loss: 1.3342 - sparse_categorical_accuracy: 0.8519 - val_loss: 1.3131 - val_sparse_categorical_accuracy: 0.7143\n",
            "Epoch 3/20\n",
            "1/1 [==============================] - 0s 389ms/step - loss: 1.2853 - sparse_categorical_accuracy: 0.8519 - val_loss: 1.2652 - val_sparse_categorical_accuracy: 0.7143\n",
            "Epoch 4/20\n",
            "1/1 [==============================] - 0s 380ms/step - loss: 1.2206 - sparse_categorical_accuracy: 0.8519 - val_loss: 1.1935 - val_sparse_categorical_accuracy: 0.7143\n",
            "Epoch 5/20\n",
            "1/1 [==============================] - 0s 387ms/step - loss: 1.1209 - sparse_categorical_accuracy: 0.8519 - val_loss: 1.0887 - val_sparse_categorical_accuracy: 0.7143\n",
            "Epoch 6/20\n",
            "1/1 [==============================] - 0s 378ms/step - loss: 0.9677 - sparse_categorical_accuracy: 0.8519 - val_loss: 0.9626 - val_sparse_categorical_accuracy: 0.7143\n",
            "Epoch 7/20\n",
            "1/1 [==============================] - 0s 395ms/step - loss: 0.7580 - sparse_categorical_accuracy: 0.8519 - val_loss: 0.9210 - val_sparse_categorical_accuracy: 0.7143\n",
            "Epoch 8/20\n",
            "1/1 [==============================] - 0s 325ms/step - loss: 0.5828 - sparse_categorical_accuracy: 0.8519 - val_loss: 1.0292 - val_sparse_categorical_accuracy: 0.7143\n",
            "Epoch 9/20\n",
            "1/1 [==============================] - 0s 332ms/step - loss: 0.5434 - sparse_categorical_accuracy: 0.8519 - val_loss: 1.0695 - val_sparse_categorical_accuracy: 0.7143\n",
            "Epoch 10/20\n",
            "1/1 [==============================] - 0s 329ms/step - loss: 0.5243 - sparse_categorical_accuracy: 0.8519 - val_loss: 1.1253 - val_sparse_categorical_accuracy: 0.7143\n",
            "Epoch 11/20\n",
            "1/1 [==============================] - 0s 333ms/step - loss: 0.5077 - sparse_categorical_accuracy: 0.8519 - val_loss: 1.1902 - val_sparse_categorical_accuracy: 0.7143\n",
            "Epoch 12/20\n",
            "1/1 [==============================] - 0s 348ms/step - loss: 0.4903 - sparse_categorical_accuracy: 0.8519 - val_loss: 1.2848 - val_sparse_categorical_accuracy: 0.7143\n"
          ]
        }
      ],
      "source": [
        "history = model.fit(\n",
        "    x={\n",
        "        'Question': pre_Q,\n",
        "        'Answer': pre_A\n",
        "    },\n",
        "    y=ytr,\n",
        "    epochs=20,\n",
        "    batch_size=32,\n",
        "    validation_split=0.2,\n",
        "    callbacks=[\n",
        "        tf.keras.callbacks.EarlyStopping(monitor='val_loss', patience=5,restore_best_weights=True )\n",
        "    ],\n",
        "    verbose=1\n",
        ")"
      ]
    },
    {
      "cell_type": "code",
      "execution_count": null,
      "metadata": {
        "id": "lkkP6ctpH8-l"
      },
      "outputs": [],
      "source": [
        "y_predict = model.predict(\n",
        "    {\n",
        "        'Question': pre_Qt,\n",
        "        'Answer': pre_At\n",
        "    }\n",
        ")"
      ]
    },
    {
      "cell_type": "code",
      "source": [
        "y_predict.shape"
      ],
      "metadata": {
        "colab": {
          "base_uri": "https://localhost:8080/"
        },
        "outputId": "541e89d6-7928-4d6b-e59c-0a462590cb6e",
        "id": "EyJTGndjH8-l"
      },
      "execution_count": null,
      "outputs": [
        {
          "output_type": "execute_result",
          "data": {
            "text/plain": [
              "(43, 4)"
            ]
          },
          "metadata": {},
          "execution_count": 130
        }
      ]
    },
    {
      "cell_type": "code",
      "source": [
        "other_scores=[]\n",
        "for i in range(len(y_predict)):\n",
        "  other_scores.append(y_predict[i][df_other.iloc[i,2]])"
      ],
      "metadata": {
        "id": "WpLgS5VqH8-l"
      },
      "execution_count": null,
      "outputs": []
    },
    {
      "cell_type": "code",
      "source": [
        "len(usage_scores)"
      ],
      "metadata": {
        "colab": {
          "base_uri": "https://localhost:8080/"
        },
        "outputId": "37324e7a-382b-431c-cedb-c834bafa94ec",
        "id": "s9Q4ZhYyH8-m"
      },
      "execution_count": null,
      "outputs": [
        {
          "output_type": "execute_result",
          "data": {
            "text/plain": [
              "45"
            ]
          },
          "metadata": {},
          "execution_count": 132
        }
      ]
    },
    {
      "cell_type": "code",
      "source": [
        ""
      ],
      "metadata": {
        "id": "ZB-lTevWI8Ik"
      },
      "execution_count": null,
      "outputs": []
    },
    {
      "cell_type": "markdown",
      "source": [
        "## Fifth Trial"
      ],
      "metadata": {
        "id": "LJwLn-W-JH1B"
      }
    },
    {
      "cell_type": "code",
      "source": [
        "df_brands.drop(columns=[\"Qtype\"], inplace=True)"
      ],
      "metadata": {
        "colab": {
          "base_uri": "https://localhost:8080/"
        },
        "outputId": "d513d314-8f52-4cc1-def8-5b1d23dae3fc",
        "id": "94_s8W7UJH1C"
      },
      "execution_count": null,
      "outputs": [
        {
          "output_type": "stream",
          "name": "stderr",
          "text": [
            "/usr/local/lib/python3.7/dist-packages/pandas/core/frame.py:4913: SettingWithCopyWarning: \n",
            "A value is trying to be set on a copy of a slice from a DataFrame\n",
            "\n",
            "See the caveats in the documentation: https://pandas.pydata.org/pandas-docs/stable/user_guide/indexing.html#returning-a-view-versus-a-copy\n",
            "  errors=errors,\n"
          ]
        }
      ]
    },
    {
      "cell_type": "code",
      "source": [
        "df_brands.shape"
      ],
      "metadata": {
        "colab": {
          "base_uri": "https://localhost:8080/"
        },
        "outputId": "1e6a56e0-65c2-415f-8601-77d34a185b63",
        "id": "pej_L3kfJH1C"
      },
      "execution_count": null,
      "outputs": [
        {
          "output_type": "execute_result",
          "data": {
            "text/plain": [
              "(37, 3)"
            ]
          },
          "metadata": {},
          "execution_count": 134
        }
      ]
    },
    {
      "cell_type": "code",
      "execution_count": null,
      "metadata": {
        "id": "iOQlxsc0JH1C"
      },
      "outputs": [],
      "source": [
        "train, test = train_test_split(\n",
        "    df_brands, test_size=0.2, random_state=42)"
      ]
    },
    {
      "cell_type": "code",
      "execution_count": null,
      "metadata": {
        "id": "s5L3WAkRJH1C"
      },
      "outputs": [],
      "source": [
        "xtr=train.loc[:, train.columns != 'Rank']\n",
        "ytr=train.loc[:, train.columns == 'Rank']\n",
        "\n",
        "xts=df_brands.loc[:, test.columns != 'Rank']\n",
        "yts=df_brands.loc[:, test.columns == 'Rank']"
      ]
    },
    {
      "cell_type": "code",
      "execution_count": null,
      "metadata": {
        "colab": {
          "base_uri": "https://localhost:8080/"
        },
        "outputId": "372e4705-9886-47fd-b749-8d3ba903da5f",
        "id": "3wxUlLB2JH1D"
      },
      "outputs": [
        {
          "output_type": "stream",
          "name": "stdout",
          "text": [
            "(29, 100)\n",
            "(29, 150)\n"
          ]
        }
      ],
      "source": [
        "# preprocess text data\n",
        "\n",
        "vocab_sizeQ = 100000\n",
        "vocab_sizeA=150000\n",
        "max_lenQ = 100\n",
        "max_lenA = 150\n",
        "\n",
        "\n",
        "# build vocabulary from training set\n",
        "tokenizerQ = Tokenizer(num_words=vocab_sizeQ)\n",
        "tokenizerQ.fit_on_texts(xtr['Question'])\n",
        "\n",
        "tokenizerA = Tokenizer(num_words=vocab_sizeA)\n",
        "tokenizerA.fit_on_texts(xtr['Answer'])\n",
        "\n",
        "\n",
        "def Q_preprocess(list_of_text):\n",
        "    return pad_sequences(\n",
        "        tokenizerQ.texts_to_sequences(list_of_text),\n",
        "        maxlen=max_lenQ,\n",
        "        padding='post',\n",
        "    )\n",
        "\n",
        "def A_preprocess(list_of_text):\n",
        "    return pad_sequences(\n",
        "        tokenizerA.texts_to_sequences(list_of_text),\n",
        "        maxlen=max_lenA,\n",
        "        padding='post',\n",
        "    )   \n",
        "\n",
        "# padding is done inside: \n",
        "pre_Q = Q_preprocess(xtr['Question'])\n",
        "pre_A = A_preprocess(xtr['Answer'])\n",
        "print(pre_Q.shape)\n",
        "print(pre_A.shape)"
      ]
    },
    {
      "cell_type": "code",
      "execution_count": null,
      "metadata": {
        "id": "xkUL4B_bJH1D"
      },
      "outputs": [],
      "source": [
        "#Preprocess test data\n",
        "pre_Qt = Q_preprocess(xts['Question'])\n",
        "pre_At = A_preprocess(xts['Answer'])"
      ]
    },
    {
      "cell_type": "code",
      "execution_count": null,
      "metadata": {
        "colab": {
          "base_uri": "https://localhost:8080/"
        },
        "outputId": "8bb05c7b-74fb-424f-8d77-87ae833be057",
        "id": "riPBuQPKJH1D"
      },
      "outputs": [
        {
          "output_type": "stream",
          "name": "stdout",
          "text": [
            "KerasTensor(type_spec=TensorSpec(shape=(None, 100), dtype=tf.float32, name=None), name='dense_14/Relu:0', description=\"created by layer 'dense_14'\")\n",
            "Model: \"model_7\"\n",
            "__________________________________________________________________________________________________\n",
            " Layer (type)                   Output Shape         Param #     Connected to                     \n",
            "==================================================================================================\n",
            " input_15 (InputLayer)          [(None, 100)]        0           []                               \n",
            "                                                                                                  \n",
            " input_16 (InputLayer)          [(None, 150)]        0           []                               \n",
            "                                                                                                  \n",
            " embedding_14 (Embedding)       (None, 100, 100)     10000000    ['input_15[0][0]']               \n",
            "                                                                                                  \n",
            " embedding_15 (Embedding)       (None, 150, 100)     15000000    ['input_16[0][0]']               \n",
            "                                                                                                  \n",
            " bidirectional_28 (Bidirectiona  (None, 100, 64)     34048       ['embedding_14[0][0]']           \n",
            " l)                                                                                               \n",
            "                                                                                                  \n",
            " bidirectional_30 (Bidirectiona  (None, 150, 64)     34048       ['embedding_15[0][0]']           \n",
            " l)                                                                                               \n",
            "                                                                                                  \n",
            " bidirectional_29 (Bidirectiona  (None, 128)         66048       ['bidirectional_28[0][0]']       \n",
            " l)                                                                                               \n",
            "                                                                                                  \n",
            " bidirectional_31 (Bidirectiona  (None, 128)         66048       ['bidirectional_30[0][0]']       \n",
            " l)                                                                                               \n",
            "                                                                                                  \n",
            " dense_14 (Dense)               (None, 100)          12900       ['bidirectional_29[0][0]']       \n",
            "                                                                                                  \n",
            " dense_15 (Dense)               (None, 100)          12900       ['bidirectional_31[0][0]']       \n",
            "                                                                                                  \n",
            " concatenate_15 (Concatenate)   (None, 200)          0           ['dense_14[0][0]',               \n",
            "                                                                  'dense_15[0][0]']               \n",
            "                                                                                                  \n",
            " type (Dense)                   (None, 4)            804         ['concatenate_15[0][0]']         \n",
            "                                                                                                  \n",
            "==================================================================================================\n",
            "Total params: 25,226,796\n",
            "Trainable params: 25,226,796\n",
            "Non-trainable params: 0\n",
            "__________________________________________________________________________________________________\n"
          ]
        }
      ],
      "source": [
        "in_Q = keras.Input(batch_shape=(None, max_lenQ))\n",
        "in_A = keras.Input(batch_shape=(None, max_lenA))\n",
        "# Bidirectional LSTMs are an extension of traditional LSTMs that can improve model\n",
        "# performance on sequence classification problems.\n",
        "embedded1 = keras.layers.Embedding(tokenizerQ.num_words, 100)(in_Q)\n",
        "bidirectional = keras.layers.Bidirectional(keras.layers.LSTM(32, return_sequences=True))(embedded1)\n",
        "bidirectional1 = keras.layers.Bidirectional(keras.layers.LSTM(64, return_sequences=False)) (bidirectional)\n",
        "#bidirectional2 = keras.layers.Bidirectional(keras.layers.LSTM(256, return_sequences=False))(embedded1)#(bidirectional1)\n",
        "fc1 = Dense(100, activation='relu')(bidirectional1)\n",
        "print(fc1)\n",
        "embedded2 = keras.layers.Embedding(tokenizerA.num_words, 100)(in_A)\n",
        "merged = keras.layers.Concatenate(axis=1)([embedded1, embedded2])\n",
        "bidirectional3 = keras.layers.Bidirectional(keras.layers.LSTM(32, return_sequences=True))(embedded2)\n",
        "bidirectional4 = keras.layers.Bidirectional(keras.layers.LSTM(64, return_sequences=False))(bidirectional3)\n",
        "#bidirectional5 = keras.layers.Bidirectional(keras.layers.LSTM(256, return_sequences=False))(embedded2)#(bidirectional4)\n",
        "fc2 = Dense(100, activation='relu')(bidirectional4)\n",
        "\n",
        "\n",
        "fused = keras.layers.Concatenate(axis=1)([fc1, fc2])\n",
        "\n",
        "rank = Dense(4, activation='softmax', name='type')(fused)\n",
        "\n",
        "model = keras.Model(\n",
        "    inputs={\n",
        "        'Question':in_Q,\n",
        "        'Answer':in_A\n",
        "    },\n",
        "    outputs=rank\n",
        ")\n",
        "\n",
        "model.compile(\n",
        "    optimizer=Nadam(),\n",
        "    loss='sparse_categorical_crossentropy', \n",
        "    metrics='SparseCategoricalAccuracy' \n",
        "\n",
        ")\n",
        "\n",
        "model.summary()"
      ]
    },
    {
      "cell_type": "code",
      "execution_count": null,
      "metadata": {
        "colab": {
          "base_uri": "https://localhost:8080/"
        },
        "outputId": "86929a60-2d69-4296-d3e4-e0fbbfdf89c3",
        "id": "0CNvSlpzJH1E"
      },
      "outputs": [
        {
          "output_type": "stream",
          "name": "stdout",
          "text": [
            "Epoch 1/20\n",
            "1/1 [==============================] - 16s 16s/step - loss: 1.3702 - sparse_categorical_accuracy: 0.8261 - val_loss: 1.3157 - val_sparse_categorical_accuracy: 0.8333\n",
            "Epoch 2/20\n",
            "1/1 [==============================] - 0s 336ms/step - loss: 1.3187 - sparse_categorical_accuracy: 0.8261 - val_loss: 1.2618 - val_sparse_categorical_accuracy: 0.8333\n",
            "Epoch 3/20\n",
            "1/1 [==============================] - 0s 341ms/step - loss: 1.2657 - sparse_categorical_accuracy: 0.8261 - val_loss: 1.1904 - val_sparse_categorical_accuracy: 0.8333\n",
            "Epoch 4/20\n",
            "1/1 [==============================] - 0s 353ms/step - loss: 1.1953 - sparse_categorical_accuracy: 0.8261 - val_loss: 1.0885 - val_sparse_categorical_accuracy: 0.8333\n",
            "Epoch 5/20\n",
            "1/1 [==============================] - 0s 337ms/step - loss: 1.0956 - sparse_categorical_accuracy: 0.8261 - val_loss: 0.9337 - val_sparse_categorical_accuracy: 0.8333\n",
            "Epoch 6/20\n",
            "1/1 [==============================] - 0s 343ms/step - loss: 0.9436 - sparse_categorical_accuracy: 0.8261 - val_loss: 0.7251 - val_sparse_categorical_accuracy: 0.8333\n",
            "Epoch 7/20\n",
            "1/1 [==============================] - 0s 330ms/step - loss: 0.7387 - sparse_categorical_accuracy: 0.8261 - val_loss: 0.6244 - val_sparse_categorical_accuracy: 0.8333\n",
            "Epoch 8/20\n",
            "1/1 [==============================] - 0s 332ms/step - loss: 0.6435 - sparse_categorical_accuracy: 0.8261 - val_loss: 0.5889 - val_sparse_categorical_accuracy: 0.8333\n",
            "Epoch 9/20\n",
            "1/1 [==============================] - 0s 342ms/step - loss: 0.6171 - sparse_categorical_accuracy: 0.8261 - val_loss: 0.5629 - val_sparse_categorical_accuracy: 0.8333\n",
            "Epoch 10/20\n",
            "1/1 [==============================] - 0s 331ms/step - loss: 0.6027 - sparse_categorical_accuracy: 0.8261 - val_loss: 0.5374 - val_sparse_categorical_accuracy: 0.8333\n",
            "Epoch 11/20\n",
            "1/1 [==============================] - 0s 353ms/step - loss: 0.5855 - sparse_categorical_accuracy: 0.8261 - val_loss: 0.5149 - val_sparse_categorical_accuracy: 0.8333\n",
            "Epoch 12/20\n",
            "1/1 [==============================] - 0s 342ms/step - loss: 0.5766 - sparse_categorical_accuracy: 0.8261 - val_loss: 0.5024 - val_sparse_categorical_accuracy: 0.8333\n",
            "Epoch 13/20\n",
            "1/1 [==============================] - 0s 340ms/step - loss: 0.5698 - sparse_categorical_accuracy: 0.8261 - val_loss: 0.4922 - val_sparse_categorical_accuracy: 0.8333\n",
            "Epoch 14/20\n",
            "1/1 [==============================] - 0s 288ms/step - loss: 0.5684 - sparse_categorical_accuracy: 0.8261 - val_loss: 0.4976 - val_sparse_categorical_accuracy: 0.8333\n",
            "Epoch 15/20\n",
            "1/1 [==============================] - 0s 285ms/step - loss: 0.5657 - sparse_categorical_accuracy: 0.8261 - val_loss: 0.4975 - val_sparse_categorical_accuracy: 0.8333\n",
            "Epoch 16/20\n",
            "1/1 [==============================] - 0s 286ms/step - loss: 0.5670 - sparse_categorical_accuracy: 0.8261 - val_loss: 0.5061 - val_sparse_categorical_accuracy: 0.8333\n",
            "Epoch 17/20\n",
            "1/1 [==============================] - 0s 287ms/step - loss: 0.5681 - sparse_categorical_accuracy: 0.8261 - val_loss: 0.5086 - val_sparse_categorical_accuracy: 0.8333\n",
            "Epoch 18/20\n",
            "1/1 [==============================] - 0s 305ms/step - loss: 0.5695 - sparse_categorical_accuracy: 0.8261 - val_loss: 0.5142 - val_sparse_categorical_accuracy: 0.8333\n"
          ]
        }
      ],
      "source": [
        "history = model.fit(\n",
        "    x={\n",
        "        'Question': pre_Q,\n",
        "        'Answer': pre_A\n",
        "    },\n",
        "    y=ytr,\n",
        "    epochs=20,\n",
        "    batch_size=32,\n",
        "    validation_split=0.2,\n",
        "    callbacks=[\n",
        "        tf.keras.callbacks.EarlyStopping(monitor='val_loss', patience=5,restore_best_weights=True )\n",
        "    ],\n",
        "    verbose=1\n",
        ")"
      ]
    },
    {
      "cell_type": "code",
      "execution_count": null,
      "metadata": {
        "id": "wfFmobd5JH1E"
      },
      "outputs": [],
      "source": [
        "y_predict = model.predict(\n",
        "    {\n",
        "        'Question': pre_Qt,\n",
        "        'Answer': pre_At\n",
        "    }\n",
        ")"
      ]
    },
    {
      "cell_type": "code",
      "source": [
        "y_predict.shape"
      ],
      "metadata": {
        "colab": {
          "base_uri": "https://localhost:8080/"
        },
        "outputId": "8bc34deb-c69b-4180-9e2e-4c12ae82dce7",
        "id": "4q-159jRJH1E"
      },
      "execution_count": null,
      "outputs": [
        {
          "output_type": "execute_result",
          "data": {
            "text/plain": [
              "(37, 4)"
            ]
          },
          "metadata": {},
          "execution_count": 142
        }
      ]
    },
    {
      "cell_type": "code",
      "source": [
        "brand_scores=[]\n",
        "for i in range(len(y_predict)):\n",
        "  brand_scores.append(y_predict[i][df_brands.iloc[i,2]])"
      ],
      "metadata": {
        "id": "YUNK7hrCJH1E"
      },
      "execution_count": null,
      "outputs": []
    },
    {
      "cell_type": "code",
      "source": [
        "len(brand_scores)"
      ],
      "metadata": {
        "colab": {
          "base_uri": "https://localhost:8080/"
        },
        "outputId": "77e4b330-404b-4d65-a947-dfaab4e0fdbf",
        "id": "rLEJgYO6JH1E"
      },
      "execution_count": null,
      "outputs": [
        {
          "output_type": "execute_result",
          "data": {
            "text/plain": [
              "37"
            ]
          },
          "metadata": {},
          "execution_count": 146
        }
      ]
    },
    {
      "cell_type": "code",
      "source": [
        ""
      ],
      "metadata": {
        "id": "H0D2Yj3FJ3RB"
      },
      "execution_count": null,
      "outputs": []
    },
    {
      "cell_type": "markdown",
      "source": [
        "## Sixth Trial"
      ],
      "metadata": {
        "id": "D-IMuEt5J7Ua"
      }
    },
    {
      "cell_type": "code",
      "source": [
        "df_non_info=df[df['Qtype']!='information']"
      ],
      "metadata": {
        "id": "tBDxr3YDKjjK"
      },
      "execution_count": null,
      "outputs": []
    },
    {
      "cell_type": "code",
      "source": [
        "df_non_info.shape"
      ],
      "metadata": {
        "colab": {
          "base_uri": "https://localhost:8080/"
        },
        "id": "RhC-8nWIKsk9",
        "outputId": "8bd57471-3f66-4c9f-fefa-56b45eb78b86"
      },
      "execution_count": null,
      "outputs": [
        {
          "output_type": "execute_result",
          "data": {
            "text/plain": [
              "(519, 4)"
            ]
          },
          "metadata": {},
          "execution_count": 18
        }
      ]
    },
    {
      "cell_type": "code",
      "source": [
        "df_non_info.drop(columns=[\"Qtype\"], inplace=True)"
      ],
      "metadata": {
        "colab": {
          "base_uri": "https://localhost:8080/"
        },
        "outputId": "200f3ffd-c67b-4f84-fda1-1ec032081bd1",
        "id": "5aXoggwZJ7Ub"
      },
      "execution_count": null,
      "outputs": [
        {
          "output_type": "stream",
          "name": "stderr",
          "text": [
            "/usr/local/lib/python3.7/dist-packages/pandas/core/frame.py:4913: SettingWithCopyWarning: \n",
            "A value is trying to be set on a copy of a slice from a DataFrame\n",
            "\n",
            "See the caveats in the documentation: https://pandas.pydata.org/pandas-docs/stable/user_guide/indexing.html#returning-a-view-versus-a-copy\n",
            "  errors=errors,\n"
          ]
        }
      ]
    },
    {
      "cell_type": "code",
      "source": [
        "df_non_info.shape"
      ],
      "metadata": {
        "colab": {
          "base_uri": "https://localhost:8080/"
        },
        "outputId": "47edcb34-4375-406f-af67-5f59478a523d",
        "id": "lNabv432J7Ub"
      },
      "execution_count": null,
      "outputs": [
        {
          "output_type": "execute_result",
          "data": {
            "text/plain": [
              "(519, 3)"
            ]
          },
          "metadata": {},
          "execution_count": 20
        }
      ]
    },
    {
      "cell_type": "code",
      "execution_count": null,
      "metadata": {
        "id": "SfCpvTtVJ7Ub"
      },
      "outputs": [],
      "source": [
        "train, test = train_test_split(\n",
        "    df_non_info, test_size=0.2, random_state=42)"
      ]
    },
    {
      "cell_type": "code",
      "execution_count": null,
      "metadata": {
        "id": "9V963uNAJ7Ub"
      },
      "outputs": [],
      "source": [
        "xtr=train.loc[:, train.columns != 'Rank']\n",
        "ytr=train.loc[:, train.columns == 'Rank']\n",
        "\n",
        "xts=df_non_info.loc[:, test.columns != 'Rank']\n",
        "yts=df_non_info.loc[:, test.columns == 'Rank']"
      ]
    },
    {
      "cell_type": "code",
      "execution_count": null,
      "metadata": {
        "colab": {
          "base_uri": "https://localhost:8080/"
        },
        "outputId": "59cbcbbd-d143-46b3-e5e3-b301140fba45",
        "id": "tldo-u8HJ7Ub"
      },
      "outputs": [
        {
          "output_type": "stream",
          "name": "stdout",
          "text": [
            "(415, 100)\n",
            "(415, 150)\n"
          ]
        }
      ],
      "source": [
        "# preprocess text data\n",
        "\n",
        "vocab_sizeQ = 100000\n",
        "vocab_sizeA=150000\n",
        "max_lenQ = 100\n",
        "max_lenA = 150\n",
        "\n",
        "\n",
        "# build vocabulary from training set\n",
        "tokenizerQ = Tokenizer(num_words=vocab_sizeQ)\n",
        "tokenizerQ.fit_on_texts(xtr['Question'])\n",
        "\n",
        "tokenizerA = Tokenizer(num_words=vocab_sizeA)\n",
        "tokenizerA.fit_on_texts(xtr['Answer'])\n",
        "\n",
        "\n",
        "def Q_preprocess(list_of_text):\n",
        "    return pad_sequences(\n",
        "        tokenizerQ.texts_to_sequences(list_of_text),\n",
        "        maxlen=max_lenQ,\n",
        "        padding='post',\n",
        "    )\n",
        "\n",
        "def A_preprocess(list_of_text):\n",
        "    return pad_sequences(\n",
        "        tokenizerA.texts_to_sequences(list_of_text),\n",
        "        maxlen=max_lenA,\n",
        "        padding='post',\n",
        "    )   \n",
        "\n",
        "# padding is done inside: \n",
        "pre_Q = Q_preprocess(xtr['Question'])\n",
        "pre_A = A_preprocess(xtr['Answer'])\n",
        "print(pre_Q.shape)\n",
        "print(pre_A.shape)"
      ]
    },
    {
      "cell_type": "code",
      "execution_count": null,
      "metadata": {
        "id": "_hzl_825J7Uc"
      },
      "outputs": [],
      "source": [
        "#Preprocess test data\n",
        "pre_Qt = Q_preprocess(xts['Question'])\n",
        "pre_At = A_preprocess(xts['Answer'])"
      ]
    },
    {
      "cell_type": "code",
      "execution_count": null,
      "metadata": {
        "colab": {
          "base_uri": "https://localhost:8080/"
        },
        "outputId": "965d5470-6c44-486e-ddce-b6d5edec41f9",
        "id": "Dey04XVMJ7Uc"
      },
      "outputs": [
        {
          "output_type": "stream",
          "name": "stdout",
          "text": [
            "KerasTensor(type_spec=TensorSpec(shape=(None, 100), dtype=tf.float32, name=None), name='dense_2/Relu:0', description=\"created by layer 'dense_2'\")\n",
            "Model: \"model_1\"\n",
            "__________________________________________________________________________________________________\n",
            " Layer (type)                   Output Shape         Param #     Connected to                     \n",
            "==================================================================================================\n",
            " input_3 (InputLayer)           [(None, 100)]        0           []                               \n",
            "                                                                                                  \n",
            " input_4 (InputLayer)           [(None, 150)]        0           []                               \n",
            "                                                                                                  \n",
            " embedding_2 (Embedding)        (None, 100, 100)     10000000    ['input_3[0][0]']                \n",
            "                                                                                                  \n",
            " embedding_3 (Embedding)        (None, 150, 100)     15000000    ['input_4[0][0]']                \n",
            "                                                                                                  \n",
            " bidirectional_4 (Bidirectional  (None, 100, 64)     34048       ['embedding_2[0][0]']            \n",
            " )                                                                                                \n",
            "                                                                                                  \n",
            " bidirectional_6 (Bidirectional  (None, 150, 64)     34048       ['embedding_3[0][0]']            \n",
            " )                                                                                                \n",
            "                                                                                                  \n",
            " bidirectional_5 (Bidirectional  (None, 128)         66048       ['bidirectional_4[0][0]']        \n",
            " )                                                                                                \n",
            "                                                                                                  \n",
            " bidirectional_7 (Bidirectional  (None, 128)         66048       ['bidirectional_6[0][0]']        \n",
            " )                                                                                                \n",
            "                                                                                                  \n",
            " dense_2 (Dense)                (None, 100)          12900       ['bidirectional_5[0][0]']        \n",
            "                                                                                                  \n",
            " dense_3 (Dense)                (None, 100)          12900       ['bidirectional_7[0][0]']        \n",
            "                                                                                                  \n",
            " concatenate_3 (Concatenate)    (None, 200)          0           ['dense_2[0][0]',                \n",
            "                                                                  'dense_3[0][0]']                \n",
            "                                                                                                  \n",
            " type (Dense)                   (None, 4)            804         ['concatenate_3[0][0]']          \n",
            "                                                                                                  \n",
            "==================================================================================================\n",
            "Total params: 25,226,796\n",
            "Trainable params: 25,226,796\n",
            "Non-trainable params: 0\n",
            "__________________________________________________________________________________________________\n"
          ]
        }
      ],
      "source": [
        "in_Q = keras.Input(batch_shape=(None, max_lenQ))\n",
        "in_A = keras.Input(batch_shape=(None, max_lenA))\n",
        "# Bidirectional LSTMs are an extension of traditional LSTMs that can improve model\n",
        "# performance on sequence classification problems.\n",
        "embedded1 = keras.layers.Embedding(tokenizerQ.num_words, 100)(in_Q)\n",
        "bidirectional = keras.layers.Bidirectional(keras.layers.LSTM(32, return_sequences=True))(embedded1)\n",
        "bidirectional1 = keras.layers.Bidirectional(keras.layers.LSTM(64, return_sequences=False)) (bidirectional)\n",
        "#bidirectional2 = keras.layers.Bidirectional(keras.layers.LSTM(256, return_sequences=False))(embedded1)#(bidirectional1)\n",
        "fc1 = Dense(100, activation='relu')(bidirectional1)\n",
        "print(fc1)\n",
        "embedded2 = keras.layers.Embedding(tokenizerA.num_words, 100)(in_A)\n",
        "merged = keras.layers.Concatenate(axis=1)([embedded1, embedded2])\n",
        "bidirectional3 = keras.layers.Bidirectional(keras.layers.LSTM(32, return_sequences=True))(embedded2)\n",
        "bidirectional4 = keras.layers.Bidirectional(keras.layers.LSTM(64, return_sequences=False))(bidirectional3)\n",
        "#bidirectional5 = keras.layers.Bidirectional(keras.layers.LSTM(256, return_sequences=False))(embedded2)#(bidirectional4)\n",
        "fc2 = Dense(100, activation='relu')(bidirectional4)\n",
        "\n",
        "\n",
        "fused = keras.layers.Concatenate(axis=1)([fc1, fc2])\n",
        "\n",
        "rank = Dense(4, activation='softmax', name='type')(fused)\n",
        "\n",
        "model = keras.Model(\n",
        "    inputs={\n",
        "        'Question':in_Q,\n",
        "        'Answer':in_A\n",
        "    },\n",
        "    outputs=rank\n",
        ")\n",
        "\n",
        "model.compile(\n",
        "    optimizer=Nadam(),\n",
        "    loss='sparse_categorical_crossentropy', \n",
        "    metrics='SparseCategoricalAccuracy' \n",
        "\n",
        ")\n",
        "\n",
        "model.summary()"
      ]
    },
    {
      "cell_type": "code",
      "source": [
        "from keras.utils.vis_utils import plot_model\n",
        "tf.keras.utils.plot_model(\n",
        "model, to_file='model.png', show_shapes=False, show_dtype=False,\n",
        "show_layer_names=True, rankdir='TB', expand_nested=False, dpi=96\n",
        ")"
      ],
      "metadata": {
        "colab": {
          "base_uri": "https://localhost:8080/",
          "height": 661
        },
        "id": "T4PpfnlbN9bS",
        "outputId": "56187657-bcee-416c-9f96-44acd2ba0a3b"
      },
      "execution_count": null,
      "outputs": [
        {
          "output_type": "execute_result",
          "data": {
            "text/plain": [
              "<IPython.core.display.Image object>"
            ],
            "image/png": "[encoded data removed]"
          },
          "metadata": {},
          "execution_count": 26
        }
      ]
    },
    {
      "cell_type": "code",
      "execution_count": null,
      "metadata": {
        "colab": {
          "base_uri": "https://localhost:8080/"
        },
        "outputId": "fb483a96-cc81-4e9e-b5e4-a7dbd9793cd2",
        "id": "ZUkm5xz6J7Uc"
      },
      "outputs": [
        {
          "output_type": "stream",
          "name": "stdout",
          "text": [
            "Epoch 1/20\n",
            "11/11 [==============================] - 18s 525ms/step - loss: 1.2762 - sparse_categorical_accuracy: 0.4639 - val_loss: 1.2415 - val_sparse_categorical_accuracy: 0.4819\n",
            "Epoch 2/20\n",
            "11/11 [==============================] - 3s 253ms/step - loss: 1.1061 - sparse_categorical_accuracy: 0.5060 - val_loss: 1.2501 - val_sparse_categorical_accuracy: 0.4819\n",
            "Epoch 3/20\n",
            "11/11 [==============================] - 3s 268ms/step - loss: 1.0269 - sparse_categorical_accuracy: 0.5633 - val_loss: 1.1724 - val_sparse_categorical_accuracy: 0.5422\n",
            "Epoch 4/20\n",
            "11/11 [==============================] - 3s 274ms/step - loss: 0.8212 - sparse_categorical_accuracy: 0.7139 - val_loss: 1.0861 - val_sparse_categorical_accuracy: 0.5904\n",
            "Epoch 5/20\n",
            "11/11 [==============================] - 3s 269ms/step - loss: 0.6168 - sparse_categorical_accuracy: 0.8102 - val_loss: 1.1595 - val_sparse_categorical_accuracy: 0.5422\n",
            "Epoch 6/20\n",
            "11/11 [==============================] - 3s 273ms/step - loss: 0.4929 - sparse_categorical_accuracy: 0.8283 - val_loss: 1.1676 - val_sparse_categorical_accuracy: 0.6024\n",
            "Epoch 7/20\n",
            "11/11 [==============================] - 3s 274ms/step - loss: 0.3994 - sparse_categorical_accuracy: 0.8524 - val_loss: 1.2633 - val_sparse_categorical_accuracy: 0.5542\n",
            "Epoch 8/20\n",
            "11/11 [==============================] - 3s 281ms/step - loss: 0.3495 - sparse_categorical_accuracy: 0.8645 - val_loss: 1.2745 - val_sparse_categorical_accuracy: 0.5783\n",
            "Epoch 9/20\n",
            "11/11 [==============================] - 3s 270ms/step - loss: 0.5702 - sparse_categorical_accuracy: 0.8072 - val_loss: 1.3130 - val_sparse_categorical_accuracy: 0.5663\n"
          ]
        }
      ],
      "source": [
        "history = model.fit(\n",
        "    x={\n",
        "        'Question': pre_Q,\n",
        "        'Answer': pre_A\n",
        "    },\n",
        "    y=ytr,\n",
        "    epochs=20,\n",
        "    batch_size=32,\n",
        "    validation_split=0.2,\n",
        "    callbacks=[\n",
        "        tf.keras.callbacks.EarlyStopping(monitor='val_loss', patience=5,restore_best_weights=True )\n",
        "    ],\n",
        "    verbose=1\n",
        ")"
      ]
    },
    {
      "cell_type": "code",
      "execution_count": null,
      "metadata": {
        "id": "yz5e3jHjJ7Ud"
      },
      "outputs": [],
      "source": [
        "y_predict = model.predict(\n",
        "    {\n",
        "        'Question': pre_Qt,\n",
        "        'Answer': pre_At\n",
        "    }\n",
        ")"
      ]
    },
    {
      "cell_type": "code",
      "source": [
        "y_predict.shape"
      ],
      "metadata": {
        "colab": {
          "base_uri": "https://localhost:8080/"
        },
        "outputId": "d8ffd82c-264d-4750-9912-469b97db5e25",
        "id": "I1MBa11vJ7Ud"
      },
      "execution_count": null,
      "outputs": [
        {
          "output_type": "execute_result",
          "data": {
            "text/plain": [
              "(519, 4)"
            ]
          },
          "metadata": {},
          "execution_count": 29
        }
      ]
    },
    {
      "cell_type": "code",
      "source": [
        "non_info_scores=[]\n",
        "for i in range(len(y_predict)):\n",
        "  non_info_scores.append(y_predict[i][df_non_info.iloc[i,2]])"
      ],
      "metadata": {
        "id": "r-1MNtK8J7Ud"
      },
      "execution_count": null,
      "outputs": []
    },
    {
      "cell_type": "code",
      "source": [
        "len(non_info_scores)"
      ],
      "metadata": {
        "colab": {
          "base_uri": "https://localhost:8080/"
        },
        "outputId": "d66ab430-37d9-48d8-ff1e-44d916376a42",
        "id": "F0KI4uSWJ7Ud"
      },
      "execution_count": null,
      "outputs": [
        {
          "output_type": "execute_result",
          "data": {
            "text/plain": [
              "519"
            ]
          },
          "metadata": {},
          "execution_count": 31
        }
      ]
    },
    {
      "cell_type": "markdown",
      "source": [
        "## 1st Hypothesis Test: Does the model perform better on different question types? \n",
        "\n",
        "-For this question, we used the top 5 most frequent question types since other types contained too few questions.\n",
        "\n",
        "-Since the 5 classes would not be of the same length, we decided to use the \"Kruskal-Wallis H-test\"\n",
        "\n",
        "-For the null hypothesis, we assume that the question type has no effect on the model performance.\n",
        "\n",
        "-For the alternative hypothesis, we assume that the question type has an effect on the model performance."
      ],
      "metadata": {
        "id": "vhOL8qeTOG4Q"
      }
    },
    {
      "cell_type": "code",
      "source": [
        "!pip install scipy=='1.6.0'\n",
        "from scipy import stats"
      ],
      "metadata": {
        "colab": {
          "base_uri": "https://localhost:8080/"
        },
        "id": "8F-LwNx5UcIj",
        "outputId": "b793d85f-acce-49b4-d3ce-1c9bf5052107"
      },
      "execution_count": null,
      "outputs": [
        {
          "output_type": "stream",
          "name": "stdout",
          "text": [
            "Looking in indexes: https://pypi.org/simple, https://us-python.pkg.dev/colab-wheels/public/simple/\n",
            "Requirement already satisfied: scipy==1.6.0 in /usr/local/lib/python3.7/dist-packages (1.6.0)\n",
            "Requirement already satisfied: numpy>=1.16.5 in /usr/local/lib/python3.7/dist-packages (from scipy==1.6.0) (1.21.6)\n"
          ]
        }
      ]
    },
    {
      "cell_type": "code",
      "source": [
        "stats.kruskal(info_scores,usage_scores,cause_scores,other_scores,brand_scores)"
      ],
      "metadata": {
        "colab": {
          "base_uri": "https://localhost:8080/"
        },
        "id": "eiVkhfSWOqsw",
        "outputId": "8b206472-6566-4299-ab74-6a43d5618456"
      },
      "execution_count": null,
      "outputs": [
        {
          "output_type": "execute_result",
          "data": {
            "text/plain": [
              "KruskalResult(statistic=120.58055309842428, pvalue=4.014737579625164e-25)"
            ]
          },
          "metadata": {},
          "execution_count": 161
        }
      ]
    },
    {
      "cell_type": "markdown",
      "source": [
        "Since the p-value is very small (less than 0.05), this means that we can reject the null hypothesis and conclude that question type **does** have an effect on the model performance"
      ],
      "metadata": {
        "id": "ZkZfa5ybQw9u"
      }
    },
    {
      "cell_type": "markdown",
      "source": [
        "## 2st Hypothesis Test: Does the model perform better on question types with bigger entries? \n",
        "\n",
        "-Since the \"information\" question type has 341 entries (wjich is almost 40% of the data), we decided to test whether the model performs better on \"information\" questions as compared to all other questions, where there is no other dominant question type in the dataset.\n",
        "\n",
        "-We decided to use 2 classes of the same size, one for all the \"information\" questions and another for the remaining types and use the T-test \n",
        "\n",
        "-For the null hypothesis, we assume that the number of entries in question type has no effect on the model performance\n",
        "\n",
        "-For the alternative hypothesis, we assume that the number of entries in question type has an effect on the model performance"
      ],
      "metadata": {
        "id": "lo35UhzaRCG7"
      }
    },
    {
      "cell_type": "code",
      "source": [
        "scores2=non_info_scores[:341]"
      ],
      "metadata": {
        "id": "hLYgfai3SImh"
      },
      "execution_count": null,
      "outputs": []
    },
    {
      "cell_type": "code",
      "source": [
        "stats.ttest_ind(info_scores, scores2,alternative='less')"
      ],
      "metadata": {
        "colab": {
          "base_uri": "https://localhost:8080/"
        },
        "id": "G5_XAM99STpC",
        "outputId": "f39425bc-aa5b-4536-f4c2-1eeb7c08d7e4"
      },
      "execution_count": null,
      "outputs": [
        {
          "output_type": "execute_result",
          "data": {
            "text/plain": [
              "Ttest_indResult(statistic=-3.6876589823956976, pvalue=0.00012219282050438668)"
            ]
          },
          "metadata": {},
          "execution_count": 36
        }
      ]
    },
    {
      "cell_type": "markdown",
      "source": [
        "As we can see from the p-value, the null hypothesis can be rejected implying that the number of questions in each question type does have an effect on the model performance. Moreover, since the alternative parameter was \"less\", this means that question with not no many question types achieved better scores that the dominant question type \"information\"."
      ],
      "metadata": {
        "id": "rKqxiIKkVtDG"
      }
    }
  ],
  "metadata": {
    "accelerator": "TPU",
    "colab": {
      "collapsed_sections": [],
      "name": "Hypothesis Testing.ipynb",
      "provenance": [],
      "machine_shape": "hm"
    },
    "kernelspec": {
      "display_name": "Python 3",
      "name": "python3"
    },
    "language_info": {
      "name": "python"
    }
  },
  "nbformat": 4,
  "nbformat_minor": 0
}